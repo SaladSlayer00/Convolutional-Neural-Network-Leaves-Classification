{
 "cells": [
  {
   "cell_type": "code",
   "execution_count": 12,
   "id": "03a7e7d6-f8a5-4d7d-b8f2-5af8de4aa487",
   "metadata": {
    "execution": {
     "iopub.execute_input": "2022-11-14T14:40:08.975525Z",
     "iopub.status.busy": "2022-11-14T14:40:08.975176Z",
     "iopub.status.idle": "2022-11-14T14:40:08.982297Z",
     "shell.execute_reply": "2022-11-14T14:40:08.981244Z",
     "shell.execute_reply.started": "2022-11-14T14:40:08.975500Z"
    }
   },
   "outputs": [
    {
     "name": "stdout",
     "output_type": "stream",
     "text": [
      "2.9.1\n"
     ]
    }
   ],
   "source": [
    "import tensorflow as tf\n",
    "import numpy as np\n",
    "import os\n",
    "import random\n",
    "import pandas as pd\n",
    "import seaborn as sns\n",
    "import matplotlib as mpl\n",
    "import matplotlib.pyplot as plt\n",
    "from sklearn.model_selection import train_test_split\n",
    "from sklearn.metrics import accuracy_score, f1_score, precision_score, recall_score\n",
    "from sklearn.metrics import confusion_matrix\n",
    "from PIL import Image\n",
    "from tensorflow.keras.preprocessing.image import ImageDataGenerator\n",
    "\n",
    "tfk = tf.keras\n",
    "tfkl = tf.keras.layers\n",
    "print(tf.__version__)"
   ]
  },
  {
   "cell_type": "code",
   "execution_count": 13,
   "id": "3bc00e0a-9f31-4662-93b1-61a9ca2b489c",
   "metadata": {
    "execution": {
     "iopub.execute_input": "2022-11-14T14:40:10.506651Z",
     "iopub.status.busy": "2022-11-14T14:40:10.505659Z",
     "iopub.status.idle": "2022-11-14T14:40:10.519777Z",
     "shell.execute_reply": "2022-11-14T14:40:10.519165Z",
     "shell.execute_reply.started": "2022-11-14T14:40:10.506622Z"
    }
   },
   "outputs": [],
   "source": [
    "seed = 42\n",
    "\n",
    "random.seed(seed)\n",
    "os.environ['PYTHONHASHSEED'] = str(seed)\n",
    "np.random.seed(seed)\n",
    "tf.random.set_seed(seed)\n",
    "tf.compat.v1.set_random_seed(seed)"
   ]
  },
  {
   "cell_type": "code",
   "execution_count": 14,
   "id": "81dc38b9-bab9-4c4b-bb6b-2f291d56215a",
   "metadata": {
    "execution": {
     "iopub.execute_input": "2022-11-14T14:40:12.204782Z",
     "iopub.status.busy": "2022-11-14T14:40:12.203761Z",
     "iopub.status.idle": "2022-11-14T14:40:12.207631Z",
     "shell.execute_reply": "2022-11-14T14:40:12.207134Z",
     "shell.execute_reply.started": "2022-11-14T14:40:12.204749Z"
    }
   },
   "outputs": [],
   "source": [
    "# Dataset folders \n",
    "dataset_dir = '/notebooks/datasetBea'\n",
    "training_dir = \"/notebooks/datasetBea/train\"\n",
    "validation_dir = \"/notebooks/datasetBea/val\""
   ]
  },
  {
   "cell_type": "code",
   "execution_count": 15,
   "id": "13fdb6d6-210b-4d52-8ae0-623f280ddb4f",
   "metadata": {
    "execution": {
     "iopub.execute_input": "2022-11-14T14:40:13.889579Z",
     "iopub.status.busy": "2022-11-14T14:40:13.888781Z",
     "iopub.status.idle": "2022-11-14T14:40:13.892703Z",
     "shell.execute_reply": "2022-11-14T14:40:13.892175Z",
     "shell.execute_reply.started": "2022-11-14T14:40:13.889550Z"
    }
   },
   "outputs": [],
   "source": [
    "# All the categories to classify the dataset\n",
    "labels = ['Species1',              # 0\n",
    "          'Species2',          # 1\n",
    "          \"Species3\",             # 2\n",
    "          \"Species4\",          # 3\n",
    "          \"Species5\",            # 4\n",
    "          \"Species6\",             # 5\n",
    "          \"Species7\",         # 6\n",
    "          \"Species8\"]             # 7"
   ]
  },
  {
   "cell_type": "code",
   "execution_count": 56,
   "id": "3b862635-6aba-4aa0-8bae-7631201c8a45",
   "metadata": {
    "execution": {
     "iopub.execute_input": "2022-11-14T15:32:11.867623Z",
     "iopub.status.busy": "2022-11-14T15:32:11.866978Z",
     "iopub.status.idle": "2022-11-14T15:32:12.006699Z",
     "shell.execute_reply": "2022-11-14T15:32:12.006017Z",
     "shell.execute_reply.started": "2022-11-14T15:32:11.867596Z"
    }
   },
   "outputs": [
    {
     "name": "stdout",
     "output_type": "stream",
     "text": [
      "Found 2829 images belonging to 8 classes.\n",
      "Found 713 images belonging to 8 classes.\n"
     ]
    }
   ],
   "source": [
    "aug_train_data_gen = ImageDataGenerator(rotation_range=30,\n",
    "                                        height_shift_range=10,\n",
    "                                        width_shift_range=10,\n",
    "                                        zoom_range=0.3,\n",
    "                                        shear_range=0.3,\n",
    "                                        horizontal_flip=True,\n",
    "                                        vertical_flip=True, \n",
    "                                        fill_mode='reflect',\n",
    "                                        rescale=1/255.) # rescale value is multiplied to the image\n",
    "\n",
    "# Obtain a data generator with the 'ImageDataGenerator.flow_from_directory' method\n",
    "aug_train_gen = aug_train_data_gen.flow_from_directory(directory=training_dir,\n",
    "                                                       target_size=(96,96),\n",
    "                                                       color_mode='rgb',\n",
    "                                                       classes=labels, # can be set to labels\n",
    "                                                       class_mode='categorical',\n",
    "                                                       batch_size=128,\n",
    "                                                       shuffle=True,\n",
    "                                                       seed=seed)\n",
    "\n",
    "valid_data_gen = ImageDataGenerator(rescale=1/255.)\n",
    "\n",
    "valid_gen = valid_data_gen.flow_from_directory(directory=validation_dir,\n",
    "                                               target_size=(96,96),\n",
    "                                               color_mode='rgb',\n",
    "                                               classes=labels, # can be set to labels\n",
    "                                               class_mode='categorical',\n",
    "                                               batch_size=256,\n",
    "                                               shuffle=True,\n",
    "                                               seed=seed)"
   ]
  },
  {
   "cell_type": "code",
   "execution_count": 57,
   "id": "a760dec9-9ea1-44a6-8873-358b9edd0921",
   "metadata": {
    "execution": {
     "iopub.execute_input": "2022-11-14T15:32:20.122882Z",
     "iopub.status.busy": "2022-11-14T15:32:20.121899Z",
     "iopub.status.idle": "2022-11-14T15:32:20.127968Z",
     "shell.execute_reply": "2022-11-14T15:32:20.127269Z",
     "shell.execute_reply.started": "2022-11-14T15:32:20.122853Z"
    }
   },
   "outputs": [],
   "source": [
    "def get_next_batch(generator):\n",
    "  batch = next(generator)\n",
    "    \n",
    "  print(\"batch \\n\")\n",
    "  #print(batch)\n",
    "\n",
    "  image = batch[0]\n",
    "  target = batch[1]\n",
    "\n",
    "  print(\"(Input) image shape:\", image.shape)\n",
    "  print(\"Target shape:\",target.shape)\n",
    "\n",
    "  # Visualize only the first sample\n",
    "  image = image[0]\n",
    "  target = target[0]\n",
    "  target_idx = np.argmax(target)\n",
    "  print()\n",
    "  print(\"Categorical label:\", target)\n",
    "  print(\"Label:\", target_idx)\n",
    "  print(\"Class name:\", labels[target_idx])\n",
    "  fig = plt.figure(figsize=(6, 4))\n",
    "  plt.imshow(np.uint8(image))\n",
    "\n",
    "  return batch"
   ]
  },
  {
   "cell_type": "code",
   "execution_count": 26,
   "id": "9371614c-8d74-4c86-9f4a-18636b1037fd",
   "metadata": {
    "execution": {
     "iopub.execute_input": "2022-11-14T14:55:44.170937Z",
     "iopub.status.busy": "2022-11-14T14:55:44.169916Z",
     "iopub.status.idle": "2022-11-14T14:55:44.277826Z",
     "shell.execute_reply": "2022-11-14T14:55:44.277242Z",
     "shell.execute_reply.started": "2022-11-14T14:55:44.170907Z"
    }
   },
   "outputs": [
    {
     "name": "stdout",
     "output_type": "stream",
     "text": [
      "batch \n",
      "\n",
      "(array([[[[0.2901961 , 0.27450982, 0.2784314 ],\n",
      "         [0.21960786, 0.20392159, 0.20784315],\n",
      "         [0.4156863 , 0.40000004, 0.4039216 ],\n",
      "         ...,\n",
      "         [0.26666668, 0.38823533, 0.32941177],\n",
      "         [0.30980393, 0.41960788, 0.3647059 ],\n",
      "         [0.43529415, 0.54509807, 0.4901961 ]],\n",
      "\n",
      "        [[0.34117648, 0.3254902 , 0.32941177],\n",
      "         [0.29411766, 0.2784314 , 0.28235295],\n",
      "         [0.52156866, 0.5058824 , 0.50980395],\n",
      "         ...,\n",
      "         [0.29803923, 0.40784317, 0.3529412 ],\n",
      "         [0.37254903, 0.47450984, 0.42352945],\n",
      "         [0.16078432, 0.2627451 , 0.21176472]],\n",
      "\n",
      "        [[0.41176474, 0.39607847, 0.40000004],\n",
      "         [0.4666667 , 0.45098042, 0.454902  ],\n",
      "         [0.7176471 , 0.7019608 , 0.7058824 ],\n",
      "         ...,\n",
      "         [0.29803923, 0.40000004, 0.34901962],\n",
      "         [0.41176474, 0.5058824 , 0.454902  ],\n",
      "         [0.29411766, 0.38823533, 0.3372549 ]],\n",
      "\n",
      "        ...,\n",
      "\n",
      "        [[0.57254905, 0.5568628 , 0.5529412 ],\n",
      "         [0.95294124, 0.93725497, 0.9333334 ],\n",
      "         [0.9176471 , 0.8941177 , 0.8941177 ],\n",
      "         ...,\n",
      "         [0.14117648, 0.16470589, 0.15686275],\n",
      "         [0.20000002, 0.23529413, 0.22352943],\n",
      "         [0.16862746, 0.20392159, 0.19215688]],\n",
      "\n",
      "        [[0.8078432 , 0.79215693, 0.78823537],\n",
      "         [0.82745105, 0.8117648 , 0.8078432 ],\n",
      "         [1.        , 0.97647065, 0.97647065],\n",
      "         ...,\n",
      "         [0.11764707, 0.14117648, 0.13333334],\n",
      "         [0.18823531, 0.22352943, 0.21176472],\n",
      "         [0.20000002, 0.24313727, 0.227451  ]],\n",
      "\n",
      "        [[0.82745105, 0.8117648 , 0.8078432 ],\n",
      "         [0.8941177 , 0.87843144, 0.8745099 ],\n",
      "         [0.9215687 , 0.8980393 , 0.8980393 ],\n",
      "         ...,\n",
      "         [0.10980393, 0.14509805, 0.13333334],\n",
      "         [0.19607845, 0.23137257, 0.21960786],\n",
      "         [0.2627451 , 0.30588236, 0.2901961 ]]],\n",
      "\n",
      "\n",
      "       [[[0.49411768, 0.49411768, 0.53333336],\n",
      "         [0.58431375, 0.59607846, 0.6313726 ],\n",
      "         [0.6       , 0.6117647 , 0.6392157 ],\n",
      "         ...,\n",
      "         [0.5058824 , 0.5764706 , 0.48235297],\n",
      "         [0.5372549 , 0.6       , 0.49803925],\n",
      "         [0.5254902 , 0.5882353 , 0.48627454]],\n",
      "\n",
      "        [[0.5294118 , 0.5294118 , 0.5686275 ],\n",
      "         [0.5882353 , 0.5882353 , 0.627451  ],\n",
      "         [0.6392157 , 0.6509804 , 0.6784314 ],\n",
      "         ...,\n",
      "         [0.65882355, 0.7294118 , 0.63529414],\n",
      "         [0.57254905, 0.63529414, 0.53333336],\n",
      "         [0.31764707, 0.3803922 , 0.2784314 ]],\n",
      "\n",
      "        [[0.5254902 , 0.5254902 , 0.5568628 ],\n",
      "         [0.5921569 , 0.5921569 , 0.62352943],\n",
      "         [0.6509804 , 0.6627451 , 0.6901961 ],\n",
      "         ...,\n",
      "         [0.43529415, 0.49803925, 0.39607847],\n",
      "         [0.24705884, 0.3019608 , 0.20392159],\n",
      "         [0.5568628 , 0.6117647 , 0.5137255 ]],\n",
      "\n",
      "        ...,\n",
      "\n",
      "        [[0.5372549 , 0.48627454, 0.52156866],\n",
      "         [0.5137255 , 0.46274513, 0.49803925],\n",
      "         [0.9568628 , 0.8941177 , 0.9333334 ],\n",
      "         ...,\n",
      "         [0.5529412 , 0.5647059 , 0.58431375],\n",
      "         [0.3921569 , 0.41176474, 0.42352945],\n",
      "         [0.16470589, 0.20000002, 0.19607845]],\n",
      "\n",
      "        [[0.53333336, 0.47058827, 0.50980395],\n",
      "         [0.39607847, 0.33333334, 0.37254903],\n",
      "         [0.8862746 , 0.8235295 , 0.86274517],\n",
      "         ...,\n",
      "         [0.5254902 , 0.5372549 , 0.5568628 ],\n",
      "         [0.6       , 0.6117647 , 0.6313726 ],\n",
      "         [0.15686275, 0.1764706 , 0.18823531]],\n",
      "\n",
      "        [[0.67058825, 0.60784316, 0.64705884],\n",
      "         [0.68235296, 0.61960787, 0.65882355],\n",
      "         [0.6431373 , 0.5764706 , 0.6156863 ],\n",
      "         ...,\n",
      "         [0.13333334, 0.13333334, 0.16470589],\n",
      "         [0.3254902 , 0.3372549 , 0.35686275],\n",
      "         [0.227451  , 0.2392157 , 0.25882354]]],\n",
      "\n",
      "\n",
      "       [[[0.8980393 , 0.909804  , 0.8745099 ],\n",
      "         [0.7686275 , 0.7803922 , 0.74509805],\n",
      "         [0.28235295, 0.30588236, 0.26666668],\n",
      "         ...,\n",
      "         [0.3372549 , 0.36078432, 0.32156864],\n",
      "         [0.07843138, 0.09019608, 0.05490196],\n",
      "         [0.11764707, 0.12941177, 0.09411766]],\n",
      "\n",
      "        [[0.3137255 , 0.3254902 , 0.2901961 ],\n",
      "         [0.5686275 , 0.5803922 , 0.54509807],\n",
      "         [0.34117648, 0.3647059 , 0.3254902 ],\n",
      "         ...,\n",
      "         [0.07058824, 0.09411766, 0.05490196],\n",
      "         [0.16470589, 0.1764706 , 0.14901961],\n",
      "         [0.18823531, 0.20000002, 0.16470589]],\n",
      "\n",
      "        [[0.16470589, 0.1764706 , 0.13333334],\n",
      "         [0.43137258, 0.4431373 , 0.40000004],\n",
      "         [0.4784314 , 0.5019608 , 0.454902  ],\n",
      "         ...,\n",
      "         [0.14117648, 0.16078432, 0.13333334],\n",
      "         [0.32941177, 0.3372549 , 0.31764707],\n",
      "         [0.25882354, 0.27058825, 0.24313727]],\n",
      "\n",
      "        ...,\n",
      "\n",
      "        [[0.5254902 , 0.4901961 , 0.49411768],\n",
      "         [0.7176471 , 0.68235296, 0.6862745 ],\n",
      "         [0.5411765 , 0.5176471 , 0.5176471 ],\n",
      "         ...,\n",
      "         [0.8352942 , 0.82745105, 0.83921576],\n",
      "         [0.27450982, 0.26666668, 0.2784314 ],\n",
      "         [0.25490198, 0.24705884, 0.25882354]],\n",
      "\n",
      "        [[0.5176471 , 0.48235297, 0.48627454],\n",
      "         [0.4666667 , 0.43137258, 0.43529415],\n",
      "         [0.5058824 , 0.47058827, 0.47450984],\n",
      "         ...,\n",
      "         [0.24313727, 0.23529413, 0.25490198],\n",
      "         [0.19215688, 0.18431373, 0.20392159],\n",
      "         [0.18039216, 0.17254902, 0.19215688]],\n",
      "\n",
      "        [[0.33333334, 0.29803923, 0.3019608 ],\n",
      "         [0.1254902 , 0.09019608, 0.09411766],\n",
      "         [0.19607845, 0.16078432, 0.16470589],\n",
      "         ...,\n",
      "         [0.23529413, 0.227451  , 0.24705884],\n",
      "         [0.54509807, 0.5372549 , 0.5568628 ],\n",
      "         [0.13725491, 0.12941177, 0.14901961]]],\n",
      "\n",
      "\n",
      "       ...,\n",
      "\n",
      "\n",
      "       [[[0.5294118 , 0.5176471 , 0.45098042],\n",
      "         [0.20784315, 0.19607845, 0.12941177],\n",
      "         [0.9058824 , 0.882353  , 0.82745105],\n",
      "         ...,\n",
      "         [0.11764707, 0.1137255 , 0.10588236],\n",
      "         [0.09411766, 0.08627451, 0.09803922],\n",
      "         [0.01176471, 0.00392157, 0.01568628]],\n",
      "\n",
      "        [[0.37647063, 0.3647059 , 0.30588236],\n",
      "         [0.3647059 , 0.3529412 , 0.29411766],\n",
      "         [1.        , 0.9921569 , 0.93725497],\n",
      "         ...,\n",
      "         [0.07058824, 0.06666667, 0.05882353],\n",
      "         [0.07843138, 0.07058824, 0.08235294],\n",
      "         [0.10196079, 0.09411766, 0.10588236]],\n",
      "\n",
      "        [[0.29803923, 0.2901961 , 0.2392157 ],\n",
      "         [0.5411765 , 0.53333336, 0.48235297],\n",
      "         [0.23529413, 0.21960786, 0.17254902],\n",
      "         ...,\n",
      "         [0.05490196, 0.0509804 , 0.04313726],\n",
      "         [0.13333334, 0.1254902 , 0.13725491],\n",
      "         [0.00392157, 0.        , 0.00784314]],\n",
      "\n",
      "        ...,\n",
      "\n",
      "        [[0.89019614, 0.9058824 , 0.8078432 ],\n",
      "         [0.32156864, 0.3372549 , 0.24705884],\n",
      "         [0.08235294, 0.09803922, 0.00784314],\n",
      "         ...,\n",
      "         [0.32941177, 0.3529412 , 0.30588236],\n",
      "         [0.14901961, 0.17254902, 0.13333334],\n",
      "         [0.07450981, 0.09411766, 0.06666667]],\n",
      "\n",
      "        [[0.47058827, 0.48627454, 0.3803922 ],\n",
      "         [0.42352945, 0.43921572, 0.33333334],\n",
      "         [0.27450982, 0.2901961 , 0.19215688],\n",
      "         ...,\n",
      "         [0.20784315, 0.23137257, 0.1764706 ],\n",
      "         [0.05490196, 0.07843138, 0.03921569],\n",
      "         [0.03529412, 0.05882353, 0.01960784]],\n",
      "\n",
      "        [[0.36862746, 0.38823533, 0.27058825],\n",
      "         [0.5529412 , 0.57254905, 0.454902  ],\n",
      "         [0.3019608 , 0.31764707, 0.21960786],\n",
      "         ...,\n",
      "         [0.11764707, 0.14117648, 0.08627451],\n",
      "         [0.00784314, 0.03137255, 0.        ],\n",
      "         [0.0509804 , 0.07450981, 0.03529412]]],\n",
      "\n",
      "\n",
      "       [[[0.02745098, 0.0627451 , 0.0509804 ],\n",
      "         [0.05490196, 0.09019608, 0.07843138],\n",
      "         [0.04313726, 0.07843138, 0.06666667],\n",
      "         ...,\n",
      "         [0.03921569, 0.10196079, 0.0509804 ],\n",
      "         [0.04313726, 0.09411766, 0.05490196],\n",
      "         [0.05882353, 0.10980393, 0.07058824]],\n",
      "\n",
      "        [[0.03921569, 0.07450981, 0.0627451 ],\n",
      "         [0.06666667, 0.10196079, 0.09019608],\n",
      "         [0.0509804 , 0.08627451, 0.07450981],\n",
      "         ...,\n",
      "         [0.03921569, 0.10196079, 0.0509804 ],\n",
      "         [0.0509804 , 0.1137255 , 0.07058824],\n",
      "         [0.05490196, 0.11764707, 0.07450981]],\n",
      "\n",
      "        [[0.03529412, 0.07058824, 0.05882353],\n",
      "         [0.05490196, 0.09019608, 0.07843138],\n",
      "         [0.03529412, 0.07058824, 0.05882353],\n",
      "         ...,\n",
      "         [0.09411766, 0.16470589, 0.10980393],\n",
      "         [0.        , 0.07058824, 0.02352941],\n",
      "         [0.01568628, 0.08627451, 0.03921569]],\n",
      "\n",
      "        ...,\n",
      "\n",
      "        [[0.10588236, 0.1137255 , 0.09411766],\n",
      "         [0.20392159, 0.21176472, 0.19215688],\n",
      "         [0.13725491, 0.14509805, 0.1254902 ],\n",
      "         ...,\n",
      "         [0.19607845, 0.31764707, 0.25490198],\n",
      "         [0.03921569, 0.16078432, 0.09803922],\n",
      "         [0.10196079, 0.23137257, 0.16470589]],\n",
      "\n",
      "        [[0.01960784, 0.03921569, 0.01568628],\n",
      "         [0.12941177, 0.14901961, 0.1254902 ],\n",
      "         [0.01176471, 0.03137255, 0.00784314],\n",
      "         ...,\n",
      "         [0.654902  , 0.77647066, 0.7137255 ],\n",
      "         [0.15686275, 0.2784314 , 0.21960786],\n",
      "         [0.16862746, 0.2901961 , 0.23137257]],\n",
      "\n",
      "        [[0.27058825, 0.2901961 , 0.26666668],\n",
      "         [0.07450981, 0.09411766, 0.07058824],\n",
      "         [0.0509804 , 0.07058824, 0.04705883],\n",
      "         ...,\n",
      "         [0.01176471, 0.12156864, 0.0627451 ],\n",
      "         [0.81568635, 0.93725497, 0.87843144],\n",
      "         [0.20784315, 0.32941177, 0.27058825]]],\n",
      "\n",
      "\n",
      "       [[[0.34901962, 0.5137255 , 0.31764707],\n",
      "         [0.4039216 , 0.54901963, 0.37647063],\n",
      "         [0.30980393, 0.4156863 , 0.29411766],\n",
      "         ...,\n",
      "         [0.27450982, 0.23137257, 0.22352943],\n",
      "         [0.2392157 , 0.21960786, 0.20784315],\n",
      "         [0.05882353, 0.05490196, 0.03921569]],\n",
      "\n",
      "        [[0.3372549 , 0.5019608 , 0.3137255 ],\n",
      "         [0.33333334, 0.4784314 , 0.30980393],\n",
      "         [0.31764707, 0.42352945, 0.3019608 ],\n",
      "         ...,\n",
      "         [0.41960788, 0.37647063, 0.36862746],\n",
      "         [0.13333334, 0.1137255 , 0.09803922],\n",
      "         [0.10196079, 0.09803922, 0.07843138]],\n",
      "\n",
      "        [[0.3137255 , 0.4666667 , 0.29411766],\n",
      "         [0.29411766, 0.427451  , 0.28235295],\n",
      "         [0.35686275, 0.45882356, 0.3529412 ],\n",
      "         ...,\n",
      "         [0.454902  , 0.41176474, 0.39607847],\n",
      "         [0.15686275, 0.13725491, 0.1137255 ],\n",
      "         [0.06666667, 0.06666667, 0.03529412]],\n",
      "\n",
      "        ...,\n",
      "\n",
      "        [[0.10980393, 0.14901961, 0.19607845],\n",
      "         [0.11764707, 0.15686275, 0.20392159],\n",
      "         [0.11764707, 0.14901961, 0.20000002],\n",
      "         ...,\n",
      "         [0.7058824 , 0.76470596, 0.8862746 ],\n",
      "         [0.1254902 , 0.1764706 , 0.3019608 ],\n",
      "         [0.14509805, 0.18823531, 0.3137255 ]],\n",
      "\n",
      "        [[0.05490196, 0.10196079, 0.16470589],\n",
      "         [0.1764706 , 0.22352943, 0.28627452],\n",
      "         [0.0509804 , 0.08627451, 0.14509805],\n",
      "         ...,\n",
      "         [0.3254902 , 0.36078432, 0.4901961 ],\n",
      "         [0.08627451, 0.10196079, 0.2392157 ],\n",
      "         [0.28235295, 0.29411766, 0.42352945]],\n",
      "\n",
      "        [[0.16470589, 0.21568629, 0.28235295],\n",
      "         [0.08235294, 0.13333334, 0.20000002],\n",
      "         [0.16078432, 0.20784315, 0.27058825],\n",
      "         ...,\n",
      "         [0.14509805, 0.16862746, 0.3019608 ],\n",
      "         [0.24313727, 0.24313727, 0.37647063],\n",
      "         [0.2901961 , 0.28627452, 0.41960788]]]], dtype=float32), array([[1., 0., 0., 0., 0., 0., 0., 0.],\n",
      "       [1., 0., 0., 0., 0., 0., 0., 0.],\n",
      "       [1., 0., 0., 0., 0., 0., 0., 0.],\n",
      "       [1., 0., 0., 0., 0., 0., 0., 0.],\n",
      "       [1., 0., 0., 0., 0., 0., 0., 0.],\n",
      "       [1., 0., 0., 0., 0., 0., 0., 0.],\n",
      "       [1., 0., 0., 0., 0., 0., 0., 0.],\n",
      "       [1., 0., 0., 0., 0., 0., 0., 0.]], dtype=float32))\n",
      "(Input) image shape: (8, 96, 96, 3)\n",
      "Target shape: (8, 8)\n",
      "\n",
      "Categorical label: [1. 0. 0. 0. 0. 0. 0. 0.]\n",
      "Label: 0\n",
      "Class name: Species1\n"
     ]
    },
    {
     "data": {
      "image/png": "[encoded data removed]",
      "text/plain": [
       "<Figure size 432x288 with 1 Axes>"
      ]
     },
     "metadata": {
      "needs_background": "light"
     },
     "output_type": "display_data"
    }
   ],
   "source": [
    "# Get a sample from dataset and show info\n",
    "_ = get_next_batch(valid_gen)"
   ]
  },
  {
   "cell_type": "code",
   "execution_count": 17,
   "id": "7081f02b-de26-42d0-a2b2-c740e1c2d719",
   "metadata": {
    "execution": {
     "iopub.execute_input": "2022-11-14T14:40:19.341920Z",
     "iopub.status.busy": "2022-11-14T14:40:19.341546Z",
     "iopub.status.idle": "2022-11-14T14:40:19.346082Z",
     "shell.execute_reply": "2022-11-14T14:40:19.345278Z",
     "shell.execute_reply.started": "2022-11-14T14:40:19.341890Z"
    }
   },
   "outputs": [],
   "source": [
    "epo = 50\n",
    "init_lr = 1e-3\n",
    "bs = 128\n",
    "image_dims = (96, 96, 3)"
   ]
  },
  {
   "cell_type": "code",
   "execution_count": 71,
   "id": "17a30a29-32d9-472b-9abd-ab9a51235586",
   "metadata": {
    "execution": {
     "iopub.execute_input": "2022-11-14T15:48:42.147723Z",
     "iopub.status.busy": "2022-11-14T15:48:42.146607Z",
     "iopub.status.idle": "2022-11-14T15:48:42.151357Z",
     "shell.execute_reply": "2022-11-14T15:48:42.150829Z",
     "shell.execute_reply.started": "2022-11-14T15:48:42.147691Z"
    }
   },
   "outputs": [],
   "source": [
    "class_weights = {0: 2.389358108108108, \n",
    "                 1: 0.8320588235294117, \n",
    "                 2: 0.8583131067961165, \n",
    "                 3: 0.8667279411764706, \n",
    "                 4: 0.8340212264150944, \n",
    "                 5: 1.9978813559322033, \n",
    "                 6: 0.8243006993006993, \n",
    "                 7: 0.8709975369458128}"
   ]
  },
  {
   "cell_type": "code",
   "execution_count": 67,
   "id": "5853c310-42be-4b2b-b37d-f0b0ce3f622b",
   "metadata": {
    "execution": {
     "iopub.execute_input": "2022-11-14T15:47:35.127541Z",
     "iopub.status.busy": "2022-11-14T15:47:35.126762Z",
     "iopub.status.idle": "2022-11-14T15:47:35.510981Z",
     "shell.execute_reply": "2022-11-14T15:47:35.510308Z",
     "shell.execute_reply.started": "2022-11-14T15:47:35.127515Z"
    }
   },
   "outputs": [
    {
     "name": "stdout",
     "output_type": "stream",
     "text": [
      "Model: \"model_2\"\n",
      "_________________________________________________________________\n",
      " Layer (type)                Output Shape              Param #   \n",
      "=================================================================\n",
      " input_12 (InputLayer)       [(None, 96, 96, 3)]       0         \n",
      "                                                                 \n",
      " vgg16 (Functional)          (None, 3, 3, 512)         14714688  \n",
      "                                                                 \n",
      " flatten_3 (Flatten)         (None, 4608)              0         \n",
      "                                                                 \n",
      " dropout_6 (Dropout)         (None, 4608)              0         \n",
      "                                                                 \n",
      " dense_9 (Dense)             (None, 256)               1179904   \n",
      "                                                                 \n",
      " dropout_7 (Dropout)         (None, 256)               0         \n",
      "                                                                 \n",
      " dense_10 (Dense)            (None, 256)               65792     \n",
      "                                                                 \n",
      " dense_11 (Dense)            (None, 8)                 2056      \n",
      "                                                                 \n",
      "=================================================================\n",
      "Total params: 15,962,440\n",
      "Trainable params: 8,327,176\n",
      "Non-trainable params: 7,635,264\n",
      "_________________________________________________________________\n",
      "None\n"
     ]
    }
   ],
   "source": [
    "from tensorflow.keras.models import Model\n",
    "from tensorflow.keras.applications import vgg16\n",
    "from tensorflow.keras.layers import Dense, Activation, Flatten, Dropout, BatchNormalization\n",
    "from tensorflow.keras.optimizers import Adam\n",
    "\n",
    "\n",
    "\n",
    "\n",
    "base_model1 = vgg16.VGG16(weights='imagenet', include_top=False, input_shape=(96, 96, 3))\n",
    "    \n",
    "for layer in base_model1.layers[:15]: \n",
    "    layer.trainable = False \n",
    "\n",
    "for layer in base_model1.layers[15:]: \n",
    "    layer.trainable = True\n",
    "    \n",
    "inputs=tfk.Input(shape=(96,96,3))\n",
    "#x = tfk.layers.Resizing(96,96,interpolation=\"bicubic\")(inputs) \n",
    "#x=base_model1(x)  \n",
    "x = base_model1(inputs)\n",
    "x = Flatten()(x)\n",
    "x = Dropout(0.3)(x)\n",
    "x = Dense(256,activation='relu')(x)\n",
    "x = Dropout(0.5)(x)\n",
    "x = Dense(256,activation='relu')(x)\n",
    "outputs = Dense(8, activation='softmax')(x)\n",
    "\n",
    "model1 = Model(inputs=inputs, outputs=outputs)\n",
    "print (model1.summary())"
   ]
  },
  {
   "cell_type": "code",
   "execution_count": 72,
   "id": "fa0a4af6-546d-4142-b633-9e340fe439f0",
   "metadata": {
    "execution": {
     "iopub.execute_input": "2022-11-14T15:48:48.226467Z",
     "iopub.status.busy": "2022-11-14T15:48:48.225825Z",
     "iopub.status.idle": "2022-11-14T15:52:49.904367Z",
     "shell.execute_reply": "2022-11-14T15:52:49.903648Z",
     "shell.execute_reply.started": "2022-11-14T15:48:48.226440Z"
    }
   },
   "outputs": [
    {
     "name": "stdout",
     "output_type": "stream",
     "text": [
      "Epoch 1/30\n",
      "23/23 [==============================] - ETA: 0s - loss: 1.7490 - accuracy: 0.3277\n",
      "Epoch 1: val_accuracy improved from -inf to 0.39551, saving model to /notebooks/model_checkpoints/bea_base_vgg.h5\n",
      "23/23 [==============================] - 12s 508ms/step - loss: 1.7490 - accuracy: 0.3277 - val_loss: 1.5109 - val_accuracy: 0.3955\n",
      "Epoch 2/30\n",
      "23/23 [==============================] - ETA: 0s - loss: 1.5494 - accuracy: 0.3952\n",
      "Epoch 2: val_accuracy did not improve from 0.39551\n",
      "23/23 [==============================] - 7s 317ms/step - loss: 1.5494 - accuracy: 0.3952 - val_loss: 1.4032 - val_accuracy: 0.3871\n",
      "Epoch 3/30\n",
      "23/23 [==============================] - ETA: 0s - loss: 1.3934 - accuracy: 0.4631\n",
      "Epoch 3: val_accuracy improved from 0.39551 to 0.51332, saving model to /notebooks/model_checkpoints/bea_base_vgg.h5\n",
      "23/23 [==============================] - 8s 341ms/step - loss: 1.3934 - accuracy: 0.4631 - val_loss: 1.2595 - val_accuracy: 0.5133\n",
      "Epoch 4/30\n",
      "23/23 [==============================] - ETA: 0s - loss: 1.3728 - accuracy: 0.4942\n",
      "Epoch 4: val_accuracy did not improve from 0.51332\n",
      "23/23 [==============================] - 7s 315ms/step - loss: 1.3728 - accuracy: 0.4942 - val_loss: 1.2575 - val_accuracy: 0.4656\n",
      "Epoch 5/30\n",
      "23/23 [==============================] - ETA: 0s - loss: 1.3230 - accuracy: 0.5027\n",
      "Epoch 5: val_accuracy improved from 0.51332 to 0.55961, saving model to /notebooks/model_checkpoints/bea_base_vgg.h5\n",
      "23/23 [==============================] - 8s 336ms/step - loss: 1.3230 - accuracy: 0.5027 - val_loss: 1.1210 - val_accuracy: 0.5596\n",
      "Epoch 6/30\n",
      "22/23 [===========================>..] - ETA: 0s - loss: 1.2547 - accuracy: 0.5341\n",
      "Epoch 6: val_accuracy improved from 0.55961 to 0.56802, saving model to /notebooks/model_checkpoints/bea_base_vgg.h5\n",
      "23/23 [==============================] - 8s 345ms/step - loss: 1.2542 - accuracy: 0.5341 - val_loss: 1.1323 - val_accuracy: 0.5680\n",
      "Epoch 7/30\n",
      "23/23 [==============================] - ETA: 0s - loss: 1.1838 - accuracy: 0.5825\n",
      "Epoch 7: val_accuracy improved from 0.56802 to 0.57924, saving model to /notebooks/model_checkpoints/bea_base_vgg.h5\n",
      "23/23 [==============================] - 8s 333ms/step - loss: 1.1838 - accuracy: 0.5825 - val_loss: 1.1248 - val_accuracy: 0.5792\n",
      "Epoch 8/30\n",
      "23/23 [==============================] - ETA: 0s - loss: 1.1749 - accuracy: 0.5624\n",
      "Epoch 8: val_accuracy improved from 0.57924 to 0.61992, saving model to /notebooks/model_checkpoints/bea_base_vgg.h5\n",
      "23/23 [==============================] - 8s 338ms/step - loss: 1.1749 - accuracy: 0.5624 - val_loss: 1.0447 - val_accuracy: 0.6199\n",
      "Epoch 9/30\n",
      "23/23 [==============================] - ETA: 0s - loss: 1.1316 - accuracy: 0.5896\n",
      "Epoch 9: val_accuracy improved from 0.61992 to 0.63394, saving model to /notebooks/model_checkpoints/bea_base_vgg.h5\n",
      "23/23 [==============================] - 8s 336ms/step - loss: 1.1316 - accuracy: 0.5896 - val_loss: 1.0061 - val_accuracy: 0.6339\n",
      "Epoch 10/30\n",
      "23/23 [==============================] - ETA: 0s - loss: 1.1132 - accuracy: 0.6030\n",
      "Epoch 10: val_accuracy did not improve from 0.63394\n",
      "23/23 [==============================] - 7s 318ms/step - loss: 1.1132 - accuracy: 0.6030 - val_loss: 1.0317 - val_accuracy: 0.6171\n",
      "Epoch 11/30\n",
      "23/23 [==============================] - ETA: 0s - loss: 1.0143 - accuracy: 0.6409\n",
      "Epoch 11: val_accuracy did not improve from 0.63394\n",
      "23/23 [==============================] - 7s 315ms/step - loss: 1.0143 - accuracy: 0.6409 - val_loss: 1.3187 - val_accuracy: 0.5694\n",
      "Epoch 12/30\n",
      "23/23 [==============================] - ETA: 0s - loss: 1.1233 - accuracy: 0.6112\n",
      "Epoch 12: val_accuracy did not improve from 0.63394\n",
      "23/23 [==============================] - 7s 314ms/step - loss: 1.1233 - accuracy: 0.6112 - val_loss: 0.9998 - val_accuracy: 0.6283\n",
      "Epoch 13/30\n",
      "23/23 [==============================] - ETA: 0s - loss: 1.0269 - accuracy: 0.6288\n",
      "Epoch 13: val_accuracy did not improve from 0.63394\n",
      "23/23 [==============================] - 7s 313ms/step - loss: 1.0269 - accuracy: 0.6288 - val_loss: 0.9843 - val_accuracy: 0.6171\n",
      "Epoch 14/30\n",
      "23/23 [==============================] - ETA: 0s - loss: 1.1002 - accuracy: 0.6126\n",
      "Epoch 14: val_accuracy did not improve from 0.63394\n",
      "23/23 [==============================] - 7s 319ms/step - loss: 1.1002 - accuracy: 0.6126 - val_loss: 1.1182 - val_accuracy: 0.5919\n",
      "Epoch 15/30\n",
      "23/23 [==============================] - ETA: 0s - loss: 1.0362 - accuracy: 0.6356\n",
      "Epoch 15: val_accuracy did not improve from 0.63394\n",
      "23/23 [==============================] - 7s 315ms/step - loss: 1.0362 - accuracy: 0.6356 - val_loss: 1.0913 - val_accuracy: 0.5792\n",
      "Epoch 16/30\n",
      "23/23 [==============================] - ETA: 0s - loss: 0.9891 - accuracy: 0.6221\n",
      "Epoch 16: val_accuracy improved from 0.63394 to 0.64095, saving model to /notebooks/model_checkpoints/bea_base_vgg.h5\n",
      "23/23 [==============================] - 8s 335ms/step - loss: 0.9891 - accuracy: 0.6221 - val_loss: 0.9267 - val_accuracy: 0.6410\n",
      "Epoch 17/30\n",
      "23/23 [==============================] - ETA: 0s - loss: 0.9579 - accuracy: 0.6462\n",
      "Epoch 17: val_accuracy improved from 0.64095 to 0.65498, saving model to /notebooks/model_checkpoints/bea_base_vgg.h5\n",
      "23/23 [==============================] - 8s 334ms/step - loss: 0.9579 - accuracy: 0.6462 - val_loss: 0.9255 - val_accuracy: 0.6550\n",
      "Epoch 18/30\n",
      "23/23 [==============================] - ETA: 0s - loss: 0.9477 - accuracy: 0.6660\n",
      "Epoch 18: val_accuracy did not improve from 0.65498\n",
      "23/23 [==============================] - 7s 315ms/step - loss: 0.9477 - accuracy: 0.6660 - val_loss: 1.0248 - val_accuracy: 0.6452\n",
      "Epoch 19/30\n",
      "23/23 [==============================] - ETA: 0s - loss: 0.9022 - accuracy: 0.6907\n",
      "Epoch 19: val_accuracy improved from 0.65498 to 0.65778, saving model to /notebooks/model_checkpoints/bea_base_vgg.h5\n",
      "23/23 [==============================] - 8s 339ms/step - loss: 0.9022 - accuracy: 0.6907 - val_loss: 1.0520 - val_accuracy: 0.6578\n",
      "Epoch 20/30\n",
      "23/23 [==============================] - ETA: 0s - loss: 0.9103 - accuracy: 0.6815\n",
      "Epoch 20: val_accuracy improved from 0.65778 to 0.66480, saving model to /notebooks/model_checkpoints/bea_base_vgg.h5\n",
      "23/23 [==============================] - 8s 336ms/step - loss: 0.9103 - accuracy: 0.6815 - val_loss: 0.9062 - val_accuracy: 0.6648\n",
      "Epoch 21/30\n",
      "23/23 [==============================] - ETA: 0s - loss: 0.9416 - accuracy: 0.6727\n",
      "Epoch 21: val_accuracy did not improve from 0.66480\n",
      "23/23 [==============================] - 7s 315ms/step - loss: 0.9416 - accuracy: 0.6727 - val_loss: 0.9636 - val_accuracy: 0.6452\n",
      "Epoch 22/30\n",
      "23/23 [==============================] - ETA: 0s - loss: 0.9435 - accuracy: 0.6596\n",
      "Epoch 22: val_accuracy did not improve from 0.66480\n",
      "23/23 [==============================] - 7s 313ms/step - loss: 0.9435 - accuracy: 0.6596 - val_loss: 0.9097 - val_accuracy: 0.6606\n",
      "Epoch 23/30\n",
      "23/23 [==============================] - ETA: 0s - loss: 0.9139 - accuracy: 0.6759\n",
      "Epoch 23: val_accuracy improved from 0.66480 to 0.68022, saving model to /notebooks/model_checkpoints/bea_base_vgg.h5\n",
      "23/23 [==============================] - 8s 333ms/step - loss: 0.9139 - accuracy: 0.6759 - val_loss: 0.9208 - val_accuracy: 0.6802\n",
      "Epoch 24/30\n",
      "23/23 [==============================] - ETA: 0s - loss: 0.8696 - accuracy: 0.6942\n",
      "Epoch 24: val_accuracy did not improve from 0.68022\n",
      "23/23 [==============================] - 7s 310ms/step - loss: 0.8696 - accuracy: 0.6942 - val_loss: 0.8423 - val_accuracy: 0.6648\n",
      "Epoch 25/30\n",
      "23/23 [==============================] - ETA: 0s - loss: 0.8748 - accuracy: 0.6900\n",
      "Epoch 25: val_accuracy did not improve from 0.68022\n",
      "23/23 [==============================] - 7s 311ms/step - loss: 0.8748 - accuracy: 0.6900 - val_loss: 0.9123 - val_accuracy: 0.6774\n",
      "Epoch 26/30\n",
      "23/23 [==============================] - ETA: 0s - loss: 0.9209 - accuracy: 0.6861\n",
      "Epoch 26: val_accuracy did not improve from 0.68022\n",
      "23/23 [==============================] - 7s 315ms/step - loss: 0.9209 - accuracy: 0.6861 - val_loss: 0.9300 - val_accuracy: 0.6788\n",
      "Epoch 27/30\n",
      "23/23 [==============================] - ETA: 0s - loss: 0.8719 - accuracy: 0.7002\n",
      "Epoch 27: val_accuracy did not improve from 0.68022\n",
      "23/23 [==============================] - 7s 317ms/step - loss: 0.8719 - accuracy: 0.7002 - val_loss: 0.8721 - val_accuracy: 0.6564\n",
      "Epoch 28/30\n",
      "23/23 [==============================] - ETA: 0s - loss: 0.8172 - accuracy: 0.7158\n",
      "Epoch 28: val_accuracy did not improve from 0.68022\n",
      "23/23 [==============================] - 7s 311ms/step - loss: 0.8172 - accuracy: 0.7158 - val_loss: 0.8902 - val_accuracy: 0.6704\n",
      "Epoch 29/30\n",
      "23/23 [==============================] - ETA: 0s - loss: 0.8409 - accuracy: 0.7091\n",
      "Epoch 29: val_accuracy did not improve from 0.68022\n",
      "23/23 [==============================] - 7s 316ms/step - loss: 0.8409 - accuracy: 0.7091 - val_loss: 1.0335 - val_accuracy: 0.6353\n",
      "Epoch 30/30\n",
      "23/23 [==============================] - ETA: 0s - loss: 0.9269 - accuracy: 0.6660\n",
      "Epoch 30: val_accuracy did not improve from 0.68022\n",
      "23/23 [==============================] - 7s 312ms/step - loss: 0.9269 - accuracy: 0.6660 - val_loss: 0.9481 - val_accuracy: 0.6648\n"
     ]
    }
   ],
   "source": [
    "opt = Adam(learning_rate=init_lr)\n",
    "model1.compile(loss=\"categorical_crossentropy\", optimizer=opt,metrics=[\"accuracy\"])    \n",
    "cp_callback = [tf.keras.callbacks.EarlyStopping(monitor='val_accuracy', patience=10),\n",
    "               tf.keras.callbacks.ModelCheckpoint(filepath='/notebooks/model_checkpoints/bea_base_vgg.h5',verbose=1,monitor='val_accuracy', save_best_only=True, mode='max'),\n",
    "               tf.keras.callbacks.TensorBoard(log_dir='./logs'),]\n",
    "#load model\n",
    "#filepath=\"/content/drive/MyDrive/models/model3.18-0.11.h5\"\n",
    "#model1=load_model(filepath)\n",
    "\n",
    "# Train the model with the new callback\n",
    "\n",
    "hist1 = model1.fit(aug_train_gen,\n",
    "                 epochs=epo,\n",
    "                 validation_data=valid_gen,\n",
    "                 class_weight= class_weights,\n",
    "                 callbacks=cp_callback,verbose=1)  # Pass callback to training\n"
   ]
  },
  {
   "cell_type": "code",
   "execution_count": 76,
   "id": "f885e460-37c1-4157-b5d4-c0cfc1250afd",
   "metadata": {
    "execution": {
     "iopub.execute_input": "2022-11-14T15:55:29.720539Z",
     "iopub.status.busy": "2022-11-14T15:55:29.719755Z",
     "iopub.status.idle": "2022-11-14T15:55:36.477241Z",
     "shell.execute_reply": "2022-11-14T15:55:36.476020Z",
     "shell.execute_reply.started": "2022-11-14T15:55:29.720508Z"
    }
   },
   "outputs": [
    {
     "name": "stdout",
     "output_type": "stream",
     "text": [
      "<keras.callbacks.History object at 0x7f280832af40>\n"
     ]
    },
    {
     "name": "stderr",
     "output_type": "stream",
     "text": [
      "WARNING:absl:Found untraced functions such as _jit_compiled_convolution_op, _jit_compiled_convolution_op, _jit_compiled_convolution_op, _jit_compiled_convolution_op, _jit_compiled_convolution_op while saving (showing 5 of 13). These functions will not be directly callable after loading.\n"
     ]
    },
    {
     "name": "stdout",
     "output_type": "stream",
     "text": [
      "INFO:tensorflow:Assets written to: model_bea_base_mauri_vggScolastico2/assets\n"
     ]
    },
    {
     "name": "stderr",
     "output_type": "stream",
     "text": [
      "INFO:tensorflow:Assets written to: model_bea_base_mauri_vggScolastico2/assets\n",
      "WARNING:absl:Found untraced functions such as _jit_compiled_convolution_op, _jit_compiled_convolution_op, _jit_compiled_convolution_op, _jit_compiled_convolution_op, _jit_compiled_convolution_op while saving (showing 5 of 13). These functions will not be directly callable after loading.\n"
     ]
    },
    {
     "name": "stdout",
     "output_type": "stream",
     "text": [
      "INFO:tensorflow:Assets written to: ram://5cf1fa52-e75d-4c28-b453-ff00a34b8073/assets\n"
     ]
    },
    {
     "name": "stderr",
     "output_type": "stream",
     "text": [
      "INFO:tensorflow:Assets written to: ram://5cf1fa52-e75d-4c28-b453-ff00a34b8073/assets\n"
     ]
    }
   ],
   "source": [
    "print (hist1)\n",
    "import pickle\n",
    "model1.save(\"model_bea_base_mauri_vggScolastico2\")\n",
    "with open('trainhist1', 'wb') as file_pi:\n",
    "      pickle.dump(hist1, file_pi)"
   ]
  },
  {
   "cell_type": "code",
   "execution_count": 75,
   "id": "47304dec-a1d0-4adf-aaec-1e13eb49c535",
   "metadata": {
    "execution": {
     "iopub.execute_input": "2022-11-14T15:53:18.637069Z",
     "iopub.status.busy": "2022-11-14T15:53:18.636311Z",
     "iopub.status.idle": "2022-11-14T15:53:19.182984Z",
     "shell.execute_reply": "2022-11-14T15:53:19.182154Z",
     "shell.execute_reply.started": "2022-11-14T15:53:18.637037Z"
    }
   },
   "outputs": [
    {
     "name": "stdout",
     "output_type": "stream",
     "text": [
      "batch \n",
      "\n",
      "(Input) image shape: (201, 96, 96, 3)\n",
      "Target shape: (201, 8)\n",
      "\n",
      "Categorical label: [0. 0. 0. 0. 0. 0. 1. 0.]\n",
      "Label: 6\n",
      "Class name: Species7\n",
      "7/7 [==============================] - 0s 19ms/step\n"
     ]
    },
    {
     "data": {
      "text/plain": [
       "<AxesSubplot:>"
      ]
     },
     "execution_count": 75,
     "metadata": {},
     "output_type": "execute_result"
    },
    {
     "data": {
      "image/png": "[encoded data removed]",
      "text/plain": [
       "<Figure size 432x288 with 2 Axes>"
      ]
     },
     "metadata": {
      "needs_background": "light"
     },
     "output_type": "display_data"
    }
   ],
   "source": [
    "x,y=get_next_batch(valid_gen)\n",
    "predictions=model1.predict(x)\n",
    "predictions.shape\n",
    "cm = confusion_matrix(np.argmax(y, axis=-1), np.argmax(predictions, axis=-1))\n",
    "sns.heatmap(cm.T,xticklabels=list(labels), yticklabels=list(labels))\n"
   ]
  },
  {
   "cell_type": "code",
   "execution_count": 17,
   "id": "e783b3a0-b1ff-4604-aacd-258066f42efd",
   "metadata": {
    "execution": {
     "iopub.execute_input": "2022-11-14T13:39:05.680272Z",
     "iopub.status.busy": "2022-11-14T13:39:05.679355Z",
     "iopub.status.idle": "2022-11-14T13:39:07.670928Z",
     "shell.execute_reply": "2022-11-14T13:39:07.670139Z",
     "shell.execute_reply.started": "2022-11-14T13:39:05.680228Z"
    }
   },
   "outputs": [
    {
     "data": {
      "image/png": "[encoded data removed]",
      "text/plain": [
       "<Figure size 432x288 with 1 Axes>"
      ]
     },
     "metadata": {
      "needs_background": "light"
     },
     "output_type": "display_data"
    },
    {
     "data": {
      "image/png": "[encoded data removed]",
      "text/plain": [
       "<Figure size 432x288 with 1 Axes>"
      ]
     },
     "metadata": {
      "needs_background": "light"
     },
     "output_type": "display_data"
    }
   ],
   "source": [
    "hist1 = pickle.load(open('trainhist1', \"rb\"))\n",
    "#   Plot data to see relationships in training and validation data\n",
    "import numpy as np\n",
    "import matplotlib.pyplot as plt\n",
    "%matplotlib inline\n",
    "epoch_list = list(range(1, len(hist1.history['accuracy']) + 1))  # values for x axis [1, 2, ..., # of epochs]\n",
    "plt.plot(epoch_list, hist1.history['accuracy'], epoch_list, hist1.history['val_accuracy'])\n",
    "plt.legend(('Training Accuracy', 'Validation Accuracy'))\n",
    "plt.xlabel('epoch')\n",
    "plt.show()\n",
    "\n",
    "epoch_list = list(range(1, len(hist1.history['loss']) + 1))  # values for x axis [1, 2, ..., # of epochs]\n",
    "plt.plot(epoch_list, hist1.history['loss'], epoch_list, hist1.history['val_loss'])\n",
    "plt.legend(('Training Loss', 'Validation Loss'))\n",
    "plt.xlabel('epoch')\n",
    "plt.show()"
   ]
  }
 ],
 "metadata": {
  "kernelspec": {
   "display_name": "Python 3 (ipykernel)",
   "language": "python",
   "name": "python3"
  },
  "language_info": {
   "codemirror_mode": {
    "name": "ipython",
    "version": 3
   },
   "file_extension": ".py",
   "mimetype": "text/x-python",
   "name": "python",
   "nbconvert_exporter": "python",
   "pygments_lexer": "ipython3",
   "version": "3.9.13"
  }
 },
 "nbformat": 4,
 "nbformat_minor": 5
}
