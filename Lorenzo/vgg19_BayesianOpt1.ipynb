{
 "cells": [
  {
   "cell_type": "code",
   "execution_count": 3,
   "id": "e6fb4c8e-1029-4451-b137-9b3c60a76eb5",
   "metadata": {
    "execution": {
     "iopub.execute_input": "2022-11-16T13:37:40.150150Z",
     "iopub.status.busy": "2022-11-16T13:37:40.149808Z",
     "iopub.status.idle": "2022-11-16T13:37:43.027024Z",
     "shell.execute_reply": "2022-11-16T13:37:43.026109Z",
     "shell.execute_reply.started": "2022-11-16T13:37:40.150123Z"
    }
   },
   "outputs": [
    {
     "name": "stdout",
     "output_type": "stream",
     "text": [
      "\u001b[33mWARNING: Running pip as the 'root' user can result in broken permissions and conflicting behaviour with the system package manager. It is recommended to use a virtual environment instead: https://pip.pypa.io/warnings/venv\u001b[0m\u001b[33m\n",
      "\u001b[0m"
     ]
    }
   ],
   "source": [
    "!pip install keras-tuner -q"
   ]
  },
  {
   "cell_type": "code",
   "execution_count": 5,
   "id": "03a7e7d6-f8a5-4d7d-b8f2-5af8de4aa487",
   "metadata": {
    "execution": {
     "iopub.execute_input": "2022-11-16T13:38:01.814635Z",
     "iopub.status.busy": "2022-11-16T13:38:01.814000Z",
     "iopub.status.idle": "2022-11-16T13:38:01.820668Z",
     "shell.execute_reply": "2022-11-16T13:38:01.819797Z",
     "shell.execute_reply.started": "2022-11-16T13:38:01.814605Z"
    }
   },
   "outputs": [
    {
     "name": "stdout",
     "output_type": "stream",
     "text": [
      "2.9.1\n"
     ]
    }
   ],
   "source": [
    "import tensorflow as tf\n",
    "import numpy as np\n",
    "import os\n",
    "import random\n",
    "import pandas as pd\n",
    "import seaborn as sns\n",
    "import matplotlib as mpl\n",
    "import matplotlib.pyplot as plt\n",
    "from sklearn.model_selection import train_test_split\n",
    "from sklearn.metrics import accuracy_score, f1_score, precision_score, recall_score\n",
    "from sklearn.metrics import confusion_matrix\n",
    "from PIL import Image\n",
    "from tensorflow.keras.preprocessing.image import ImageDataGenerator\n",
    "from keras.applications.vgg19 import preprocess_input\n",
    "\n",
    "\n",
    "\n",
    "tfk = tf.keras\n",
    "tfkl = tf.keras.layers\n",
    "print(tf.__version__)"
   ]
  },
  {
   "cell_type": "code",
   "execution_count": 6,
   "id": "3bc00e0a-9f31-4662-93b1-61a9ca2b489c",
   "metadata": {
    "execution": {
     "iopub.execute_input": "2022-11-16T13:38:05.272714Z",
     "iopub.status.busy": "2022-11-16T13:38:05.271928Z",
     "iopub.status.idle": "2022-11-16T13:38:05.277158Z",
     "shell.execute_reply": "2022-11-16T13:38:05.276280Z",
     "shell.execute_reply.started": "2022-11-16T13:38:05.272686Z"
    }
   },
   "outputs": [],
   "source": [
    "seed = 21\n",
    "\n",
    "random.seed(seed)\n",
    "os.environ['PYTHONHASHSEED'] = str(seed)\n",
    "np.random.seed(seed)\n",
    "tf.random.set_seed(seed)\n",
    "tf.compat.v1.set_random_seed(seed)"
   ]
  },
  {
   "cell_type": "code",
   "execution_count": 7,
   "id": "81dc38b9-bab9-4c4b-bb6b-2f291d56215a",
   "metadata": {
    "execution": {
     "iopub.execute_input": "2022-11-16T13:38:07.701775Z",
     "iopub.status.busy": "2022-11-16T13:38:07.700444Z",
     "iopub.status.idle": "2022-11-16T13:38:07.705948Z",
     "shell.execute_reply": "2022-11-16T13:38:07.704909Z",
     "shell.execute_reply.started": "2022-11-16T13:38:07.701735Z"
    }
   },
   "outputs": [],
   "source": [
    "# Dataset folders \n",
    "dataset_dir = '/notebooks/datasetBea'\n",
    "training_dir = \"/notebooks/datasetBea/train\"\n",
    "validation_dir = \"/notebooks/datasetBea/val\""
   ]
  },
  {
   "cell_type": "code",
   "execution_count": 8,
   "id": "13fdb6d6-210b-4d52-8ae0-623f280ddb4f",
   "metadata": {
    "execution": {
     "iopub.execute_input": "2022-11-16T13:38:10.803529Z",
     "iopub.status.busy": "2022-11-16T13:38:10.803144Z",
     "iopub.status.idle": "2022-11-16T13:38:10.808127Z",
     "shell.execute_reply": "2022-11-16T13:38:10.807007Z",
     "shell.execute_reply.started": "2022-11-16T13:38:10.803486Z"
    }
   },
   "outputs": [],
   "source": [
    "# All the categories to classify the dataset\n",
    "labels = ['Species1',              # 0\n",
    "          'Species2',          # 1\n",
    "          \"Species3\",             # 2\n",
    "          \"Species4\",          # 3\n",
    "          \"Species5\",            # 4\n",
    "          \"Species6\",             # 5\n",
    "          \"Species7\",         # 6\n",
    "          \"Species8\"]             # 7"
   ]
  },
  {
   "cell_type": "code",
   "execution_count": 9,
   "id": "3b862635-6aba-4aa0-8bae-7631201c8a45",
   "metadata": {
    "execution": {
     "iopub.execute_input": "2022-11-16T13:38:15.791307Z",
     "iopub.status.busy": "2022-11-16T13:38:15.790944Z",
     "iopub.status.idle": "2022-11-16T13:38:15.896175Z",
     "shell.execute_reply": "2022-11-16T13:38:15.895247Z",
     "shell.execute_reply.started": "2022-11-16T13:38:15.791280Z"
    }
   },
   "outputs": [
    {
     "name": "stdout",
     "output_type": "stream",
     "text": [
      "Found 2829 images belonging to 8 classes.\n",
      "Found 713 images belonging to 8 classes.\n"
     ]
    }
   ],
   "source": [
    "aug_train_data_gen = ImageDataGenerator(rotation_range=30,\n",
    "                                        height_shift_range=15,\n",
    "                                        width_shift_range=15,\n",
    "                                        zoom_range=0.3,\n",
    "                                        shear_range=0.3,\n",
    "                                        horizontal_flip=True,\n",
    "                                        vertical_flip=True, \n",
    "                                        fill_mode='reflect',\n",
    "                                        rescale=1/255.) # rescale value is multiplied to the image\n",
    "\n",
    "# Obtain a data generator with the 'ImageDataGenerator.flow_from_directory' method\n",
    "aug_train_gen = aug_train_data_gen.flow_from_directory(directory=training_dir,\n",
    "                                                       target_size=(120,120),\n",
    "                                                       interpolation=\"bicubic\",\n",
    "                                                       color_mode='rgb',\n",
    "                                                       classes=labels, # can be set to labels\n",
    "                                                       class_mode='categorical',\n",
    "                                                       batch_size=128,\n",
    "                                                       shuffle=True,\n",
    "                                                       seed=seed)\n",
    "\n",
    "valid_data_gen = ImageDataGenerator(rescale=1/255.)\n",
    "\n",
    "valid_gen = valid_data_gen.flow_from_directory(directory=validation_dir,\n",
    "                                               target_size=(120,120),\n",
    "                                               interpolation=\"bicubic\",\n",
    "                                               color_mode='rgb',\n",
    "                                               classes=labels, # can be set to labels\n",
    "                                               class_mode='categorical',\n",
    "                                               batch_size=128,\n",
    "                                               shuffle=True,\n",
    "                                               seed=seed)"
   ]
  },
  {
   "cell_type": "code",
   "execution_count": 12,
   "id": "a760dec9-9ea1-44a6-8873-358b9edd0921",
   "metadata": {
    "execution": {
     "iopub.execute_input": "2022-11-16T13:39:06.110243Z",
     "iopub.status.busy": "2022-11-16T13:39:06.109906Z",
     "iopub.status.idle": "2022-11-16T13:39:06.116303Z",
     "shell.execute_reply": "2022-11-16T13:39:06.115455Z",
     "shell.execute_reply.started": "2022-11-16T13:39:06.110218Z"
    }
   },
   "outputs": [],
   "source": [
    "def get_next_batch(generator):\n",
    "  batch = next(generator)\n",
    "    \n",
    "  print(\"batch \\n\")\n",
    "  #print(batch)\n",
    "\n",
    "  image = batch[0]*255\n",
    "  target = batch[1]\n",
    "\n",
    "  print(\"(Input) image shape:\", image.shape)\n",
    "  print(\"Target shape:\",target.shape)\n",
    "\n",
    "  # Visualize only the first sample\n",
    "  image = image[0]\n",
    "  target = target[0]\n",
    "  target_idx = np.argmax(target)\n",
    "  print()\n",
    "  print(\"Categorical label:\", target)\n",
    "  print(\"Label:\", target_idx)\n",
    "  print(\"Class name:\", labels[target_idx])\n",
    "  fig = plt.figure(figsize=(6, 4))\n",
    "  plt.imshow(np.uint8(image))\n",
    "\n",
    "  return batch"
   ]
  },
  {
   "cell_type": "code",
   "execution_count": 13,
   "id": "9371614c-8d74-4c86-9f4a-18636b1037fd",
   "metadata": {
    "execution": {
     "iopub.execute_input": "2022-11-16T13:39:10.580437Z",
     "iopub.status.busy": "2022-11-16T13:39:10.579751Z",
     "iopub.status.idle": "2022-11-16T13:39:10.852273Z",
     "shell.execute_reply": "2022-11-16T13:39:10.851544Z",
     "shell.execute_reply.started": "2022-11-16T13:39:10.580408Z"
    }
   },
   "outputs": [
    {
     "name": "stdout",
     "output_type": "stream",
     "text": [
      "batch \n",
      "\n",
      "(Input) image shape: (128, 120, 120, 3)\n",
      "Target shape: (128, 8)\n",
      "\n",
      "Categorical label: [0. 1. 0. 0. 0. 0. 0. 0.]\n",
      "Label: 1\n",
      "Class name: Species2\n"
     ]
    },
    {
     "data": {
      "image/png": "[encoded data removed]",
      "text/plain": [
       "<Figure size 432x288 with 1 Axes>"
      ]
     },
     "metadata": {
      "needs_background": "light"
     },
     "output_type": "display_data"
    }
   ],
   "source": [
    "# Get a sample from dataset and show info\n",
    "_ = get_next_batch(valid_gen)"
   ]
  },
  {
   "cell_type": "code",
   "execution_count": 14,
   "id": "7081f02b-de26-42d0-a2b2-c740e1c2d719",
   "metadata": {
    "execution": {
     "iopub.execute_input": "2022-11-16T13:40:25.912947Z",
     "iopub.status.busy": "2022-11-16T13:40:25.912604Z",
     "iopub.status.idle": "2022-11-16T13:40:25.917821Z",
     "shell.execute_reply": "2022-11-16T13:40:25.916795Z",
     "shell.execute_reply.started": "2022-11-16T13:40:25.912921Z"
    }
   },
   "outputs": [],
   "source": [
    "epo = 120\n",
    "init_lr = 1e-3\n",
    "bs = 256\n",
    "image_dims = (224, 224, 3)"
   ]
  },
  {
   "cell_type": "code",
   "execution_count": 15,
   "id": "17a30a29-32d9-472b-9abd-ab9a51235586",
   "metadata": {
    "execution": {
     "iopub.execute_input": "2022-11-16T13:40:28.482682Z",
     "iopub.status.busy": "2022-11-16T13:40:28.481986Z",
     "iopub.status.idle": "2022-11-16T13:40:28.487078Z",
     "shell.execute_reply": "2022-11-16T13:40:28.486383Z",
     "shell.execute_reply.started": "2022-11-16T13:40:28.482648Z"
    }
   },
   "outputs": [],
   "source": [
    "class_weights = {0: 2.389358108108108, \n",
    "                 1: 0.8320588235294117, \n",
    "                 2: 0.8583131067961165, \n",
    "                 3: 0.8667279411764706, \n",
    "                 4: 0.8340212264150944, \n",
    "                 5: 1.9978813559322033, \n",
    "                 6: 0.8243006993006993, \n",
    "                 7: 0.8709975369458128}"
   ]
  },
  {
   "cell_type": "code",
   "execution_count": 16,
   "id": "5853c310-42be-4b2b-b37d-f0b0ce3f622b",
   "metadata": {
    "execution": {
     "iopub.execute_input": "2022-11-16T13:41:27.821865Z",
     "iopub.status.busy": "2022-11-16T13:41:27.821015Z",
     "iopub.status.idle": "2022-11-16T13:41:27.915563Z",
     "shell.execute_reply": "2022-11-16T13:41:27.914853Z",
     "shell.execute_reply.started": "2022-11-16T13:41:27.821832Z"
    }
   },
   "outputs": [],
   "source": [
    "from tensorflow.keras.models import Model\n",
    "from tensorflow.keras.applications import vgg19\n",
    "from tensorflow.keras.layers import Dense, Activation, Flatten, Dropout, BatchNormalization\n",
    "from tensorflow.keras.optimizers import Adam\n",
    "import keras_tuner\n",
    "\n",
    "\n",
    "def build_model(hp):\n",
    "\n",
    "    base_model1 = vgg19.VGG19(weights='imagenet', include_top=False, input_shape=(120, 120, 3))\n",
    "\n",
    "    for layer in base_model1.layers[:15]: \n",
    "        layer.trainable = False \n",
    "\n",
    "    for layer in base_model1.layers[15:]: \n",
    "        layer.trainable = True\n",
    "\n",
    "    inputs=tfk.Input(shape=(120,120,3))\n",
    "    #x = tfk.layers.Resizing(96,96,interpolation=\"bicubic\")(inputs) \n",
    "    #x=base_model1(x)  \n",
    "    x = base_model1(inputs)\n",
    "    x = Flatten()(x)\n",
    "    for i in range( hp.Int(\"num_layers\",2,3)):\n",
    "        x=Dropout(hp.Float(f\"droput_rate_{i}\",min_value=0.0,max_value = 0.8,step=0.2))(x)\n",
    "        x = Dense(units = hp.Int(\"num_units\",min_value=64,max_value=256,step=64),\n",
    "                  activation= \"relu\")(x)\n",
    "    outputs = Dense(8, activation='softmax')(x)\n",
    "\n",
    "    model1 = Model(inputs=inputs, outputs=outputs)\n",
    "    print (model1.summary())\n",
    "    opt = Adam(learning_rate=hp.Float(\"lr\",min_value=1e-4, max_value=1e-2 ))\n",
    "    model1.compile(loss=\"categorical_crossentropy\", optimizer=opt,metrics=[\"accuracy\"])\n",
    "    return model1\n",
    " "
   ]
  },
  {
   "cell_type": "code",
   "execution_count": 17,
   "id": "d58b3bcc-1a8f-4d24-b7c2-d34bf9f860d7",
   "metadata": {
    "execution": {
     "iopub.execute_input": "2022-11-16T13:41:53.307190Z",
     "iopub.status.busy": "2022-11-16T13:41:53.306839Z",
     "iopub.status.idle": "2022-11-16T13:41:55.312544Z",
     "shell.execute_reply": "2022-11-16T13:41:55.311548Z",
     "shell.execute_reply.started": "2022-11-16T13:41:53.307166Z"
    }
   },
   "outputs": [
    {
     "name": "stdout",
     "output_type": "stream",
     "text": [
      "INFO:tensorflow:Reloading Oracle from existing project tuning_folder/vgg19_BayesianOpt1/oracle.json\n",
      "Model: \"model\"\n",
      "_________________________________________________________________\n",
      " Layer (type)                Output Shape              Param #   \n",
      "=================================================================\n",
      " input_2 (InputLayer)        [(None, 120, 120, 3)]     0         \n",
      "                                                                 \n",
      " vgg19 (Functional)          (None, 3, 3, 512)         20024384  \n",
      "                                                                 \n",
      " flatten (Flatten)           (None, 4608)              0         \n",
      "                                                                 \n",
      " dropout (Dropout)           (None, 4608)              0         \n",
      "                                                                 \n",
      " dense (Dense)               (None, 64)                294976    \n",
      "                                                                 \n",
      " dropout_1 (Dropout)         (None, 64)                0         \n",
      "                                                                 \n",
      " dense_1 (Dense)             (None, 64)                4160      \n",
      "                                                                 \n",
      " dense_2 (Dense)             (None, 8)                 520       \n",
      "                                                                 \n",
      "=================================================================\n",
      "Total params: 20,324,040\n",
      "Trainable params: 12,098,696\n",
      "Non-trainable params: 8,225,344\n",
      "_________________________________________________________________\n",
      "None\n",
      "INFO:tensorflow:Reloading Tuner from tuning_folder/vgg19_BayesianOpt1/tuner0.json\n",
      "Search space summary\n",
      "Default search space size: 6\n",
      "num_layers (Int)\n",
      "{'default': None, 'conditions': [], 'min_value': 2, 'max_value': 3, 'step': 1, 'sampling': None}\n",
      "droput_rate_0 (Float)\n",
      "{'default': 0.0, 'conditions': [], 'min_value': 0.0, 'max_value': 0.8, 'step': 0.2, 'sampling': None}\n",
      "num_units (Int)\n",
      "{'default': None, 'conditions': [], 'min_value': 64, 'max_value': 256, 'step': 64, 'sampling': None}\n",
      "droput_rate_1 (Float)\n",
      "{'default': 0.0, 'conditions': [], 'min_value': 0.0, 'max_value': 0.8, 'step': 0.2, 'sampling': None}\n",
      "lr (Float)\n",
      "{'default': 0.0001, 'conditions': [], 'min_value': 0.0001, 'max_value': 0.01, 'step': None, 'sampling': None}\n",
      "droput_rate_2 (Float)\n",
      "{'default': 0.0, 'conditions': [], 'min_value': 0.0, 'max_value': 0.8, 'step': 0.2, 'sampling': None}\n"
     ]
    }
   ],
   "source": [
    "\n",
    "\n",
    "\n",
    "tuner = keras_tuner.BayesianOptimization(\n",
    "    hypermodel=build_model,\n",
    "    objective=\"val_accuracy\",\n",
    "    max_trials=44,\n",
    "    executions_per_trial=1,\n",
    "    overwrite=False,\n",
    "    directory=\"tuning_folder\",\n",
    "    project_name=\"vgg19_BayesianOpt1\",\n",
    ")\n",
    "tuner.search_space_summary()\n"
   ]
  },
  {
   "cell_type": "code",
   "execution_count": 18,
   "id": "e7c502e7-6fb3-4e03-87dc-6081728aa526",
   "metadata": {
    "execution": {
     "iopub.execute_input": "2022-11-16T13:42:04.757192Z",
     "iopub.status.busy": "2022-11-16T13:42:04.756208Z",
     "iopub.status.idle": "2022-11-16T13:47:29.443532Z",
     "shell.execute_reply": "2022-11-16T13:47:29.442035Z",
     "shell.execute_reply.started": "2022-11-16T13:42:04.757161Z"
    }
   },
   "outputs": [
    {
     "name": "stdout",
     "output_type": "stream",
     "text": [
      "\n",
      "Search: Running Trial #44\n",
      "\n",
      "Value             |Best Value So Far |Hyperparameter\n",
      "3                 |2                 |num_layers\n",
      "0                 |0                 |droput_rate_0\n",
      "128               |128               |num_units\n",
      "0                 |0                 |droput_rate_1\n",
      "0.0001            |0.0001            |lr\n",
      "0.8               |0.8               |droput_rate_2\n",
      "\n",
      "Model: \"model\"\n",
      "_________________________________________________________________\n",
      " Layer (type)                Output Shape              Param #   \n",
      "=================================================================\n",
      " input_2 (InputLayer)        [(None, 120, 120, 3)]     0         \n",
      "                                                                 \n",
      " vgg19 (Functional)          (None, 3, 3, 512)         20024384  \n",
      "                                                                 \n",
      " flatten (Flatten)           (None, 4608)              0         \n",
      "                                                                 \n",
      " dropout (Dropout)           (None, 4608)              0         \n",
      "                                                                 \n",
      " dense (Dense)               (None, 128)               589952    \n",
      "                                                                 \n",
      " dropout_1 (Dropout)         (None, 128)               0         \n",
      "                                                                 \n",
      " dense_1 (Dense)             (None, 128)               16512     \n",
      "                                                                 \n",
      " dropout_2 (Dropout)         (None, 128)               0         \n",
      "                                                                 \n",
      " dense_2 (Dense)             (None, 128)               16512     \n",
      "                                                                 \n",
      " dense_3 (Dense)             (None, 8)                 1032      \n",
      "                                                                 \n",
      "=================================================================\n",
      "Total params: 20,648,392\n",
      "Trainable params: 12,423,048\n",
      "Non-trainable params: 8,225,344\n",
      "_________________________________________________________________\n",
      "None\n",
      "Epoch 1/120\n",
      "23/23 [==============================] - ETA: 0s - loss: 2.1353 - accuracy: 0.1234\n",
      "Epoch 1: val_accuracy improved from -inf to 0.25105, saving model to /notebooks/model_checkpoints/bayesianOptVgg19.h5\n",
      "23/23 [==============================] - 17s 496ms/step - loss: 2.1353 - accuracy: 0.1234 - val_loss: 2.0200 - val_accuracy: 0.2511\n",
      "Epoch 2/120\n",
      "23/23 [==============================] - ETA: 0s - loss: 2.0317 - accuracy: 0.1661\n",
      "Epoch 2: val_accuracy improved from 0.25105 to 0.38289, saving model to /notebooks/model_checkpoints/bayesianOptVgg19.h5\n",
      "23/23 [==============================] - 14s 608ms/step - loss: 2.0317 - accuracy: 0.1661 - val_loss: 1.8997 - val_accuracy: 0.3829\n",
      "Epoch 3/120\n",
      "23/23 [==============================] - ETA: 0s - loss: 1.9336 - accuracy: 0.2393\n",
      "Epoch 3: val_accuracy did not improve from 0.38289\n",
      "23/23 [==============================] - 12s 500ms/step - loss: 1.9336 - accuracy: 0.2393 - val_loss: 1.7398 - val_accuracy: 0.3436\n",
      "Epoch 4/120\n",
      "23/23 [==============================] - ETA: 0s - loss: 1.8432 - accuracy: 0.2927\n",
      "Epoch 4: val_accuracy did not improve from 0.38289\n",
      "23/23 [==============================] - 12s 509ms/step - loss: 1.8432 - accuracy: 0.2927 - val_loss: 1.5911 - val_accuracy: 0.3773\n",
      "Epoch 5/120\n",
      "23/23 [==============================] - ETA: 0s - loss: 1.7548 - accuracy: 0.3492\n",
      "Epoch 5: val_accuracy improved from 0.38289 to 0.42356, saving model to /notebooks/model_checkpoints/bayesianOptVgg19.h5\n",
      "23/23 [==============================] - 14s 614ms/step - loss: 1.7548 - accuracy: 0.3492 - val_loss: 1.5195 - val_accuracy: 0.4236\n",
      "Epoch 6/120\n",
      "23/23 [==============================] - ETA: 0s - loss: 1.6603 - accuracy: 0.3683\n",
      "Epoch 6: val_accuracy improved from 0.42356 to 0.46564, saving model to /notebooks/model_checkpoints/bayesianOptVgg19.h5\n",
      "23/23 [==============================] - 14s 615ms/step - loss: 1.6603 - accuracy: 0.3683 - val_loss: 1.3763 - val_accuracy: 0.4656\n",
      "Epoch 7/120\n",
      "23/23 [==============================] - ETA: 0s - loss: 1.6128 - accuracy: 0.3934\n",
      "Epoch 7: val_accuracy did not improve from 0.46564\n",
      "23/23 [==============================] - 11s 486ms/step - loss: 1.6128 - accuracy: 0.3934 - val_loss: 1.4123 - val_accuracy: 0.4530\n",
      "Epoch 8/120\n",
      "23/23 [==============================] - ETA: 0s - loss: 1.5685 - accuracy: 0.4150\n",
      "Epoch 8: val_accuracy did not improve from 0.46564\n",
      "23/23 [==============================] - 12s 494ms/step - loss: 1.5685 - accuracy: 0.4150 - val_loss: 1.3209 - val_accuracy: 0.4600\n",
      "Epoch 9/120\n",
      "23/23 [==============================] - ETA: 0s - loss: 1.5507 - accuracy: 0.4422\n",
      "Epoch 9: val_accuracy improved from 0.46564 to 0.53576, saving model to /notebooks/model_checkpoints/bayesianOptVgg19.h5\n",
      "23/23 [==============================] - 15s 637ms/step - loss: 1.5507 - accuracy: 0.4422 - val_loss: 1.2497 - val_accuracy: 0.5358\n",
      "Epoch 10/120\n",
      "23/23 [==============================] - ETA: 0s - loss: 1.4930 - accuracy: 0.4553\n",
      "Epoch 10: val_accuracy did not improve from 0.53576\n",
      "23/23 [==============================] - 12s 503ms/step - loss: 1.4930 - accuracy: 0.4553 - val_loss: 1.2590 - val_accuracy: 0.5344\n",
      "Epoch 11/120\n",
      "23/23 [==============================] - ETA: 0s - loss: 1.4358 - accuracy: 0.4875\n",
      "Epoch 11: val_accuracy improved from 0.53576 to 0.56101, saving model to /notebooks/model_checkpoints/bayesianOptVgg19.h5\n",
      "23/23 [==============================] - 14s 608ms/step - loss: 1.4358 - accuracy: 0.4875 - val_loss: 1.1778 - val_accuracy: 0.5610\n",
      "Epoch 12/120\n",
      "23/23 [==============================] - ETA: 0s - loss: 1.3855 - accuracy: 0.5044\n",
      "Epoch 12: val_accuracy improved from 0.56101 to 0.58906, saving model to /notebooks/model_checkpoints/bayesianOptVgg19.h5\n",
      "23/23 [==============================] - 14s 608ms/step - loss: 1.3855 - accuracy: 0.5044 - val_loss: 1.1318 - val_accuracy: 0.5891\n",
      "Epoch 13/120\n",
      "23/23 [==============================] - ETA: 0s - loss: 1.3113 - accuracy: 0.5369\n",
      "Epoch 13: val_accuracy did not improve from 0.58906\n",
      "23/23 [==============================] - 11s 488ms/step - loss: 1.3113 - accuracy: 0.5369 - val_loss: 1.0591 - val_accuracy: 0.5778\n",
      "Epoch 14/120\n",
      "23/23 [==============================] - ETA: 0s - loss: 1.3096 - accuracy: 0.5320\n",
      "Epoch 14: val_accuracy did not improve from 0.58906\n",
      "23/23 [==============================] - 12s 500ms/step - loss: 1.3096 - accuracy: 0.5320 - val_loss: 1.0569 - val_accuracy: 0.5792\n",
      "Epoch 15/120\n",
      "23/23 [==============================] - ETA: 0s - loss: 1.2785 - accuracy: 0.5507\n",
      "Epoch 15: val_accuracy did not improve from 0.58906\n",
      "23/23 [==============================] - 11s 480ms/step - loss: 1.2785 - accuracy: 0.5507 - val_loss: 1.0762 - val_accuracy: 0.5835\n",
      "Epoch 16/120\n",
      "23/23 [==============================] - ETA: 0s - loss: 1.2568 - accuracy: 0.5719\n",
      "Epoch 16: val_accuracy did not improve from 0.58906\n",
      "23/23 [==============================] - 11s 486ms/step - loss: 1.2568 - accuracy: 0.5719 - val_loss: 1.0626 - val_accuracy: 0.5820\n",
      "Epoch 17/120\n",
      "23/23 [==============================] - ETA: 0s - loss: 1.2373 - accuracy: 0.5521\n",
      "Epoch 17: val_accuracy did not improve from 0.58906\n",
      "23/23 [==============================] - 12s 499ms/step - loss: 1.2373 - accuracy: 0.5521 - val_loss: 1.1256 - val_accuracy: 0.5764\n",
      "Epoch 18/120\n",
      "23/23 [==============================] - ETA: 0s - loss: 1.1982 - accuracy: 0.5924\n",
      "Epoch 18: val_accuracy improved from 0.58906 to 0.64236, saving model to /notebooks/model_checkpoints/bayesianOptVgg19.h5\n",
      "23/23 [==============================] - 15s 654ms/step - loss: 1.1982 - accuracy: 0.5924 - val_loss: 0.9254 - val_accuracy: 0.6424\n",
      "Epoch 19/120\n",
      "23/23 [==============================] - ETA: 0s - loss: 1.1361 - accuracy: 0.6172\n",
      "Epoch 19: val_accuracy improved from 0.64236 to 0.64376, saving model to /notebooks/model_checkpoints/bayesianOptVgg19.h5\n",
      "23/23 [==============================] - 15s 634ms/step - loss: 1.1361 - accuracy: 0.6172 - val_loss: 0.9422 - val_accuracy: 0.6438\n",
      "Epoch 20/120\n",
      "23/23 [==============================] - ETA: 0s - loss: 1.1369 - accuracy: 0.6105\n",
      "Epoch 20: val_accuracy did not improve from 0.64376\n",
      "23/23 [==============================] - 11s 487ms/step - loss: 1.1369 - accuracy: 0.6105 - val_loss: 1.0807 - val_accuracy: 0.5919\n",
      "Epoch 21/120\n",
      "23/23 [==============================] - ETA: 0s - loss: 1.1630 - accuracy: 0.5956\n",
      "Epoch 21: val_accuracy did not improve from 0.64376\n",
      "23/23 [==============================] - 12s 504ms/step - loss: 1.1630 - accuracy: 0.5956 - val_loss: 0.9465 - val_accuracy: 0.6213\n",
      "Epoch 22/120\n",
      "23/23 [==============================] - ETA: 0s - loss: 1.0748 - accuracy: 0.6359\n",
      "Epoch 22: val_accuracy improved from 0.64376 to 0.67041, saving model to /notebooks/model_checkpoints/bayesianOptVgg19.h5\n",
      "23/23 [==============================] - 14s 602ms/step - loss: 1.0748 - accuracy: 0.6359 - val_loss: 0.8980 - val_accuracy: 0.6704\n",
      "Epoch 23/120\n",
      "23/23 [==============================] - ETA: 0s - loss: 1.0896 - accuracy: 0.6444\n",
      "Epoch 23: val_accuracy did not improve from 0.67041\n",
      "23/23 [==============================] - 12s 503ms/step - loss: 1.0896 - accuracy: 0.6444 - val_loss: 0.8979 - val_accuracy: 0.6466\n",
      "Epoch 24/120\n",
      "23/23 [==============================] - ETA: 0s - loss: 1.0281 - accuracy: 0.6624"
     ]
    },
    {
     "ename": "KeyboardInterrupt",
     "evalue": "",
     "output_type": "error",
     "traceback": [
      "\u001b[0;31m---------------------------------------------------------------------------\u001b[0m",
      "\u001b[0;31mKeyboardInterrupt\u001b[0m                         Traceback (most recent call last)",
      "Input \u001b[0;32mIn [18]\u001b[0m, in \u001b[0;36m<cell line: 5>\u001b[0;34m()\u001b[0m\n\u001b[1;32m      1\u001b[0m cp_callback \u001b[38;5;241m=\u001b[39m [tf\u001b[38;5;241m.\u001b[39mkeras\u001b[38;5;241m.\u001b[39mcallbacks\u001b[38;5;241m.\u001b[39mEarlyStopping(monitor\u001b[38;5;241m=\u001b[39m\u001b[38;5;124m'\u001b[39m\u001b[38;5;124mval_accuracy\u001b[39m\u001b[38;5;124m'\u001b[39m, patience\u001b[38;5;241m=\u001b[39m\u001b[38;5;241m7\u001b[39m),\n\u001b[1;32m      2\u001b[0m                tf\u001b[38;5;241m.\u001b[39mkeras\u001b[38;5;241m.\u001b[39mcallbacks\u001b[38;5;241m.\u001b[39mModelCheckpoint(filepath\u001b[38;5;241m=\u001b[39m\u001b[38;5;124m'\u001b[39m\u001b[38;5;124m/notebooks/model_checkpoints/bayesianOptVgg19.h5\u001b[39m\u001b[38;5;124m'\u001b[39m,verbose\u001b[38;5;241m=\u001b[39m\u001b[38;5;241m1\u001b[39m,monitor\u001b[38;5;241m=\u001b[39m\u001b[38;5;124m'\u001b[39m\u001b[38;5;124mval_accuracy\u001b[39m\u001b[38;5;124m'\u001b[39m, save_best_only\u001b[38;5;241m=\u001b[39m\u001b[38;5;28;01mTrue\u001b[39;00m, mode\u001b[38;5;241m=\u001b[39m\u001b[38;5;124m'\u001b[39m\u001b[38;5;124mmax\u001b[39m\u001b[38;5;124m'\u001b[39m),\n\u001b[1;32m      3\u001b[0m                tf\u001b[38;5;241m.\u001b[39mkeras\u001b[38;5;241m.\u001b[39mcallbacks\u001b[38;5;241m.\u001b[39mTensorBoard(log_dir\u001b[38;5;241m=\u001b[39m\u001b[38;5;124m'\u001b[39m\u001b[38;5;124m./logs\u001b[39m\u001b[38;5;124m'\u001b[39m),]\n\u001b[1;32m      4\u001b[0m \u001b[38;5;66;03m#load model\u001b[39;00m\n\u001b[0;32m----> 5\u001b[0m \u001b[43mtuner\u001b[49m\u001b[38;5;241;43m.\u001b[39;49m\u001b[43msearch\u001b[49m\u001b[43m(\u001b[49m\u001b[43maug_train_gen\u001b[49m\u001b[43m,\u001b[49m\n\u001b[1;32m      6\u001b[0m \u001b[43m                 \u001b[49m\u001b[43mepochs\u001b[49m\u001b[38;5;241;43m=\u001b[39;49m\u001b[43mepo\u001b[49m\u001b[43m,\u001b[49m\n\u001b[1;32m      7\u001b[0m \u001b[43m                 \u001b[49m\u001b[43mvalidation_data\u001b[49m\u001b[38;5;241;43m=\u001b[39;49m\u001b[43mvalid_gen\u001b[49m\u001b[43m,\u001b[49m\n\u001b[1;32m      8\u001b[0m \u001b[43m                 \u001b[49m\u001b[43mclass_weight\u001b[49m\u001b[38;5;241;43m=\u001b[39;49m\u001b[43m \u001b[49m\u001b[43mclass_weights\u001b[49m\u001b[43m,\u001b[49m\n\u001b[1;32m      9\u001b[0m \u001b[43m                 \u001b[49m\u001b[43mcallbacks\u001b[49m\u001b[38;5;241;43m=\u001b[39;49m\u001b[43mcp_callback\u001b[49m\u001b[43m,\u001b[49m\u001b[43mverbose\u001b[49m\u001b[38;5;241;43m=\u001b[39;49m\u001b[38;5;241;43m1\u001b[39;49m\u001b[43m)\u001b[49m\n",
      "File \u001b[0;32m/usr/local/lib/python3.9/dist-packages/keras_tuner/engine/base_tuner.py:183\u001b[0m, in \u001b[0;36mBaseTuner.search\u001b[0;34m(self, *fit_args, **fit_kwargs)\u001b[0m\n\u001b[1;32m    180\u001b[0m     \u001b[38;5;28;01mcontinue\u001b[39;00m\n\u001b[1;32m    182\u001b[0m \u001b[38;5;28mself\u001b[39m\u001b[38;5;241m.\u001b[39mon_trial_begin(trial)\n\u001b[0;32m--> 183\u001b[0m results \u001b[38;5;241m=\u001b[39m \u001b[38;5;28;43mself\u001b[39;49m\u001b[38;5;241;43m.\u001b[39;49m\u001b[43mrun_trial\u001b[49m\u001b[43m(\u001b[49m\u001b[43mtrial\u001b[49m\u001b[43m,\u001b[49m\u001b[43m \u001b[49m\u001b[38;5;241;43m*\u001b[39;49m\u001b[43mfit_args\u001b[49m\u001b[43m,\u001b[49m\u001b[43m \u001b[49m\u001b[38;5;241;43m*\u001b[39;49m\u001b[38;5;241;43m*\u001b[39;49m\u001b[43mfit_kwargs\u001b[49m\u001b[43m)\u001b[49m\n\u001b[1;32m    184\u001b[0m \u001b[38;5;66;03m# `results` is None indicates user updated oracle in `run_trial()`.\u001b[39;00m\n\u001b[1;32m    185\u001b[0m \u001b[38;5;28;01mif\u001b[39;00m results \u001b[38;5;129;01mis\u001b[39;00m \u001b[38;5;28;01mNone\u001b[39;00m:\n",
      "File \u001b[0;32m/usr/local/lib/python3.9/dist-packages/keras_tuner/engine/tuner.py:295\u001b[0m, in \u001b[0;36mTuner.run_trial\u001b[0;34m(self, trial, *args, **kwargs)\u001b[0m\n\u001b[1;32m    293\u001b[0m     callbacks\u001b[38;5;241m.\u001b[39mappend(model_checkpoint)\n\u001b[1;32m    294\u001b[0m     copied_kwargs[\u001b[38;5;124m\"\u001b[39m\u001b[38;5;124mcallbacks\u001b[39m\u001b[38;5;124m\"\u001b[39m] \u001b[38;5;241m=\u001b[39m callbacks\n\u001b[0;32m--> 295\u001b[0m     obj_value \u001b[38;5;241m=\u001b[39m \u001b[38;5;28;43mself\u001b[39;49m\u001b[38;5;241;43m.\u001b[39;49m\u001b[43m_build_and_fit_model\u001b[49m\u001b[43m(\u001b[49m\u001b[43mtrial\u001b[49m\u001b[43m,\u001b[49m\u001b[43m \u001b[49m\u001b[38;5;241;43m*\u001b[39;49m\u001b[43margs\u001b[49m\u001b[43m,\u001b[49m\u001b[43m \u001b[49m\u001b[38;5;241;43m*\u001b[39;49m\u001b[38;5;241;43m*\u001b[39;49m\u001b[43mcopied_kwargs\u001b[49m\u001b[43m)\u001b[49m\n\u001b[1;32m    297\u001b[0m     histories\u001b[38;5;241m.\u001b[39mappend(obj_value)\n\u001b[1;32m    298\u001b[0m \u001b[38;5;28;01mreturn\u001b[39;00m histories\n",
      "File \u001b[0;32m/usr/local/lib/python3.9/dist-packages/keras_tuner/engine/tuner.py:222\u001b[0m, in \u001b[0;36mTuner._build_and_fit_model\u001b[0;34m(self, trial, *args, **kwargs)\u001b[0m\n\u001b[1;32m    220\u001b[0m hp \u001b[38;5;241m=\u001b[39m trial\u001b[38;5;241m.\u001b[39mhyperparameters\n\u001b[1;32m    221\u001b[0m model \u001b[38;5;241m=\u001b[39m \u001b[38;5;28mself\u001b[39m\u001b[38;5;241m.\u001b[39m_try_build(hp)\n\u001b[0;32m--> 222\u001b[0m results \u001b[38;5;241m=\u001b[39m \u001b[38;5;28;43mself\u001b[39;49m\u001b[38;5;241;43m.\u001b[39;49m\u001b[43mhypermodel\u001b[49m\u001b[38;5;241;43m.\u001b[39;49m\u001b[43mfit\u001b[49m\u001b[43m(\u001b[49m\u001b[43mhp\u001b[49m\u001b[43m,\u001b[49m\u001b[43m \u001b[49m\u001b[43mmodel\u001b[49m\u001b[43m,\u001b[49m\u001b[43m \u001b[49m\u001b[38;5;241;43m*\u001b[39;49m\u001b[43margs\u001b[49m\u001b[43m,\u001b[49m\u001b[43m \u001b[49m\u001b[38;5;241;43m*\u001b[39;49m\u001b[38;5;241;43m*\u001b[39;49m\u001b[43mkwargs\u001b[49m\u001b[43m)\u001b[49m\n\u001b[1;32m    223\u001b[0m tuner_utils\u001b[38;5;241m.\u001b[39mvalidate_trial_results(\n\u001b[1;32m    224\u001b[0m     results, \u001b[38;5;28mself\u001b[39m\u001b[38;5;241m.\u001b[39moracle\u001b[38;5;241m.\u001b[39mobjective, \u001b[38;5;124m\"\u001b[39m\u001b[38;5;124mHyperModel.fit()\u001b[39m\u001b[38;5;124m\"\u001b[39m\n\u001b[1;32m    225\u001b[0m )\n\u001b[1;32m    226\u001b[0m \u001b[38;5;28;01mreturn\u001b[39;00m results\n",
      "File \u001b[0;32m/usr/local/lib/python3.9/dist-packages/keras_tuner/engine/hypermodel.py:140\u001b[0m, in \u001b[0;36mHyperModel.fit\u001b[0;34m(self, hp, model, *args, **kwargs)\u001b[0m\n\u001b[1;32m    116\u001b[0m \u001b[38;5;28;01mdef\u001b[39;00m \u001b[38;5;21mfit\u001b[39m(\u001b[38;5;28mself\u001b[39m, hp, model, \u001b[38;5;241m*\u001b[39margs, \u001b[38;5;241m*\u001b[39m\u001b[38;5;241m*\u001b[39mkwargs):\n\u001b[1;32m    117\u001b[0m     \u001b[38;5;124;03m\"\"\"Train the model.\u001b[39;00m\n\u001b[1;32m    118\u001b[0m \n\u001b[1;32m    119\u001b[0m \u001b[38;5;124;03m    Args:\u001b[39;00m\n\u001b[0;32m   (...)\u001b[0m\n\u001b[1;32m    138\u001b[0m \u001b[38;5;124;03m        If return a float, it should be the `objective` value.\u001b[39;00m\n\u001b[1;32m    139\u001b[0m \u001b[38;5;124;03m    \"\"\"\u001b[39;00m\n\u001b[0;32m--> 140\u001b[0m     \u001b[38;5;28;01mreturn\u001b[39;00m \u001b[43mmodel\u001b[49m\u001b[38;5;241;43m.\u001b[39;49m\u001b[43mfit\u001b[49m\u001b[43m(\u001b[49m\u001b[38;5;241;43m*\u001b[39;49m\u001b[43margs\u001b[49m\u001b[43m,\u001b[49m\u001b[43m \u001b[49m\u001b[38;5;241;43m*\u001b[39;49m\u001b[38;5;241;43m*\u001b[39;49m\u001b[43mkwargs\u001b[49m\u001b[43m)\u001b[49m\n",
      "File \u001b[0;32m/usr/local/lib/python3.9/dist-packages/keras/utils/traceback_utils.py:64\u001b[0m, in \u001b[0;36mfilter_traceback.<locals>.error_handler\u001b[0;34m(*args, **kwargs)\u001b[0m\n\u001b[1;32m     62\u001b[0m filtered_tb \u001b[38;5;241m=\u001b[39m \u001b[38;5;28;01mNone\u001b[39;00m\n\u001b[1;32m     63\u001b[0m \u001b[38;5;28;01mtry\u001b[39;00m:\n\u001b[0;32m---> 64\u001b[0m   \u001b[38;5;28;01mreturn\u001b[39;00m \u001b[43mfn\u001b[49m\u001b[43m(\u001b[49m\u001b[38;5;241;43m*\u001b[39;49m\u001b[43margs\u001b[49m\u001b[43m,\u001b[49m\u001b[43m \u001b[49m\u001b[38;5;241;43m*\u001b[39;49m\u001b[38;5;241;43m*\u001b[39;49m\u001b[43mkwargs\u001b[49m\u001b[43m)\u001b[49m\n\u001b[1;32m     65\u001b[0m \u001b[38;5;28;01mexcept\u001b[39;00m \u001b[38;5;167;01mException\u001b[39;00m \u001b[38;5;28;01mas\u001b[39;00m e:  \u001b[38;5;66;03m# pylint: disable=broad-except\u001b[39;00m\n\u001b[1;32m     66\u001b[0m   filtered_tb \u001b[38;5;241m=\u001b[39m _process_traceback_frames(e\u001b[38;5;241m.\u001b[39m__traceback__)\n",
      "File \u001b[0;32m/usr/local/lib/python3.9/dist-packages/keras/engine/training.py:1445\u001b[0m, in \u001b[0;36mModel.fit\u001b[0;34m(self, x, y, batch_size, epochs, verbose, callbacks, validation_split, validation_data, shuffle, class_weight, sample_weight, initial_epoch, steps_per_epoch, validation_steps, validation_batch_size, validation_freq, max_queue_size, workers, use_multiprocessing)\u001b[0m\n\u001b[1;32m   1431\u001b[0m \u001b[38;5;28;01mif\u001b[39;00m \u001b[38;5;28mgetattr\u001b[39m(\u001b[38;5;28mself\u001b[39m, \u001b[38;5;124m'\u001b[39m\u001b[38;5;124m_eval_data_handler\u001b[39m\u001b[38;5;124m'\u001b[39m, \u001b[38;5;28;01mNone\u001b[39;00m) \u001b[38;5;129;01mis\u001b[39;00m \u001b[38;5;28;01mNone\u001b[39;00m:\n\u001b[1;32m   1432\u001b[0m   \u001b[38;5;28mself\u001b[39m\u001b[38;5;241m.\u001b[39m_eval_data_handler \u001b[38;5;241m=\u001b[39m data_adapter\u001b[38;5;241m.\u001b[39mget_data_handler(\n\u001b[1;32m   1433\u001b[0m       x\u001b[38;5;241m=\u001b[39mval_x,\n\u001b[1;32m   1434\u001b[0m       y\u001b[38;5;241m=\u001b[39mval_y,\n\u001b[0;32m   (...)\u001b[0m\n\u001b[1;32m   1443\u001b[0m       model\u001b[38;5;241m=\u001b[39m\u001b[38;5;28mself\u001b[39m,\n\u001b[1;32m   1444\u001b[0m       steps_per_execution\u001b[38;5;241m=\u001b[39m\u001b[38;5;28mself\u001b[39m\u001b[38;5;241m.\u001b[39m_steps_per_execution)\n\u001b[0;32m-> 1445\u001b[0m val_logs \u001b[38;5;241m=\u001b[39m \u001b[38;5;28;43mself\u001b[39;49m\u001b[38;5;241;43m.\u001b[39;49m\u001b[43mevaluate\u001b[49m\u001b[43m(\u001b[49m\n\u001b[1;32m   1446\u001b[0m \u001b[43m    \u001b[49m\u001b[43mx\u001b[49m\u001b[38;5;241;43m=\u001b[39;49m\u001b[43mval_x\u001b[49m\u001b[43m,\u001b[49m\n\u001b[1;32m   1447\u001b[0m \u001b[43m    \u001b[49m\u001b[43my\u001b[49m\u001b[38;5;241;43m=\u001b[39;49m\u001b[43mval_y\u001b[49m\u001b[43m,\u001b[49m\n\u001b[1;32m   1448\u001b[0m \u001b[43m    \u001b[49m\u001b[43msample_weight\u001b[49m\u001b[38;5;241;43m=\u001b[39;49m\u001b[43mval_sample_weight\u001b[49m\u001b[43m,\u001b[49m\n\u001b[1;32m   1449\u001b[0m \u001b[43m    \u001b[49m\u001b[43mbatch_size\u001b[49m\u001b[38;5;241;43m=\u001b[39;49m\u001b[43mvalidation_batch_size\u001b[49m\u001b[43m \u001b[49m\u001b[38;5;129;43;01mor\u001b[39;49;00m\u001b[43m \u001b[49m\u001b[43mbatch_size\u001b[49m\u001b[43m,\u001b[49m\n\u001b[1;32m   1450\u001b[0m \u001b[43m    \u001b[49m\u001b[43msteps\u001b[49m\u001b[38;5;241;43m=\u001b[39;49m\u001b[43mvalidation_steps\u001b[49m\u001b[43m,\u001b[49m\n\u001b[1;32m   1451\u001b[0m \u001b[43m    \u001b[49m\u001b[43mcallbacks\u001b[49m\u001b[38;5;241;43m=\u001b[39;49m\u001b[43mcallbacks\u001b[49m\u001b[43m,\u001b[49m\n\u001b[1;32m   1452\u001b[0m \u001b[43m    \u001b[49m\u001b[43mmax_queue_size\u001b[49m\u001b[38;5;241;43m=\u001b[39;49m\u001b[43mmax_queue_size\u001b[49m\u001b[43m,\u001b[49m\n\u001b[1;32m   1453\u001b[0m \u001b[43m    \u001b[49m\u001b[43mworkers\u001b[49m\u001b[38;5;241;43m=\u001b[39;49m\u001b[43mworkers\u001b[49m\u001b[43m,\u001b[49m\n\u001b[1;32m   1454\u001b[0m \u001b[43m    \u001b[49m\u001b[43muse_multiprocessing\u001b[49m\u001b[38;5;241;43m=\u001b[39;49m\u001b[43muse_multiprocessing\u001b[49m\u001b[43m,\u001b[49m\n\u001b[1;32m   1455\u001b[0m \u001b[43m    \u001b[49m\u001b[43mreturn_dict\u001b[49m\u001b[38;5;241;43m=\u001b[39;49m\u001b[38;5;28;43;01mTrue\u001b[39;49;00m\u001b[43m,\u001b[49m\n\u001b[1;32m   1456\u001b[0m \u001b[43m    \u001b[49m\u001b[43m_use_cached_eval_dataset\u001b[49m\u001b[38;5;241;43m=\u001b[39;49m\u001b[38;5;28;43;01mTrue\u001b[39;49;00m\u001b[43m)\u001b[49m\n\u001b[1;32m   1457\u001b[0m val_logs \u001b[38;5;241m=\u001b[39m {\u001b[38;5;124m'\u001b[39m\u001b[38;5;124mval_\u001b[39m\u001b[38;5;124m'\u001b[39m \u001b[38;5;241m+\u001b[39m name: val \u001b[38;5;28;01mfor\u001b[39;00m name, val \u001b[38;5;129;01min\u001b[39;00m val_logs\u001b[38;5;241m.\u001b[39mitems()}\n\u001b[1;32m   1458\u001b[0m epoch_logs\u001b[38;5;241m.\u001b[39mupdate(val_logs)\n",
      "File \u001b[0;32m/usr/local/lib/python3.9/dist-packages/keras/utils/traceback_utils.py:64\u001b[0m, in \u001b[0;36mfilter_traceback.<locals>.error_handler\u001b[0;34m(*args, **kwargs)\u001b[0m\n\u001b[1;32m     62\u001b[0m filtered_tb \u001b[38;5;241m=\u001b[39m \u001b[38;5;28;01mNone\u001b[39;00m\n\u001b[1;32m     63\u001b[0m \u001b[38;5;28;01mtry\u001b[39;00m:\n\u001b[0;32m---> 64\u001b[0m   \u001b[38;5;28;01mreturn\u001b[39;00m \u001b[43mfn\u001b[49m\u001b[43m(\u001b[49m\u001b[38;5;241;43m*\u001b[39;49m\u001b[43margs\u001b[49m\u001b[43m,\u001b[49m\u001b[43m \u001b[49m\u001b[38;5;241;43m*\u001b[39;49m\u001b[38;5;241;43m*\u001b[39;49m\u001b[43mkwargs\u001b[49m\u001b[43m)\u001b[49m\n\u001b[1;32m     65\u001b[0m \u001b[38;5;28;01mexcept\u001b[39;00m \u001b[38;5;167;01mException\u001b[39;00m \u001b[38;5;28;01mas\u001b[39;00m e:  \u001b[38;5;66;03m# pylint: disable=broad-except\u001b[39;00m\n\u001b[1;32m     66\u001b[0m   filtered_tb \u001b[38;5;241m=\u001b[39m _process_traceback_frames(e\u001b[38;5;241m.\u001b[39m__traceback__)\n",
      "File \u001b[0;32m/usr/local/lib/python3.9/dist-packages/keras/engine/training.py:1756\u001b[0m, in \u001b[0;36mModel.evaluate\u001b[0;34m(self, x, y, batch_size, verbose, sample_weight, steps, callbacks, max_queue_size, workers, use_multiprocessing, return_dict, **kwargs)\u001b[0m\n\u001b[1;32m   1754\u001b[0m \u001b[38;5;28;01mwith\u001b[39;00m tf\u001b[38;5;241m.\u001b[39mprofiler\u001b[38;5;241m.\u001b[39mexperimental\u001b[38;5;241m.\u001b[39mTrace(\u001b[38;5;124m'\u001b[39m\u001b[38;5;124mtest\u001b[39m\u001b[38;5;124m'\u001b[39m, step_num\u001b[38;5;241m=\u001b[39mstep, _r\u001b[38;5;241m=\u001b[39m\u001b[38;5;241m1\u001b[39m):\n\u001b[1;32m   1755\u001b[0m   callbacks\u001b[38;5;241m.\u001b[39mon_test_batch_begin(step)\n\u001b[0;32m-> 1756\u001b[0m   tmp_logs \u001b[38;5;241m=\u001b[39m \u001b[38;5;28;43mself\u001b[39;49m\u001b[38;5;241;43m.\u001b[39;49m\u001b[43mtest_function\u001b[49m\u001b[43m(\u001b[49m\u001b[43miterator\u001b[49m\u001b[43m)\u001b[49m\n\u001b[1;32m   1757\u001b[0m   \u001b[38;5;28;01mif\u001b[39;00m data_handler\u001b[38;5;241m.\u001b[39mshould_sync:\n\u001b[1;32m   1758\u001b[0m     context\u001b[38;5;241m.\u001b[39masync_wait()\n",
      "File \u001b[0;32m/usr/local/lib/python3.9/dist-packages/tensorflow/python/util/traceback_utils.py:150\u001b[0m, in \u001b[0;36mfilter_traceback.<locals>.error_handler\u001b[0;34m(*args, **kwargs)\u001b[0m\n\u001b[1;32m    148\u001b[0m filtered_tb \u001b[38;5;241m=\u001b[39m \u001b[38;5;28;01mNone\u001b[39;00m\n\u001b[1;32m    149\u001b[0m \u001b[38;5;28;01mtry\u001b[39;00m:\n\u001b[0;32m--> 150\u001b[0m   \u001b[38;5;28;01mreturn\u001b[39;00m \u001b[43mfn\u001b[49m\u001b[43m(\u001b[49m\u001b[38;5;241;43m*\u001b[39;49m\u001b[43margs\u001b[49m\u001b[43m,\u001b[49m\u001b[43m \u001b[49m\u001b[38;5;241;43m*\u001b[39;49m\u001b[38;5;241;43m*\u001b[39;49m\u001b[43mkwargs\u001b[49m\u001b[43m)\u001b[49m\n\u001b[1;32m    151\u001b[0m \u001b[38;5;28;01mexcept\u001b[39;00m \u001b[38;5;167;01mException\u001b[39;00m \u001b[38;5;28;01mas\u001b[39;00m e:\n\u001b[1;32m    152\u001b[0m   filtered_tb \u001b[38;5;241m=\u001b[39m _process_traceback_frames(e\u001b[38;5;241m.\u001b[39m__traceback__)\n",
      "File \u001b[0;32m/usr/local/lib/python3.9/dist-packages/tensorflow/python/eager/def_function.py:915\u001b[0m, in \u001b[0;36mFunction.__call__\u001b[0;34m(self, *args, **kwds)\u001b[0m\n\u001b[1;32m    912\u001b[0m compiler \u001b[38;5;241m=\u001b[39m \u001b[38;5;124m\"\u001b[39m\u001b[38;5;124mxla\u001b[39m\u001b[38;5;124m\"\u001b[39m \u001b[38;5;28;01mif\u001b[39;00m \u001b[38;5;28mself\u001b[39m\u001b[38;5;241m.\u001b[39m_jit_compile \u001b[38;5;28;01melse\u001b[39;00m \u001b[38;5;124m\"\u001b[39m\u001b[38;5;124mnonXla\u001b[39m\u001b[38;5;124m\"\u001b[39m\n\u001b[1;32m    914\u001b[0m \u001b[38;5;28;01mwith\u001b[39;00m OptionalXlaContext(\u001b[38;5;28mself\u001b[39m\u001b[38;5;241m.\u001b[39m_jit_compile):\n\u001b[0;32m--> 915\u001b[0m   result \u001b[38;5;241m=\u001b[39m \u001b[38;5;28;43mself\u001b[39;49m\u001b[38;5;241;43m.\u001b[39;49m\u001b[43m_call\u001b[49m\u001b[43m(\u001b[49m\u001b[38;5;241;43m*\u001b[39;49m\u001b[43margs\u001b[49m\u001b[43m,\u001b[49m\u001b[43m \u001b[49m\u001b[38;5;241;43m*\u001b[39;49m\u001b[38;5;241;43m*\u001b[39;49m\u001b[43mkwds\u001b[49m\u001b[43m)\u001b[49m\n\u001b[1;32m    917\u001b[0m new_tracing_count \u001b[38;5;241m=\u001b[39m \u001b[38;5;28mself\u001b[39m\u001b[38;5;241m.\u001b[39mexperimental_get_tracing_count()\n\u001b[1;32m    918\u001b[0m without_tracing \u001b[38;5;241m=\u001b[39m (tracing_count \u001b[38;5;241m==\u001b[39m new_tracing_count)\n",
      "File \u001b[0;32m/usr/local/lib/python3.9/dist-packages/tensorflow/python/eager/def_function.py:954\u001b[0m, in \u001b[0;36mFunction._call\u001b[0;34m(self, *args, **kwds)\u001b[0m\n\u001b[1;32m    951\u001b[0m \u001b[38;5;28mself\u001b[39m\u001b[38;5;241m.\u001b[39m_lock\u001b[38;5;241m.\u001b[39mrelease()\n\u001b[1;32m    952\u001b[0m \u001b[38;5;66;03m# In this case we have not created variables on the first call. So we can\u001b[39;00m\n\u001b[1;32m    953\u001b[0m \u001b[38;5;66;03m# run the first trace but we should fail if variables are created.\u001b[39;00m\n\u001b[0;32m--> 954\u001b[0m results \u001b[38;5;241m=\u001b[39m \u001b[38;5;28;43mself\u001b[39;49m\u001b[38;5;241;43m.\u001b[39;49m\u001b[43m_stateful_fn\u001b[49m\u001b[43m(\u001b[49m\u001b[38;5;241;43m*\u001b[39;49m\u001b[43margs\u001b[49m\u001b[43m,\u001b[49m\u001b[43m \u001b[49m\u001b[38;5;241;43m*\u001b[39;49m\u001b[38;5;241;43m*\u001b[39;49m\u001b[43mkwds\u001b[49m\u001b[43m)\u001b[49m\n\u001b[1;32m    955\u001b[0m \u001b[38;5;28;01mif\u001b[39;00m \u001b[38;5;28mself\u001b[39m\u001b[38;5;241m.\u001b[39m_created_variables \u001b[38;5;129;01mand\u001b[39;00m \u001b[38;5;129;01mnot\u001b[39;00m ALLOW_DYNAMIC_VARIABLE_CREATION:\n\u001b[1;32m    956\u001b[0m   \u001b[38;5;28;01mraise\u001b[39;00m \u001b[38;5;167;01mValueError\u001b[39;00m(\u001b[38;5;124m\"\u001b[39m\u001b[38;5;124mCreating variables on a non-first call to a function\u001b[39m\u001b[38;5;124m\"\u001b[39m\n\u001b[1;32m    957\u001b[0m                    \u001b[38;5;124m\"\u001b[39m\u001b[38;5;124m decorated with tf.function.\u001b[39m\u001b[38;5;124m\"\u001b[39m)\n",
      "File \u001b[0;32m/usr/local/lib/python3.9/dist-packages/tensorflow/python/eager/function.py:2453\u001b[0m, in \u001b[0;36mFunction.__call__\u001b[0;34m(self, *args, **kwargs)\u001b[0m\n\u001b[1;32m   2450\u001b[0m \u001b[38;5;28;01mwith\u001b[39;00m \u001b[38;5;28mself\u001b[39m\u001b[38;5;241m.\u001b[39m_lock:\n\u001b[1;32m   2451\u001b[0m   (graph_function,\n\u001b[1;32m   2452\u001b[0m    filtered_flat_args) \u001b[38;5;241m=\u001b[39m \u001b[38;5;28mself\u001b[39m\u001b[38;5;241m.\u001b[39m_maybe_define_function(args, kwargs)\n\u001b[0;32m-> 2453\u001b[0m \u001b[38;5;28;01mreturn\u001b[39;00m \u001b[43mgraph_function\u001b[49m\u001b[38;5;241;43m.\u001b[39;49m\u001b[43m_call_flat\u001b[49m\u001b[43m(\u001b[49m\n\u001b[1;32m   2454\u001b[0m \u001b[43m    \u001b[49m\u001b[43mfiltered_flat_args\u001b[49m\u001b[43m,\u001b[49m\u001b[43m \u001b[49m\u001b[43mcaptured_inputs\u001b[49m\u001b[38;5;241;43m=\u001b[39;49m\u001b[43mgraph_function\u001b[49m\u001b[38;5;241;43m.\u001b[39;49m\u001b[43mcaptured_inputs\u001b[49m\u001b[43m)\u001b[49m\n",
      "File \u001b[0;32m/usr/local/lib/python3.9/dist-packages/tensorflow/python/eager/function.py:1860\u001b[0m, in \u001b[0;36mConcreteFunction._call_flat\u001b[0;34m(self, args, captured_inputs, cancellation_manager)\u001b[0m\n\u001b[1;32m   1856\u001b[0m possible_gradient_type \u001b[38;5;241m=\u001b[39m gradients_util\u001b[38;5;241m.\u001b[39mPossibleTapeGradientTypes(args)\n\u001b[1;32m   1857\u001b[0m \u001b[38;5;28;01mif\u001b[39;00m (possible_gradient_type \u001b[38;5;241m==\u001b[39m gradients_util\u001b[38;5;241m.\u001b[39mPOSSIBLE_GRADIENT_TYPES_NONE\n\u001b[1;32m   1858\u001b[0m     \u001b[38;5;129;01mand\u001b[39;00m executing_eagerly):\n\u001b[1;32m   1859\u001b[0m   \u001b[38;5;66;03m# No tape is watching; skip to running the function.\u001b[39;00m\n\u001b[0;32m-> 1860\u001b[0m   \u001b[38;5;28;01mreturn\u001b[39;00m \u001b[38;5;28mself\u001b[39m\u001b[38;5;241m.\u001b[39m_build_call_outputs(\u001b[38;5;28;43mself\u001b[39;49m\u001b[38;5;241;43m.\u001b[39;49m\u001b[43m_inference_function\u001b[49m\u001b[38;5;241;43m.\u001b[39;49m\u001b[43mcall\u001b[49m\u001b[43m(\u001b[49m\n\u001b[1;32m   1861\u001b[0m \u001b[43m      \u001b[49m\u001b[43mctx\u001b[49m\u001b[43m,\u001b[49m\u001b[43m \u001b[49m\u001b[43margs\u001b[49m\u001b[43m,\u001b[49m\u001b[43m \u001b[49m\u001b[43mcancellation_manager\u001b[49m\u001b[38;5;241;43m=\u001b[39;49m\u001b[43mcancellation_manager\u001b[49m\u001b[43m)\u001b[49m)\n\u001b[1;32m   1862\u001b[0m forward_backward \u001b[38;5;241m=\u001b[39m \u001b[38;5;28mself\u001b[39m\u001b[38;5;241m.\u001b[39m_select_forward_and_backward_functions(\n\u001b[1;32m   1863\u001b[0m     args,\n\u001b[1;32m   1864\u001b[0m     possible_gradient_type,\n\u001b[1;32m   1865\u001b[0m     executing_eagerly)\n\u001b[1;32m   1866\u001b[0m forward_function, args_with_tangents \u001b[38;5;241m=\u001b[39m forward_backward\u001b[38;5;241m.\u001b[39mforward()\n",
      "File \u001b[0;32m/usr/local/lib/python3.9/dist-packages/tensorflow/python/eager/function.py:497\u001b[0m, in \u001b[0;36m_EagerDefinedFunction.call\u001b[0;34m(self, ctx, args, cancellation_manager)\u001b[0m\n\u001b[1;32m    495\u001b[0m \u001b[38;5;28;01mwith\u001b[39;00m _InterpolateFunctionError(\u001b[38;5;28mself\u001b[39m):\n\u001b[1;32m    496\u001b[0m   \u001b[38;5;28;01mif\u001b[39;00m cancellation_manager \u001b[38;5;129;01mis\u001b[39;00m \u001b[38;5;28;01mNone\u001b[39;00m:\n\u001b[0;32m--> 497\u001b[0m     outputs \u001b[38;5;241m=\u001b[39m \u001b[43mexecute\u001b[49m\u001b[38;5;241;43m.\u001b[39;49m\u001b[43mexecute\u001b[49m\u001b[43m(\u001b[49m\n\u001b[1;32m    498\u001b[0m \u001b[43m        \u001b[49m\u001b[38;5;28;43mstr\u001b[39;49m\u001b[43m(\u001b[49m\u001b[38;5;28;43mself\u001b[39;49m\u001b[38;5;241;43m.\u001b[39;49m\u001b[43msignature\u001b[49m\u001b[38;5;241;43m.\u001b[39;49m\u001b[43mname\u001b[49m\u001b[43m)\u001b[49m\u001b[43m,\u001b[49m\n\u001b[1;32m    499\u001b[0m \u001b[43m        \u001b[49m\u001b[43mnum_outputs\u001b[49m\u001b[38;5;241;43m=\u001b[39;49m\u001b[38;5;28;43mself\u001b[39;49m\u001b[38;5;241;43m.\u001b[39;49m\u001b[43m_num_outputs\u001b[49m\u001b[43m,\u001b[49m\n\u001b[1;32m    500\u001b[0m \u001b[43m        \u001b[49m\u001b[43minputs\u001b[49m\u001b[38;5;241;43m=\u001b[39;49m\u001b[43margs\u001b[49m\u001b[43m,\u001b[49m\n\u001b[1;32m    501\u001b[0m \u001b[43m        \u001b[49m\u001b[43mattrs\u001b[49m\u001b[38;5;241;43m=\u001b[39;49m\u001b[43mattrs\u001b[49m\u001b[43m,\u001b[49m\n\u001b[1;32m    502\u001b[0m \u001b[43m        \u001b[49m\u001b[43mctx\u001b[49m\u001b[38;5;241;43m=\u001b[39;49m\u001b[43mctx\u001b[49m\u001b[43m)\u001b[49m\n\u001b[1;32m    503\u001b[0m   \u001b[38;5;28;01melse\u001b[39;00m:\n\u001b[1;32m    504\u001b[0m     outputs \u001b[38;5;241m=\u001b[39m execute\u001b[38;5;241m.\u001b[39mexecute_with_cancellation(\n\u001b[1;32m    505\u001b[0m         \u001b[38;5;28mstr\u001b[39m(\u001b[38;5;28mself\u001b[39m\u001b[38;5;241m.\u001b[39msignature\u001b[38;5;241m.\u001b[39mname),\n\u001b[1;32m    506\u001b[0m         num_outputs\u001b[38;5;241m=\u001b[39m\u001b[38;5;28mself\u001b[39m\u001b[38;5;241m.\u001b[39m_num_outputs,\n\u001b[0;32m   (...)\u001b[0m\n\u001b[1;32m    509\u001b[0m         ctx\u001b[38;5;241m=\u001b[39mctx,\n\u001b[1;32m    510\u001b[0m         cancellation_manager\u001b[38;5;241m=\u001b[39mcancellation_manager)\n",
      "File \u001b[0;32m/usr/local/lib/python3.9/dist-packages/tensorflow/python/eager/execute.py:54\u001b[0m, in \u001b[0;36mquick_execute\u001b[0;34m(op_name, num_outputs, inputs, attrs, ctx, name)\u001b[0m\n\u001b[1;32m     52\u001b[0m \u001b[38;5;28;01mtry\u001b[39;00m:\n\u001b[1;32m     53\u001b[0m   ctx\u001b[38;5;241m.\u001b[39mensure_initialized()\n\u001b[0;32m---> 54\u001b[0m   tensors \u001b[38;5;241m=\u001b[39m \u001b[43mpywrap_tfe\u001b[49m\u001b[38;5;241;43m.\u001b[39;49m\u001b[43mTFE_Py_Execute\u001b[49m\u001b[43m(\u001b[49m\u001b[43mctx\u001b[49m\u001b[38;5;241;43m.\u001b[39;49m\u001b[43m_handle\u001b[49m\u001b[43m,\u001b[49m\u001b[43m \u001b[49m\u001b[43mdevice_name\u001b[49m\u001b[43m,\u001b[49m\u001b[43m \u001b[49m\u001b[43mop_name\u001b[49m\u001b[43m,\u001b[49m\n\u001b[1;32m     55\u001b[0m \u001b[43m                                      \u001b[49m\u001b[43minputs\u001b[49m\u001b[43m,\u001b[49m\u001b[43m \u001b[49m\u001b[43mattrs\u001b[49m\u001b[43m,\u001b[49m\u001b[43m \u001b[49m\u001b[43mnum_outputs\u001b[49m\u001b[43m)\u001b[49m\n\u001b[1;32m     56\u001b[0m \u001b[38;5;28;01mexcept\u001b[39;00m core\u001b[38;5;241m.\u001b[39m_NotOkStatusException \u001b[38;5;28;01mas\u001b[39;00m e:\n\u001b[1;32m     57\u001b[0m   \u001b[38;5;28;01mif\u001b[39;00m name \u001b[38;5;129;01mis\u001b[39;00m \u001b[38;5;129;01mnot\u001b[39;00m \u001b[38;5;28;01mNone\u001b[39;00m:\n",
      "\u001b[0;31mKeyboardInterrupt\u001b[0m: "
     ]
    }
   ],
   "source": [
    "    \n",
    "cp_callback = [tf.keras.callbacks.EarlyStopping(monitor='val_accuracy', patience=7),\n",
    "               tf.keras.callbacks.ModelCheckpoint(filepath='/notebooks/model_checkpoints/bayesianOptVgg19.h5',verbose=1,monitor='val_accuracy', save_best_only=True, mode='max'),\n",
    "               tf.keras.callbacks.TensorBoard(log_dir='./logs'),]\n",
    "#load model\n",
    "tuner.search(aug_train_gen,\n",
    "                 epochs=epo,\n",
    "                 validation_data=valid_gen,\n",
    "                 class_weight= class_weights,\n",
    "                 callbacks=cp_callback,verbose=1)  # Pass callback to training\n"
   ]
  },
  {
   "cell_type": "code",
   "execution_count": 19,
   "id": "9502153e-068a-47dc-b0e9-402ea58bc159",
   "metadata": {
    "execution": {
     "iopub.execute_input": "2022-11-16T13:47:36.214575Z",
     "iopub.status.busy": "2022-11-16T13:47:36.213466Z",
     "iopub.status.idle": "2022-11-16T13:47:36.220512Z",
     "shell.execute_reply": "2022-11-16T13:47:36.219371Z",
     "shell.execute_reply.started": "2022-11-16T13:47:36.214537Z"
    }
   },
   "outputs": [
    {
     "name": "stdout",
     "output_type": "stream",
     "text": [
      "Results summary\n",
      "Results in tuning_folder/vgg19_BayesianOpt1\n",
      "Showing 10 best trials\n",
      "<keras_tuner.engine.objective.Objective object at 0x7fb4b686afa0>\n",
      "Trial summary\n",
      "Hyperparameters:\n",
      "num_layers: 2\n",
      "droput_rate_0: 0.0\n",
      "num_units: 128\n",
      "droput_rate_1: 0.0\n",
      "lr: 0.0001\n",
      "droput_rate_2: 0.8\n",
      "Score: 0.8246844410896301\n",
      "Trial summary\n",
      "Hyperparameters:\n",
      "num_layers: 2\n",
      "droput_rate_0: 0.0\n",
      "num_units: 192\n",
      "droput_rate_1: 0.0\n",
      "lr: 0.0001\n",
      "droput_rate_2: 0.8\n",
      "Score: 0.8162692785263062\n",
      "Trial summary\n",
      "Hyperparameters:\n",
      "num_layers: 2\n",
      "droput_rate_0: 0.0\n",
      "num_units: 64\n",
      "droput_rate_1: 0.0\n",
      "lr: 0.0001\n",
      "droput_rate_2: 0.4\n",
      "Score: 0.8120617270469666\n",
      "Trial summary\n",
      "Hyperparameters:\n",
      "num_layers: 2\n",
      "droput_rate_0: 0.4\n",
      "num_units: 192\n",
      "droput_rate_1: 0.0\n",
      "lr: 0.0001\n",
      "droput_rate_2: 0.0\n",
      "Score: 0.8106591701507568\n",
      "Trial summary\n",
      "Hyperparameters:\n",
      "num_layers: 2\n",
      "droput_rate_0: 0.0\n",
      "num_units: 64\n",
      "droput_rate_1: 0.0\n",
      "lr: 0.0001\n",
      "droput_rate_2: 0.0\n",
      "Score: 0.8092566728591919\n",
      "Trial summary\n",
      "Hyperparameters:\n",
      "num_layers: 2\n",
      "droput_rate_0: 0.0\n",
      "num_units: 256\n",
      "droput_rate_1: 0.0\n",
      "lr: 0.0001\n",
      "droput_rate_2: 0.8\n",
      "Score: 0.8050490617752075\n",
      "Trial summary\n",
      "Hyperparameters:\n",
      "num_layers: 3\n",
      "droput_rate_0: 0.0\n",
      "num_units: 128\n",
      "droput_rate_1: 0.0\n",
      "lr: 0.0001\n",
      "droput_rate_2: 0.4\n",
      "Score: 0.8050490617752075\n",
      "Trial summary\n",
      "Hyperparameters:\n",
      "num_layers: 2\n",
      "droput_rate_0: 0.4\n",
      "num_units: 256\n",
      "droput_rate_1: 0.0\n",
      "lr: 0.0001\n",
      "droput_rate_2: 0.0\n",
      "Score: 0.8022440671920776\n",
      "Trial summary\n",
      "Hyperparameters:\n",
      "num_layers: 3\n",
      "droput_rate_0: 0.4\n",
      "num_units: 256\n",
      "droput_rate_1: 0.0\n",
      "lr: 0.0001\n",
      "droput_rate_2: 0.2\n",
      "Score: 0.8022440671920776\n",
      "Trial summary\n",
      "Hyperparameters:\n",
      "num_layers: 2\n",
      "droput_rate_0: 0.0\n",
      "num_units: 192\n",
      "droput_rate_1: 0.0\n",
      "lr: 0.0001\n",
      "droput_rate_2: 0.4\n",
      "Score: 0.8022440671920776\n"
     ]
    }
   ],
   "source": [
    "tuner.results_summary()"
   ]
  },
  {
   "cell_type": "code",
   "execution_count": 20,
   "id": "c0a639af-3c8e-49a8-93f3-09cad01d0506",
   "metadata": {
    "execution": {
     "iopub.execute_input": "2022-11-16T13:48:21.636670Z",
     "iopub.status.busy": "2022-11-16T13:48:21.636023Z",
     "iopub.status.idle": "2022-11-16T13:48:27.592425Z",
     "shell.execute_reply": "2022-11-16T13:48:27.591537Z",
     "shell.execute_reply.started": "2022-11-16T13:48:21.636643Z"
    }
   },
   "outputs": [
    {
     "name": "stdout",
     "output_type": "stream",
     "text": [
      "Model: \"model\"\n",
      "_________________________________________________________________\n",
      " Layer (type)                Output Shape              Param #   \n",
      "=================================================================\n",
      " input_2 (InputLayer)        [(None, 120, 120, 3)]     0         \n",
      "                                                                 \n",
      " vgg19 (Functional)          (None, 3, 3, 512)         20024384  \n",
      "                                                                 \n",
      " flatten (Flatten)           (None, 4608)              0         \n",
      "                                                                 \n",
      " dropout (Dropout)           (None, 4608)              0         \n",
      "                                                                 \n",
      " dense (Dense)               (None, 128)               589952    \n",
      "                                                                 \n",
      " dropout_1 (Dropout)         (None, 128)               0         \n",
      "                                                                 \n",
      " dense_1 (Dense)             (None, 128)               16512     \n",
      "                                                                 \n",
      " dense_2 (Dense)             (None, 8)                 1032      \n",
      "                                                                 \n",
      "=================================================================\n",
      "Total params: 20,631,880\n",
      "Trainable params: 12,406,536\n",
      "Non-trainable params: 8,225,344\n",
      "_________________________________________________________________\n",
      "None\n",
      "Model: \"model\"\n",
      "_________________________________________________________________\n",
      " Layer (type)                Output Shape              Param #   \n",
      "=================================================================\n",
      " input_2 (InputLayer)        [(None, 120, 120, 3)]     0         \n",
      "                                                                 \n",
      " vgg19 (Functional)          (None, 3, 3, 512)         20024384  \n",
      "                                                                 \n",
      " flatten (Flatten)           (None, 4608)              0         \n",
      "                                                                 \n",
      " dropout (Dropout)           (None, 4608)              0         \n",
      "                                                                 \n",
      " dense (Dense)               (None, 192)               884928    \n",
      "                                                                 \n",
      " dropout_1 (Dropout)         (None, 192)               0         \n",
      "                                                                 \n",
      " dense_1 (Dense)             (None, 192)               37056     \n",
      "                                                                 \n",
      " dense_2 (Dense)             (None, 8)                 1544      \n",
      "                                                                 \n",
      "=================================================================\n",
      "Total params: 20,947,912\n",
      "Trainable params: 12,722,568\n",
      "Non-trainable params: 8,225,344\n",
      "_________________________________________________________________\n",
      "None\n",
      "Model: \"model\"\n",
      "_________________________________________________________________\n",
      " Layer (type)                Output Shape              Param #   \n",
      "=================================================================\n",
      " input_2 (InputLayer)        [(None, 120, 120, 3)]     0         \n",
      "                                                                 \n",
      " vgg19 (Functional)          (None, 3, 3, 512)         20024384  \n",
      "                                                                 \n",
      " flatten (Flatten)           (None, 4608)              0         \n",
      "                                                                 \n",
      " dropout (Dropout)           (None, 4608)              0         \n",
      "                                                                 \n",
      " dense (Dense)               (None, 128)               589952    \n",
      "                                                                 \n",
      " dropout_1 (Dropout)         (None, 128)               0         \n",
      "                                                                 \n",
      " dense_1 (Dense)             (None, 128)               16512     \n",
      "                                                                 \n",
      " dense_2 (Dense)             (None, 8)                 1032      \n",
      "                                                                 \n",
      "=================================================================\n",
      "Total params: 20,631,880\n",
      "Trainable params: 12,406,536\n",
      "Non-trainable params: 8,225,344\n",
      "_________________________________________________________________\n"
     ]
    },
    {
     "name": "stderr",
     "output_type": "stream",
     "text": [
      "WARNING:absl:Found untraced functions such as _jit_compiled_convolution_op, _jit_compiled_convolution_op, _jit_compiled_convolution_op, _jit_compiled_convolution_op, _jit_compiled_convolution_op while saving (showing 5 of 16). These functions will not be directly callable after loading.\n"
     ]
    },
    {
     "name": "stdout",
     "output_type": "stream",
     "text": [
      "INFO:tensorflow:Assets written to: BestModelVgg19BayesianOpt1/assets\n"
     ]
    },
    {
     "name": "stderr",
     "output_type": "stream",
     "text": [
      "INFO:tensorflow:Assets written to: BestModelVgg19BayesianOpt1/assets\n"
     ]
    }
   ],
   "source": [
    "# Get the top 2 models.\n",
    "models = tuner.get_best_models(num_models=2)\n",
    "best_model = models[0]\n",
    "# Build the model.\n",
    "# Needed for `Sequential` without specified `input_shape`.\n",
    "best_model.build(input_shape=(None, 96, 96))\n",
    "best_model.summary()\n",
    "best_model.save(\"BestModelVgg19BayesianOpt1\")"
   ]
  },
  {
   "cell_type": "code",
   "execution_count": 14,
   "id": "fa0a4af6-546d-4142-b633-9e340fe439f0",
   "metadata": {
    "execution": {
     "iopub.execute_input": "2022-11-15T07:53:52.674388Z",
     "iopub.status.busy": "2022-11-15T07:53:52.673973Z",
     "iopub.status.idle": "2022-11-15T08:03:14.975015Z",
     "shell.execute_reply": "2022-11-15T08:03:14.974153Z",
     "shell.execute_reply.started": "2022-11-15T07:53:52.674353Z"
    }
   },
   "outputs": [
    {
     "name": "stdout",
     "output_type": "stream",
     "text": [
      "Epoch 1/200\n",
      "12/12 [==============================] - ETA: 0s - loss: 2.1410 - accuracy: 0.1389\n",
      "Epoch 1: val_accuracy improved from -inf to 0.15708, saving model to /notebooks/model_checkpoints/bea_base_vgg.h5\n",
      "12/12 [==============================] - 9s 679ms/step - loss: 2.1410 - accuracy: 0.1389 - val_loss: 2.0446 - val_accuracy: 0.1571\n",
      "Epoch 2/200\n",
      "12/12 [==============================] - ETA: 0s - loss: 2.0334 - accuracy: 0.1552\n",
      "Epoch 2: val_accuracy improved from 0.15708 to 0.25806, saving model to /notebooks/model_checkpoints/bea_base_vgg.h5\n",
      "12/12 [==============================] - 8s 642ms/step - loss: 2.0334 - accuracy: 0.1552 - val_loss: 1.8310 - val_accuracy: 0.2581\n",
      "Epoch 3/200\n",
      "12/12 [==============================] - ETA: 0s - loss: 1.9164 - accuracy: 0.2142\n",
      "Epoch 3: val_accuracy improved from 0.25806 to 0.29874, saving model to /notebooks/model_checkpoints/bea_base_vgg.h5\n",
      "12/12 [==============================] - 8s 647ms/step - loss: 1.9164 - accuracy: 0.2142 - val_loss: 1.8341 - val_accuracy: 0.2987\n",
      "Epoch 4/200\n",
      "12/12 [==============================] - ETA: 0s - loss: 1.7796 - accuracy: 0.3100\n",
      "Epoch 4: val_accuracy improved from 0.29874 to 0.31697, saving model to /notebooks/model_checkpoints/bea_base_vgg.h5\n",
      "12/12 [==============================] - 8s 703ms/step - loss: 1.7796 - accuracy: 0.3100 - val_loss: 1.6172 - val_accuracy: 0.3170\n",
      "Epoch 5/200\n",
      "12/12 [==============================] - ETA: 0s - loss: 1.7114 - accuracy: 0.3238\n",
      "Epoch 5: val_accuracy improved from 0.31697 to 0.40813, saving model to /notebooks/model_checkpoints/bea_base_vgg.h5\n",
      "12/12 [==============================] - 8s 711ms/step - loss: 1.7114 - accuracy: 0.3238 - val_loss: 1.5076 - val_accuracy: 0.4081\n",
      "Epoch 6/200\n",
      "12/12 [==============================] - ETA: 0s - loss: 1.6090 - accuracy: 0.3743\n",
      "Epoch 6: val_accuracy improved from 0.40813 to 0.42917, saving model to /notebooks/model_checkpoints/bea_base_vgg.h5\n",
      "12/12 [==============================] - 8s 656ms/step - loss: 1.6090 - accuracy: 0.3743 - val_loss: 1.4629 - val_accuracy: 0.4292\n",
      "Epoch 7/200\n",
      "12/12 [==============================] - ETA: 0s - loss: 1.5718 - accuracy: 0.3772\n",
      "Epoch 7: val_accuracy did not improve from 0.42917\n",
      "12/12 [==============================] - 7s 610ms/step - loss: 1.5718 - accuracy: 0.3772 - val_loss: 1.4149 - val_accuracy: 0.3983\n",
      "Epoch 8/200\n",
      "12/12 [==============================] - ETA: 0s - loss: 1.5057 - accuracy: 0.3973\n",
      "Epoch 8: val_accuracy did not improve from 0.42917\n",
      "12/12 [==============================] - 8s 616ms/step - loss: 1.5057 - accuracy: 0.3973 - val_loss: 1.4441 - val_accuracy: 0.3983\n",
      "Epoch 9/200\n",
      "12/12 [==============================] - ETA: 0s - loss: 1.5366 - accuracy: 0.3786\n",
      "Epoch 9: val_accuracy improved from 0.42917 to 0.45161, saving model to /notebooks/model_checkpoints/bea_base_vgg.h5\n",
      "12/12 [==============================] - 8s 651ms/step - loss: 1.5366 - accuracy: 0.3786 - val_loss: 1.3871 - val_accuracy: 0.4516\n",
      "Epoch 10/200\n",
      "12/12 [==============================] - ETA: 0s - loss: 1.4352 - accuracy: 0.4482\n",
      "Epoch 10: val_accuracy improved from 0.45161 to 0.48668, saving model to /notebooks/model_checkpoints/bea_base_vgg.h5\n",
      "12/12 [==============================] - 8s 662ms/step - loss: 1.4352 - accuracy: 0.4482 - val_loss: 1.2839 - val_accuracy: 0.4867\n",
      "Epoch 11/200\n",
      "12/12 [==============================] - ETA: 0s - loss: 1.3828 - accuracy: 0.4507\n",
      "Epoch 11: val_accuracy improved from 0.48668 to 0.48808, saving model to /notebooks/model_checkpoints/bea_base_vgg.h5\n",
      "12/12 [==============================] - 8s 645ms/step - loss: 1.3828 - accuracy: 0.4507 - val_loss: 1.3138 - val_accuracy: 0.4881\n",
      "Epoch 12/200\n",
      "12/12 [==============================] - ETA: 0s - loss: 1.3601 - accuracy: 0.4730\n",
      "Epoch 12: val_accuracy improved from 0.48808 to 0.52314, saving model to /notebooks/model_checkpoints/bea_base_vgg.h5\n",
      "12/12 [==============================] - 8s 631ms/step - loss: 1.3601 - accuracy: 0.4730 - val_loss: 1.1832 - val_accuracy: 0.5231\n",
      "Epoch 13/200\n",
      "12/12 [==============================] - ETA: 0s - loss: 1.2970 - accuracy: 0.5065\n",
      "Epoch 13: val_accuracy did not improve from 0.52314\n",
      "12/12 [==============================] - 7s 606ms/step - loss: 1.2970 - accuracy: 0.5065 - val_loss: 1.2381 - val_accuracy: 0.5217\n",
      "Epoch 14/200\n",
      "12/12 [==============================] - ETA: 0s - loss: 1.4557 - accuracy: 0.4733\n",
      "Epoch 14: val_accuracy did not improve from 0.52314\n",
      "12/12 [==============================] - 8s 615ms/step - loss: 1.4557 - accuracy: 0.4733 - val_loss: 1.7296 - val_accuracy: 0.4095\n",
      "Epoch 15/200\n",
      "11/12 [==========================>...] - ETA: 0s - loss: 1.5061 - accuracy: 0.4631\n",
      "Epoch 15: val_accuracy did not improve from 0.52314\n",
      "12/12 [==============================] - 7s 605ms/step - loss: 1.5054 - accuracy: 0.4631 - val_loss: 1.2327 - val_accuracy: 0.5091\n",
      "Epoch 16/200\n",
      "12/12 [==============================] - ETA: 0s - loss: 1.3308 - accuracy: 0.5129\n",
      "Epoch 16: val_accuracy did not improve from 0.52314\n",
      "12/12 [==============================] - 8s 619ms/step - loss: 1.3308 - accuracy: 0.5129 - val_loss: 1.2056 - val_accuracy: 0.5105\n",
      "Epoch 17/200\n",
      "12/12 [==============================] - ETA: 0s - loss: 1.2971 - accuracy: 0.5175\n",
      "Epoch 17: val_accuracy improved from 0.52314 to 0.53436, saving model to /notebooks/model_checkpoints/bea_base_vgg.h5\n",
      "12/12 [==============================] - 8s 665ms/step - loss: 1.2971 - accuracy: 0.5175 - val_loss: 1.1264 - val_accuracy: 0.5344\n",
      "Epoch 18/200\n",
      "12/12 [==============================] - ETA: 0s - loss: 1.1948 - accuracy: 0.5716\n",
      "Epoch 18: val_accuracy did not improve from 0.53436\n",
      "12/12 [==============================] - 8s 618ms/step - loss: 1.1948 - accuracy: 0.5716 - val_loss: 1.4075 - val_accuracy: 0.5231\n",
      "Epoch 19/200\n",
      "12/12 [==============================] - ETA: 0s - loss: 1.2979 - accuracy: 0.5313\n",
      "Epoch 19: val_accuracy improved from 0.53436 to 0.55961, saving model to /notebooks/model_checkpoints/bea_base_vgg.h5\n",
      "12/12 [==============================] - 8s 646ms/step - loss: 1.2979 - accuracy: 0.5313 - val_loss: 1.1794 - val_accuracy: 0.5596\n",
      "Epoch 20/200\n",
      "12/12 [==============================] - ETA: 0s - loss: 1.1214 - accuracy: 0.5967\n",
      "Epoch 20: val_accuracy improved from 0.55961 to 0.57504, saving model to /notebooks/model_checkpoints/bea_base_vgg.h5\n",
      "12/12 [==============================] - 8s 663ms/step - loss: 1.1214 - accuracy: 0.5967 - val_loss: 1.0916 - val_accuracy: 0.5750\n",
      "Epoch 21/200\n",
      "12/12 [==============================] - ETA: 0s - loss: 1.1240 - accuracy: 0.5928\n",
      "Epoch 21: val_accuracy did not improve from 0.57504\n",
      "12/12 [==============================] - 7s 603ms/step - loss: 1.1240 - accuracy: 0.5928 - val_loss: 1.1273 - val_accuracy: 0.5302\n",
      "Epoch 22/200\n",
      "12/12 [==============================] - ETA: 0s - loss: 1.1923 - accuracy: 0.5953\n",
      "Epoch 22: val_accuracy improved from 0.57504 to 0.59046, saving model to /notebooks/model_checkpoints/bea_base_vgg.h5\n",
      "12/12 [==============================] - 8s 662ms/step - loss: 1.1923 - accuracy: 0.5953 - val_loss: 1.0752 - val_accuracy: 0.5905\n",
      "Epoch 23/200\n",
      "12/12 [==============================] - ETA: 0s - loss: 1.0992 - accuracy: 0.5974\n",
      "Epoch 23: val_accuracy improved from 0.59046 to 0.63534, saving model to /notebooks/model_checkpoints/bea_base_vgg.h5\n",
      "12/12 [==============================] - 8s 652ms/step - loss: 1.0992 - accuracy: 0.5974 - val_loss: 1.0310 - val_accuracy: 0.6353\n",
      "Epoch 24/200\n",
      "12/12 [==============================] - ETA: 0s - loss: 1.0930 - accuracy: 0.6207\n",
      "Epoch 24: val_accuracy did not improve from 0.63534\n",
      "12/12 [==============================] - 7s 609ms/step - loss: 1.0930 - accuracy: 0.6207 - val_loss: 1.0016 - val_accuracy: 0.6045\n",
      "Epoch 25/200\n",
      "12/12 [==============================] - ETA: 0s - loss: 1.0766 - accuracy: 0.6087\n",
      "Epoch 25: val_accuracy did not improve from 0.63534\n",
      "12/12 [==============================] - 8s 616ms/step - loss: 1.0766 - accuracy: 0.6087 - val_loss: 1.2357 - val_accuracy: 0.5302\n",
      "Epoch 26/200\n",
      "12/12 [==============================] - ETA: 0s - loss: 1.0933 - accuracy: 0.5974\n",
      "Epoch 26: val_accuracy improved from 0.63534 to 0.64376, saving model to /notebooks/model_checkpoints/bea_base_vgg.h5\n",
      "12/12 [==============================] - 8s 669ms/step - loss: 1.0933 - accuracy: 0.5974 - val_loss: 0.9913 - val_accuracy: 0.6438\n",
      "Epoch 27/200\n",
      "12/12 [==============================] - ETA: 0s - loss: 1.0653 - accuracy: 0.6341\n",
      "Epoch 27: val_accuracy did not improve from 0.64376\n",
      "12/12 [==============================] - 7s 604ms/step - loss: 1.0653 - accuracy: 0.6341 - val_loss: 1.0529 - val_accuracy: 0.5933\n",
      "Epoch 28/200\n",
      "12/12 [==============================] - ETA: 0s - loss: 1.0376 - accuracy: 0.6469\n",
      "Epoch 28: val_accuracy did not improve from 0.64376\n",
      "12/12 [==============================] - 7s 607ms/step - loss: 1.0376 - accuracy: 0.6469 - val_loss: 1.0211 - val_accuracy: 0.6438\n",
      "Epoch 29/200\n",
      "12/12 [==============================] - ETA: 0s - loss: 1.0182 - accuracy: 0.6306\n",
      "Epoch 29: val_accuracy improved from 0.64376 to 0.64516, saving model to /notebooks/model_checkpoints/bea_base_vgg.h5\n",
      "12/12 [==============================] - 8s 660ms/step - loss: 1.0182 - accuracy: 0.6306 - val_loss: 0.9977 - val_accuracy: 0.6452\n",
      "Epoch 30/200\n",
      "11/12 [==========================>...] - ETA: 0s - loss: 0.9369 - accuracy: 0.6744\n",
      "Epoch 30: val_accuracy did not improve from 0.64516\n",
      "12/12 [==============================] - 7s 604ms/step - loss: 0.9392 - accuracy: 0.6737 - val_loss: 1.0560 - val_accuracy: 0.6115\n",
      "Epoch 31/200\n",
      "12/12 [==============================] - ETA: 0s - loss: 1.2573 - accuracy: 0.5281\n",
      "Epoch 31: val_accuracy did not improve from 0.64516\n",
      "12/12 [==============================] - 8s 680ms/step - loss: 1.2573 - accuracy: 0.5281 - val_loss: 1.2098 - val_accuracy: 0.4909\n",
      "Epoch 32/200\n",
      "12/12 [==============================] - ETA: 0s - loss: 1.1756 - accuracy: 0.5525\n",
      "Epoch 32: val_accuracy did not improve from 0.64516\n",
      "12/12 [==============================] - 8s 616ms/step - loss: 1.1756 - accuracy: 0.5525 - val_loss: 1.0844 - val_accuracy: 0.6381\n",
      "Epoch 33/200\n",
      "12/12 [==============================] - ETA: 0s - loss: 1.1335 - accuracy: 0.5772\n",
      "Epoch 33: val_accuracy did not improve from 0.64516\n",
      "12/12 [==============================] - 7s 669ms/step - loss: 1.1335 - accuracy: 0.5772 - val_loss: 0.9896 - val_accuracy: 0.6396\n",
      "Epoch 34/200\n",
      "12/12 [==============================] - ETA: 0s - loss: 1.0956 - accuracy: 0.6197\n",
      "Epoch 34: val_accuracy did not improve from 0.64516\n",
      "12/12 [==============================] - 7s 609ms/step - loss: 1.0956 - accuracy: 0.6197 - val_loss: 1.0207 - val_accuracy: 0.6143\n",
      "Epoch 35/200\n",
      "12/12 [==============================] - ETA: 0s - loss: 0.9860 - accuracy: 0.6274\n",
      "Epoch 35: val_accuracy improved from 0.64516 to 0.64656, saving model to /notebooks/model_checkpoints/bea_base_vgg.h5\n",
      "12/12 [==============================] - 8s 654ms/step - loss: 0.9860 - accuracy: 0.6274 - val_loss: 1.0773 - val_accuracy: 0.6466\n",
      "Epoch 36/200\n",
      "12/12 [==============================] - ETA: 0s - loss: 0.9700 - accuracy: 0.6511\n",
      "Epoch 36: val_accuracy improved from 0.64656 to 0.66900, saving model to /notebooks/model_checkpoints/bea_base_vgg.h5\n",
      "12/12 [==============================] - 8s 654ms/step - loss: 0.9700 - accuracy: 0.6511 - val_loss: 0.9834 - val_accuracy: 0.6690\n",
      "Epoch 37/200\n",
      "12/12 [==============================] - ETA: 0s - loss: 0.9195 - accuracy: 0.6759\n",
      "Epoch 37: val_accuracy improved from 0.66900 to 0.68724, saving model to /notebooks/model_checkpoints/bea_base_vgg.h5\n",
      "12/12 [==============================] - 8s 712ms/step - loss: 0.9195 - accuracy: 0.6759 - val_loss: 0.9277 - val_accuracy: 0.6872\n",
      "Epoch 38/200\n",
      "12/12 [==============================] - ETA: 0s - loss: 0.9043 - accuracy: 0.6741\n",
      "Epoch 38: val_accuracy did not improve from 0.68724\n",
      "12/12 [==============================] - 8s 613ms/step - loss: 0.9043 - accuracy: 0.6741 - val_loss: 0.9249 - val_accuracy: 0.6480\n",
      "Epoch 39/200\n",
      "12/12 [==============================] - ETA: 0s - loss: 0.9750 - accuracy: 0.6762\n",
      "Epoch 39: val_accuracy did not improve from 0.68724\n",
      "12/12 [==============================] - 8s 612ms/step - loss: 0.9750 - accuracy: 0.6762 - val_loss: 0.9864 - val_accuracy: 0.6844\n",
      "Epoch 40/200\n",
      "12/12 [==============================] - ETA: 0s - loss: 0.9221 - accuracy: 0.6819\n",
      "Epoch 40: val_accuracy did not improve from 0.68724\n",
      "12/12 [==============================] - 7s 608ms/step - loss: 0.9221 - accuracy: 0.6819 - val_loss: 1.1234 - val_accuracy: 0.5694\n",
      "Epoch 41/200\n",
      "12/12 [==============================] - ETA: 0s - loss: 0.9981 - accuracy: 0.6168\n",
      "Epoch 41: val_accuracy improved from 0.68724 to 0.69004, saving model to /notebooks/model_checkpoints/bea_base_vgg.h5\n",
      "12/12 [==============================] - 8s 654ms/step - loss: 0.9981 - accuracy: 0.6168 - val_loss: 0.9535 - val_accuracy: 0.6900\n",
      "Epoch 42/200\n",
      "12/12 [==============================] - ETA: 0s - loss: 0.9419 - accuracy: 0.6688\n",
      "Epoch 42: val_accuracy did not improve from 0.69004\n",
      "12/12 [==============================] - 8s 613ms/step - loss: 0.9419 - accuracy: 0.6688 - val_loss: 1.0053 - val_accuracy: 0.6396\n",
      "Epoch 43/200\n",
      "12/12 [==============================] - ETA: 0s - loss: 0.9155 - accuracy: 0.6709\n",
      "Epoch 43: val_accuracy improved from 0.69004 to 0.70126, saving model to /notebooks/model_checkpoints/bea_base_vgg.h5\n",
      "12/12 [==============================] - 8s 715ms/step - loss: 0.9155 - accuracy: 0.6709 - val_loss: 0.8981 - val_accuracy: 0.7013\n",
      "Epoch 44/200\n",
      "12/12 [==============================] - ETA: 0s - loss: 0.8834 - accuracy: 0.6819\n",
      "Epoch 44: val_accuracy did not improve from 0.70126\n",
      "12/12 [==============================] - 7s 603ms/step - loss: 0.8834 - accuracy: 0.6819 - val_loss: 0.9473 - val_accuracy: 0.6985\n",
      "Epoch 45/200\n",
      "12/12 [==============================] - ETA: 0s - loss: 0.9054 - accuracy: 0.6889\n",
      "Epoch 45: val_accuracy did not improve from 0.70126\n",
      "12/12 [==============================] - 8s 619ms/step - loss: 0.9054 - accuracy: 0.6889 - val_loss: 0.9582 - val_accuracy: 0.6760\n",
      "Epoch 46/200\n",
      "12/12 [==============================] - ETA: 0s - loss: 0.9732 - accuracy: 0.6416\n",
      "Epoch 46: val_accuracy did not improve from 0.70126\n",
      "12/12 [==============================] - 8s 611ms/step - loss: 0.9732 - accuracy: 0.6416 - val_loss: 0.9228 - val_accuracy: 0.6914\n",
      "Epoch 47/200\n",
      "12/12 [==============================] - ETA: 0s - loss: 0.8617 - accuracy: 0.6896\n",
      "Epoch 47: val_accuracy did not improve from 0.70126\n",
      "12/12 [==============================] - 8s 612ms/step - loss: 0.8617 - accuracy: 0.6896 - val_loss: 0.8820 - val_accuracy: 0.6999\n",
      "Epoch 48/200\n",
      "12/12 [==============================] - ETA: 0s - loss: 0.8263 - accuracy: 0.7063\n",
      "Epoch 48: val_accuracy did not improve from 0.70126\n",
      "12/12 [==============================] - 8s 612ms/step - loss: 0.8263 - accuracy: 0.7063 - val_loss: 0.9679 - val_accuracy: 0.6999\n",
      "Epoch 49/200\n",
      "12/12 [==============================] - ETA: 0s - loss: 0.8251 - accuracy: 0.7101\n",
      "Epoch 49: val_accuracy did not improve from 0.70126\n",
      "12/12 [==============================] - 8s 618ms/step - loss: 0.8251 - accuracy: 0.7101 - val_loss: 0.9304 - val_accuracy: 0.6676\n",
      "Epoch 50/200\n",
      "12/12 [==============================] - ETA: 0s - loss: 0.8843 - accuracy: 0.6727\n",
      "Epoch 50: val_accuracy improved from 0.70126 to 0.70687, saving model to /notebooks/model_checkpoints/bea_base_vgg.h5\n",
      "12/12 [==============================] - 8s 723ms/step - loss: 0.8843 - accuracy: 0.6727 - val_loss: 0.8477 - val_accuracy: 0.7069\n",
      "Epoch 51/200\n",
      "12/12 [==============================] - ETA: 0s - loss: 0.8084 - accuracy: 0.7172\n",
      "Epoch 51: val_accuracy improved from 0.70687 to 0.70827, saving model to /notebooks/model_checkpoints/bea_base_vgg.h5\n",
      "12/12 [==============================] - 8s 680ms/step - loss: 0.8084 - accuracy: 0.7172 - val_loss: 0.8527 - val_accuracy: 0.7083\n",
      "Epoch 52/200\n",
      "12/12 [==============================] - ETA: 0s - loss: 0.8240 - accuracy: 0.7207\n",
      "Epoch 52: val_accuracy did not improve from 0.70827\n",
      "12/12 [==============================] - 8s 614ms/step - loss: 0.8240 - accuracy: 0.7207 - val_loss: 0.8953 - val_accuracy: 0.6746\n",
      "Epoch 53/200\n",
      "12/12 [==============================] - ETA: 0s - loss: 0.8482 - accuracy: 0.6889\n",
      "Epoch 53: val_accuracy improved from 0.70827 to 0.72370, saving model to /notebooks/model_checkpoints/bea_base_vgg.h5\n",
      "12/12 [==============================] - 8s 735ms/step - loss: 0.8482 - accuracy: 0.6889 - val_loss: 0.7869 - val_accuracy: 0.7237\n",
      "Epoch 54/200\n",
      "12/12 [==============================] - ETA: 0s - loss: 0.7954 - accuracy: 0.7282\n",
      "Epoch 54: val_accuracy did not improve from 0.72370\n",
      "12/12 [==============================] - 8s 622ms/step - loss: 0.7954 - accuracy: 0.7282 - val_loss: 0.8166 - val_accuracy: 0.7153\n",
      "Epoch 55/200\n",
      "12/12 [==============================] - ETA: 0s - loss: 0.7796 - accuracy: 0.7140\n",
      "Epoch 55: val_accuracy did not improve from 0.72370\n",
      "12/12 [==============================] - 8s 614ms/step - loss: 0.7796 - accuracy: 0.7140 - val_loss: 0.8053 - val_accuracy: 0.7111\n",
      "Epoch 56/200\n",
      "12/12 [==============================] - ETA: 0s - loss: 0.7632 - accuracy: 0.7289\n",
      "Epoch 56: val_accuracy did not improve from 0.72370\n",
      "12/12 [==============================] - 7s 607ms/step - loss: 0.7632 - accuracy: 0.7289 - val_loss: 0.8247 - val_accuracy: 0.7097\n",
      "Epoch 57/200\n",
      "11/12 [==========================>...] - ETA: 0s - loss: 0.7765 - accuracy: 0.7280\n",
      "Epoch 57: val_accuracy did not improve from 0.72370\n",
      "12/12 [==============================] - 8s 621ms/step - loss: 0.7764 - accuracy: 0.7278 - val_loss: 0.8418 - val_accuracy: 0.7153\n",
      "Epoch 58/200\n",
      "12/12 [==============================] - ETA: 0s - loss: 0.8332 - accuracy: 0.6925\n",
      "Epoch 58: val_accuracy did not improve from 0.72370\n",
      "12/12 [==============================] - 8s 682ms/step - loss: 0.8332 - accuracy: 0.6925 - val_loss: 0.8275 - val_accuracy: 0.6942\n",
      "Epoch 59/200\n",
      "12/12 [==============================] - ETA: 0s - loss: 0.8107 - accuracy: 0.7091\n",
      "Epoch 59: val_accuracy did not improve from 0.72370\n",
      "12/12 [==============================] - 8s 625ms/step - loss: 0.8107 - accuracy: 0.7091 - val_loss: 0.8534 - val_accuracy: 0.6718\n",
      "Epoch 60/200\n",
      "12/12 [==============================] - ETA: 0s - loss: 0.7602 - accuracy: 0.7462\n",
      "Epoch 60: val_accuracy improved from 0.72370 to 0.73913, saving model to /notebooks/model_checkpoints/bea_base_vgg.h5\n",
      "12/12 [==============================] - 8s 673ms/step - loss: 0.7602 - accuracy: 0.7462 - val_loss: 0.7973 - val_accuracy: 0.7391\n",
      "Epoch 61/200\n",
      "11/12 [==========================>...] - ETA: 0s - loss: 0.7275 - accuracy: 0.7418\n",
      "Epoch 61: val_accuracy did not improve from 0.73913\n",
      "12/12 [==============================] - 8s 614ms/step - loss: 0.7294 - accuracy: 0.7416 - val_loss: 0.8422 - val_accuracy: 0.7307\n",
      "Epoch 62/200\n",
      "11/12 [==========================>...] - ETA: 0s - loss: 0.7747 - accuracy: 0.7195\n",
      "Epoch 62: val_accuracy did not improve from 0.73913\n",
      "12/12 [==============================] - 7s 603ms/step - loss: 0.7735 - accuracy: 0.7197 - val_loss: 0.8524 - val_accuracy: 0.6914\n",
      "Epoch 63/200\n",
      "12/12 [==============================] - ETA: 0s - loss: 0.7975 - accuracy: 0.7229\n",
      "Epoch 63: val_accuracy did not improve from 0.73913\n",
      "12/12 [==============================] - 8s 688ms/step - loss: 0.7975 - accuracy: 0.7229 - val_loss: 0.8633 - val_accuracy: 0.6999\n",
      "Epoch 64/200\n",
      "12/12 [==============================] - ETA: 0s - loss: 0.7446 - accuracy: 0.7487\n",
      "Epoch 64: val_accuracy did not improve from 0.73913\n",
      "12/12 [==============================] - 7s 602ms/step - loss: 0.7446 - accuracy: 0.7487 - val_loss: 1.0156 - val_accuracy: 0.6592\n",
      "Epoch 65/200\n",
      "12/12 [==============================] - ETA: 0s - loss: 0.7890 - accuracy: 0.7257\n",
      "Epoch 65: val_accuracy did not improve from 0.73913\n",
      "12/12 [==============================] - 8s 620ms/step - loss: 0.7890 - accuracy: 0.7257 - val_loss: 0.8937 - val_accuracy: 0.6914\n",
      "Epoch 66/200\n",
      "11/12 [==========================>...] - ETA: 0s - loss: 0.7384 - accuracy: 0.7315\n",
      "Epoch 66: val_accuracy did not improve from 0.73913\n",
      "12/12 [==============================] - 8s 615ms/step - loss: 0.7371 - accuracy: 0.7317 - val_loss: 0.9243 - val_accuracy: 0.6914\n",
      "Epoch 67/200\n",
      "12/12 [==============================] - ETA: 0s - loss: 0.7542 - accuracy: 0.7363\n",
      "Epoch 67: val_accuracy did not improve from 0.73913\n",
      "12/12 [==============================] - 8s 622ms/step - loss: 0.7542 - accuracy: 0.7363 - val_loss: 0.8997 - val_accuracy: 0.6928\n",
      "Epoch 68/200\n",
      "12/12 [==============================] - ETA: 0s - loss: 0.7070 - accuracy: 0.7600\n",
      "Epoch 68: val_accuracy did not improve from 0.73913\n",
      "12/12 [==============================] - 8s 624ms/step - loss: 0.7070 - accuracy: 0.7600 - val_loss: 0.8137 - val_accuracy: 0.7069\n",
      "Epoch 69/200\n",
      "12/12 [==============================] - ETA: 0s - loss: 0.6761 - accuracy: 0.7752\n",
      "Epoch 69: val_accuracy did not improve from 0.73913\n",
      "12/12 [==============================] - 7s 602ms/step - loss: 0.6761 - accuracy: 0.7752 - val_loss: 0.9195 - val_accuracy: 0.6942\n",
      "Epoch 70/200\n",
      "12/12 [==============================] - ETA: 0s - loss: 0.8037 - accuracy: 0.7306\n",
      "Epoch 70: val_accuracy did not improve from 0.73913\n",
      "12/12 [==============================] - 8s 617ms/step - loss: 0.8037 - accuracy: 0.7306 - val_loss: 0.8616 - val_accuracy: 0.7111\n"
     ]
    }
   ],
   "source": [
    "opt = Adam(learning_rate=init_lr)\n",
    "model1.compile(loss=\"categorical_crossentropy\", optimizer=opt,metrics=[\"accuracy\"])    \n",
    "cp_callback = [tf.keras.callbacks.EarlyStopping(monitor='val_accuracy', patience=10),\n",
    "               tf.keras.callbacks.ModelCheckpoint(filepath='/notebooks/model_checkpoints/bea_base_vgg.h5',verbose=1,monitor='val_accuracy', save_best_only=True, mode='max'),\n",
    "               tf.keras.callbacks.TensorBoard(log_dir='./logs'),]\n",
    "#load model\n",
    "#filepath=\"/content/drive/MyDrive/models/model3.18-0.11.h5\"\n",
    "#model1=load_model(filepath)\n",
    "\n",
    "# Train the model with the new callback\n",
    "\n",
    "hist1 = model1.fit(aug_train_gen,\n",
    "                 epochs=epo,\n",
    "                 validation_data=valid_gen,\n",
    "                 class_weight= class_weights,\n",
    "                 callbacks=cp_callback,verbose=1)  # Pass callback to training\n"
   ]
  },
  {
   "cell_type": "code",
   "execution_count": 15,
   "id": "f885e460-37c1-4157-b5d4-c0cfc1250afd",
   "metadata": {
    "execution": {
     "iopub.execute_input": "2022-11-15T08:12:43.777274Z",
     "iopub.status.busy": "2022-11-15T08:12:43.774584Z",
     "iopub.status.idle": "2022-11-15T08:12:50.875073Z",
     "shell.execute_reply": "2022-11-15T08:12:50.874090Z",
     "shell.execute_reply.started": "2022-11-15T08:12:43.777238Z"
    }
   },
   "outputs": [
    {
     "name": "stdout",
     "output_type": "stream",
     "text": [
      "<keras.callbacks.History object at 0x7fc9900cbcd0>\n"
     ]
    },
    {
     "name": "stderr",
     "output_type": "stream",
     "text": [
      "WARNING:absl:Found untraced functions such as _jit_compiled_convolution_op, _jit_compiled_convolution_op, _jit_compiled_convolution_op, _jit_compiled_convolution_op, _jit_compiled_convolution_op while saving (showing 5 of 13). These functions will not be directly callable after loading.\n"
     ]
    },
    {
     "name": "stdout",
     "output_type": "stream",
     "text": [
      "INFO:tensorflow:Assets written to: model_bea_base_mauri_vggScolastico3/assets\n"
     ]
    },
    {
     "name": "stderr",
     "output_type": "stream",
     "text": [
      "INFO:tensorflow:Assets written to: model_bea_base_mauri_vggScolastico3/assets\n",
      "WARNING:absl:Found untraced functions such as _jit_compiled_convolution_op, _jit_compiled_convolution_op, _jit_compiled_convolution_op, _jit_compiled_convolution_op, _jit_compiled_convolution_op while saving (showing 5 of 13). These functions will not be directly callable after loading.\n"
     ]
    },
    {
     "name": "stdout",
     "output_type": "stream",
     "text": [
      "INFO:tensorflow:Assets written to: ram://63d369d8-b1c1-46d9-9372-4e084c363438/assets\n"
     ]
    },
    {
     "name": "stderr",
     "output_type": "stream",
     "text": [
      "INFO:tensorflow:Assets written to: ram://63d369d8-b1c1-46d9-9372-4e084c363438/assets\n"
     ]
    }
   ],
   "source": [
    "print (hist1)\n",
    "import pickle\n",
    "model1.save(\"model_bea_base_mauri_vggScolastico3\")\n",
    "with open('trainhist1', 'wb') as file_pi:\n",
    "      pickle.dump(hist1, file_pi)"
   ]
  },
  {
   "cell_type": "code",
   "execution_count": 16,
   "id": "47304dec-a1d0-4adf-aaec-1e13eb49c535",
   "metadata": {
    "execution": {
     "iopub.execute_input": "2022-11-15T08:12:52.571196Z",
     "iopub.status.busy": "2022-11-15T08:12:52.570628Z",
     "iopub.status.idle": "2022-11-15T08:12:53.698877Z",
     "shell.execute_reply": "2022-11-15T08:12:53.697895Z",
     "shell.execute_reply.started": "2022-11-15T08:12:52.571168Z"
    }
   },
   "outputs": [
    {
     "name": "stdout",
     "output_type": "stream",
     "text": [
      "batch \n",
      "\n",
      "(Input) image shape: (256, 96, 96, 3)\n",
      "Target shape: (256, 8)\n",
      "\n",
      "Categorical label: [0. 1. 0. 0. 0. 0. 0. 0.]\n",
      "Label: 1\n",
      "Class name: Species2\n",
      "8/8 [==============================] - 1s 19ms/step\n"
     ]
    },
    {
     "data": {
      "text/plain": [
       "<AxesSubplot:>"
      ]
     },
     "execution_count": 16,
     "metadata": {},
     "output_type": "execute_result"
    },
    {
     "data": {
      "image/png": "[encoded data removed]",
      "text/plain": [
       "<Figure size 432x288 with 2 Axes>"
      ]
     },
     "metadata": {
      "needs_background": "light"
     },
     "output_type": "display_data"
    }
   ],
   "source": [
    "x,y=get_next_batch(valid_gen)\n",
    "predictions=model1.predict(x)\n",
    "predictions.shape\n",
    "cm = confusion_matrix(np.argmax(y, axis=-1), np.argmax(predictions, axis=-1))\n",
    "sns.heatmap(cm.T,xticklabels=list(labels), yticklabels=list(labels))\n"
   ]
  },
  {
   "cell_type": "code",
   "execution_count": null,
   "id": "e783b3a0-b1ff-4604-aacd-258066f42efd",
   "metadata": {
    "execution": {
     "iopub.execute_input": "2022-11-15T08:13:01.750373Z",
     "iopub.status.busy": "2022-11-15T08:13:01.749759Z"
    }
   },
   "outputs": [],
   "source": [
    "hist1 = pickle.load(open('trainhist1', \"rb\"))\n",
    "#   Plot data to see relationships in training and validation data\n",
    "import numpy as np\n",
    "import matplotlib.pyplot as plt\n",
    "%matplotlib inline\n",
    "epoch_list = list(range(1, len(hist1.history['accuracy']) + 1))  # values for x axis [1, 2, ..., # of epochs]\n",
    "plt.plot(epoch_list, hist1.history['accuracy'], epoch_list, hist1.history['val_accuracy'])\n",
    "plt.legend(('Training Accuracy', 'Validation Accuracy'))\n",
    "plt.xlabel('epoch')\n",
    "plt.show()\n",
    "\n",
    "epoch_list = list(range(1, len(hist1.history['loss']) + 1))  # values for x axis [1, 2, ..., # of epochs]\n",
    "plt.plot(epoch_list, hist1.history['loss'], epoch_list, hist1.history['val_loss'])\n",
    "plt.legend(('Training Loss', 'Validation Loss'))\n",
    "plt.xlabel('epoch')\n",
    "plt.show()"
   ]
  }
 ],
 "metadata": {
  "kernelspec": {
   "display_name": "Python 3 (ipykernel)",
   "language": "python",
   "name": "python3"
  },
  "language_info": {
   "codemirror_mode": {
    "name": "ipython",
    "version": 3
   },
   "file_extension": ".py",
   "mimetype": "text/x-python",
   "name": "python",
   "nbconvert_exporter": "python",
   "pygments_lexer": "ipython3",
   "version": "3.9.13"
  }
 },
 "nbformat": 4,
 "nbformat_minor": 5
}
