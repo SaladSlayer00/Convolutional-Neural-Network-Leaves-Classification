{
 "cells": [
  {
   "cell_type": "markdown",
   "source": [
    "# Matteo_Challenge1: ResNet Solution"
   ],
   "metadata": {
    "collapsed": false
   }
  },
  {
   "cell_type": "markdown",
   "source": [
    "## Import libraries"
   ],
   "metadata": {
    "collapsed": false
   }
  },
  {
   "cell_type": "code",
   "execution_count": 101,
   "outputs": [],
   "source": [
    "import os\n",
    "import random\n",
    "from datetime import datetime\n",
    "\n",
    "import splitfolders\n",
    "\n",
    "import numpy as np\n",
    "import matplotlib as mpl\n",
    "import matplotlib.pyplot as plt\n",
    "from PIL import Image\n",
    "import seaborn as sns\n",
    "import tensorflow as tf\n",
    "from sklearn.metrics import confusion_matrix\n",
    "from keras.models import load_model\n",
    "from keras.layers import Dropout\n",
    "from tensorflow.keras.applications.resnet_v2 import preprocess_input\n",
    "\n",
    "from keras.layers import BatchNormalization\n",
    "from keras.regularizers import l2\n",
    "from tensorflow.keras.preprocessing.image import ImageDataGenerator"
   ],
   "metadata": {
    "collapsed": false
   }
  },
  {
   "cell_type": "code",
   "execution_count": 102,
   "outputs": [
    {
     "name": "stdout",
     "output_type": "stream",
     "text": [
      "2.10.0\n"
     ]
    }
   ],
   "source": [
    "# Checking tensorflow version\n",
    "tfk = tf.keras\n",
    "tfkl = tf.keras.layers\n",
    "print(tf.__version__)"
   ],
   "metadata": {
    "collapsed": false
   }
  },
  {
   "cell_type": "code",
   "execution_count": 103,
   "outputs": [],
   "source": [
    "# Setting seed for reproducibility\n",
    "seed = 42\n",
    "random.seed(seed)\n",
    "os.environ['PYTHONHASHSEED'] = str(seed)\n",
    "np.random.seed(seed)\n",
    "tf.random.set_seed(seed)\n",
    "tf.compat.v1.set_random_seed(seed)"
   ],
   "metadata": {
    "collapsed": false
   }
  },
  {
   "cell_type": "markdown",
   "source": [
    "## Model Parameters and Classes Weights"
   ],
   "metadata": {
    "collapsed": false
   }
  },
  {
   "cell_type": "code",
   "execution_count": 104,
   "outputs": [],
   "source": [
    "labels = ['Species1',      # 0\n",
    "          'Species2',      # 1\n",
    "          'Species3',      # 2\n",
    "          'Species4',      # 3\n",
    "          'Species5',      # 4\n",
    "          'Species6',      # 5\n",
    "          'Species7',      # 6\n",
    "          'Species8']      # 7"
   ],
   "metadata": {
    "collapsed": false
   }
  },
  {
   "cell_type": "markdown",
   "source": [
    "## Model Parameters and Metadata"
   ],
   "metadata": {
    "collapsed": false
   }
  },
  {
   "cell_type": "code",
   "execution_count": 105,
   "outputs": [],
   "source": [
    "# Input Parameters\n",
    "img_w = 96\n",
    "img_h = 96\n",
    "input_shape = (96, 96, 3)\n",
    "classes = 8\n",
    "\n",
    "# Training Parameters\n",
    "epochs = 90\n",
    "batch_size = 64\n",
    "reg_rate = 0.001\n",
    "\n",
    "# Earlystopping Parameters\n",
    "early_stopping = False\n",
    "patience_epochs = 9\n",
    "\n",
    "# Training and Validation Folders\n",
    "dataset_dir = 'Dataset'\n",
    "training_dir = os.path.join(dataset_dir, '../datasetWithoutTest/train')\n",
    "validation_dir = os.path.join(dataset_dir, '../datasetWithoutTest/val')"
   ],
   "metadata": {
    "collapsed": false
   }
  },
  {
   "cell_type": "code",
   "execution_count": 106,
   "outputs": [],
   "source": [
    "def get_next_batch(generator):\n",
    "    batch = next(generator)\n",
    "\n",
    "    image = batch[0]\n",
    "    target = batch[1]\n",
    "\n",
    "    print(\"(Input) image shape:\", image.shape)\n",
    "    print(\"Target shape:\",target.shape)\n",
    "\n",
    "    # Visualize only the first sample\n",
    "    image = image[0]\n",
    "    target = target[0]\n",
    "    target_idx = np.argmax(target)\n",
    "    print()\n",
    "    print(\"Categorical label:\", target)\n",
    "    print(\"Label:\", target_idx)\n",
    "    print(\"Class name:\", labels[target_idx])\n",
    "    fig = plt.figure(figsize=(6, 4))\n",
    "    plt.imshow(np.uint8(image))\n",
    "\n",
    "    return batch"
   ],
   "metadata": {
    "collapsed": false
   }
  },
  {
   "cell_type": "markdown",
   "source": [
    "## Data Augmentation"
   ],
   "metadata": {
    "collapsed": false
   }
  },
  {
   "cell_type": "code",
   "execution_count": 107,
   "outputs": [
    {
     "name": "stdout",
     "output_type": "stream",
     "text": [
      "Found 5658 images belonging to 8 classes.\n"
     ]
    }
   ],
   "source": [
    "aug_train_data_gen = ImageDataGenerator(rotation_range=30,\n",
    "                                         width_shift_range=10,\n",
    "                                         height_shift_range=10,\n",
    "                                         zoom_range=0.2,\n",
    "                                         horizontal_flip=True,\n",
    "                                         vertical_flip=True,\n",
    "                                         brightness_range=[0.2,1.2],\n",
    "                                         fill_mode='nearest',\n",
    "                                         preprocessing_function=preprocess_input)\n",
    "                                         #rescale=1/255.\n",
    "\n",
    "aug_train_gen = aug_train_data_gen.flow_from_directory(directory=training_dir,\n",
    "                                                       target_size=(96,96),\n",
    "                                                       color_mode='rgb',\n",
    "                                                       classes=labels,\n",
    "                                                       batch_size=batch_size,\n",
    "                                                       shuffle=True,\n",
    "                                                       seed=seed)"
   ],
   "metadata": {
    "collapsed": false
   }
  },
  {
   "cell_type": "code",
   "execution_count": 108,
   "outputs": [
    {
     "name": "stdout",
     "output_type": "stream",
     "text": [
      "Found 713 images belonging to 8 classes.\n"
     ]
    }
   ],
   "source": [
    "valid_data_gen = ImageDataGenerator(preprocessing_function=preprocess_input)\n",
    "\n",
    "valid_gen = valid_data_gen.flow_from_directory(directory=validation_dir,\n",
    "                                               target_size=(96, 96),\n",
    "                                               color_mode='rgb',\n",
    "                                               classes=labels,\n",
    "                                               batch_size=batch_size,\n",
    "                                               shuffle=False,\n",
    "                                               seed=seed)"
   ],
   "metadata": {
    "collapsed": false
   }
  },
  {
   "cell_type": "code",
   "execution_count": 109,
   "outputs": [],
   "source": [
    "aug_train_data_gen =  ImageDataGenerator(rotation_range=30,\n",
    "                                         width_shift_range=10,\n",
    "                                         height_shift_range=10,\n",
    "                                         zoom_range=0.2,\n",
    "                                         horizontal_flip=True,\n",
    "                                         vertical_flip=True,\n",
    "                                         brightness_range=[0.2,1.2],\n",
    "                                         fill_mode='nearest',\n",
    "                                         preprocessing_function=preprocess_input)\n",
    "                                         #rescale=1/255."
   ],
   "metadata": {
    "collapsed": false
   }
  },
  {
   "cell_type": "markdown",
   "source": [
    "## CNN Transfer Learning Model"
   ],
   "metadata": {
    "collapsed": false
   }
  },
  {
   "cell_type": "code",
   "execution_count": 110,
   "outputs": [
    {
     "name": "stdout",
     "output_type": "stream",
     "text": [
      "0 input_7 False\n",
      "1 conv1_pad False\n",
      "2 conv1_conv False\n",
      "3 pool1_pad False\n",
      "4 pool1_pool False\n",
      "5 conv2_block1_preact_bn False\n",
      "6 conv2_block1_preact_relu False\n",
      "7 conv2_block1_1_conv False\n",
      "8 conv2_block1_1_bn False\n",
      "9 conv2_block1_1_relu False\n",
      "10 conv2_block1_2_pad False\n",
      "11 conv2_block1_2_conv False\n",
      "12 conv2_block1_2_bn False\n",
      "13 conv2_block1_2_relu False\n",
      "14 conv2_block1_0_conv False\n",
      "15 conv2_block1_3_conv False\n",
      "16 conv2_block1_out False\n",
      "17 conv2_block2_preact_bn False\n",
      "18 conv2_block2_preact_relu False\n",
      "19 conv2_block2_1_conv False\n",
      "20 conv2_block2_1_bn False\n",
      "21 conv2_block2_1_relu False\n",
      "22 conv2_block2_2_pad False\n",
      "23 conv2_block2_2_conv False\n",
      "24 conv2_block2_2_bn False\n",
      "25 conv2_block2_2_relu False\n",
      "26 conv2_block2_3_conv False\n",
      "27 conv2_block2_out False\n",
      "28 conv2_block3_preact_bn False\n",
      "29 conv2_block3_preact_relu False\n",
      "30 conv2_block3_1_conv False\n",
      "31 conv2_block3_1_bn False\n",
      "32 conv2_block3_1_relu False\n",
      "33 conv2_block3_2_pad False\n",
      "34 conv2_block3_2_conv False\n",
      "35 conv2_block3_2_bn False\n",
      "36 conv2_block3_2_relu False\n",
      "37 max_pooling2d_9 False\n",
      "38 conv2_block3_3_conv False\n",
      "39 conv2_block3_out False\n",
      "40 conv3_block1_preact_bn False\n",
      "41 conv3_block1_preact_relu False\n",
      "42 conv3_block1_1_conv False\n",
      "43 conv3_block1_1_bn False\n",
      "44 conv3_block1_1_relu False\n",
      "45 conv3_block1_2_pad False\n",
      "46 conv3_block1_2_conv False\n",
      "47 conv3_block1_2_bn False\n",
      "48 conv3_block1_2_relu False\n",
      "49 conv3_block1_0_conv False\n",
      "50 conv3_block1_3_conv False\n",
      "51 conv3_block1_out False\n",
      "52 conv3_block2_preact_bn False\n",
      "53 conv3_block2_preact_relu False\n",
      "54 conv3_block2_1_conv False\n",
      "55 conv3_block2_1_bn False\n",
      "56 conv3_block2_1_relu False\n",
      "57 conv3_block2_2_pad False\n",
      "58 conv3_block2_2_conv False\n",
      "59 conv3_block2_2_bn False\n",
      "60 conv3_block2_2_relu False\n",
      "61 conv3_block2_3_conv False\n",
      "62 conv3_block2_out False\n",
      "63 conv3_block3_preact_bn False\n",
      "64 conv3_block3_preact_relu False\n",
      "65 conv3_block3_1_conv False\n",
      "66 conv3_block3_1_bn False\n",
      "67 conv3_block3_1_relu False\n",
      "68 conv3_block3_2_pad False\n",
      "69 conv3_block3_2_conv False\n",
      "70 conv3_block3_2_bn False\n",
      "71 conv3_block3_2_relu False\n",
      "72 conv3_block3_3_conv False\n",
      "73 conv3_block3_out False\n",
      "74 conv3_block4_preact_bn False\n",
      "75 conv3_block4_preact_relu False\n",
      "76 conv3_block4_1_conv False\n",
      "77 conv3_block4_1_bn False\n",
      "78 conv3_block4_1_relu False\n",
      "79 conv3_block4_2_pad False\n",
      "80 conv3_block4_2_conv False\n",
      "81 conv3_block4_2_bn False\n",
      "82 conv3_block4_2_relu False\n",
      "83 max_pooling2d_10 False\n",
      "84 conv3_block4_3_conv False\n",
      "85 conv3_block4_out False\n",
      "86 conv4_block1_preact_bn False\n",
      "87 conv4_block1_preact_relu False\n",
      "88 conv4_block1_1_conv False\n",
      "89 conv4_block1_1_bn False\n",
      "90 conv4_block1_1_relu False\n",
      "91 conv4_block1_2_pad False\n",
      "92 conv4_block1_2_conv False\n",
      "93 conv4_block1_2_bn False\n",
      "94 conv4_block1_2_relu False\n",
      "95 conv4_block1_0_conv False\n",
      "96 conv4_block1_3_conv False\n",
      "97 conv4_block1_out False\n",
      "98 conv4_block2_preact_bn False\n",
      "99 conv4_block2_preact_relu False\n",
      "100 conv4_block2_1_conv False\n",
      "101 conv4_block2_1_bn False\n",
      "102 conv4_block2_1_relu False\n",
      "103 conv4_block2_2_pad False\n",
      "104 conv4_block2_2_conv False\n",
      "105 conv4_block2_2_bn False\n",
      "106 conv4_block2_2_relu False\n",
      "107 conv4_block2_3_conv False\n",
      "108 conv4_block2_out False\n",
      "109 conv4_block3_preact_bn False\n",
      "110 conv4_block3_preact_relu False\n",
      "111 conv4_block3_1_conv False\n",
      "112 conv4_block3_1_bn False\n",
      "113 conv4_block3_1_relu False\n",
      "114 conv4_block3_2_pad False\n",
      "115 conv4_block3_2_conv False\n",
      "116 conv4_block3_2_bn False\n",
      "117 conv4_block3_2_relu False\n",
      "118 conv4_block3_3_conv False\n",
      "119 conv4_block3_out False\n",
      "120 conv4_block4_preact_bn False\n",
      "121 conv4_block4_preact_relu False\n",
      "122 conv4_block4_1_conv False\n",
      "123 conv4_block4_1_bn False\n",
      "124 conv4_block4_1_relu False\n",
      "125 conv4_block4_2_pad False\n",
      "126 conv4_block4_2_conv False\n",
      "127 conv4_block4_2_bn False\n",
      "128 conv4_block4_2_relu False\n",
      "129 conv4_block4_3_conv False\n",
      "130 conv4_block4_out False\n",
      "131 conv4_block5_preact_bn False\n",
      "132 conv4_block5_preact_relu False\n",
      "133 conv4_block5_1_conv False\n",
      "134 conv4_block5_1_bn False\n",
      "135 conv4_block5_1_relu False\n",
      "136 conv4_block5_2_pad False\n",
      "137 conv4_block5_2_conv False\n",
      "138 conv4_block5_2_bn False\n",
      "139 conv4_block5_2_relu False\n",
      "140 conv4_block5_3_conv False\n",
      "141 conv4_block5_out False\n",
      "142 conv4_block6_preact_bn False\n",
      "143 conv4_block6_preact_relu False\n",
      "144 conv4_block6_1_conv False\n",
      "145 conv4_block6_1_bn False\n",
      "146 conv4_block6_1_relu False\n",
      "147 conv4_block6_2_pad False\n",
      "148 conv4_block6_2_conv False\n",
      "149 conv4_block6_2_bn False\n",
      "150 conv4_block6_2_relu False\n",
      "151 max_pooling2d_11 False\n",
      "152 conv4_block6_3_conv False\n",
      "153 conv4_block6_out False\n",
      "154 conv5_block1_preact_bn False\n",
      "155 conv5_block1_preact_relu False\n",
      "156 conv5_block1_1_conv False\n",
      "157 conv5_block1_1_bn False\n",
      "158 conv5_block1_1_relu False\n",
      "159 conv5_block1_2_pad False\n",
      "160 conv5_block1_2_conv False\n",
      "161 conv5_block1_2_bn False\n",
      "162 conv5_block1_2_relu False\n",
      "163 conv5_block1_0_conv False\n",
      "164 conv5_block1_3_conv False\n",
      "165 conv5_block1_out False\n",
      "166 conv5_block2_preact_bn False\n",
      "167 conv5_block2_preact_relu False\n",
      "168 conv5_block2_1_conv False\n",
      "169 conv5_block2_1_bn False\n",
      "170 conv5_block2_1_relu False\n",
      "171 conv5_block2_2_pad False\n",
      "172 conv5_block2_2_conv False\n",
      "173 conv5_block2_2_bn False\n",
      "174 conv5_block2_2_relu False\n",
      "175 conv5_block2_3_conv False\n",
      "176 conv5_block2_out False\n",
      "177 conv5_block3_preact_bn False\n",
      "178 conv5_block3_preact_relu False\n",
      "179 conv5_block3_1_conv False\n",
      "180 conv5_block3_1_bn False\n",
      "181 conv5_block3_1_relu False\n",
      "182 conv5_block3_2_pad False\n",
      "183 conv5_block3_2_conv False\n",
      "184 conv5_block3_2_bn False\n",
      "185 conv5_block3_2_relu False\n",
      "186 conv5_block3_3_conv False\n",
      "187 conv5_block3_out False\n",
      "188 post_bn False\n",
      "189 post_relu False\n"
     ]
    }
   ],
   "source": [
    "supernet = tfk.applications.ResNet50V2(\n",
    "    include_top=False,\n",
    "    weights=\"imagenet\",\n",
    "    input_shape=(96,96,3)\n",
    ")\n",
    "\n",
    "supernet.trainable = False\n",
    "\n",
    "for i, layer in enumerate(supernet.layers[:50]):\n",
    "  layer.trainable=False\n",
    "\n",
    "for i, layer in enumerate(supernet.layers):\n",
    "   print(i, layer.name, layer.trainable)\n"
   ],
   "metadata": {
    "collapsed": false
   }
  },
  {
   "cell_type": "code",
   "execution_count": 111,
   "outputs": [
    {
     "name": "stdout",
     "output_type": "stream",
     "text": [
      "Model: \"model\"\n",
      "_________________________________________________________________\n",
      " Layer (type)                Output Shape              Param #   \n",
      "=================================================================\n",
      " input_8 (InputLayer)        [(None, 96, 96, 3)]       0         \n",
      "                                                                 \n",
      " resnet50v2 (Functional)     (None, 3, 3, 2048)        23564800  \n",
      "                                                                 \n",
      " GlobalPooling (GlobalAverag  (None, 2048)             0         \n",
      " ePooling2D)                                                     \n",
      "                                                                 \n",
      " dense_6 (Dense)             (None, 512)               1049088   \n",
      "                                                                 \n",
      " leaky_re_lu_3 (LeakyReLU)   (None, 512)               0         \n",
      "                                                                 \n",
      " dropout_3 (Dropout)         (None, 512)               0         \n",
      "                                                                 \n",
      " dense_7 (Dense)             (None, 8)                 4104      \n",
      "                                                                 \n",
      "=================================================================\n",
      "Total params: 24,617,992\n",
      "Trainable params: 1,053,192\n",
      "Non-trainable params: 23,564,800\n",
      "_________________________________________________________________\n"
     ]
    }
   ],
   "source": [
    "# Use the supernet as feature extractor\n",
    "inputs = tfk.Input(shape=input_shape)\n",
    "\n",
    "x = supernet(inputs)\n",
    "\n",
    "glob_pooling = tfkl.GlobalAveragePooling2D(name='GlobalPooling')(x)\n",
    "\n",
    "x = tfkl.Dense(\n",
    "    512,\n",
    "    kernel_initializer = tfk.initializers.GlorotUniform(seed)\n",
    ")(glob_pooling)\n",
    "\n",
    "leaky_relu_layer = tfkl.LeakyReLU()(x)\n",
    "\n",
    "x = tfkl.BatchNormalization()(x)\n",
    "\n",
    "x = tfkl.Dropout(0.3, seed=seed)(leaky_relu_layer)\n",
    "\n",
    "outputs = tfkl.Dense(\n",
    "    8,\n",
    "    activation='softmax',\n",
    "    kernel_initializer = tfk.initializers.GlorotUniform(seed),\n",
    ")(x)\n",
    "\n",
    "\n",
    "# Connect input and output through the Model class\n",
    "resnet_Model = tfk.Model(inputs=inputs, outputs=outputs, name='model')\n",
    "\n",
    "# Compile the model\n",
    "resnet_Model.compile(loss=tfk.losses.CategoricalCrossentropy(), optimizer=tfk.optimizers.Adam(1e-3), metrics=['accuracy'])\n",
    "\n",
    "resnet_Model.summary()"
   ],
   "metadata": {
    "collapsed": false
   }
  },
  {
   "cell_type": "markdown",
   "source": [
    "## Utility Callbacks"
   ],
   "metadata": {
    "collapsed": false
   }
  },
  {
   "cell_type": "code",
   "execution_count": 112,
   "outputs": [],
   "source": [
    "# Utility function to create folders and callbacks for training\n",
    "def create_folders_and_callbacks(model_name) :\n",
    "    exps_dir = os.path.join('data_augmentation_experiments')\n",
    "    if not os.path.exists(exps_dir):\n",
    "        os.makedirs(exps_dir)\n",
    "\n",
    "    now = datetime.now().strftime('%b%d_%H-%M-%S')\n",
    "\n",
    "    exp_dir = os.path.join(exps_dir, model_name + '_' + str(now))\n",
    "    if not os.path.exists(exp_dir):\n",
    "        os.makedirs(exp_dir)\n",
    "\n",
    "    callbacks = []\n",
    "\n",
    "    # Model checkpoint ---------------------------------------------------\n",
    "    ckpt_dir = os.path.join(exp_dir, 'ckpts')\n",
    "    if not os.path.exists(ckpt_dir):\n",
    "        os.makedirs(ckpt_dir)\n",
    "\n",
    "    ckpt_callback = tf.keras.callbacks.ModelCheckpoint(filepath=os.path.join(ckpt_dir, 'cp'), # filepath is where I want to save the model\n",
    "                                                     save_weights_only=False, # save only the weights ora all the model\n",
    "                                                     save_best_only=True) # if True saves only the results of the best epoch\n",
    "\n",
    "    callbacks.append(ckpt_callback)\n",
    "\n",
    "    # Visualize Learning on Tensorboard ----------------------------------\n",
    "    tb_dir = os.path.join(exp_dir, 'tb_logs') # logs where we save the events, where the tensorboard will read the logs\n",
    "    if not os.path.exists(tb_dir):\n",
    "        os.makedirs(tb_dir)\n",
    "\n",
    "    tb_callback = tf.keras.callbacks.TensorBoard(log_dir=tb_dir,\n",
    "                                              profile_batch=0,\n",
    "                                              histogram_freq=1)\n",
    "    callbacks.append(tb_callback)\n",
    "\n",
    "    # Early Stopping -----------------------------------------------------\n",
    "    if early_stopping:\n",
    "        es_callback = tf.keras.callbacks.EarlyStopping(monitor='val_loss', patience=patience_epochs, restore_best_weights=True)\n",
    "        callbacks.append(es_callback)\n",
    "\n",
    "    return callbacks"
   ],
   "metadata": {
    "collapsed": false
   }
  },
  {
   "cell_type": "markdown",
   "source": [
    "## Training"
   ],
   "metadata": {
    "collapsed": false
   }
  },
  {
   "cell_type": "code",
   "execution_count": 113,
   "outputs": [
    {
     "name": "stdout",
     "output_type": "stream",
     "text": [
      "Epoch 1/90\n"
     ]
    },
    {
     "name": "stderr",
     "output_type": "stream",
     "text": [
      "2022-11-15 10:46:16.070472: I tensorflow/core/grappler/optimizers/custom_graph_optimizer_registry.cc:114] Plugin optimizer for device_type GPU is enabled.\n"
     ]
    },
    {
     "name": "stdout",
     "output_type": "stream",
     "text": [
      "89/89 [==============================] - ETA: 0s - loss: 1.8375 - accuracy: 0.4123"
     ]
    },
    {
     "name": "stderr",
     "output_type": "stream",
     "text": [
      "2022-11-15 10:46:27.855502: I tensorflow/core/grappler/optimizers/custom_graph_optimizer_registry.cc:114] Plugin optimizer for device_type GPU is enabled.\n",
      "WARNING:absl:Found untraced functions such as _jit_compiled_convolution_op, _jit_compiled_convolution_op, _jit_compiled_convolution_op, _jit_compiled_convolution_op, _jit_compiled_convolution_op while saving (showing 5 of 53). These functions will not be directly callable after loading.\n"
     ]
    },
    {
     "name": "stdout",
     "output_type": "stream",
     "text": [
      "INFO:tensorflow:Assets written to: data_augmentation_experiments/ResNet_CNN_FT1_Nov15_10-46-14/ckpts/cp/assets\n"
     ]
    },
    {
     "name": "stderr",
     "output_type": "stream",
     "text": [
      "INFO:tensorflow:Assets written to: data_augmentation_experiments/ResNet_CNN_FT1_Nov15_10-46-14/ckpts/cp/assets\n"
     ]
    },
    {
     "name": "stdout",
     "output_type": "stream",
     "text": [
      "89/89 [==============================] - 35s 367ms/step - loss: 1.8375 - accuracy: 0.4123 - val_loss: 1.5283 - val_accuracy: 0.4348\n",
      "Epoch 2/90\n",
      "89/89 [==============================] - ETA: 0s - loss: 1.4699 - accuracy: 0.4823"
     ]
    },
    {
     "name": "stderr",
     "output_type": "stream",
     "text": [
      "WARNING:absl:Found untraced functions such as _jit_compiled_convolution_op, _jit_compiled_convolution_op, _jit_compiled_convolution_op, _jit_compiled_convolution_op, _jit_compiled_convolution_op while saving (showing 5 of 53). These functions will not be directly callable after loading.\n"
     ]
    },
    {
     "name": "stdout",
     "output_type": "stream",
     "text": [
      "INFO:tensorflow:Assets written to: data_augmentation_experiments/ResNet_CNN_FT1_Nov15_10-46-14/ckpts/cp/assets\n"
     ]
    },
    {
     "name": "stderr",
     "output_type": "stream",
     "text": [
      "INFO:tensorflow:Assets written to: data_augmentation_experiments/ResNet_CNN_FT1_Nov15_10-46-14/ckpts/cp/assets\n"
     ]
    },
    {
     "name": "stdout",
     "output_type": "stream",
     "text": [
      "89/89 [==============================] - 30s 340ms/step - loss: 1.4699 - accuracy: 0.4823 - val_loss: 1.4358 - val_accuracy: 0.4783\n",
      "Epoch 3/90\n",
      "89/89 [==============================] - ETA: 0s - loss: 1.3685 - accuracy: 0.5115"
     ]
    },
    {
     "name": "stderr",
     "output_type": "stream",
     "text": [
      "WARNING:absl:Found untraced functions such as _jit_compiled_convolution_op, _jit_compiled_convolution_op, _jit_compiled_convolution_op, _jit_compiled_convolution_op, _jit_compiled_convolution_op while saving (showing 5 of 53). These functions will not be directly callable after loading.\n"
     ]
    },
    {
     "name": "stdout",
     "output_type": "stream",
     "text": [
      "INFO:tensorflow:Assets written to: data_augmentation_experiments/ResNet_CNN_FT1_Nov15_10-46-14/ckpts/cp/assets\n"
     ]
    },
    {
     "name": "stderr",
     "output_type": "stream",
     "text": [
      "INFO:tensorflow:Assets written to: data_augmentation_experiments/ResNet_CNN_FT1_Nov15_10-46-14/ckpts/cp/assets\n"
     ]
    },
    {
     "name": "stdout",
     "output_type": "stream",
     "text": [
      "89/89 [==============================] - 30s 333ms/step - loss: 1.3685 - accuracy: 0.5115 - val_loss: 1.3899 - val_accuracy: 0.5007\n",
      "Epoch 4/90\n",
      "89/89 [==============================] - 13s 139ms/step - loss: 1.3186 - accuracy: 0.5293 - val_loss: 1.4415 - val_accuracy: 0.4937\n",
      "Epoch 5/90\n",
      "89/89 [==============================] - ETA: 0s - loss: 1.3052 - accuracy: 0.5263"
     ]
    },
    {
     "name": "stderr",
     "output_type": "stream",
     "text": [
      "WARNING:absl:Found untraced functions such as _jit_compiled_convolution_op, _jit_compiled_convolution_op, _jit_compiled_convolution_op, _jit_compiled_convolution_op, _jit_compiled_convolution_op while saving (showing 5 of 53). These functions will not be directly callable after loading.\n"
     ]
    },
    {
     "name": "stdout",
     "output_type": "stream",
     "text": [
      "INFO:tensorflow:Assets written to: data_augmentation_experiments/ResNet_CNN_FT1_Nov15_10-46-14/ckpts/cp/assets\n"
     ]
    },
    {
     "name": "stderr",
     "output_type": "stream",
     "text": [
      "INFO:tensorflow:Assets written to: data_augmentation_experiments/ResNet_CNN_FT1_Nov15_10-46-14/ckpts/cp/assets\n"
     ]
    },
    {
     "name": "stdout",
     "output_type": "stream",
     "text": [
      "89/89 [==============================] - 30s 340ms/step - loss: 1.3052 - accuracy: 0.5263 - val_loss: 1.3626 - val_accuracy: 0.5231\n",
      "Epoch 6/90\n",
      "89/89 [==============================] - ETA: 0s - loss: 1.2838 - accuracy: 0.5346"
     ]
    },
    {
     "name": "stderr",
     "output_type": "stream",
     "text": [
      "WARNING:absl:Found untraced functions such as _jit_compiled_convolution_op, _jit_compiled_convolution_op, _jit_compiled_convolution_op, _jit_compiled_convolution_op, _jit_compiled_convolution_op while saving (showing 5 of 53). These functions will not be directly callable after loading.\n"
     ]
    },
    {
     "name": "stdout",
     "output_type": "stream",
     "text": [
      "INFO:tensorflow:Assets written to: data_augmentation_experiments/ResNet_CNN_FT1_Nov15_10-46-14/ckpts/cp/assets\n"
     ]
    },
    {
     "name": "stderr",
     "output_type": "stream",
     "text": [
      "INFO:tensorflow:Assets written to: data_augmentation_experiments/ResNet_CNN_FT1_Nov15_10-46-14/ckpts/cp/assets\n"
     ]
    },
    {
     "name": "stdout",
     "output_type": "stream",
     "text": [
      "89/89 [==============================] - 30s 339ms/step - loss: 1.2838 - accuracy: 0.5346 - val_loss: 1.3526 - val_accuracy: 0.5386\n",
      "Epoch 7/90\n",
      "89/89 [==============================] - ETA: 0s - loss: 1.2661 - accuracy: 0.5353"
     ]
    },
    {
     "name": "stderr",
     "output_type": "stream",
     "text": [
      "WARNING:absl:Found untraced functions such as _jit_compiled_convolution_op, _jit_compiled_convolution_op, _jit_compiled_convolution_op, _jit_compiled_convolution_op, _jit_compiled_convolution_op while saving (showing 5 of 53). These functions will not be directly callable after loading.\n"
     ]
    },
    {
     "name": "stdout",
     "output_type": "stream",
     "text": [
      "INFO:tensorflow:Assets written to: data_augmentation_experiments/ResNet_CNN_FT1_Nov15_10-46-14/ckpts/cp/assets\n"
     ]
    },
    {
     "name": "stderr",
     "output_type": "stream",
     "text": [
      "INFO:tensorflow:Assets written to: data_augmentation_experiments/ResNet_CNN_FT1_Nov15_10-46-14/ckpts/cp/assets\n"
     ]
    },
    {
     "name": "stdout",
     "output_type": "stream",
     "text": [
      "89/89 [==============================] - 32s 355ms/step - loss: 1.2661 - accuracy: 0.5353 - val_loss: 1.3483 - val_accuracy: 0.5372\n",
      "Epoch 8/90\n",
      "89/89 [==============================] - ETA: 0s - loss: 1.2461 - accuracy: 0.5391"
     ]
    },
    {
     "name": "stderr",
     "output_type": "stream",
     "text": [
      "WARNING:absl:Found untraced functions such as _jit_compiled_convolution_op, _jit_compiled_convolution_op, _jit_compiled_convolution_op, _jit_compiled_convolution_op, _jit_compiled_convolution_op while saving (showing 5 of 53). These functions will not be directly callable after loading.\n"
     ]
    },
    {
     "name": "stdout",
     "output_type": "stream",
     "text": [
      "INFO:tensorflow:Assets written to: data_augmentation_experiments/ResNet_CNN_FT1_Nov15_10-46-14/ckpts/cp/assets\n"
     ]
    },
    {
     "name": "stderr",
     "output_type": "stream",
     "text": [
      "INFO:tensorflow:Assets written to: data_augmentation_experiments/ResNet_CNN_FT1_Nov15_10-46-14/ckpts/cp/assets\n"
     ]
    },
    {
     "name": "stdout",
     "output_type": "stream",
     "text": [
      "89/89 [==============================] - 30s 341ms/step - loss: 1.2461 - accuracy: 0.5391 - val_loss: 1.2912 - val_accuracy: 0.5147\n",
      "Epoch 9/90\n",
      "89/89 [==============================] - ETA: 0s - loss: 1.2342 - accuracy: 0.5449"
     ]
    },
    {
     "name": "stderr",
     "output_type": "stream",
     "text": [
      "WARNING:absl:Found untraced functions such as _jit_compiled_convolution_op, _jit_compiled_convolution_op, _jit_compiled_convolution_op, _jit_compiled_convolution_op, _jit_compiled_convolution_op while saving (showing 5 of 53). These functions will not be directly callable after loading.\n"
     ]
    },
    {
     "name": "stdout",
     "output_type": "stream",
     "text": [
      "INFO:tensorflow:Assets written to: data_augmentation_experiments/ResNet_CNN_FT1_Nov15_10-46-14/ckpts/cp/assets\n"
     ]
    },
    {
     "name": "stderr",
     "output_type": "stream",
     "text": [
      "INFO:tensorflow:Assets written to: data_augmentation_experiments/ResNet_CNN_FT1_Nov15_10-46-14/ckpts/cp/assets\n"
     ]
    },
    {
     "name": "stdout",
     "output_type": "stream",
     "text": [
      "89/89 [==============================] - 30s 335ms/step - loss: 1.2342 - accuracy: 0.5449 - val_loss: 1.2759 - val_accuracy: 0.5344\n",
      "Epoch 10/90\n",
      "89/89 [==============================] - 13s 141ms/step - loss: 1.2141 - accuracy: 0.5520 - val_loss: 1.3344 - val_accuracy: 0.5245\n",
      "Epoch 11/90\n",
      "89/89 [==============================] - 12s 139ms/step - loss: 1.1944 - accuracy: 0.5638 - val_loss: 1.2937 - val_accuracy: 0.5316\n",
      "Epoch 12/90\n",
      "89/89 [==============================] - 12s 136ms/step - loss: 1.1987 - accuracy: 0.5716 - val_loss: 1.3243 - val_accuracy: 0.5147\n",
      "Epoch 13/90\n",
      "89/89 [==============================] - 12s 134ms/step - loss: 1.1941 - accuracy: 0.5619 - val_loss: 1.2910 - val_accuracy: 0.5316\n",
      "Epoch 14/90\n",
      "89/89 [==============================] - 12s 131ms/step - loss: 1.1907 - accuracy: 0.5689 - val_loss: 1.2834 - val_accuracy: 0.5344\n",
      "Epoch 15/90\n",
      "89/89 [==============================] - 12s 132ms/step - loss: 1.1756 - accuracy: 0.5626 - val_loss: 1.2835 - val_accuracy: 0.5288\n",
      "Epoch 16/90\n",
      "89/89 [==============================] - 12s 130ms/step - loss: 1.1848 - accuracy: 0.5594 - val_loss: 1.3019 - val_accuracy: 0.5344\n",
      "Epoch 17/90\n",
      "89/89 [==============================] - 12s 131ms/step - loss: 1.1867 - accuracy: 0.5652 - val_loss: 1.3049 - val_accuracy: 0.5484\n",
      "Epoch 18/90\n",
      "89/89 [==============================] - 12s 134ms/step - loss: 1.1740 - accuracy: 0.5645 - val_loss: 1.3268 - val_accuracy: 0.5231\n",
      "Epoch 19/90\n",
      "89/89 [==============================] - ETA: 0s - loss: 1.1600 - accuracy: 0.5732"
     ]
    },
    {
     "name": "stderr",
     "output_type": "stream",
     "text": [
      "WARNING:absl:Found untraced functions such as _jit_compiled_convolution_op, _jit_compiled_convolution_op, _jit_compiled_convolution_op, _jit_compiled_convolution_op, _jit_compiled_convolution_op while saving (showing 5 of 53). These functions will not be directly callable after loading.\n"
     ]
    },
    {
     "name": "stdout",
     "output_type": "stream",
     "text": [
      "INFO:tensorflow:Assets written to: data_augmentation_experiments/ResNet_CNN_FT1_Nov15_10-46-14/ckpts/cp/assets\n"
     ]
    },
    {
     "name": "stderr",
     "output_type": "stream",
     "text": [
      "INFO:tensorflow:Assets written to: data_augmentation_experiments/ResNet_CNN_FT1_Nov15_10-46-14/ckpts/cp/assets\n"
     ]
    },
    {
     "name": "stdout",
     "output_type": "stream",
     "text": [
      "89/89 [==============================] - 31s 354ms/step - loss: 1.1600 - accuracy: 0.5732 - val_loss: 1.2707 - val_accuracy: 0.5372\n",
      "Epoch 20/90\n",
      "89/89 [==============================] - ETA: 0s - loss: 1.1629 - accuracy: 0.5725"
     ]
    },
    {
     "name": "stderr",
     "output_type": "stream",
     "text": [
      "WARNING:absl:Found untraced functions such as _jit_compiled_convolution_op, _jit_compiled_convolution_op, _jit_compiled_convolution_op, _jit_compiled_convolution_op, _jit_compiled_convolution_op while saving (showing 5 of 53). These functions will not be directly callable after loading.\n"
     ]
    },
    {
     "name": "stdout",
     "output_type": "stream",
     "text": [
      "INFO:tensorflow:Assets written to: data_augmentation_experiments/ResNet_CNN_FT1_Nov15_10-46-14/ckpts/cp/assets\n"
     ]
    },
    {
     "name": "stderr",
     "output_type": "stream",
     "text": [
      "INFO:tensorflow:Assets written to: data_augmentation_experiments/ResNet_CNN_FT1_Nov15_10-46-14/ckpts/cp/assets\n"
     ]
    },
    {
     "name": "stdout",
     "output_type": "stream",
     "text": [
      "89/89 [==============================] - 31s 353ms/step - loss: 1.1629 - accuracy: 0.5725 - val_loss: 1.2643 - val_accuracy: 0.5470\n",
      "Epoch 21/90\n",
      "89/89 [==============================] - ETA: 0s - loss: 1.1398 - accuracy: 0.5832"
     ]
    },
    {
     "name": "stderr",
     "output_type": "stream",
     "text": [
      "WARNING:absl:Found untraced functions such as _jit_compiled_convolution_op, _jit_compiled_convolution_op, _jit_compiled_convolution_op, _jit_compiled_convolution_op, _jit_compiled_convolution_op while saving (showing 5 of 53). These functions will not be directly callable after loading.\n"
     ]
    },
    {
     "name": "stdout",
     "output_type": "stream",
     "text": [
      "INFO:tensorflow:Assets written to: data_augmentation_experiments/ResNet_CNN_FT1_Nov15_10-46-14/ckpts/cp/assets\n"
     ]
    },
    {
     "name": "stderr",
     "output_type": "stream",
     "text": [
      "INFO:tensorflow:Assets written to: data_augmentation_experiments/ResNet_CNN_FT1_Nov15_10-46-14/ckpts/cp/assets\n"
     ]
    },
    {
     "name": "stdout",
     "output_type": "stream",
     "text": [
      "89/89 [==============================] - 30s 338ms/step - loss: 1.1398 - accuracy: 0.5832 - val_loss: 1.2568 - val_accuracy: 0.5344\n",
      "Epoch 22/90\n",
      "89/89 [==============================] - 12s 137ms/step - loss: 1.1406 - accuracy: 0.5824 - val_loss: 1.2643 - val_accuracy: 0.5554\n",
      "Epoch 23/90\n",
      "89/89 [==============================] - ETA: 0s - loss: 1.1307 - accuracy: 0.5806"
     ]
    },
    {
     "name": "stderr",
     "output_type": "stream",
     "text": [
      "WARNING:absl:Found untraced functions such as _jit_compiled_convolution_op, _jit_compiled_convolution_op, _jit_compiled_convolution_op, _jit_compiled_convolution_op, _jit_compiled_convolution_op while saving (showing 5 of 53). These functions will not be directly callable after loading.\n"
     ]
    },
    {
     "name": "stdout",
     "output_type": "stream",
     "text": [
      "INFO:tensorflow:Assets written to: data_augmentation_experiments/ResNet_CNN_FT1_Nov15_10-46-14/ckpts/cp/assets\n"
     ]
    },
    {
     "name": "stderr",
     "output_type": "stream",
     "text": [
      "INFO:tensorflow:Assets written to: data_augmentation_experiments/ResNet_CNN_FT1_Nov15_10-46-14/ckpts/cp/assets\n"
     ]
    },
    {
     "name": "stdout",
     "output_type": "stream",
     "text": [
      "89/89 [==============================] - 30s 335ms/step - loss: 1.1307 - accuracy: 0.5806 - val_loss: 1.2541 - val_accuracy: 0.5330\n",
      "Epoch 24/90\n",
      "89/89 [==============================] - 13s 139ms/step - loss: 1.1090 - accuracy: 0.5882 - val_loss: 1.2681 - val_accuracy: 0.5330\n",
      "Epoch 25/90\n",
      "89/89 [==============================] - ETA: 0s - loss: 1.1346 - accuracy: 0.5799"
     ]
    },
    {
     "name": "stderr",
     "output_type": "stream",
     "text": [
      "WARNING:absl:Found untraced functions such as _jit_compiled_convolution_op, _jit_compiled_convolution_op, _jit_compiled_convolution_op, _jit_compiled_convolution_op, _jit_compiled_convolution_op while saving (showing 5 of 53). These functions will not be directly callable after loading.\n"
     ]
    },
    {
     "name": "stdout",
     "output_type": "stream",
     "text": [
      "INFO:tensorflow:Assets written to: data_augmentation_experiments/ResNet_CNN_FT1_Nov15_10-46-14/ckpts/cp/assets\n"
     ]
    },
    {
     "name": "stderr",
     "output_type": "stream",
     "text": [
      "INFO:tensorflow:Assets written to: data_augmentation_experiments/ResNet_CNN_FT1_Nov15_10-46-14/ckpts/cp/assets\n"
     ]
    },
    {
     "name": "stdout",
     "output_type": "stream",
     "text": [
      "89/89 [==============================] - 29s 330ms/step - loss: 1.1346 - accuracy: 0.5799 - val_loss: 1.2447 - val_accuracy: 0.5442\n",
      "Epoch 26/90\n",
      "89/89 [==============================] - 13s 140ms/step - loss: 1.1447 - accuracy: 0.5854 - val_loss: 1.2477 - val_accuracy: 0.5442\n",
      "Epoch 27/90\n",
      "89/89 [==============================] - 12s 136ms/step - loss: 1.1322 - accuracy: 0.5898 - val_loss: 1.2458 - val_accuracy: 0.5554\n",
      "Epoch 28/90\n",
      "89/89 [==============================] - 12s 138ms/step - loss: 1.1249 - accuracy: 0.5893 - val_loss: 1.2868 - val_accuracy: 0.5217\n",
      "Epoch 29/90\n",
      "89/89 [==============================] - 12s 134ms/step - loss: 1.1477 - accuracy: 0.5725 - val_loss: 1.2603 - val_accuracy: 0.5442\n",
      "Epoch 30/90\n",
      "89/89 [==============================] - ETA: 0s - loss: 1.1420 - accuracy: 0.5786"
     ]
    },
    {
     "name": "stderr",
     "output_type": "stream",
     "text": [
      "WARNING:absl:Found untraced functions such as _jit_compiled_convolution_op, _jit_compiled_convolution_op, _jit_compiled_convolution_op, _jit_compiled_convolution_op, _jit_compiled_convolution_op while saving (showing 5 of 53). These functions will not be directly callable after loading.\n"
     ]
    },
    {
     "name": "stdout",
     "output_type": "stream",
     "text": [
      "INFO:tensorflow:Assets written to: data_augmentation_experiments/ResNet_CNN_FT1_Nov15_10-46-14/ckpts/cp/assets\n"
     ]
    },
    {
     "name": "stderr",
     "output_type": "stream",
     "text": [
      "INFO:tensorflow:Assets written to: data_augmentation_experiments/ResNet_CNN_FT1_Nov15_10-46-14/ckpts/cp/assets\n"
     ]
    },
    {
     "name": "stdout",
     "output_type": "stream",
     "text": [
      "89/89 [==============================] - 29s 332ms/step - loss: 1.1420 - accuracy: 0.5786 - val_loss: 1.2439 - val_accuracy: 0.5358\n",
      "Epoch 31/90\n",
      "89/89 [==============================] - ETA: 0s - loss: 1.1105 - accuracy: 0.5919"
     ]
    },
    {
     "name": "stderr",
     "output_type": "stream",
     "text": [
      "WARNING:absl:Found untraced functions such as _jit_compiled_convolution_op, _jit_compiled_convolution_op, _jit_compiled_convolution_op, _jit_compiled_convolution_op, _jit_compiled_convolution_op while saving (showing 5 of 53). These functions will not be directly callable after loading.\n"
     ]
    },
    {
     "name": "stdout",
     "output_type": "stream",
     "text": [
      "INFO:tensorflow:Assets written to: data_augmentation_experiments/ResNet_CNN_FT1_Nov15_10-46-14/ckpts/cp/assets\n"
     ]
    },
    {
     "name": "stderr",
     "output_type": "stream",
     "text": [
      "INFO:tensorflow:Assets written to: data_augmentation_experiments/ResNet_CNN_FT1_Nov15_10-46-14/ckpts/cp/assets\n"
     ]
    },
    {
     "name": "stdout",
     "output_type": "stream",
     "text": [
      "89/89 [==============================] - 30s 333ms/step - loss: 1.1105 - accuracy: 0.5919 - val_loss: 1.2366 - val_accuracy: 0.5414\n",
      "Epoch 32/90\n",
      "89/89 [==============================] - 12s 138ms/step - loss: 1.1184 - accuracy: 0.5986 - val_loss: 1.2448 - val_accuracy: 0.5456\n",
      "Epoch 33/90\n",
      "89/89 [==============================] - ETA: 0s - loss: 1.1118 - accuracy: 0.5878"
     ]
    },
    {
     "name": "stderr",
     "output_type": "stream",
     "text": [
      "WARNING:absl:Found untraced functions such as _jit_compiled_convolution_op, _jit_compiled_convolution_op, _jit_compiled_convolution_op, _jit_compiled_convolution_op, _jit_compiled_convolution_op while saving (showing 5 of 53). These functions will not be directly callable after loading.\n"
     ]
    },
    {
     "name": "stdout",
     "output_type": "stream",
     "text": [
      "INFO:tensorflow:Assets written to: data_augmentation_experiments/ResNet_CNN_FT1_Nov15_10-46-14/ckpts/cp/assets\n"
     ]
    },
    {
     "name": "stderr",
     "output_type": "stream",
     "text": [
      "INFO:tensorflow:Assets written to: data_augmentation_experiments/ResNet_CNN_FT1_Nov15_10-46-14/ckpts/cp/assets\n"
     ]
    },
    {
     "name": "stdout",
     "output_type": "stream",
     "text": [
      "89/89 [==============================] - 30s 335ms/step - loss: 1.1118 - accuracy: 0.5878 - val_loss: 1.2325 - val_accuracy: 0.5414\n",
      "Epoch 34/90\n",
      "89/89 [==============================] - 12s 138ms/step - loss: 1.1090 - accuracy: 0.5916 - val_loss: 1.2731 - val_accuracy: 0.5428\n",
      "Epoch 35/90\n",
      "89/89 [==============================] - ETA: 0s - loss: 1.1283 - accuracy: 0.5878"
     ]
    },
    {
     "name": "stderr",
     "output_type": "stream",
     "text": [
      "WARNING:absl:Found untraced functions such as _jit_compiled_convolution_op, _jit_compiled_convolution_op, _jit_compiled_convolution_op, _jit_compiled_convolution_op, _jit_compiled_convolution_op while saving (showing 5 of 53). These functions will not be directly callable after loading.\n"
     ]
    },
    {
     "name": "stdout",
     "output_type": "stream",
     "text": [
      "INFO:tensorflow:Assets written to: data_augmentation_experiments/ResNet_CNN_FT1_Nov15_10-46-14/ckpts/cp/assets\n"
     ]
    },
    {
     "name": "stderr",
     "output_type": "stream",
     "text": [
      "INFO:tensorflow:Assets written to: data_augmentation_experiments/ResNet_CNN_FT1_Nov15_10-46-14/ckpts/cp/assets\n"
     ]
    },
    {
     "name": "stdout",
     "output_type": "stream",
     "text": [
      "89/89 [==============================] - 30s 339ms/step - loss: 1.1283 - accuracy: 0.5878 - val_loss: 1.2301 - val_accuracy: 0.5428\n",
      "Epoch 36/90\n",
      "89/89 [==============================] - 13s 140ms/step - loss: 1.1102 - accuracy: 0.5914 - val_loss: 1.2629 - val_accuracy: 0.5428\n",
      "Epoch 37/90\n",
      "89/89 [==============================] - 12s 137ms/step - loss: 1.0982 - accuracy: 0.5974 - val_loss: 1.2499 - val_accuracy: 0.5358\n",
      "Epoch 38/90\n",
      "89/89 [==============================] - 12s 138ms/step - loss: 1.1153 - accuracy: 0.5903 - val_loss: 1.2784 - val_accuracy: 0.5428\n",
      "Epoch 39/90\n",
      "89/89 [==============================] - 12s 134ms/step - loss: 1.1105 - accuracy: 0.5924 - val_loss: 1.2706 - val_accuracy: 0.5470\n",
      "Epoch 40/90\n",
      "89/89 [==============================] - 12s 132ms/step - loss: 1.1139 - accuracy: 0.5829 - val_loss: 1.2375 - val_accuracy: 0.5428\n",
      "Epoch 41/90\n",
      "89/89 [==============================] - ETA: 0s - loss: 1.0969 - accuracy: 0.5979"
     ]
    },
    {
     "name": "stderr",
     "output_type": "stream",
     "text": [
      "WARNING:absl:Found untraced functions such as _jit_compiled_convolution_op, _jit_compiled_convolution_op, _jit_compiled_convolution_op, _jit_compiled_convolution_op, _jit_compiled_convolution_op while saving (showing 5 of 53). These functions will not be directly callable after loading.\n"
     ]
    },
    {
     "name": "stdout",
     "output_type": "stream",
     "text": [
      "INFO:tensorflow:Assets written to: data_augmentation_experiments/ResNet_CNN_FT1_Nov15_10-46-14/ckpts/cp/assets\n"
     ]
    },
    {
     "name": "stderr",
     "output_type": "stream",
     "text": [
      "INFO:tensorflow:Assets written to: data_augmentation_experiments/ResNet_CNN_FT1_Nov15_10-46-14/ckpts/cp/assets\n"
     ]
    },
    {
     "name": "stdout",
     "output_type": "stream",
     "text": [
      "89/89 [==============================] - 29s 325ms/step - loss: 1.0969 - accuracy: 0.5979 - val_loss: 1.2267 - val_accuracy: 0.5568\n",
      "Epoch 42/90\n",
      "89/89 [==============================] - 13s 140ms/step - loss: 1.1140 - accuracy: 0.5914 - val_loss: 1.2482 - val_accuracy: 0.5526\n",
      "Epoch 43/90\n",
      "89/89 [==============================] - 12s 138ms/step - loss: 1.0866 - accuracy: 0.6048 - val_loss: 1.2444 - val_accuracy: 0.5400\n",
      "Epoch 44/90\n",
      "89/89 [==============================] - ETA: 0s - loss: 1.1187 - accuracy: 0.5935"
     ]
    },
    {
     "name": "stderr",
     "output_type": "stream",
     "text": [
      "WARNING:absl:Found untraced functions such as _jit_compiled_convolution_op, _jit_compiled_convolution_op, _jit_compiled_convolution_op, _jit_compiled_convolution_op, _jit_compiled_convolution_op while saving (showing 5 of 53). These functions will not be directly callable after loading.\n"
     ]
    },
    {
     "name": "stdout",
     "output_type": "stream",
     "text": [
      "INFO:tensorflow:Assets written to: data_augmentation_experiments/ResNet_CNN_FT1_Nov15_10-46-14/ckpts/cp/assets\n"
     ]
    },
    {
     "name": "stderr",
     "output_type": "stream",
     "text": [
      "INFO:tensorflow:Assets written to: data_augmentation_experiments/ResNet_CNN_FT1_Nov15_10-46-14/ckpts/cp/assets\n"
     ]
    },
    {
     "name": "stdout",
     "output_type": "stream",
     "text": [
      "89/89 [==============================] - 31s 351ms/step - loss: 1.1187 - accuracy: 0.5935 - val_loss: 1.2088 - val_accuracy: 0.5666\n",
      "Epoch 45/90\n",
      "89/89 [==============================] - 13s 146ms/step - loss: 1.1009 - accuracy: 0.5938 - val_loss: 1.2148 - val_accuracy: 0.5484\n",
      "Epoch 46/90\n",
      "89/89 [==============================] - 13s 148ms/step - loss: 1.0871 - accuracy: 0.5965 - val_loss: 1.2430 - val_accuracy: 0.5470\n",
      "Epoch 47/90\n",
      "87/89 [============================>.] - ETA: 0s - loss: 1.0860 - accuracy: 0.6045"
     ]
    },
    {
     "ename": "KeyboardInterrupt",
     "evalue": "",
     "output_type": "error",
     "traceback": [
      "\u001B[0;31m---------------------------------------------------------------------------\u001B[0m",
      "\u001B[0;31mKeyboardInterrupt\u001B[0m                         Traceback (most recent call last)",
      "Input \u001B[0;32mIn [113]\u001B[0m, in \u001B[0;36m<cell line: 5>\u001B[0;34m()\u001B[0m\n\u001B[1;32m      2\u001B[0m callbacks \u001B[38;5;241m=\u001B[39m create_folders_and_callbacks(model_name\u001B[38;5;241m=\u001B[39m\u001B[38;5;124m'\u001B[39m\u001B[38;5;124mResNet_CNN_FT1\u001B[39m\u001B[38;5;124m'\u001B[39m)\n\u001B[1;32m      4\u001B[0m \u001B[38;5;66;03m# Train the model\u001B[39;00m\n\u001B[0;32m----> 5\u001B[0m history \u001B[38;5;241m=\u001B[39m \u001B[43mresnet_Model\u001B[49m\u001B[38;5;241;43m.\u001B[39;49m\u001B[43mfit\u001B[49m\u001B[43m(\u001B[49m\n\u001B[1;32m      6\u001B[0m \u001B[43m    \u001B[49m\u001B[43mx\u001B[49m\u001B[43m \u001B[49m\u001B[38;5;241;43m=\u001B[39;49m\u001B[43m \u001B[49m\u001B[43maug_train_gen\u001B[49m\u001B[43m,\u001B[49m\n\u001B[1;32m      7\u001B[0m \u001B[43m    \u001B[49m\u001B[43mepochs\u001B[49m\u001B[43m \u001B[49m\u001B[38;5;241;43m=\u001B[39;49m\u001B[43m \u001B[49m\u001B[38;5;241;43m90\u001B[39;49m\u001B[43m,\u001B[49m\n\u001B[1;32m      8\u001B[0m \u001B[43m    \u001B[49m\u001B[43mvalidation_data\u001B[49m\u001B[43m \u001B[49m\u001B[38;5;241;43m=\u001B[39;49m\u001B[43m \u001B[49m\u001B[43mvalid_gen\u001B[49m\u001B[43m,\u001B[49m\n\u001B[1;32m      9\u001B[0m \u001B[43m    \u001B[49m\u001B[43mcallbacks\u001B[49m\u001B[43m \u001B[49m\u001B[38;5;241;43m=\u001B[39;49m\u001B[43m \u001B[49m\u001B[43mcallbacks\u001B[49m\u001B[43m,\u001B[49m\n\u001B[1;32m     10\u001B[0m \u001B[43m)\u001B[49m\u001B[38;5;241m.\u001B[39mhistory\n",
      "File \u001B[0;32m~/miniconda/envs/mlenv/lib/python3.8/site-packages/keras/utils/traceback_utils.py:65\u001B[0m, in \u001B[0;36mfilter_traceback.<locals>.error_handler\u001B[0;34m(*args, **kwargs)\u001B[0m\n\u001B[1;32m     63\u001B[0m filtered_tb \u001B[38;5;241m=\u001B[39m \u001B[38;5;28;01mNone\u001B[39;00m\n\u001B[1;32m     64\u001B[0m \u001B[38;5;28;01mtry\u001B[39;00m:\n\u001B[0;32m---> 65\u001B[0m     \u001B[38;5;28;01mreturn\u001B[39;00m \u001B[43mfn\u001B[49m\u001B[43m(\u001B[49m\u001B[38;5;241;43m*\u001B[39;49m\u001B[43margs\u001B[49m\u001B[43m,\u001B[49m\u001B[43m \u001B[49m\u001B[38;5;241;43m*\u001B[39;49m\u001B[38;5;241;43m*\u001B[39;49m\u001B[43mkwargs\u001B[49m\u001B[43m)\u001B[49m\n\u001B[1;32m     66\u001B[0m \u001B[38;5;28;01mexcept\u001B[39;00m \u001B[38;5;167;01mException\u001B[39;00m \u001B[38;5;28;01mas\u001B[39;00m e:\n\u001B[1;32m     67\u001B[0m     filtered_tb \u001B[38;5;241m=\u001B[39m _process_traceback_frames(e\u001B[38;5;241m.\u001B[39m__traceback__)\n",
      "File \u001B[0;32m~/miniconda/envs/mlenv/lib/python3.8/site-packages/keras/engine/training.py:1570\u001B[0m, in \u001B[0;36mModel.fit\u001B[0;34m(self, x, y, batch_size, epochs, verbose, callbacks, validation_split, validation_data, shuffle, class_weight, sample_weight, initial_epoch, steps_per_epoch, validation_steps, validation_batch_size, validation_freq, max_queue_size, workers, use_multiprocessing)\u001B[0m\n\u001B[1;32m   1568\u001B[0m logs \u001B[38;5;241m=\u001B[39m tmp_logs\n\u001B[1;32m   1569\u001B[0m end_step \u001B[38;5;241m=\u001B[39m step \u001B[38;5;241m+\u001B[39m data_handler\u001B[38;5;241m.\u001B[39mstep_increment\n\u001B[0;32m-> 1570\u001B[0m \u001B[43mcallbacks\u001B[49m\u001B[38;5;241;43m.\u001B[39;49m\u001B[43mon_train_batch_end\u001B[49m\u001B[43m(\u001B[49m\u001B[43mend_step\u001B[49m\u001B[43m,\u001B[49m\u001B[43m \u001B[49m\u001B[43mlogs\u001B[49m\u001B[43m)\u001B[49m\n\u001B[1;32m   1571\u001B[0m \u001B[38;5;28;01mif\u001B[39;00m \u001B[38;5;28mself\u001B[39m\u001B[38;5;241m.\u001B[39mstop_training:\n\u001B[1;32m   1572\u001B[0m     \u001B[38;5;28;01mbreak\u001B[39;00m\n",
      "File \u001B[0;32m~/miniconda/envs/mlenv/lib/python3.8/site-packages/keras/callbacks.py:470\u001B[0m, in \u001B[0;36mCallbackList.on_train_batch_end\u001B[0;34m(self, batch, logs)\u001B[0m\n\u001B[1;32m    463\u001B[0m \u001B[38;5;124;03m\"\"\"Calls the `on_train_batch_end` methods of its callbacks.\u001B[39;00m\n\u001B[1;32m    464\u001B[0m \n\u001B[1;32m    465\u001B[0m \u001B[38;5;124;03mArgs:\u001B[39;00m\n\u001B[1;32m    466\u001B[0m \u001B[38;5;124;03m    batch: Integer, index of batch within the current epoch.\u001B[39;00m\n\u001B[1;32m    467\u001B[0m \u001B[38;5;124;03m    logs: Dict. Aggregated metric results up until this batch.\u001B[39;00m\n\u001B[1;32m    468\u001B[0m \u001B[38;5;124;03m\"\"\"\u001B[39;00m\n\u001B[1;32m    469\u001B[0m \u001B[38;5;28;01mif\u001B[39;00m \u001B[38;5;28mself\u001B[39m\u001B[38;5;241m.\u001B[39m_should_call_train_batch_hooks:\n\u001B[0;32m--> 470\u001B[0m     \u001B[38;5;28;43mself\u001B[39;49m\u001B[38;5;241;43m.\u001B[39;49m\u001B[43m_call_batch_hook\u001B[49m\u001B[43m(\u001B[49m\u001B[43mModeKeys\u001B[49m\u001B[38;5;241;43m.\u001B[39;49m\u001B[43mTRAIN\u001B[49m\u001B[43m,\u001B[49m\u001B[43m \u001B[49m\u001B[38;5;124;43m\"\u001B[39;49m\u001B[38;5;124;43mend\u001B[39;49m\u001B[38;5;124;43m\"\u001B[39;49m\u001B[43m,\u001B[49m\u001B[43m \u001B[49m\u001B[43mbatch\u001B[49m\u001B[43m,\u001B[49m\u001B[43m \u001B[49m\u001B[43mlogs\u001B[49m\u001B[38;5;241;43m=\u001B[39;49m\u001B[43mlogs\u001B[49m\u001B[43m)\u001B[49m\n",
      "File \u001B[0;32m~/miniconda/envs/mlenv/lib/python3.8/site-packages/keras/callbacks.py:317\u001B[0m, in \u001B[0;36mCallbackList._call_batch_hook\u001B[0;34m(self, mode, hook, batch, logs)\u001B[0m\n\u001B[1;32m    315\u001B[0m     \u001B[38;5;28mself\u001B[39m\u001B[38;5;241m.\u001B[39m_call_batch_begin_hook(mode, batch, logs)\n\u001B[1;32m    316\u001B[0m \u001B[38;5;28;01melif\u001B[39;00m hook \u001B[38;5;241m==\u001B[39m \u001B[38;5;124m\"\u001B[39m\u001B[38;5;124mend\u001B[39m\u001B[38;5;124m\"\u001B[39m:\n\u001B[0;32m--> 317\u001B[0m     \u001B[38;5;28;43mself\u001B[39;49m\u001B[38;5;241;43m.\u001B[39;49m\u001B[43m_call_batch_end_hook\u001B[49m\u001B[43m(\u001B[49m\u001B[43mmode\u001B[49m\u001B[43m,\u001B[49m\u001B[43m \u001B[49m\u001B[43mbatch\u001B[49m\u001B[43m,\u001B[49m\u001B[43m \u001B[49m\u001B[43mlogs\u001B[49m\u001B[43m)\u001B[49m\n\u001B[1;32m    318\u001B[0m \u001B[38;5;28;01melse\u001B[39;00m:\n\u001B[1;32m    319\u001B[0m     \u001B[38;5;28;01mraise\u001B[39;00m \u001B[38;5;167;01mValueError\u001B[39;00m(\n\u001B[1;32m    320\u001B[0m         \u001B[38;5;124mf\u001B[39m\u001B[38;5;124m\"\u001B[39m\u001B[38;5;124mUnrecognized hook: \u001B[39m\u001B[38;5;132;01m{\u001B[39;00mhook\u001B[38;5;132;01m}\u001B[39;00m\u001B[38;5;124m. \u001B[39m\u001B[38;5;124m\"\u001B[39m\n\u001B[1;32m    321\u001B[0m         \u001B[38;5;124m'\u001B[39m\u001B[38;5;124mExpected values are [\u001B[39m\u001B[38;5;124m\"\u001B[39m\u001B[38;5;124mbegin\u001B[39m\u001B[38;5;124m\"\u001B[39m\u001B[38;5;124m, \u001B[39m\u001B[38;5;124m\"\u001B[39m\u001B[38;5;124mend\u001B[39m\u001B[38;5;124m\"\u001B[39m\u001B[38;5;124m]\u001B[39m\u001B[38;5;124m'\u001B[39m\n\u001B[1;32m    322\u001B[0m     )\n",
      "File \u001B[0;32m~/miniconda/envs/mlenv/lib/python3.8/site-packages/keras/callbacks.py:340\u001B[0m, in \u001B[0;36mCallbackList._call_batch_end_hook\u001B[0;34m(self, mode, batch, logs)\u001B[0m\n\u001B[1;32m    337\u001B[0m     batch_time \u001B[38;5;241m=\u001B[39m time\u001B[38;5;241m.\u001B[39mtime() \u001B[38;5;241m-\u001B[39m \u001B[38;5;28mself\u001B[39m\u001B[38;5;241m.\u001B[39m_batch_start_time\n\u001B[1;32m    338\u001B[0m     \u001B[38;5;28mself\u001B[39m\u001B[38;5;241m.\u001B[39m_batch_times\u001B[38;5;241m.\u001B[39mappend(batch_time)\n\u001B[0;32m--> 340\u001B[0m \u001B[38;5;28;43mself\u001B[39;49m\u001B[38;5;241;43m.\u001B[39;49m\u001B[43m_call_batch_hook_helper\u001B[49m\u001B[43m(\u001B[49m\u001B[43mhook_name\u001B[49m\u001B[43m,\u001B[49m\u001B[43m \u001B[49m\u001B[43mbatch\u001B[49m\u001B[43m,\u001B[49m\u001B[43m \u001B[49m\u001B[43mlogs\u001B[49m\u001B[43m)\u001B[49m\n\u001B[1;32m    342\u001B[0m \u001B[38;5;28;01mif\u001B[39;00m \u001B[38;5;28mlen\u001B[39m(\u001B[38;5;28mself\u001B[39m\u001B[38;5;241m.\u001B[39m_batch_times) \u001B[38;5;241m>\u001B[39m\u001B[38;5;241m=\u001B[39m \u001B[38;5;28mself\u001B[39m\u001B[38;5;241m.\u001B[39m_num_batches_for_timing_check:\n\u001B[1;32m    343\u001B[0m     end_hook_name \u001B[38;5;241m=\u001B[39m hook_name\n",
      "File \u001B[0;32m~/miniconda/envs/mlenv/lib/python3.8/site-packages/keras/callbacks.py:388\u001B[0m, in \u001B[0;36mCallbackList._call_batch_hook_helper\u001B[0;34m(self, hook_name, batch, logs)\u001B[0m\n\u001B[1;32m    386\u001B[0m \u001B[38;5;28;01mfor\u001B[39;00m callback \u001B[38;5;129;01min\u001B[39;00m \u001B[38;5;28mself\u001B[39m\u001B[38;5;241m.\u001B[39mcallbacks:\n\u001B[1;32m    387\u001B[0m     hook \u001B[38;5;241m=\u001B[39m \u001B[38;5;28mgetattr\u001B[39m(callback, hook_name)\n\u001B[0;32m--> 388\u001B[0m     \u001B[43mhook\u001B[49m\u001B[43m(\u001B[49m\u001B[43mbatch\u001B[49m\u001B[43m,\u001B[49m\u001B[43m \u001B[49m\u001B[43mlogs\u001B[49m\u001B[43m)\u001B[49m\n\u001B[1;32m    390\u001B[0m \u001B[38;5;28;01mif\u001B[39;00m \u001B[38;5;28mself\u001B[39m\u001B[38;5;241m.\u001B[39m_check_timing:\n\u001B[1;32m    391\u001B[0m     \u001B[38;5;28;01mif\u001B[39;00m hook_name \u001B[38;5;129;01mnot\u001B[39;00m \u001B[38;5;129;01min\u001B[39;00m \u001B[38;5;28mself\u001B[39m\u001B[38;5;241m.\u001B[39m_hook_times:\n",
      "File \u001B[0;32m~/miniconda/envs/mlenv/lib/python3.8/site-packages/keras/callbacks.py:1081\u001B[0m, in \u001B[0;36mProgbarLogger.on_train_batch_end\u001B[0;34m(self, batch, logs)\u001B[0m\n\u001B[1;32m   1080\u001B[0m \u001B[38;5;28;01mdef\u001B[39;00m \u001B[38;5;21mon_train_batch_end\u001B[39m(\u001B[38;5;28mself\u001B[39m, batch, logs\u001B[38;5;241m=\u001B[39m\u001B[38;5;28;01mNone\u001B[39;00m):\n\u001B[0;32m-> 1081\u001B[0m     \u001B[38;5;28;43mself\u001B[39;49m\u001B[38;5;241;43m.\u001B[39;49m\u001B[43m_batch_update_progbar\u001B[49m\u001B[43m(\u001B[49m\u001B[43mbatch\u001B[49m\u001B[43m,\u001B[49m\u001B[43m \u001B[49m\u001B[43mlogs\u001B[49m\u001B[43m)\u001B[49m\n",
      "File \u001B[0;32m~/miniconda/envs/mlenv/lib/python3.8/site-packages/keras/callbacks.py:1143\u001B[0m, in \u001B[0;36mProgbarLogger._batch_update_progbar\u001B[0;34m(self, batch, logs)\u001B[0m\n\u001B[1;32m   1141\u001B[0m \u001B[38;5;124;03m\"\"\"Updates the progbar.\"\"\"\u001B[39;00m\n\u001B[1;32m   1142\u001B[0m logs \u001B[38;5;241m=\u001B[39m logs \u001B[38;5;129;01mor\u001B[39;00m {}\n\u001B[0;32m-> 1143\u001B[0m \u001B[38;5;28;43mself\u001B[39;49m\u001B[38;5;241;43m.\u001B[39;49m\u001B[43m_maybe_init_progbar\u001B[49m\u001B[43m(\u001B[49m\u001B[43m)\u001B[49m\n\u001B[1;32m   1144\u001B[0m \u001B[38;5;28;01mif\u001B[39;00m \u001B[38;5;28mself\u001B[39m\u001B[38;5;241m.\u001B[39muse_steps:\n\u001B[1;32m   1145\u001B[0m     \u001B[38;5;28mself\u001B[39m\u001B[38;5;241m.\u001B[39mseen \u001B[38;5;241m=\u001B[39m batch \u001B[38;5;241m+\u001B[39m \u001B[38;5;241m1\u001B[39m  \u001B[38;5;66;03m# One-indexed.\u001B[39;00m\n",
      "File \u001B[0;32m~/miniconda/envs/mlenv/lib/python3.8/site-packages/keras/callbacks.py:1118\u001B[0m, in \u001B[0;36mProgbarLogger._maybe_init_progbar\u001B[0;34m(self)\u001B[0m\n\u001B[1;32m   1111\u001B[0m \u001B[38;5;28mself\u001B[39m\u001B[38;5;241m.\u001B[39mstateful_metrics \u001B[38;5;241m=\u001B[39m \u001B[38;5;28mset\u001B[39m(\u001B[38;5;28mself\u001B[39m\u001B[38;5;241m.\u001B[39mstateful_metrics)\n\u001B[1;32m   1113\u001B[0m \u001B[38;5;28;01mif\u001B[39;00m \u001B[38;5;28mself\u001B[39m\u001B[38;5;241m.\u001B[39mmodel:\n\u001B[1;32m   1114\u001B[0m     \u001B[38;5;66;03m# Update the existing stateful metrics as `self.model.metrics` may\u001B[39;00m\n\u001B[1;32m   1115\u001B[0m     \u001B[38;5;66;03m# contain updated metrics after `MetricsContainer` is built in the\u001B[39;00m\n\u001B[1;32m   1116\u001B[0m     \u001B[38;5;66;03m# first train step.\u001B[39;00m\n\u001B[1;32m   1117\u001B[0m     \u001B[38;5;28mself\u001B[39m\u001B[38;5;241m.\u001B[39mstateful_metrics \u001B[38;5;241m=\u001B[39m \u001B[38;5;28mself\u001B[39m\u001B[38;5;241m.\u001B[39mstateful_metrics\u001B[38;5;241m.\u001B[39munion(\n\u001B[0;32m-> 1118\u001B[0m         \u001B[38;5;28mset\u001B[39m(m\u001B[38;5;241m.\u001B[39mname \u001B[38;5;28;01mfor\u001B[39;00m m \u001B[38;5;129;01min\u001B[39;00m \u001B[38;5;28;43mself\u001B[39;49m\u001B[38;5;241;43m.\u001B[39;49m\u001B[43mmodel\u001B[49m\u001B[38;5;241;43m.\u001B[39;49m\u001B[43mmetrics\u001B[49m)\n\u001B[1;32m   1119\u001B[0m     )\n\u001B[1;32m   1121\u001B[0m \u001B[38;5;28;01mif\u001B[39;00m \u001B[38;5;28mself\u001B[39m\u001B[38;5;241m.\u001B[39mprogbar \u001B[38;5;129;01mis\u001B[39;00m \u001B[38;5;28;01mNone\u001B[39;00m:\n\u001B[1;32m   1122\u001B[0m     \u001B[38;5;28mself\u001B[39m\u001B[38;5;241m.\u001B[39mprogbar \u001B[38;5;241m=\u001B[39m Progbar(\n\u001B[1;32m   1123\u001B[0m         target\u001B[38;5;241m=\u001B[39m\u001B[38;5;28mself\u001B[39m\u001B[38;5;241m.\u001B[39mtarget,\n\u001B[1;32m   1124\u001B[0m         verbose\u001B[38;5;241m=\u001B[39m\u001B[38;5;28mself\u001B[39m\u001B[38;5;241m.\u001B[39mverbose,\n\u001B[1;32m   1125\u001B[0m         stateful_metrics\u001B[38;5;241m=\u001B[39m\u001B[38;5;28mself\u001B[39m\u001B[38;5;241m.\u001B[39mstateful_metrics,\n\u001B[1;32m   1126\u001B[0m         unit_name\u001B[38;5;241m=\u001B[39m\u001B[38;5;124m\"\u001B[39m\u001B[38;5;124mstep\u001B[39m\u001B[38;5;124m\"\u001B[39m \u001B[38;5;28;01mif\u001B[39;00m \u001B[38;5;28mself\u001B[39m\u001B[38;5;241m.\u001B[39muse_steps \u001B[38;5;28;01melse\u001B[39;00m \u001B[38;5;124m\"\u001B[39m\u001B[38;5;124msample\u001B[39m\u001B[38;5;124m\"\u001B[39m,\n\u001B[1;32m   1127\u001B[0m     )\n",
      "File \u001B[0;32m~/miniconda/envs/mlenv/lib/python3.8/site-packages/keras/engine/training.py:838\u001B[0m, in \u001B[0;36mModel.metrics\u001B[0;34m(self)\u001B[0m\n\u001B[1;32m    835\u001B[0m     \u001B[38;5;28;01mif\u001B[39;00m \u001B[38;5;28mself\u001B[39m\u001B[38;5;241m.\u001B[39mcompiled_metrics \u001B[38;5;129;01mis\u001B[39;00m \u001B[38;5;129;01mnot\u001B[39;00m \u001B[38;5;28;01mNone\u001B[39;00m:\n\u001B[1;32m    836\u001B[0m         metrics \u001B[38;5;241m+\u001B[39m\u001B[38;5;241m=\u001B[39m \u001B[38;5;28mself\u001B[39m\u001B[38;5;241m.\u001B[39mcompiled_metrics\u001B[38;5;241m.\u001B[39mmetrics\n\u001B[0;32m--> 838\u001B[0m \u001B[38;5;28;01mfor\u001B[39;00m l \u001B[38;5;129;01min\u001B[39;00m \u001B[38;5;28mself\u001B[39m\u001B[38;5;241m.\u001B[39m_flatten_layers():\n\u001B[1;32m    839\u001B[0m     metrics\u001B[38;5;241m.\u001B[39mextend(l\u001B[38;5;241m.\u001B[39m_metrics)\n\u001B[1;32m    840\u001B[0m \u001B[38;5;28;01mreturn\u001B[39;00m metrics\n",
      "File \u001B[0;32m~/miniconda/envs/mlenv/lib/python3.8/site-packages/keras/engine/base_layer.py:3176\u001B[0m, in \u001B[0;36mLayer._flatten_layers\u001B[0;34m(self, recursive, include_self)\u001B[0m\n\u001B[1;32m   3172\u001B[0m \u001B[38;5;28;01mfor\u001B[39;00m m \u001B[38;5;129;01min\u001B[39;00m \u001B[38;5;28mself\u001B[39m\u001B[38;5;241m.\u001B[39m_flatten_modules(\n\u001B[1;32m   3173\u001B[0m     recursive\u001B[38;5;241m=\u001B[39mrecursive, include_self\u001B[38;5;241m=\u001B[39minclude_self\n\u001B[1;32m   3174\u001B[0m ):\n\u001B[1;32m   3175\u001B[0m     \u001B[38;5;28;01mif\u001B[39;00m \u001B[38;5;28misinstance\u001B[39m(m, Layer):\n\u001B[0;32m-> 3176\u001B[0m         \u001B[38;5;28;01myield\u001B[39;00m m\n",
      "\u001B[0;31mKeyboardInterrupt\u001B[0m: "
     ]
    }
   ],
   "source": [
    "# Create folders and callbacks and fit\n",
    "callbacks = create_folders_and_callbacks(model_name='ResNet_CNN_FT1')\n",
    "\n",
    "# Train the model\n",
    "history = resnet_Model.fit(\n",
    "    x = aug_train_gen,\n",
    "    epochs = 90,\n",
    "    validation_data = valid_gen,\n",
    "    callbacks = callbacks,\n",
    ").history"
   ],
   "metadata": {
    "collapsed": false
   }
  },
  {
   "cell_type": "code",
   "execution_count": 95,
   "outputs": [
    {
     "name": "stderr",
     "output_type": "stream",
     "text": [
      "WARNING:absl:Found untraced functions such as _jit_compiled_convolution_op, _jit_compiled_convolution_op, _jit_compiled_convolution_op, _jit_compiled_convolution_op, _jit_compiled_convolution_op while saving (showing 5 of 53). These functions will not be directly callable after loading.\n"
     ]
    },
    {
     "name": "stdout",
     "output_type": "stream",
     "text": [
      "INFO:tensorflow:Assets written to: ResNet_CNN/assets\n"
     ]
    },
    {
     "name": "stderr",
     "output_type": "stream",
     "text": [
      "INFO:tensorflow:Assets written to: ResNet_CNN/assets\n"
     ]
    }
   ],
   "source": [
    "# Saving the last epoch of the train\n",
    "save_dir = os.path.join('ResNet_CNN')\n",
    "resnet_Model.save(save_dir)"
   ],
   "metadata": {
    "collapsed": false
   }
  },
  {
   "cell_type": "markdown",
   "source": [
    "## Graphs Visualization"
   ],
   "metadata": {
    "collapsed": false
   }
  },
  {
   "cell_type": "code",
   "execution_count": 96,
   "outputs": [
    {
     "data": {
      "text/plain": "<Figure size 2000x1000 with 1 Axes>",
      "image/png": "[encoded data removed]"
     },
     "metadata": {},
     "output_type": "display_data"
    }
   ],
   "source": [
    "# All the metrics : Accuracy, Precision and Recall\n",
    "ALPHA = 0.3\n",
    "\n",
    "plt.figure(figsize=(20,10))\n",
    "\n",
    "plt.plot(history['accuracy'], label='Accuracy Train', alpha=ALPHA, color='#E64A19')\n",
    "plt.plot(history['val_accuracy'], label='Accuracy Val', alpha=ALPHA, color='#F57C00')\n",
    "\n",
    "plt.ylim(0, 1)\n",
    "plt.title('Metrics')\n",
    "plt.legend(loc='lower right')\n",
    "plt.grid(alpha=.3)\n",
    "plt.show()"
   ],
   "metadata": {
    "collapsed": false
   }
  },
  {
   "cell_type": "markdown",
   "source": [
    "## Confusion Matrix"
   ],
   "metadata": {
    "collapsed": false
   }
  },
  {
   "cell_type": "code",
   "execution_count": 100,
   "outputs": [
    {
     "name": "stdout",
     "output_type": "stream",
     "text": [
      "(Input) image shape: (64, 96, 96, 3)\n",
      "Target shape: (64, 8)\n",
      "\n",
      "Categorical label: [0. 0. 1. 0. 0. 0. 0. 0.]\n",
      "Label: 2\n",
      "Class name: Species3\n",
      "2/2 [==============================] - 0s 52ms/step\n"
     ]
    },
    {
     "data": {
      "text/plain": "<AxesSubplot:>"
     },
     "execution_count": 100,
     "metadata": {},
     "output_type": "execute_result"
    },
    {
     "data": {
      "text/plain": "<Figure size 600x400 with 2 Axes>",
      "image/png": "[encoded data removed]"
     },
     "metadata": {},
     "output_type": "display_data"
    }
   ],
   "source": [
    "x,y=get_next_batch(valid_gen)\n",
    "predictions=resnet_Model.predict(x)\n",
    "predictions.shape\n",
    "cm = confusion_matrix(np.argmax(y, axis=-1), np.argmax(predictions, axis=-1))\n",
    "sns.heatmap(cm.T,xticklabels=list(labels), yticklabels=list(labels))"
   ],
   "metadata": {
    "collapsed": false
   }
  },
  {
   "cell_type": "code",
   "execution_count": null,
   "outputs": [],
   "source": [],
   "metadata": {
    "collapsed": false
   }
  }
 ],
 "metadata": {
  "kernelspec": {
   "display_name": "Python 3",
   "language": "python",
   "name": "python3"
  },
  "language_info": {
   "codemirror_mode": {
    "name": "ipython",
    "version": 2
   },
   "file_extension": ".py",
   "mimetype": "text/x-python",
   "name": "python",
   "nbconvert_exporter": "python",
   "pygments_lexer": "ipython2",
   "version": "2.7.6"
  }
 },
 "nbformat": 4,
 "nbformat_minor": 0
}
