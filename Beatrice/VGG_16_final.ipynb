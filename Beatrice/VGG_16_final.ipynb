{
 "cells": [
  {
   "cell_type": "code",
   "execution_count": 1,
   "id": "e13f453d",
   "metadata": {
    "execution": {
     "iopub.execute_input": "2022-11-19T17:19:40.304322Z",
     "iopub.status.busy": "2022-11-19T17:19:40.303413Z",
     "iopub.status.idle": "2022-11-19T17:19:43.898186Z",
     "shell.execute_reply": "2022-11-19T17:19:43.897299Z",
     "shell.execute_reply.started": "2022-11-19T17:19:40.304283Z"
    }
   },
   "outputs": [
    {
     "name": "stdout",
     "output_type": "stream",
     "text": [
      "2.10.0\n"
     ]
    }
   ],
   "source": [
    "\n",
    "import tensorflow as tf\n",
    "import numpy as np\n",
    "import os\n",
    "import random\n",
    "import pandas as pd\n",
    "import seaborn as sns\n",
    "import matplotlib as mpl\n",
    "import matplotlib.pyplot as plt\n",
    "from sklearn.model_selection import train_test_split\n",
    "from sklearn.metrics import accuracy_score, f1_score, precision_score, recall_score\n",
    "from sklearn.metrics import confusion_matrix\n",
    "from PIL import Image\n",
    "from tensorflow.keras.preprocessing.image import ImageDataGenerator\n",
    "from keras.applications.vgg19 import preprocess_input\n",
    "from keras.regularizers import l2\n",
    "\n",
    "\n",
    "\n",
    "tfk = tf.keras\n",
    "tfkl = tf.keras.layers\n",
    "print(tf.__version__)"
   ]
  },
  {
   "cell_type": "code",
   "execution_count": 2,
   "id": "23fddb00",
   "metadata": {
    "execution": {
     "iopub.execute_input": "2022-11-19T17:19:43.900553Z",
     "iopub.status.busy": "2022-11-19T17:19:43.899750Z",
     "iopub.status.idle": "2022-11-19T17:19:43.905891Z",
     "shell.execute_reply": "2022-11-19T17:19:43.905029Z",
     "shell.execute_reply.started": "2022-11-19T17:19:43.900522Z"
    }
   },
   "outputs": [],
   "source": [
    "seed = 21\n",
    "\n",
    "random.seed(seed)\n",
    "os.environ['PYTHONHASHSEED'] = str(seed)\n",
    "np.random.seed(seed)\n",
    "tf.random.set_seed(seed)\n",
    "tf.compat.v1.set_random_seed(seed)"
   ]
  },
  {
   "cell_type": "code",
   "execution_count": 4,
   "id": "bd417def",
   "metadata": {
    "execution": {
     "iopub.execute_input": "2022-11-19T17:23:56.768756Z",
     "iopub.status.busy": "2022-11-19T17:23:56.768062Z",
     "iopub.status.idle": "2022-11-19T17:23:56.772477Z",
     "shell.execute_reply": "2022-11-19T17:23:56.771758Z",
     "shell.execute_reply.started": "2022-11-19T17:23:56.768723Z"
    }
   },
   "outputs": [],
   "source": [
    "# Dataset folders \n",
    "dataset_dir = 'dataset96'\n",
    "training_dir = \"dataset96/train\"\n",
    "validation_dir = \"dataset96/val\""
   ]
  },
  {
   "cell_type": "code",
   "execution_count": 5,
   "id": "822e3657",
   "metadata": {
    "execution": {
     "iopub.execute_input": "2022-11-19T17:23:58.264776Z",
     "iopub.status.busy": "2022-11-19T17:23:58.263891Z",
     "iopub.status.idle": "2022-11-19T17:23:58.269021Z",
     "shell.execute_reply": "2022-11-19T17:23:58.268183Z",
     "shell.execute_reply.started": "2022-11-19T17:23:58.264741Z"
    }
   },
   "outputs": [],
   "source": [
    "# All the categories to classify the dataset\n",
    "labels = ['Species1',              # 0\n",
    "          'Species2',          # 1\n",
    "          \"Species3\",             # 2\n",
    "          \"Species4\",          # 3\n",
    "          \"Species5\",            # 4\n",
    "          \"Species6\",             # 5\n",
    "          \"Species7\",         # 6\n",
    "          \"Species8\"]             # 7"
   ]
  },
  {
   "cell_type": "code",
   "execution_count": 6,
   "id": "afc0ea4d",
   "metadata": {
    "execution": {
     "iopub.execute_input": "2022-11-19T17:25:00.551148Z",
     "iopub.status.busy": "2022-11-19T17:25:00.550252Z",
     "iopub.status.idle": "2022-11-19T17:25:00.708306Z",
     "shell.execute_reply": "2022-11-19T17:25:00.707312Z",
     "shell.execute_reply.started": "2022-11-19T17:25:00.551111Z"
    }
   },
   "outputs": [
    {
     "name": "stdout",
     "output_type": "stream",
     "text": [
      "Found 2829 images belonging to 8 classes.\n",
      "Found 713 images belonging to 8 classes.\n"
     ]
    }
   ],
   "source": [
    "aug_train_data_gen = ImageDataGenerator(rotation_range=50,\n",
    "                                        height_shift_range=5,\n",
    "                                        width_shift_range=5,\n",
    "                                        zoom_range=0.5,\n",
    "                                        shear_range=0.1,\n",
    "                                        horizontal_flip=True,\n",
    "                                        vertical_flip=True, \n",
    "                                        fill_mode='reflect',\n",
    "                                        rescale=1/255.) # rescale value is multiplied to the image\n",
    "\n",
    "# Obtain a data generator with the 'ImageDataGenerator.flow_from_directory' method\n",
    "aug_train_gen = aug_train_data_gen.flow_from_directory(directory=training_dir,\n",
    "                                                       target_size=(96,96),\n",
    "                                                       interpolation=\"bicubic\",\n",
    "                                                       color_mode='rgb',\n",
    "                                                       classes=labels, # can be set to labels\n",
    "                                                       class_mode='categorical',\n",
    "                                                       batch_size=128,\n",
    "                                                       shuffle=True,\n",
    "                                                       seed=seed)\n",
    "\n",
    "valid_data_gen = ImageDataGenerator(rescale=1/255.)\n",
    "\n",
    "valid_gen = valid_data_gen.flow_from_directory(directory=validation_dir,\n",
    "                                               target_size=(96,96),\n",
    "                                               interpolation=\"bicubic\",\n",
    "                                               color_mode='rgb',\n",
    "                                               classes=labels, # can be set to labels\n",
    "                                               class_mode='categorical',\n",
    "                                               batch_size=128,\n",
    "                                               shuffle=True,\n",
    "                                               seed=seed)"
   ]
  },
  {
   "cell_type": "code",
   "execution_count": 7,
   "id": "03068c78",
   "metadata": {
    "execution": {
     "iopub.execute_input": "2022-11-19T17:25:04.746044Z",
     "iopub.status.busy": "2022-11-19T17:25:04.745197Z",
     "iopub.status.idle": "2022-11-19T17:25:04.752416Z",
     "shell.execute_reply": "2022-11-19T17:25:04.751154Z",
     "shell.execute_reply.started": "2022-11-19T17:25:04.746011Z"
    }
   },
   "outputs": [],
   "source": [
    "def get_next_batch(generator):\n",
    "  batch = next(generator)\n",
    "    \n",
    "  print(\"batch \\n\")\n",
    "  #print(batch)\n",
    "\n",
    "  image = batch[0]*255\n",
    "  target = batch[1]\n",
    "\n",
    "  print(\"(Input) image shape:\", image.shape)\n",
    "  print(\"Target shape:\",target.shape)\n",
    "\n",
    "  # Visualize only the first sample\n",
    "  image = image[0]\n",
    "  target = target[0]\n",
    "  target_idx = np.argmax(target)\n",
    "  print()\n",
    "  print(\"Categorical label:\", target)\n",
    "  print(\"Label:\", target_idx)\n",
    "  print(\"Class name:\", labels[target_idx])\n",
    "  fig = plt.figure(figsize=(6, 4))\n",
    "  plt.imshow(np.uint8(image))\n",
    "\n",
    "  return batch"
   ]
  },
  {
   "cell_type": "code",
   "execution_count": 8,
   "id": "0b98897b",
   "metadata": {
    "execution": {
     "iopub.execute_input": "2022-11-19T17:25:06.547963Z",
     "iopub.status.busy": "2022-11-19T17:25:06.547242Z",
     "iopub.status.idle": "2022-11-19T17:25:08.577592Z",
     "shell.execute_reply": "2022-11-19T17:25:08.576543Z",
     "shell.execute_reply.started": "2022-11-19T17:25:06.547930Z"
    }
   },
   "outputs": [
    {
     "name": "stdout",
     "output_type": "stream",
     "text": [
      "batch \n",
      "\n",
      "(Input) image shape: (128, 96, 96, 3)\n",
      "Target shape: (128, 8)\n",
      "\n",
      "Categorical label: [0. 0. 0. 1. 0. 0. 0. 0.]\n",
      "Label: 3\n",
      "Class name: Species4\n"
     ]
    },
    {
     "data": {
      "image/png": "[encoded data removed]",
      "text/plain": [
       "<Figure size 600x400 with 1 Axes>"
      ]
     },
     "metadata": {},
     "output_type": "display_data"
    }
   ],
   "source": [
    "# Get a sample from dataset and show info\n",
    "_ = get_next_batch(aug_train_gen)"
   ]
  },
  {
   "cell_type": "code",
   "execution_count": 11,
   "id": "b9d1268f",
   "metadata": {},
   "outputs": [
    {
     "name": "stdout",
     "output_type": "stream",
     "text": [
      "{0: 2.3866906474820144, 1: 0.831453634085213, 2: 0.8594559585492227, 3: 0.8661879895561357, 4: 0.8335427135678392, 5: 1.9984939759036144, 6: 0.8252487562189055, 7: 0.8707349081364829}\n"
     ]
    }
   ],
   "source": [
    "# This calculate the weights for all the classes\n",
    "# by counting the number of images for each class\n",
    "# and dividing by the number of total images\n",
    "category_weight = {}\n",
    "elements_per_class = {}\n",
    "i=0\n",
    "classes = 8\n",
    "path = \"datasetNoTest2/train\"\n",
    "dirs = os.listdir(path)\n",
    "for d in dirs:\n",
    "    category_weight[i] = 0.0\n",
    "    elements_per_class[i] = len(os.listdir(path+\"/\"+d))\n",
    "    i=i+1\n",
    "\n",
    "total_images = sum(elements_per_class.values())\n",
    "\n",
    "for i in category_weight.keys():\n",
    "    category_weight[i] = total_images / (classes * elements_per_class[i])\n",
    "    \n",
    "print(category_weight)"
   ]
  },
  {
   "cell_type": "code",
   "execution_count": 12,
   "id": "e326c7ab",
   "metadata": {
    "execution": {
     "iopub.execute_input": "2022-11-19T17:25:11.574820Z",
     "iopub.status.busy": "2022-11-19T17:25:11.574383Z",
     "iopub.status.idle": "2022-11-19T17:25:11.579481Z",
     "shell.execute_reply": "2022-11-19T17:25:11.578577Z",
     "shell.execute_reply.started": "2022-11-19T17:25:11.574790Z"
    }
   },
   "outputs": [],
   "source": [
    "\n",
    "class_weights = {0: 2.389358108108108, \n",
    "                 1: 0.8320588235294117, \n",
    "                 2: 0.8583131067961165, \n",
    "                 3: 0.8667279411764706, \n",
    "                 4: 0.8340212264150944, \n",
    "                 5: 1.9978813559322033, \n",
    "                 6: 0.8243006993006993, \n",
    "                 7: 0.8709975369458128}"
   ]
  },
  {
   "cell_type": "code",
   "execution_count": 13,
   "id": "12ee6431",
   "metadata": {
    "execution": {
     "iopub.execute_input": "2022-11-19T17:47:49.844657Z",
     "iopub.status.busy": "2022-11-19T17:47:49.844301Z",
     "iopub.status.idle": "2022-11-19T17:47:50.471750Z",
     "shell.execute_reply": "2022-11-19T17:47:50.470911Z",
     "shell.execute_reply.started": "2022-11-19T17:47:49.844632Z"
    }
   },
   "outputs": [
    {
     "name": "stdout",
     "output_type": "stream",
     "text": [
      "Model: \"sequential\"\n",
      "_________________________________________________________________\n",
      " Layer (type)                Output Shape              Param #   \n",
      "=================================================================\n",
      " vgg16 (Functional)          (None, 3, 3, 512)         14714688  \n",
      "                                                                 \n",
      " flatten (Flatten)           (None, 4608)              0         \n",
      "                                                                 \n",
      " dropout (Dropout)           (None, 4608)              0         \n",
      "                                                                 \n",
      " dense (Dense)               (None, 512)               2359808   \n",
      "                                                                 \n",
      " dense_1 (Dense)             (None, 8)                 4104      \n",
      "                                                                 \n",
      "=================================================================\n",
      "Total params: 17,078,600\n",
      "Trainable params: 17,078,600\n",
      "Non-trainable params: 0\n",
      "_________________________________________________________________\n"
     ]
    }
   ],
   "source": [
    "# VGG16 architrecture taken from: https://github.com/keras-team/keras-applications/blob/master/keras_applications/vgg16.py\n",
    "m_batch_size = 64\n",
    "m_epochs = 100\n",
    "m_img_h = 96 # Height of the image.\n",
    "m_img_w = 96 # Width of the image.\n",
    "m_num_classes = 3 # Number of classes.\n",
    "m_resize_size = (96,96)\n",
    "m_rescale = 1/255 # Rescale to bring the color from the [0, 255] range to the [0, 1] range.\n",
    "m_regularizer_value = 0.0001 # The L2 regularizer value to be used on the model to avoid overfitting.\n",
    "m_freeze_layer = 0 # Layer to freeze in th VGG16 model.\n",
    "\n",
    "# Settings\n",
    "enable_validation_set = True # Set to False to avoid splitting the training data in training and validation.\n",
    "enable_early_stop = True\n",
    "enable_finetuning_on_vgg_model = True\n",
    "enable_model_checkpoint = False # Disabled due too much storage utilization on Google Drive.\n",
    "reduce_lr_on_plateau = True\n",
    "adaptive_learning_rate = False\n",
    "\n",
    "img_input = tf.keras.layers.Input(shape=[96, 96, 3])\n",
    "x = tf.keras.layers.Conv2D(64, (3, 3), activation='relu', padding='same', name='block1_conv1', kernel_regularizer=l2(m_regularizer_value))(img_input)\n",
    "x = tf.keras.layers.Conv2D(64, (3, 3), activation='relu', padding='same', name='block1_conv2', kernel_regularizer=l2(m_regularizer_value))(x)\n",
    "x = tf.keras.layers.MaxPooling2D((2, 2), strides=(2, 2), name='block1_pool')(x)\n",
    "x = tf.keras.layers.Conv2D(128, (3, 3), activation='relu', padding='same', name='block2_conv1', kernel_regularizer=l2(m_regularizer_value))(x)\n",
    "x = tf.keras.layers.Conv2D(128, (3, 3), activation='relu', padding='same', name='block2_conv2', kernel_regularizer=l2(m_regularizer_value))(x)\n",
    "x = tf.keras.layers.MaxPooling2D((2, 2), strides=(2, 2), name='block2_pool')(x)\n",
    "x = tf.keras.layers.Conv2D(256, (3, 3), activation='relu', padding='same', name='block3_conv1', kernel_regularizer=l2(m_regularizer_value))(x)\n",
    "x = tf.keras.layers.Conv2D(256, (3, 3), activation='relu', padding='same', name='block3_conv2', kernel_regularizer=l2(m_regularizer_value))(x)\n",
    "x = tf.keras.layers.Conv2D(256, (3, 3), activation='relu', padding='same', name='block3_conv3', kernel_regularizer=l2(m_regularizer_value))(x)\n",
    "x = tf.keras.layers.MaxPooling2D((2, 2), strides=(2, 2), name='block3_pool')(x)\n",
    "x = tf.keras.layers.Conv2D(512, (3, 3), activation='relu', padding='same', name='block4_conv1', kernel_regularizer=l2(m_regularizer_value))(x)\n",
    "x = tf.keras.layers.Conv2D(512, (3, 3), activation='relu', padding='same', name='block4_conv2', kernel_regularizer=l2(m_regularizer_value))(x)\n",
    "x = tf.keras.layers.Conv2D(512, (3, 3), activation='relu', padding='same', name='block4_conv3', kernel_regularizer=l2(m_regularizer_value))(x)\n",
    "x = tf.keras.layers.MaxPooling2D((2, 2), strides=(2, 2), name='block4_pool')(x)\n",
    "x = tf.keras.layers.Conv2D(512, (3, 3), activation='relu', padding='same', name='block5_conv1', kernel_regularizer=l2(m_regularizer_value))(x)\n",
    "x = tf.keras.layers.Conv2D(512, (3, 3), activation='relu', padding='same', name='block5_conv2', kernel_regularizer=l2(m_regularizer_value))(x)\n",
    "x = tf.keras.layers.Conv2D(512, (3, 3), activation='relu', padding='same', name='block5_conv3', kernel_regularizer=l2(m_regularizer_value))(x)\n",
    "x = tf.keras.layers.MaxPooling2D((2, 2), strides=(2, 2), name='block5_pool')(x)\n",
    "vgg = tf.keras.Model(img_input, x, name='vgg16')\n",
    "vgg.load_weights('vgg16_weights_tf_dim_ordering_tf_kernels_notop.h5') # Weights downloaded from: https://github.com/fchollet/deep-learning-models/releases/download/v0.1/vgg16_weights_tf_dim_ordering_tf_kernels_notop.h5\n",
    "if enable_finetuning_on_vgg_model:\n",
    "  freeze_until = m_freeze_layer # Layer from which we want to fine-tune.\n",
    "  for layer in vgg.layers[:freeze_until]:\n",
    "    layer.trainable = False\n",
    "else:\n",
    "  vgg.trainable = False\n",
    "model = tf.keras.Sequential()\n",
    "model.add(vgg)\n",
    "model.add(tf.keras.layers.Flatten())\n",
    "model.add(tf.keras.layers.Dropout(0.3, seed = seed))\n",
    "model.add(tf.keras.layers.Dense(units=512, activation='relu', kernel_regularizer=l2(m_regularizer_value)))\n",
    "model.add(tf.keras.layers.Dense(units=8, activation='softmax', kernel_regularizer=l2(m_regularizer_value)))\n",
    "model.summary()"
   ]
  },
  {
   "cell_type": "code",
   "execution_count": 14,
   "id": "e9b970c9",
   "metadata": {
    "execution": {
     "iopub.execute_input": "2022-11-19T17:47:53.365565Z",
     "iopub.status.busy": "2022-11-19T17:47:53.363886Z",
     "iopub.status.idle": "2022-11-19T17:47:53.372194Z",
     "shell.execute_reply": "2022-11-19T17:47:53.371105Z",
     "shell.execute_reply.started": "2022-11-19T17:47:53.365497Z"
    }
   },
   "outputs": [],
   "source": [
    "callbacks = [tfk.callbacks.EarlyStopping(monitor='val_accuracy', mode='max', patience=10, restore_best_weights=True), tf.keras.callbacks.ModelCheckpoint(filepath='/notebooks/model_checkpoints/vgg19t.h5',verbose=1,monitor='val_accuracy', save_best_only=True, mode='max')]"
   ]
  },
  {
   "cell_type": "code",
   "execution_count": 15,
   "id": "1807ea76",
   "metadata": {
    "execution": {
     "iopub.execute_input": "2022-11-19T17:47:55.070808Z",
     "iopub.status.busy": "2022-11-19T17:47:55.070032Z",
     "iopub.status.idle": "2022-11-19T17:47:55.080389Z",
     "shell.execute_reply": "2022-11-19T17:47:55.079414Z",
     "shell.execute_reply.started": "2022-11-19T17:47:55.070770Z"
    }
   },
   "outputs": [],
   "source": [
    "model.compile(\n",
    "    optimizer=tf.keras.optimizers.Adam(learning_rate=5e-5),\n",
    "    loss=tf.keras.losses.CategoricalCrossentropy(),\n",
    "    metrics=['accuracy'])"
   ]
  },
  {
   "cell_type": "code",
   "execution_count": 16,
   "id": "08d9894f",
   "metadata": {
    "execution": {
     "iopub.execute_input": "2022-11-19T17:47:56.418827Z",
     "iopub.status.busy": "2022-11-19T17:47:56.417782Z",
     "iopub.status.idle": "2022-11-19T17:56:08.795205Z",
     "shell.execute_reply": "2022-11-19T17:56:08.794075Z",
     "shell.execute_reply.started": "2022-11-19T17:47:56.418774Z"
    },
    "scrolled": true
   },
   "outputs": [
    {
     "name": "stdout",
     "output_type": "stream",
     "text": [
      "Epoch 1/100\n",
      "23/23 [==============================] - ETA: 0s - loss: 2.1811 - accuracy: 0.2411\n",
      "Epoch 1: val_accuracy improved from -inf to 0.36045, saving model to /notebooks/model_checkpoints\\vgg19t.h5\n",
      "23/23 [==============================] - 152s 7s/step - loss: 2.1811 - accuracy: 0.2411 - val_loss: 1.7749 - val_accuracy: 0.3604\n",
      "Epoch 2/100\n",
      "23/23 [==============================] - ETA: 0s - loss: 1.7857 - accuracy: 0.4072\n",
      "Epoch 2: val_accuracy improved from 0.36045 to 0.49369, saving model to /notebooks/model_checkpoints\\vgg19t.h5\n",
      "23/23 [==============================] - 161s 7s/step - loss: 1.7857 - accuracy: 0.4072 - val_loss: 1.5394 - val_accuracy: 0.4937\n",
      "Epoch 3/100\n",
      "23/23 [==============================] - ETA: 0s - loss: 1.6565 - accuracy: 0.4422\n",
      "Epoch 3: val_accuracy improved from 0.49369 to 0.53857, saving model to /notebooks/model_checkpoints\\vgg19t.h5\n",
      "23/23 [==============================] - 162s 7s/step - loss: 1.6565 - accuracy: 0.4422 - val_loss: 1.4744 - val_accuracy: 0.5386\n",
      "Epoch 4/100\n",
      "23/23 [==============================] - ETA: 0s - loss: 1.5214 - accuracy: 0.5101\n",
      "Epoch 4: val_accuracy did not improve from 0.53857\n",
      "23/23 [==============================] - 163s 7s/step - loss: 1.5214 - accuracy: 0.5101 - val_loss: 1.5208 - val_accuracy: 0.4839\n",
      "Epoch 5/100\n",
      "23/23 [==============================] - ETA: 0s - loss: 1.4407 - accuracy: 0.5394\n",
      "Epoch 5: val_accuracy improved from 0.53857 to 0.58065, saving model to /notebooks/model_checkpoints\\vgg19t.h5\n",
      "23/23 [==============================] - 161s 7s/step - loss: 1.4407 - accuracy: 0.5394 - val_loss: 1.2981 - val_accuracy: 0.5806\n",
      "Epoch 6/100\n",
      "23/23 [==============================] - ETA: 0s - loss: 1.3047 - accuracy: 0.5924\n",
      "Epoch 6: val_accuracy improved from 0.58065 to 0.61290, saving model to /notebooks/model_checkpoints\\vgg19t.h5\n",
      "23/23 [==============================] - 159s 7s/step - loss: 1.3047 - accuracy: 0.5924 - val_loss: 1.1909 - val_accuracy: 0.6129\n",
      "Epoch 7/100\n",
      "23/23 [==============================] - ETA: 0s - loss: 1.2497 - accuracy: 0.6154\n",
      "Epoch 7: val_accuracy improved from 0.61290 to 0.68163, saving model to /notebooks/model_checkpoints\\vgg19t.h5\n",
      "23/23 [==============================] - 163s 7s/step - loss: 1.2497 - accuracy: 0.6154 - val_loss: 1.1280 - val_accuracy: 0.6816\n",
      "Epoch 8/100\n",
      "23/23 [==============================] - ETA: 0s - loss: 1.1903 - accuracy: 0.6437\n",
      "Epoch 8: val_accuracy improved from 0.68163 to 0.71248, saving model to /notebooks/model_checkpoints\\vgg19t.h5\n",
      "23/23 [==============================] - 167s 7s/step - loss: 1.1903 - accuracy: 0.6437 - val_loss: 1.0141 - val_accuracy: 0.7125\n",
      "Epoch 9/100\n",
      "23/23 [==============================] - ETA: 0s - loss: 1.0705 - accuracy: 0.6964\n",
      "Epoch 9: val_accuracy improved from 0.71248 to 0.73633, saving model to /notebooks/model_checkpoints\\vgg19t.h5\n",
      "23/23 [==============================] - 162s 7s/step - loss: 1.0705 - accuracy: 0.6964 - val_loss: 0.9502 - val_accuracy: 0.7363\n",
      "Epoch 10/100\n",
      "23/23 [==============================] - ETA: 0s - loss: 1.0291 - accuracy: 0.7109\n",
      "Epoch 10: val_accuracy improved from 0.73633 to 0.74194, saving model to /notebooks/model_checkpoints\\vgg19t.h5\n",
      "23/23 [==============================] - 172s 7s/step - loss: 1.0291 - accuracy: 0.7109 - val_loss: 0.9375 - val_accuracy: 0.7419\n",
      "Epoch 11/100\n",
      "23/23 [==============================] - ETA: 0s - loss: 0.9771 - accuracy: 0.7285\n",
      "Epoch 11: val_accuracy improved from 0.74194 to 0.75456, saving model to /notebooks/model_checkpoints\\vgg19t.h5\n",
      "23/23 [==============================] - 167s 7s/step - loss: 0.9771 - accuracy: 0.7285 - val_loss: 0.9006 - val_accuracy: 0.7546\n",
      "Epoch 12/100\n",
      "23/23 [==============================] - ETA: 0s - loss: 1.0663 - accuracy: 0.6911\n",
      "Epoch 12: val_accuracy did not improve from 0.75456\n",
      "23/23 [==============================] - 165s 7s/step - loss: 1.0663 - accuracy: 0.6911 - val_loss: 0.9906 - val_accuracy: 0.7419\n",
      "Epoch 13/100\n",
      "23/23 [==============================] - ETA: 0s - loss: 0.9723 - accuracy: 0.7317\n",
      "Epoch 13: val_accuracy did not improve from 0.75456\n",
      "23/23 [==============================] - 162s 7s/step - loss: 0.9723 - accuracy: 0.7317 - val_loss: 1.1322 - val_accuracy: 0.6676\n",
      "Epoch 14/100\n",
      "23/23 [==============================] - ETA: 0s - loss: 0.8901 - accuracy: 0.7660\n",
      "Epoch 14: val_accuracy improved from 0.75456 to 0.81627, saving model to /notebooks/model_checkpoints\\vgg19t.h5\n",
      "23/23 [==============================] - 165s 7s/step - loss: 0.8901 - accuracy: 0.7660 - val_loss: 0.8072 - val_accuracy: 0.8163\n",
      "Epoch 15/100\n",
      "23/23 [==============================] - ETA: 0s - loss: 0.8418 - accuracy: 0.7819\n",
      "Epoch 15: val_accuracy did not improve from 0.81627\n",
      "23/23 [==============================] - 162s 7s/step - loss: 0.8418 - accuracy: 0.7819 - val_loss: 0.8022 - val_accuracy: 0.8065\n",
      "Epoch 16/100\n",
      "23/23 [==============================] - ETA: 0s - loss: 0.8198 - accuracy: 0.7929\n",
      "Epoch 16: val_accuracy did not improve from 0.81627\n",
      "23/23 [==============================] - 158s 7s/step - loss: 0.8198 - accuracy: 0.7929 - val_loss: 0.7589 - val_accuracy: 0.7966\n",
      "Epoch 17/100\n",
      "23/23 [==============================] - ETA: 0s - loss: 0.7879 - accuracy: 0.8024\n",
      "Epoch 17: val_accuracy did not improve from 0.81627\n",
      "23/23 [==============================] - 162s 7s/step - loss: 0.7879 - accuracy: 0.8024 - val_loss: 0.8616 - val_accuracy: 0.7686\n",
      "Epoch 18/100\n",
      "23/23 [==============================] - ETA: 0s - loss: 0.8145 - accuracy: 0.7943\n",
      "Epoch 18: val_accuracy did not improve from 0.81627\n",
      "23/23 [==============================] - 164s 7s/step - loss: 0.8145 - accuracy: 0.7943 - val_loss: 0.7751 - val_accuracy: 0.8079\n",
      "Epoch 19/100\n",
      "23/23 [==============================] - ETA: 0s - loss: 0.7831 - accuracy: 0.7946\n",
      "Epoch 19: val_accuracy did not improve from 0.81627\n",
      "23/23 [==============================] - 195s 9s/step - loss: 0.7831 - accuracy: 0.7946 - val_loss: 0.8859 - val_accuracy: 0.7489\n",
      "Epoch 20/100\n",
      "23/23 [==============================] - ETA: 0s - loss: 0.7430 - accuracy: 0.8264\n",
      "Epoch 20: val_accuracy did not improve from 0.81627\n",
      "23/23 [==============================] - 233s 10s/step - loss: 0.7430 - accuracy: 0.8264 - val_loss: 0.9955 - val_accuracy: 0.7335\n",
      "Epoch 21/100\n",
      "23/23 [==============================] - ETA: 0s - loss: 0.7571 - accuracy: 0.8021\n",
      "Epoch 21: val_accuracy did not improve from 0.81627\n",
      "23/23 [==============================] - 213s 9s/step - loss: 0.7571 - accuracy: 0.8021 - val_loss: 0.8887 - val_accuracy: 0.7798\n",
      "Epoch 22/100\n",
      "23/23 [==============================] - ETA: 0s - loss: 0.7760 - accuracy: 0.8151\n",
      "Epoch 22: val_accuracy did not improve from 0.81627\n",
      "23/23 [==============================] - 163s 7s/step - loss: 0.7760 - accuracy: 0.8151 - val_loss: 0.8240 - val_accuracy: 0.7938\n",
      "Epoch 23/100\n",
      "23/23 [==============================] - ETA: 0s - loss: 0.7080 - accuracy: 0.8279\n",
      "Epoch 23: val_accuracy did not improve from 0.81627\n",
      "23/23 [==============================] - 160s 7s/step - loss: 0.7080 - accuracy: 0.8279 - val_loss: 0.8173 - val_accuracy: 0.7966\n",
      "Epoch 24/100\n",
      "23/23 [==============================] - ETA: 0s - loss: 0.7105 - accuracy: 0.8289\n",
      "Epoch 24: val_accuracy improved from 0.81627 to 0.84572, saving model to /notebooks/model_checkpoints\\vgg19t.h5\n",
      "23/23 [==============================] - 160s 7s/step - loss: 0.7105 - accuracy: 0.8289 - val_loss: 0.6994 - val_accuracy: 0.8457\n",
      "Epoch 25/100\n",
      "23/23 [==============================] - ETA: 0s - loss: 0.6601 - accuracy: 0.8462\n",
      "Epoch 25: val_accuracy did not improve from 0.84572\n",
      "23/23 [==============================] - 160s 7s/step - loss: 0.6601 - accuracy: 0.8462 - val_loss: 0.7357 - val_accuracy: 0.8191\n",
      "Epoch 26/100\n",
      "23/23 [==============================] - ETA: 0s - loss: 0.6342 - accuracy: 0.8473\n",
      "Epoch 26: val_accuracy did not improve from 0.84572\n",
      "23/23 [==============================] - 157s 7s/step - loss: 0.6342 - accuracy: 0.8473 - val_loss: 0.7069 - val_accuracy: 0.8429\n",
      "Epoch 27/100\n",
      "23/23 [==============================] - ETA: 0s - loss: 0.6897 - accuracy: 0.8342\n",
      "Epoch 27: val_accuracy did not improve from 0.84572\n",
      "23/23 [==============================] - 162s 7s/step - loss: 0.6897 - accuracy: 0.8342 - val_loss: 0.6986 - val_accuracy: 0.8373\n"
     ]
    },
    {
     "name": "stdout",
     "output_type": "stream",
     "text": [
      "Epoch 28/100\n",
      "23/23 [==============================] - ETA: 0s - loss: 0.6650 - accuracy: 0.8395\n",
      "Epoch 28: val_accuracy did not improve from 0.84572\n",
      "23/23 [==============================] - 164s 7s/step - loss: 0.6650 - accuracy: 0.8395 - val_loss: 0.6954 - val_accuracy: 0.8373\n",
      "Epoch 29/100\n",
      "23/23 [==============================] - ETA: 0s - loss: 0.6212 - accuracy: 0.8572\n",
      "Epoch 29: val_accuracy did not improve from 0.84572\n",
      "23/23 [==============================] - 162s 7s/step - loss: 0.6212 - accuracy: 0.8572 - val_loss: 0.7513 - val_accuracy: 0.8247\n",
      "Epoch 30/100\n",
      " 1/23 [>.............................] - ETA: 20s - loss: 0.3514 - accuracy: 0.9231"
     ]
    },
    {
     "ename": "KeyboardInterrupt",
     "evalue": "",
     "output_type": "error",
     "traceback": [
      "\u001b[1;31m---------------------------------------------------------------------------\u001b[0m",
      "\u001b[1;31mKeyboardInterrupt\u001b[0m                         Traceback (most recent call last)",
      "\u001b[1;32m~\\AppData\\Local\\Temp\\ipykernel_10856\\432120111.py\u001b[0m in \u001b[0;36m<module>\u001b[1;34m\u001b[0m\n\u001b[0;32m      1\u001b[0m \u001b[1;32mif\u001b[0m \u001b[0menable_validation_set\u001b[0m\u001b[1;33m:\u001b[0m\u001b[1;33m\u001b[0m\u001b[1;33m\u001b[0m\u001b[0m\n\u001b[1;32m----> 2\u001b[1;33m   history = model.fit(x=aug_train_gen,\n\u001b[0m\u001b[0;32m      3\u001b[0m                       \u001b[0mepochs\u001b[0m\u001b[1;33m=\u001b[0m\u001b[0mm_epochs\u001b[0m\u001b[1;33m,\u001b[0m\u001b[1;33m\u001b[0m\u001b[1;33m\u001b[0m\u001b[0m\n\u001b[0;32m      4\u001b[0m                       \u001b[0msteps_per_epoch\u001b[0m\u001b[1;33m=\u001b[0m\u001b[0mlen\u001b[0m\u001b[1;33m(\u001b[0m\u001b[0maug_train_gen\u001b[0m\u001b[1;33m)\u001b[0m\u001b[1;33m,\u001b[0m \u001b[1;31m# len(train_gen) already considers the batch size!\u001b[0m\u001b[1;33m\u001b[0m\u001b[1;33m\u001b[0m\u001b[0m\n\u001b[0;32m      5\u001b[0m                       \u001b[0mvalidation_data\u001b[0m\u001b[1;33m=\u001b[0m\u001b[0mvalid_gen\u001b[0m\u001b[1;33m,\u001b[0m\u001b[1;33m\u001b[0m\u001b[1;33m\u001b[0m\u001b[0m\n",
      "\u001b[1;32m~\\anaconda3\\lib\\site-packages\\keras\\utils\\traceback_utils.py\u001b[0m in \u001b[0;36merror_handler\u001b[1;34m(*args, **kwargs)\u001b[0m\n\u001b[0;32m     63\u001b[0m         \u001b[0mfiltered_tb\u001b[0m \u001b[1;33m=\u001b[0m \u001b[1;32mNone\u001b[0m\u001b[1;33m\u001b[0m\u001b[1;33m\u001b[0m\u001b[0m\n\u001b[0;32m     64\u001b[0m         \u001b[1;32mtry\u001b[0m\u001b[1;33m:\u001b[0m\u001b[1;33m\u001b[0m\u001b[1;33m\u001b[0m\u001b[0m\n\u001b[1;32m---> 65\u001b[1;33m             \u001b[1;32mreturn\u001b[0m \u001b[0mfn\u001b[0m\u001b[1;33m(\u001b[0m\u001b[1;33m*\u001b[0m\u001b[0margs\u001b[0m\u001b[1;33m,\u001b[0m \u001b[1;33m**\u001b[0m\u001b[0mkwargs\u001b[0m\u001b[1;33m)\u001b[0m\u001b[1;33m\u001b[0m\u001b[1;33m\u001b[0m\u001b[0m\n\u001b[0m\u001b[0;32m     66\u001b[0m         \u001b[1;32mexcept\u001b[0m \u001b[0mException\u001b[0m \u001b[1;32mas\u001b[0m \u001b[0me\u001b[0m\u001b[1;33m:\u001b[0m\u001b[1;33m\u001b[0m\u001b[1;33m\u001b[0m\u001b[0m\n\u001b[0;32m     67\u001b[0m             \u001b[0mfiltered_tb\u001b[0m \u001b[1;33m=\u001b[0m \u001b[0m_process_traceback_frames\u001b[0m\u001b[1;33m(\u001b[0m\u001b[0me\u001b[0m\u001b[1;33m.\u001b[0m\u001b[0m__traceback__\u001b[0m\u001b[1;33m)\u001b[0m\u001b[1;33m\u001b[0m\u001b[1;33m\u001b[0m\u001b[0m\n",
      "\u001b[1;32m~\\anaconda3\\lib\\site-packages\\keras\\engine\\training.py\u001b[0m in \u001b[0;36mfit\u001b[1;34m(self, x, y, batch_size, epochs, verbose, callbacks, validation_split, validation_data, shuffle, class_weight, sample_weight, initial_epoch, steps_per_epoch, validation_steps, validation_batch_size, validation_freq, max_queue_size, workers, use_multiprocessing)\u001b[0m\n\u001b[0;32m   1562\u001b[0m                         ):\n\u001b[0;32m   1563\u001b[0m                             \u001b[0mcallbacks\u001b[0m\u001b[1;33m.\u001b[0m\u001b[0mon_train_batch_begin\u001b[0m\u001b[1;33m(\u001b[0m\u001b[0mstep\u001b[0m\u001b[1;33m)\u001b[0m\u001b[1;33m\u001b[0m\u001b[1;33m\u001b[0m\u001b[0m\n\u001b[1;32m-> 1564\u001b[1;33m                             \u001b[0mtmp_logs\u001b[0m \u001b[1;33m=\u001b[0m \u001b[0mself\u001b[0m\u001b[1;33m.\u001b[0m\u001b[0mtrain_function\u001b[0m\u001b[1;33m(\u001b[0m\u001b[0miterator\u001b[0m\u001b[1;33m)\u001b[0m\u001b[1;33m\u001b[0m\u001b[1;33m\u001b[0m\u001b[0m\n\u001b[0m\u001b[0;32m   1565\u001b[0m                             \u001b[1;32mif\u001b[0m \u001b[0mdata_handler\u001b[0m\u001b[1;33m.\u001b[0m\u001b[0mshould_sync\u001b[0m\u001b[1;33m:\u001b[0m\u001b[1;33m\u001b[0m\u001b[1;33m\u001b[0m\u001b[0m\n\u001b[0;32m   1566\u001b[0m                                 \u001b[0mcontext\u001b[0m\u001b[1;33m.\u001b[0m\u001b[0masync_wait\u001b[0m\u001b[1;33m(\u001b[0m\u001b[1;33m)\u001b[0m\u001b[1;33m\u001b[0m\u001b[1;33m\u001b[0m\u001b[0m\n",
      "\u001b[1;32m~\\anaconda3\\lib\\site-packages\\tensorflow\\python\\util\\traceback_utils.py\u001b[0m in \u001b[0;36merror_handler\u001b[1;34m(*args, **kwargs)\u001b[0m\n\u001b[0;32m    148\u001b[0m     \u001b[0mfiltered_tb\u001b[0m \u001b[1;33m=\u001b[0m \u001b[1;32mNone\u001b[0m\u001b[1;33m\u001b[0m\u001b[1;33m\u001b[0m\u001b[0m\n\u001b[0;32m    149\u001b[0m     \u001b[1;32mtry\u001b[0m\u001b[1;33m:\u001b[0m\u001b[1;33m\u001b[0m\u001b[1;33m\u001b[0m\u001b[0m\n\u001b[1;32m--> 150\u001b[1;33m       \u001b[1;32mreturn\u001b[0m \u001b[0mfn\u001b[0m\u001b[1;33m(\u001b[0m\u001b[1;33m*\u001b[0m\u001b[0margs\u001b[0m\u001b[1;33m,\u001b[0m \u001b[1;33m**\u001b[0m\u001b[0mkwargs\u001b[0m\u001b[1;33m)\u001b[0m\u001b[1;33m\u001b[0m\u001b[1;33m\u001b[0m\u001b[0m\n\u001b[0m\u001b[0;32m    151\u001b[0m     \u001b[1;32mexcept\u001b[0m \u001b[0mException\u001b[0m \u001b[1;32mas\u001b[0m \u001b[0me\u001b[0m\u001b[1;33m:\u001b[0m\u001b[1;33m\u001b[0m\u001b[1;33m\u001b[0m\u001b[0m\n\u001b[0;32m    152\u001b[0m       \u001b[0mfiltered_tb\u001b[0m \u001b[1;33m=\u001b[0m \u001b[0m_process_traceback_frames\u001b[0m\u001b[1;33m(\u001b[0m\u001b[0me\u001b[0m\u001b[1;33m.\u001b[0m\u001b[0m__traceback__\u001b[0m\u001b[1;33m)\u001b[0m\u001b[1;33m\u001b[0m\u001b[1;33m\u001b[0m\u001b[0m\n",
      "\u001b[1;32m~\\anaconda3\\lib\\site-packages\\tensorflow\\python\\eager\\def_function.py\u001b[0m in \u001b[0;36m__call__\u001b[1;34m(self, *args, **kwds)\u001b[0m\n\u001b[0;32m    913\u001b[0m \u001b[1;33m\u001b[0m\u001b[0m\n\u001b[0;32m    914\u001b[0m       \u001b[1;32mwith\u001b[0m \u001b[0mOptionalXlaContext\u001b[0m\u001b[1;33m(\u001b[0m\u001b[0mself\u001b[0m\u001b[1;33m.\u001b[0m\u001b[0m_jit_compile\u001b[0m\u001b[1;33m)\u001b[0m\u001b[1;33m:\u001b[0m\u001b[1;33m\u001b[0m\u001b[1;33m\u001b[0m\u001b[0m\n\u001b[1;32m--> 915\u001b[1;33m         \u001b[0mresult\u001b[0m \u001b[1;33m=\u001b[0m \u001b[0mself\u001b[0m\u001b[1;33m.\u001b[0m\u001b[0m_call\u001b[0m\u001b[1;33m(\u001b[0m\u001b[1;33m*\u001b[0m\u001b[0margs\u001b[0m\u001b[1;33m,\u001b[0m \u001b[1;33m**\u001b[0m\u001b[0mkwds\u001b[0m\u001b[1;33m)\u001b[0m\u001b[1;33m\u001b[0m\u001b[1;33m\u001b[0m\u001b[0m\n\u001b[0m\u001b[0;32m    916\u001b[0m \u001b[1;33m\u001b[0m\u001b[0m\n\u001b[0;32m    917\u001b[0m       \u001b[0mnew_tracing_count\u001b[0m \u001b[1;33m=\u001b[0m \u001b[0mself\u001b[0m\u001b[1;33m.\u001b[0m\u001b[0mexperimental_get_tracing_count\u001b[0m\u001b[1;33m(\u001b[0m\u001b[1;33m)\u001b[0m\u001b[1;33m\u001b[0m\u001b[1;33m\u001b[0m\u001b[0m\n",
      "\u001b[1;32m~\\anaconda3\\lib\\site-packages\\tensorflow\\python\\eager\\def_function.py\u001b[0m in \u001b[0;36m_call\u001b[1;34m(self, *args, **kwds)\u001b[0m\n\u001b[0;32m    945\u001b[0m       \u001b[1;31m# In this case we have created variables on the first call, so we run the\u001b[0m\u001b[1;33m\u001b[0m\u001b[1;33m\u001b[0m\u001b[0m\n\u001b[0;32m    946\u001b[0m       \u001b[1;31m# defunned version which is guaranteed to never create variables.\u001b[0m\u001b[1;33m\u001b[0m\u001b[1;33m\u001b[0m\u001b[0m\n\u001b[1;32m--> 947\u001b[1;33m       \u001b[1;32mreturn\u001b[0m \u001b[0mself\u001b[0m\u001b[1;33m.\u001b[0m\u001b[0m_stateless_fn\u001b[0m\u001b[1;33m(\u001b[0m\u001b[1;33m*\u001b[0m\u001b[0margs\u001b[0m\u001b[1;33m,\u001b[0m \u001b[1;33m**\u001b[0m\u001b[0mkwds\u001b[0m\u001b[1;33m)\u001b[0m  \u001b[1;31m# pylint: disable=not-callable\u001b[0m\u001b[1;33m\u001b[0m\u001b[1;33m\u001b[0m\u001b[0m\n\u001b[0m\u001b[0;32m    948\u001b[0m     \u001b[1;32melif\u001b[0m \u001b[0mself\u001b[0m\u001b[1;33m.\u001b[0m\u001b[0m_stateful_fn\u001b[0m \u001b[1;32mis\u001b[0m \u001b[1;32mnot\u001b[0m \u001b[1;32mNone\u001b[0m\u001b[1;33m:\u001b[0m\u001b[1;33m\u001b[0m\u001b[1;33m\u001b[0m\u001b[0m\n\u001b[0;32m    949\u001b[0m       \u001b[1;31m# Release the lock early so that multiple threads can perform the call\u001b[0m\u001b[1;33m\u001b[0m\u001b[1;33m\u001b[0m\u001b[0m\n",
      "\u001b[1;32m~\\anaconda3\\lib\\site-packages\\tensorflow\\python\\eager\\function.py\u001b[0m in \u001b[0;36m__call__\u001b[1;34m(self, *args, **kwargs)\u001b[0m\n\u001b[0;32m   2494\u001b[0m       (graph_function,\n\u001b[0;32m   2495\u001b[0m        filtered_flat_args) = self._maybe_define_function(args, kwargs)\n\u001b[1;32m-> 2496\u001b[1;33m     return graph_function._call_flat(\n\u001b[0m\u001b[0;32m   2497\u001b[0m         filtered_flat_args, captured_inputs=graph_function.captured_inputs)  # pylint: disable=protected-access\n\u001b[0;32m   2498\u001b[0m \u001b[1;33m\u001b[0m\u001b[0m\n",
      "\u001b[1;32m~\\anaconda3\\lib\\site-packages\\tensorflow\\python\\eager\\function.py\u001b[0m in \u001b[0;36m_call_flat\u001b[1;34m(self, args, captured_inputs, cancellation_manager)\u001b[0m\n\u001b[0;32m   1860\u001b[0m         and executing_eagerly):\n\u001b[0;32m   1861\u001b[0m       \u001b[1;31m# No tape is watching; skip to running the function.\u001b[0m\u001b[1;33m\u001b[0m\u001b[1;33m\u001b[0m\u001b[0m\n\u001b[1;32m-> 1862\u001b[1;33m       return self._build_call_outputs(self._inference_function.call(\n\u001b[0m\u001b[0;32m   1863\u001b[0m           ctx, args, cancellation_manager=cancellation_manager))\n\u001b[0;32m   1864\u001b[0m     forward_backward = self._select_forward_and_backward_functions(\n",
      "\u001b[1;32m~\\anaconda3\\lib\\site-packages\\tensorflow\\python\\eager\\function.py\u001b[0m in \u001b[0;36mcall\u001b[1;34m(self, ctx, args, cancellation_manager)\u001b[0m\n\u001b[0;32m    497\u001b[0m       \u001b[1;32mwith\u001b[0m \u001b[0m_InterpolateFunctionError\u001b[0m\u001b[1;33m(\u001b[0m\u001b[0mself\u001b[0m\u001b[1;33m)\u001b[0m\u001b[1;33m:\u001b[0m\u001b[1;33m\u001b[0m\u001b[1;33m\u001b[0m\u001b[0m\n\u001b[0;32m    498\u001b[0m         \u001b[1;32mif\u001b[0m \u001b[0mcancellation_manager\u001b[0m \u001b[1;32mis\u001b[0m \u001b[1;32mNone\u001b[0m\u001b[1;33m:\u001b[0m\u001b[1;33m\u001b[0m\u001b[1;33m\u001b[0m\u001b[0m\n\u001b[1;32m--> 499\u001b[1;33m           outputs = execute.execute(\n\u001b[0m\u001b[0;32m    500\u001b[0m               \u001b[0mstr\u001b[0m\u001b[1;33m(\u001b[0m\u001b[0mself\u001b[0m\u001b[1;33m.\u001b[0m\u001b[0msignature\u001b[0m\u001b[1;33m.\u001b[0m\u001b[0mname\u001b[0m\u001b[1;33m)\u001b[0m\u001b[1;33m,\u001b[0m\u001b[1;33m\u001b[0m\u001b[1;33m\u001b[0m\u001b[0m\n\u001b[0;32m    501\u001b[0m               \u001b[0mnum_outputs\u001b[0m\u001b[1;33m=\u001b[0m\u001b[0mself\u001b[0m\u001b[1;33m.\u001b[0m\u001b[0m_num_outputs\u001b[0m\u001b[1;33m,\u001b[0m\u001b[1;33m\u001b[0m\u001b[1;33m\u001b[0m\u001b[0m\n",
      "\u001b[1;32m~\\anaconda3\\lib\\site-packages\\tensorflow\\python\\eager\\execute.py\u001b[0m in \u001b[0;36mquick_execute\u001b[1;34m(op_name, num_outputs, inputs, attrs, ctx, name)\u001b[0m\n\u001b[0;32m     52\u001b[0m   \u001b[1;32mtry\u001b[0m\u001b[1;33m:\u001b[0m\u001b[1;33m\u001b[0m\u001b[1;33m\u001b[0m\u001b[0m\n\u001b[0;32m     53\u001b[0m     \u001b[0mctx\u001b[0m\u001b[1;33m.\u001b[0m\u001b[0mensure_initialized\u001b[0m\u001b[1;33m(\u001b[0m\u001b[1;33m)\u001b[0m\u001b[1;33m\u001b[0m\u001b[1;33m\u001b[0m\u001b[0m\n\u001b[1;32m---> 54\u001b[1;33m     tensors = pywrap_tfe.TFE_Py_Execute(ctx._handle, device_name, op_name,\n\u001b[0m\u001b[0;32m     55\u001b[0m                                         inputs, attrs, num_outputs)\n\u001b[0;32m     56\u001b[0m   \u001b[1;32mexcept\u001b[0m \u001b[0mcore\u001b[0m\u001b[1;33m.\u001b[0m\u001b[0m_NotOkStatusException\u001b[0m \u001b[1;32mas\u001b[0m \u001b[0me\u001b[0m\u001b[1;33m:\u001b[0m\u001b[1;33m\u001b[0m\u001b[1;33m\u001b[0m\u001b[0m\n",
      "\u001b[1;31mKeyboardInterrupt\u001b[0m: "
     ]
    }
   ],
   "source": [
    "if enable_validation_set:\n",
    "  history = model.fit(x=aug_train_gen,\n",
    "                      epochs=m_epochs,\n",
    "                      steps_per_epoch=len(aug_train_gen), # len(train_gen) already considers the batch size!\n",
    "                      validation_data=valid_gen,\n",
    "                      class_weight=class_weights,\n",
    "                      validation_steps=len(valid_gen), # len(valid_gen) already considers the batch size!\n",
    "                      callbacks=callbacks)\n",
    "else:\n",
    "  history = model.fit(x=train_dataset,\n",
    "                      epochs=m_epochs,\n",
    "                      steps_per_epoch=len(train_gen), # len(train_gen) already considers the batch size!\n",
    "                      callbacks=callbacks)"
   ]
  },
  {
   "cell_type": "code",
   "execution_count": 29,
   "id": "a6396b67",
   "metadata": {
    "execution": {
     "iopub.execute_input": "2022-11-19T17:56:44.925034Z",
     "iopub.status.busy": "2022-11-19T17:56:44.924099Z",
     "iopub.status.idle": "2022-11-19T17:57:30.535353Z",
     "shell.execute_reply": "2022-11-19T17:57:30.533965Z",
     "shell.execute_reply.started": "2022-11-19T17:56:44.924991Z"
    }
   },
   "outputs": [
    {
     "name": "stderr",
     "output_type": "stream",
     "text": [
      "WARNING:absl:Found untraced functions such as _jit_compiled_convolution_op, _jit_compiled_convolution_op, _jit_compiled_convolution_op, _jit_compiled_convolution_op, _jit_compiled_convolution_op while saving (showing 5 of 13). These functions will not be directly callable after loading.\n"
     ]
    },
    {
     "name": "stdout",
     "output_type": "stream",
     "text": [
      "INFO:tensorflow:Assets written to: Good_VGG_2.1/assets\n"
     ]
    },
    {
     "name": "stderr",
     "output_type": "stream",
     "text": [
      "INFO:tensorflow:Assets written to: Good_VGG_2.1/assets\n"
     ]
    }
   ],
   "source": [
    "model.save(\"Good_VGG_2.1\")"
   ]
  }
 ],
 "metadata": {
  "kernelspec": {
   "display_name": "Python 3 (ipykernel)",
   "language": "python",
   "name": "python3"
  },
  "language_info": {
   "codemirror_mode": {
    "name": "ipython",
    "version": 3
   },
   "file_extension": ".py",
   "mimetype": "text/x-python",
   "name": "python",
   "nbconvert_exporter": "python",
   "pygments_lexer": "ipython3",
   "version": "3.9.13"
  }
 },
 "nbformat": 4,
 "nbformat_minor": 5
}
