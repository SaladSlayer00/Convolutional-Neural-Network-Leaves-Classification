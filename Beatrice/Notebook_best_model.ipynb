{
 "cells": [
  {
   "cell_type": "markdown",
   "metadata": {
    "id": "5ap-RxwAzWTf"
   },
   "source": [
    "# Introduction"
   ]
  },
  {
   "cell_type": "markdown",
   "metadata": {
    "id": "EBP9jUxrzZyR"
   },
   "source": [
    "The following notebook is our solution to the Image Classification challenge of the couse Artificial Neural Networks and Deep Learning from Politecnico di Milano, A.Y. 2021/2022"
   ]
  },
  {
   "cell_type": "markdown",
   "metadata": {
    "id": "gOGQf6zwz2ij"
   },
   "source": [
    "The following code has been used to build our best model on the test set used during the development phase, several other models have been tried and clearly described in the full report of our decision process. In this notebooks there are references to paragraphs of the report in which we describe better how decisions have been taken and comparison whit different solution are taken into account"
   ]
  },
  {
   "cell_type": "markdown",
   "metadata": {
    "id": "mZZzL0jOz5EK"
   },
   "source": [
    "**During the final phase we load various of our top models and we observed a better test accuracy with a previous model that differs from this one only in the lack of preprocessing. We think that differences between the two notebooks are minimum (only the VGG16 preprocessing is omitted), so we send only this notebook, which is significant of our work.**"
   ]
  },
  {
   "cell_type": "markdown",
   "metadata": {
    "id": "yItiotEv04Hx"
   },
   "source": [
    "Team name: romano_ercolani\n",
    "\n",
    "*   Team name: romano_ercolani\n",
    "*   Members: Romanò Francesco | Ercolani Antonio\n",
    "\n"
   ]
  },
  {
   "cell_type": "markdown",
   "metadata": {
    "id": "X2M6JrlVylx4"
   },
   "source": [
    "# Data loading"
   ]
  },
  {
   "cell_type": "markdown",
   "metadata": {
    "id": "iLzMHJiXys7q"
   },
   "source": [
    "Small section in which we load the dataset and we print a sample from each class of leaves"
   ]
  },
  {
   "cell_type": "code",
   "execution_count": 1,
   "metadata": {
    "colab": {
     "base_uri": "https://localhost:8080/"
    },
    "id": "EVeMzJ9LYKMO",
    "outputId": "c1ac20e4-e52d-4a5b-cce7-550527f206df"
   },
   "outputs": [
    {
     "ename": "ModuleNotFoundError",
     "evalue": "No module named 'google.colab'",
     "output_type": "error",
     "traceback": [
      "\u001b[1;31m---------------------------------------------------------------------------\u001b[0m",
      "\u001b[1;31mModuleNotFoundError\u001b[0m                       Traceback (most recent call last)",
      "\u001b[1;32m~\\AppData\\Local\\Temp\\ipykernel_10772\\1261173595.py\u001b[0m in \u001b[0;36m<module>\u001b[1;34m\u001b[0m\n\u001b[1;32m----> 1\u001b[1;33m \u001b[1;32mfrom\u001b[0m \u001b[0mgoogle\u001b[0m\u001b[1;33m.\u001b[0m\u001b[0mcolab\u001b[0m \u001b[1;32mimport\u001b[0m \u001b[0mdrive\u001b[0m\u001b[1;33m\u001b[0m\u001b[1;33m\u001b[0m\u001b[0m\n\u001b[0m\u001b[0;32m      2\u001b[0m \u001b[0mdrive\u001b[0m\u001b[1;33m.\u001b[0m\u001b[0mmount\u001b[0m\u001b[1;33m(\u001b[0m\u001b[1;34m'/gdrive'\u001b[0m\u001b[1;33m)\u001b[0m\u001b[1;33m\u001b[0m\u001b[1;33m\u001b[0m\u001b[0m\n",
      "\u001b[1;31mModuleNotFoundError\u001b[0m: No module named 'google.colab'"
     ]
    }
   ],
   "source": [
    "from google.colab import drive\n",
    "drive.mount('/gdrive')"
   ]
  },
  {
   "cell_type": "code",
   "execution_count": null,
   "metadata": {
    "colab": {
     "base_uri": "https://localhost:8080/"
    },
    "id": "jN0DrMzDZfA2",
    "outputId": "e89ae7f9-a732-42ad-bec6-86675914b9e3"
   },
   "outputs": [],
   "source": [
    "%cd /gdrive/MyDrive/ANN-FIRST-CHALLENGE/"
   ]
  },
  {
   "cell_type": "code",
   "execution_count": 1,
   "metadata": {
    "colab": {
     "base_uri": "https://localhost:8080/"
    },
    "id": "pJ2UzxrMZy7l",
    "outputId": "84d0f88b-cec5-47dc-ad5c-f2472957a90f"
   },
   "outputs": [
    {
     "name": "stdout",
     "output_type": "stream",
     "text": [
      "2.10.0\n"
     ]
    }
   ],
   "source": [
    "import os\n",
    "from PIL import Image\n",
    "import tensorflow as tf\n",
    "import numpy as np\n",
    "import random\n",
    "import pandas as pd\n",
    "import seaborn as sns\n",
    "import matplotlib as mpl\n",
    "import matplotlib.pyplot as plt\n",
    "from sklearn.model_selection import train_test_split\n",
    "from sklearn.metrics import accuracy_score, f1_score, precision_score, recall_score\n",
    "from sklearn.metrics import confusion_matrix\n",
    "\n",
    "tfk = tf.keras\n",
    "tfkl = tf.keras.layers\n",
    "print(tf.__version__)"
   ]
  },
  {
   "cell_type": "code",
   "execution_count": 2,
   "metadata": {
    "id": "gn1eDIJkbnpp"
   },
   "outputs": [],
   "source": [
    "dataset_dir = 'datasetNoTest'\n",
    "training_dir = \"datasetNoTest/train\"\n",
    "validation_dir = \"datasetNoTest/val\""
   ]
  },
  {
   "cell_type": "code",
   "execution_count": 3,
   "metadata": {
    "colab": {
     "base_uri": "https://localhost:8080/",
     "height": 1000
    },
    "id": "PioINIOobv7y",
    "outputId": "7910abaf-3ed3-45b5-f3ff-5849cddf616d"
   },
   "outputs": [],
   "source": [
    "# Plot example images from dataset\n",
    "labels = ['Species1',              # 0\n",
    "          'Species2',          # 1\n",
    "          \"Species3\",             # 2\n",
    "          \"Species4\",          # 3\n",
    "          \"Species5\",            # 4\n",
    "          \"Species6\",             # 5\n",
    "          \"Species7\",         # 6\n",
    "          \"Species8\"]             # 7\n"
   ]
  },
  {
   "cell_type": "markdown",
   "metadata": {
    "id": "U2z-DpnA1J5J"
   },
   "source": [
    "# Data Augmentation and preprocessing"
   ]
  },
  {
   "cell_type": "markdown",
   "metadata": {
    "id": "nM8xJebX1d-S"
   },
   "source": [
    "We prepare our dataset and performs data augmentation and preprocessing on input images. Section 3 and last part of Section 4 of the report"
   ]
  },
  {
   "cell_type": "code",
   "execution_count": 4,
   "metadata": {
    "id": "jEruWHedcuaZ"
   },
   "outputs": [],
   "source": [
    "# Random seed is set for reproducibility of results\n",
    "seed = 42\n",
    "\n",
    "random.seed(seed)\n",
    "os.environ['PYTHONHASHSEED'] = str(seed)\n",
    "np.random.seed(seed)\n",
    "tf.random.set_seed(seed)\n",
    "tf.compat.v1.set_random_seed(seed)"
   ]
  },
  {
   "cell_type": "code",
   "execution_count": 5,
   "metadata": {
    "id": "oh0kjXatYNw4"
   },
   "outputs": [],
   "source": [
    "# Set batch size to 128\n",
    "batch_size = 128"
   ]
  },
  {
   "cell_type": "code",
   "execution_count": 6,
   "metadata": {
    "colab": {
     "base_uri": "https://localhost:8080/"
    },
    "id": "AOdS0AFAnhML",
    "outputId": "3033cbdf-1672-4e75-c536-e7342b1a3a57"
   },
   "outputs": [
    {
     "name": "stdout",
     "output_type": "stream",
     "text": [
      "Found 2829 images belonging to 8 classes.\n",
      "Found 713 images belonging to 8 classes.\n"
     ]
    }
   ],
   "source": [
    "from tensorflow.keras.preprocessing.image import ImageDataGenerator\n",
    "\n",
    "from keras.applications.vgg16 import preprocess_input\n",
    "\n",
    "# We instantiate two ImageDataGenerator objects in order to perform data augmentation only on the training set and not in the validation one.\n",
    "# As preprocessing we are using a preprocessing function ad-hoc for VGG16 models (as explained at the end of Section 4 of the report)\n",
    "\n",
    "# In this first generator we set ranges of transormations used for data augmentation on the training set\n",
    "aug_train_data_gen = ImageDataGenerator(rotation_range=50,\n",
    "                                        height_shift_range=5,\n",
    "                                        width_shift_range=5,\n",
    "                                        zoom_range=0.5,\n",
    "                                        shear_range=0.1,\n",
    "                                        horizontal_flip=True,\n",
    "                                        vertical_flip=True, \n",
    "                                        fill_mode='reflect',\n",
    "                                        rescale=1/255.) # rescale value is multiplied to the image\n",
    "\n",
    "# Obtain a data generator with the 'ImageDataGenerator.flow_from_directory' method\n",
    "aug_train_gen = aug_train_data_gen.flow_from_directory(directory=training_dir,\n",
    "                                                       target_size=(96,96),\n",
    "                                                       interpolation=\"bicubic\",\n",
    "                                                       color_mode='rgb',\n",
    "                                                       classes=labels, # can be set to labels\n",
    "                                                       class_mode='categorical',\n",
    "                                                       batch_size=128,\n",
    "                                                       shuffle=True,\n",
    "                                                       seed=seed)\n",
    "\n",
    "valid_data_gen = ImageDataGenerator(rescale=1/255.)\n",
    "\n",
    "valid_gen = valid_data_gen.flow_from_directory(directory=validation_dir,\n",
    "                                               target_size=(96,96),\n",
    "                                               interpolation=\"bicubic\",\n",
    "                                               color_mode='rgb',\n",
    "                                               classes=labels, # can be set to labels\n",
    "                                               class_mode='categorical',\n",
    "                                               batch_size=128,\n",
    "                                               shuffle=True,\n",
    "                                               seed=seed)"
   ]
  },
  {
   "cell_type": "code",
   "execution_count": 7,
   "metadata": {
    "colab": {
     "base_uri": "https://localhost:8080/",
     "height": 430
    },
    "id": "Oqck9ms-a9ug",
    "outputId": "1c8e9081-f460-44ac-ecd4-a26a08af81af"
   },
   "outputs": [
    {
     "data": {
      "image/png": "[encoded data removed]",
      "text/plain": [
       "<Figure size 3000x4500 with 7 Axes>"
      ]
     },
     "metadata": {},
     "output_type": "display_data"
    },
    {
     "data": {
      "image/png": "[encoded data removed]",
      "text/plain": [
       "<Figure size 3000x4500 with 7 Axes>"
      ]
     },
     "metadata": {},
     "output_type": "display_data"
    }
   ],
   "source": [
    "# Here we just explore the results of our Augmentation and Preprocessing phase to see if trasformations have a sense\n",
    "# We can notice that transormations are applied only over the training set and that instead preprocessing (which is clearly visible from the colours) is applied on both, as we want\n",
    "\n",
    "train_batch = next(aug_train_gen)\n",
    "valid_batch = next(valid_gen)\n",
    "\n",
    "fig, ax = plt.subplots(1, 7, figsize=(30,45))\n",
    "for i in range(0,7):\n",
    "  ax[i].imshow(np.uint8(train_batch[0][i]))\n",
    "  ax[i].set_title(\"From training set\")\n",
    "\n",
    "fig, ax = plt.subplots(1, 7, figsize=(30,45))\n",
    "for i in range(0,7):\n",
    "  ax[i].imshow(np.uint8(valid_batch[0][i]))\n",
    "  ax[i].set_title(\"From validation set\")"
   ]
  },
  {
   "cell_type": "code",
   "execution_count": 8,
   "metadata": {
    "colab": {
     "base_uri": "https://localhost:8080/",
     "height": 683
    },
    "id": "C2q3S4U36p-9",
    "outputId": "fa771a48-1bd7-43f7-baa5-bf2af392f4a6"
   },
   "outputs": [
    {
     "data": {
      "image/png": "[encoded data removed]",
      "text/plain": [
       "<Figure size 1500x500 with 1 Axes>"
      ]
     },
     "metadata": {},
     "output_type": "display_data"
    },
    {
     "data": {
      "image/png": "[encoded data removed]",
      "text/plain": [
       "<Figure size 1500x500 with 1 Axes>"
      ]
     },
     "metadata": {},
     "output_type": "display_data"
    }
   ],
   "source": [
    "# Simple exploration of dataset to look how the classes samples are distributed\n",
    "# Plot class distribution in training and validation data\n",
    "plt.figure(figsize=(15,5))\n",
    "sns.histplot(data=pd.DataFrame(aug_train_gen.classes, columns=['digit']), x='digit', kde=True)\n",
    "plt.title(\"Classes occurence in train data\")\n",
    "plt.show()\n",
    "\n",
    "plt.figure(figsize=(15,5))\n",
    "sns.histplot(data=pd.DataFrame(valid_gen.classes, columns=['digit']), x='digit', kde=True)\n",
    "plt.title(\"Classes occurence in val data\")\n",
    "plt.show()\n",
    "\n",
    "# Obs: class distribution is preserved in train and val data"
   ]
  },
  {
   "cell_type": "code",
   "execution_count": 9,
   "metadata": {
    "id": "u7YQdT7B1zcF"
   },
   "outputs": [],
   "source": [
    "# Models metadata used to build and train the model\n",
    "input_shape = (256, 256, 3)\n",
    "epochs = 200"
   ]
  },
  {
   "cell_type": "markdown",
   "metadata": {
    "id": "UOOJUbfO5vN5"
   },
   "source": [
    "# Transfer Learning VGG16"
   ]
  },
  {
   "cell_type": "markdown",
   "metadata": {
    "id": "pxH4vTDc57zT"
   },
   "source": [
    "Transfer Learning of the pre-trained model VGG16. Section 2 of the report"
   ]
  },
  {
   "cell_type": "code",
   "execution_count": 10,
   "metadata": {
    "colab": {
     "base_uri": "https://localhost:8080/",
     "height": 1000
    },
    "id": "azpBGCY_56B-",
    "outputId": "5aed8fa8-6f78-46e6-ac74-36ed664bebca"
   },
   "outputs": [
    {
     "name": "stdout",
     "output_type": "stream",
     "text": [
      "Model: \"vgg16\"\n",
      "_________________________________________________________________\n",
      " Layer (type)                Output Shape              Param #   \n",
      "=================================================================\n",
      " input_1 (InputLayer)        [(None, 256, 256, 3)]     0         \n",
      "                                                                 \n",
      " block1_conv1 (Conv2D)       (None, 256, 256, 64)      1792      \n",
      "                                                                 \n",
      " block1_conv2 (Conv2D)       (None, 256, 256, 64)      36928     \n",
      "                                                                 \n",
      " block1_pool (MaxPooling2D)  (None, 128, 128, 64)      0         \n",
      "                                                                 \n",
      " block2_conv1 (Conv2D)       (None, 128, 128, 128)     73856     \n",
      "                                                                 \n",
      " block2_conv2 (Conv2D)       (None, 128, 128, 128)     147584    \n",
      "                                                                 \n",
      " block2_pool (MaxPooling2D)  (None, 64, 64, 128)       0         \n",
      "                                                                 \n",
      " block3_conv1 (Conv2D)       (None, 64, 64, 256)       295168    \n",
      "                                                                 \n",
      " block3_conv2 (Conv2D)       (None, 64, 64, 256)       590080    \n",
      "                                                                 \n",
      " block3_conv3 (Conv2D)       (None, 64, 64, 256)       590080    \n",
      "                                                                 \n",
      " block3_pool (MaxPooling2D)  (None, 32, 32, 256)       0         \n",
      "                                                                 \n",
      " block4_conv1 (Conv2D)       (None, 32, 32, 512)       1180160   \n",
      "                                                                 \n",
      " block4_conv2 (Conv2D)       (None, 32, 32, 512)       2359808   \n",
      "                                                                 \n",
      " block4_conv3 (Conv2D)       (None, 32, 32, 512)       2359808   \n",
      "                                                                 \n",
      " block4_pool (MaxPooling2D)  (None, 16, 16, 512)       0         \n",
      "                                                                 \n",
      " block5_conv1 (Conv2D)       (None, 16, 16, 512)       2359808   \n",
      "                                                                 \n",
      " block5_conv2 (Conv2D)       (None, 16, 16, 512)       2359808   \n",
      "                                                                 \n",
      " block5_conv3 (Conv2D)       (None, 16, 16, 512)       2359808   \n",
      "                                                                 \n",
      " block5_pool (MaxPooling2D)  (None, 8, 8, 512)         0         \n",
      "                                                                 \n",
      "=================================================================\n",
      "Total params: 14,714,688\n",
      "Trainable params: 14,714,688\n",
      "Non-trainable params: 0\n",
      "_________________________________________________________________\n",
      "You must install pydot (`pip install pydot`) and install graphviz (see instructions at https://graphviz.gitlab.io/download/) for plot_model to work.\n"
     ]
    }
   ],
   "source": [
    "# Model transferred: vgg16\n",
    "supernet = tfk.applications.VGG16(\n",
    "    include_top=False,\n",
    "    weights=\"imagenet\",\n",
    "    input_shape=(256, 256, 3)\n",
    ")\n",
    "supernet.summary()\n",
    "tfk.utils.plot_model(supernet)"
   ]
  },
  {
   "cell_type": "markdown",
   "metadata": {
    "id": "oUfUN8sT6V0s"
   },
   "source": [
    "# Fine Tuning"
   ]
  },
  {
   "cell_type": "markdown",
   "metadata": {
    "id": "LoH9e9j66aNN"
   },
   "source": [
    "Here we set as trainable the last 4 layers of the VGG16 feature extractor part. Section 4 of the report"
   ]
  },
  {
   "cell_type": "code",
   "execution_count": 11,
   "metadata": {
    "colab": {
     "base_uri": "https://localhost:8080/"
    },
    "id": "VY9-hZ0-WBeS",
    "outputId": "460f338e-d02b-47d6-bf3f-5ed127c4e36e"
   },
   "outputs": [
    {
     "name": "stdout",
     "output_type": "stream",
     "text": [
      "0 input_1 False\n",
      "1 block1_conv1 False\n",
      "2 block1_conv2 False\n",
      "3 block1_pool False\n",
      "4 block2_conv1 False\n",
      "5 block2_conv2 False\n",
      "6 block2_pool False\n",
      "7 block3_conv1 False\n",
      "8 block3_conv2 False\n",
      "9 block3_conv3 False\n",
      "10 block3_pool False\n",
      "11 block4_conv1 False\n",
      "12 block4_conv2 False\n",
      "13 block4_conv3 False\n",
      "14 block4_pool False\n",
      "15 block5_conv1 True\n",
      "16 block5_conv2 True\n",
      "17 block5_conv3 True\n",
      "18 block5_pool True\n",
      "Model: \"vgg16\"\n",
      "_________________________________________________________________\n",
      " Layer (type)                Output Shape              Param #   \n",
      "=================================================================\n",
      " input_1 (InputLayer)        [(None, 256, 256, 3)]     0         \n",
      "                                                                 \n",
      " block1_conv1 (Conv2D)       (None, 256, 256, 64)      1792      \n",
      "                                                                 \n",
      " block1_conv2 (Conv2D)       (None, 256, 256, 64)      36928     \n",
      "                                                                 \n",
      " block1_pool (MaxPooling2D)  (None, 128, 128, 64)      0         \n",
      "                                                                 \n",
      " block2_conv1 (Conv2D)       (None, 128, 128, 128)     73856     \n",
      "                                                                 \n",
      " block2_conv2 (Conv2D)       (None, 128, 128, 128)     147584    \n",
      "                                                                 \n",
      " block2_pool (MaxPooling2D)  (None, 64, 64, 128)       0         \n",
      "                                                                 \n",
      " block3_conv1 (Conv2D)       (None, 64, 64, 256)       295168    \n",
      "                                                                 \n",
      " block3_conv2 (Conv2D)       (None, 64, 64, 256)       590080    \n",
      "                                                                 \n",
      " block3_conv3 (Conv2D)       (None, 64, 64, 256)       590080    \n",
      "                                                                 \n",
      " block3_pool (MaxPooling2D)  (None, 32, 32, 256)       0         \n",
      "                                                                 \n",
      " block4_conv1 (Conv2D)       (None, 32, 32, 512)       1180160   \n",
      "                                                                 \n",
      " block4_conv2 (Conv2D)       (None, 32, 32, 512)       2359808   \n",
      "                                                                 \n",
      " block4_conv3 (Conv2D)       (None, 32, 32, 512)       2359808   \n",
      "                                                                 \n",
      " block4_pool (MaxPooling2D)  (None, 16, 16, 512)       0         \n",
      "                                                                 \n",
      " block5_conv1 (Conv2D)       (None, 16, 16, 512)       2359808   \n",
      "                                                                 \n",
      " block5_conv2 (Conv2D)       (None, 16, 16, 512)       2359808   \n",
      "                                                                 \n",
      " block5_conv3 (Conv2D)       (None, 16, 16, 512)       2359808   \n",
      "                                                                 \n",
      " block5_pool (MaxPooling2D)  (None, 8, 8, 512)         0         \n",
      "                                                                 \n",
      "=================================================================\n",
      "Total params: 14,714,688\n",
      "Trainable params: 7,079,424\n",
      "Non-trainable params: 7,635,264\n",
      "_________________________________________________________________\n"
     ]
    }
   ],
   "source": [
    "# Set the trainable layers for the fine tuning\n",
    "\n",
    "supernet.trainable = True\n",
    "\n",
    "for i, layer in enumerate(supernet.layers[:15]):\n",
    "  layer.trainable=False\n",
    "\n",
    "for i, layer in enumerate(supernet.layers):\n",
    "   print(i, layer.name, layer.trainable)\n",
    "supernet.summary()"
   ]
  },
  {
   "cell_type": "markdown",
   "metadata": {
    "id": "T2cp-16L6sCJ"
   },
   "source": [
    "# Dense top classifier and GAP layer"
   ]
  },
  {
   "cell_type": "markdown",
   "metadata": {
    "id": "bLmr37aH60YW"
   },
   "source": [
    "Here we build our classifier used for the final classification after the extraction of features performed by the Fine Tuned VGG16 model. Section 2.1 of the report"
   ]
  },
  {
   "cell_type": "code",
   "execution_count": 12,
   "metadata": {
    "colab": {
     "base_uri": "https://localhost:8080/"
    },
    "id": "5Q7sy_Sg00Qd",
    "outputId": "73c754a0-b45a-42dc-b6bc-fcf74b67b4ec"
   },
   "outputs": [
    {
     "name": "stdout",
     "output_type": "stream",
     "text": [
      "Model: \"model\"\n",
      "_________________________________________________________________\n",
      " Layer (type)                Output Shape              Param #   \n",
      "=================================================================\n",
      " input_2 (InputLayer)        [(None, 256, 256, 3)]     0         \n",
      "                                                                 \n",
      " vgg16 (Functional)          (None, 8, 8, 512)         14714688  \n",
      "                                                                 \n",
      " global_average_pooling2d (G  (None, 512)              0         \n",
      " lobalAveragePooling2D)                                          \n",
      "                                                                 \n",
      " dense (Dense)               (None, 256)               131328    \n",
      "                                                                 \n",
      " dropout (Dropout)           (None, 256)               0         \n",
      "                                                                 \n",
      " dense_1 (Dense)             (None, 8)                 2056      \n",
      "                                                                 \n",
      "=================================================================\n",
      "Total params: 14,848,072\n",
      "Trainable params: 7,212,808\n",
      "Non-trainable params: 7,635,264\n",
      "_________________________________________________________________\n"
     ]
    }
   ],
   "source": [
    "# Create the classifier dense at top of vgg16\n",
    "\n",
    "inputs = tfk.Input(shape=(256,256,3))\n",
    "x = supernet(inputs)\n",
    "x = tfkl.GlobalAveragePooling2D()(x)\n",
    "x = tfkl.Dense(\n",
    "    256, \n",
    "    activation='relu',\n",
    "    kernel_initializer = tfk.initializers.GlorotUniform(seed))(x)\n",
    "x = tfkl.Dropout(0.3, seed=seed)(x)\n",
    "outputs = tfkl.Dense(\n",
    "    8, \n",
    "    activation='softmax',\n",
    "    kernel_initializer = tfk.initializers.GlorotUniform(seed))(x)\n",
    "\n",
    "# Connect input and output through the Model class\n",
    "tl_model = tfk.Model(inputs=inputs, outputs=outputs, name='model')\n",
    "\n",
    "# Compile the model\n",
    "tl_model.compile(loss=tfk.losses.CategoricalCrossentropy(), optimizer=tfk.optimizers.Adam(1e-4), metrics='accuracy')\n",
    "tl_model.summary()"
   ]
  },
  {
   "cell_type": "markdown",
   "metadata": {
    "id": "Gr3FSRa17X-R"
   },
   "source": [
    "# Dealing with class imbalance"
   ]
  },
  {
   "cell_type": "markdown",
   "metadata": {
    "id": "1fzYRpfH7cUW"
   },
   "source": [
    "As seen above the dataset present a bias towards the various classes. Our simple solution to this problem is the creation of class weights, that gives more importance to samples of minority classes and less to majority classes. Section 2.2 of the report"
   ]
  },
  {
   "cell_type": "code",
   "execution_count": 13,
   "metadata": {
    "colab": {
     "base_uri": "https://localhost:8080/"
    },
    "id": "OXUKMsvK3I5X",
    "outputId": "778bbaee-c8f9-4fe5-df00-0229c23fcb19"
   },
   "outputs": [
    {
     "data": {
      "text/plain": [
       "{0: 2.389358108108108,\n",
       " 1: 0.8320588235294117,\n",
       " 2: 0.8583131067961165,\n",
       " 3: 0.8667279411764706,\n",
       " 4: 0.8340212264150944,\n",
       " 5: 1.9978813559322033,\n",
       " 6: 0.8243006993006993,\n",
       " 7: 0.8709975369458128}"
      ]
     },
     "execution_count": 13,
     "metadata": {},
     "output_type": "execute_result"
    }
   ],
   "source": [
    "# Considering class imbalance: class weightning\n",
    "from sklearn.utils.class_weight import compute_class_weight\n",
    "\n",
    "class_weights = compute_class_weight(\n",
    "                                        class_weight = \"balanced\",\n",
    "                                        classes = np.unique(aug_train_gen.classes),\n",
    "                                        y = aug_train_gen.classes                                                   \n",
    "                                    )\n",
    "class_weights = dict(zip(np.unique(aug_train_gen.classes), class_weights))\n",
    "class_weights"
   ]
  },
  {
   "cell_type": "markdown",
   "metadata": {
    "id": "m__W5k_z7_JL"
   },
   "source": [
    "# Training of the model"
   ]
  },
  {
   "cell_type": "markdown",
   "metadata": {
    "id": "iXuL9DK_8Ely"
   },
   "source": [
    "Finally we perform the training of the model using checkpoints and Early Stopping technique. At the end we plot training showing loss function and accuracy both of training and validation"
   ]
  },
  {
   "cell_type": "code",
   "execution_count": 14,
   "metadata": {
    "id": "vVbqiRnj3l0e"
   },
   "outputs": [],
   "source": [
    "# Utility function to create folders and callbacks for training\n",
    "from datetime import datetime\n",
    "\n",
    "def create_folders_and_callbacks(model_name):\n",
    "\n",
    "  exps_dir = os.path.join('Experiment_results')\n",
    "\n",
    "  now = datetime.now().strftime('%b%d_%H-%M-%S')\n",
    "\n",
    "  exp_dir = os.path.join(exps_dir, model_name + '_' + str(now))\n",
    "  if not os.path.exists(exp_dir):\n",
    "      os.makedirs(exp_dir)\n",
    "      \n",
    "  callbacks = []\n",
    "\n",
    "  # Model checkpoint\n",
    "  # ----------------\n",
    "  ckpt_dir = os.path.join(exp_dir, 'ckpts')\n",
    "  if not os.path.exists(ckpt_dir):\n",
    "      os.makedirs(ckpt_dir)\n",
    "\n",
    "  ckpt_callback = tf.keras.callbacks.ModelCheckpoint(filepath=os.path.join(ckpt_dir, 'cp'),\n",
    "                                                     save_weights_only=False,\n",
    "                                                     save_best_only=False)\n",
    "  callbacks.append(ckpt_callback)\n",
    "\n",
    "  # Early Stopping\n",
    "  # --------------\n",
    "  es_callback = tfk.callbacks.EarlyStopping(monitor='val_accuracy', mode='max', patience=10, restore_best_weights=True)\n",
    "  callbacks.append(es_callback)\n",
    "\n",
    "  return callbacks"
   ]
  },
  {
   "cell_type": "code",
   "execution_count": 15,
   "metadata": {
    "colab": {
     "base_uri": "https://localhost:8080/"
    },
    "id": "A8cb8ywCAZl0",
    "outputId": "3398ca47-7c64-4e75-e7f9-421f34357e43",
    "scrolled": true
   },
   "outputs": [
    {
     "name": "stdout",
     "output_type": "stream",
     "text": [
      "Epoch 1/200\n",
      "23/23 [==============================] - ETA: 0s - loss: 1.8298 - accuracy: 0.2899"
     ]
    },
    {
     "name": "stderr",
     "output_type": "stream",
     "text": [
      "WARNING:absl:Found untraced functions such as _jit_compiled_convolution_op, _jit_compiled_convolution_op, _jit_compiled_convolution_op, _jit_compiled_convolution_op, _jit_compiled_convolution_op while saving (showing 5 of 13). These functions will not be directly callable after loading.\n"
     ]
    },
    {
     "name": "stdout",
     "output_type": "stream",
     "text": [
      "INFO:tensorflow:Assets written to: Experiment_results\\VGG16_aug_preprocess_one_train_Nov21_18-53-06\\ckpts\\cp\\assets\n"
     ]
    },
    {
     "name": "stderr",
     "output_type": "stream",
     "text": [
      "INFO:tensorflow:Assets written to: Experiment_results\\VGG16_aug_preprocess_one_train_Nov21_18-53-06\\ckpts\\cp\\assets\n"
     ]
    },
    {
     "name": "stdout",
     "output_type": "stream",
     "text": [
      "23/23 [==============================] - 66s 3s/step - loss: 1.8298 - accuracy: 0.2899 - val_loss: 1.4126 - val_accuracy: 0.4123\n",
      "Epoch 2/200\n",
      "23/23 [==============================] - ETA: 0s - loss: 1.4430 - accuracy: 0.4401"
     ]
    },
    {
     "name": "stderr",
     "output_type": "stream",
     "text": [
      "WARNING:absl:Found untraced functions such as _jit_compiled_convolution_op, _jit_compiled_convolution_op, _jit_compiled_convolution_op, _jit_compiled_convolution_op, _jit_compiled_convolution_op while saving (showing 5 of 13). These functions will not be directly callable after loading.\n"
     ]
    },
    {
     "name": "stdout",
     "output_type": "stream",
     "text": [
      "INFO:tensorflow:Assets written to: Experiment_results\\VGG16_aug_preprocess_one_train_Nov21_18-53-06\\ckpts\\cp\\assets\n"
     ]
    },
    {
     "name": "stderr",
     "output_type": "stream",
     "text": [
      "INFO:tensorflow:Assets written to: Experiment_results\\VGG16_aug_preprocess_one_train_Nov21_18-53-06\\ckpts\\cp\\assets\n"
     ]
    },
    {
     "name": "stdout",
     "output_type": "stream",
     "text": [
      "23/23 [==============================] - 63s 3s/step - loss: 1.4430 - accuracy: 0.4401 - val_loss: 1.2504 - val_accuracy: 0.5386\n",
      "Epoch 3/200\n",
      "23/23 [==============================] - ETA: 0s - loss: 1.3561 - accuracy: 0.4758"
     ]
    },
    {
     "name": "stderr",
     "output_type": "stream",
     "text": [
      "WARNING:absl:Found untraced functions such as _jit_compiled_convolution_op, _jit_compiled_convolution_op, _jit_compiled_convolution_op, _jit_compiled_convolution_op, _jit_compiled_convolution_op while saving (showing 5 of 13). These functions will not be directly callable after loading.\n"
     ]
    },
    {
     "name": "stdout",
     "output_type": "stream",
     "text": [
      "INFO:tensorflow:Assets written to: Experiment_results\\VGG16_aug_preprocess_one_train_Nov21_18-53-06\\ckpts\\cp\\assets\n"
     ]
    },
    {
     "name": "stderr",
     "output_type": "stream",
     "text": [
      "INFO:tensorflow:Assets written to: Experiment_results\\VGG16_aug_preprocess_one_train_Nov21_18-53-06\\ckpts\\cp\\assets\n"
     ]
    },
    {
     "name": "stdout",
     "output_type": "stream",
     "text": [
      "23/23 [==============================] - 61s 3s/step - loss: 1.3561 - accuracy: 0.4758 - val_loss: 1.1145 - val_accuracy: 0.5919\n",
      "Epoch 4/200\n",
      "23/23 [==============================] - ETA: 0s - loss: 1.2569 - accuracy: 0.5483"
     ]
    },
    {
     "name": "stderr",
     "output_type": "stream",
     "text": [
      "WARNING:absl:Found untraced functions such as _jit_compiled_convolution_op, _jit_compiled_convolution_op, _jit_compiled_convolution_op, _jit_compiled_convolution_op, _jit_compiled_convolution_op while saving (showing 5 of 13). These functions will not be directly callable after loading.\n"
     ]
    },
    {
     "name": "stdout",
     "output_type": "stream",
     "text": [
      "INFO:tensorflow:Assets written to: Experiment_results\\VGG16_aug_preprocess_one_train_Nov21_18-53-06\\ckpts\\cp\\assets\n"
     ]
    },
    {
     "name": "stderr",
     "output_type": "stream",
     "text": [
      "INFO:tensorflow:Assets written to: Experiment_results\\VGG16_aug_preprocess_one_train_Nov21_18-53-06\\ckpts\\cp\\assets\n"
     ]
    },
    {
     "name": "stdout",
     "output_type": "stream",
     "text": [
      "23/23 [==============================] - 61s 3s/step - loss: 1.2569 - accuracy: 0.5483 - val_loss: 1.1048 - val_accuracy: 0.6115\n",
      "Epoch 5/200\n",
      "23/23 [==============================] - ETA: 0s - loss: 1.1919 - accuracy: 0.5567"
     ]
    },
    {
     "name": "stderr",
     "output_type": "stream",
     "text": [
      "WARNING:absl:Found untraced functions such as _jit_compiled_convolution_op, _jit_compiled_convolution_op, _jit_compiled_convolution_op, _jit_compiled_convolution_op, _jit_compiled_convolution_op while saving (showing 5 of 13). These functions will not be directly callable after loading.\n"
     ]
    },
    {
     "name": "stdout",
     "output_type": "stream",
     "text": [
      "INFO:tensorflow:Assets written to: Experiment_results\\VGG16_aug_preprocess_one_train_Nov21_18-53-06\\ckpts\\cp\\assets\n"
     ]
    },
    {
     "name": "stderr",
     "output_type": "stream",
     "text": [
      "INFO:tensorflow:Assets written to: Experiment_results\\VGG16_aug_preprocess_one_train_Nov21_18-53-06\\ckpts\\cp\\assets\n"
     ]
    },
    {
     "name": "stdout",
     "output_type": "stream",
     "text": [
      "23/23 [==============================] - 60s 3s/step - loss: 1.1919 - accuracy: 0.5567 - val_loss: 1.0430 - val_accuracy: 0.6297\n",
      "Epoch 6/200\n",
      "23/23 [==============================] - ETA: 0s - loss: 1.1089 - accuracy: 0.6087"
     ]
    },
    {
     "name": "stderr",
     "output_type": "stream",
     "text": [
      "WARNING:absl:Found untraced functions such as _jit_compiled_convolution_op, _jit_compiled_convolution_op, _jit_compiled_convolution_op, _jit_compiled_convolution_op, _jit_compiled_convolution_op while saving (showing 5 of 13). These functions will not be directly callable after loading.\n"
     ]
    },
    {
     "name": "stdout",
     "output_type": "stream",
     "text": [
      "INFO:tensorflow:Assets written to: Experiment_results\\VGG16_aug_preprocess_one_train_Nov21_18-53-06\\ckpts\\cp\\assets\n"
     ]
    },
    {
     "name": "stderr",
     "output_type": "stream",
     "text": [
      "INFO:tensorflow:Assets written to: Experiment_results\\VGG16_aug_preprocess_one_train_Nov21_18-53-06\\ckpts\\cp\\assets\n"
     ]
    },
    {
     "name": "stdout",
     "output_type": "stream",
     "text": [
      "23/23 [==============================] - 61s 3s/step - loss: 1.1089 - accuracy: 0.6087 - val_loss: 1.0659 - val_accuracy: 0.5820\n",
      "Epoch 7/200\n",
      "23/23 [==============================] - ETA: 0s - loss: 1.1319 - accuracy: 0.5818"
     ]
    },
    {
     "name": "stderr",
     "output_type": "stream",
     "text": [
      "WARNING:absl:Found untraced functions such as _jit_compiled_convolution_op, _jit_compiled_convolution_op, _jit_compiled_convolution_op, _jit_compiled_convolution_op, _jit_compiled_convolution_op while saving (showing 5 of 13). These functions will not be directly callable after loading.\n"
     ]
    },
    {
     "name": "stdout",
     "output_type": "stream",
     "text": [
      "INFO:tensorflow:Assets written to: Experiment_results\\VGG16_aug_preprocess_one_train_Nov21_18-53-06\\ckpts\\cp\\assets\n"
     ]
    },
    {
     "name": "stderr",
     "output_type": "stream",
     "text": [
      "INFO:tensorflow:Assets written to: Experiment_results\\VGG16_aug_preprocess_one_train_Nov21_18-53-06\\ckpts\\cp\\assets\n"
     ]
    },
    {
     "name": "stdout",
     "output_type": "stream",
     "text": [
      "23/23 [==============================] - 61s 3s/step - loss: 1.1319 - accuracy: 0.5818 - val_loss: 1.0348 - val_accuracy: 0.6283\n",
      "Epoch 8/200\n",
      "23/23 [==============================] - ETA: 0s - loss: 1.0294 - accuracy: 0.6214"
     ]
    },
    {
     "name": "stderr",
     "output_type": "stream",
     "text": [
      "WARNING:absl:Found untraced functions such as _jit_compiled_convolution_op, _jit_compiled_convolution_op, _jit_compiled_convolution_op, _jit_compiled_convolution_op, _jit_compiled_convolution_op while saving (showing 5 of 13). These functions will not be directly callable after loading.\n"
     ]
    },
    {
     "name": "stdout",
     "output_type": "stream",
     "text": [
      "INFO:tensorflow:Assets written to: Experiment_results\\VGG16_aug_preprocess_one_train_Nov21_18-53-06\\ckpts\\cp\\assets\n"
     ]
    },
    {
     "name": "stderr",
     "output_type": "stream",
     "text": [
      "INFO:tensorflow:Assets written to: Experiment_results\\VGG16_aug_preprocess_one_train_Nov21_18-53-06\\ckpts\\cp\\assets\n"
     ]
    },
    {
     "name": "stdout",
     "output_type": "stream",
     "text": [
      "23/23 [==============================] - 61s 3s/step - loss: 1.0294 - accuracy: 0.6214 - val_loss: 0.9428 - val_accuracy: 0.6522\n",
      "Epoch 9/200\n",
      "23/23 [==============================] - ETA: 0s - loss: 1.0054 - accuracy: 0.6349"
     ]
    },
    {
     "name": "stderr",
     "output_type": "stream",
     "text": [
      "WARNING:absl:Found untraced functions such as _jit_compiled_convolution_op, _jit_compiled_convolution_op, _jit_compiled_convolution_op, _jit_compiled_convolution_op, _jit_compiled_convolution_op while saving (showing 5 of 13). These functions will not be directly callable after loading.\n"
     ]
    },
    {
     "name": "stdout",
     "output_type": "stream",
     "text": [
      "INFO:tensorflow:Assets written to: Experiment_results\\VGG16_aug_preprocess_one_train_Nov21_18-53-06\\ckpts\\cp\\assets\n"
     ]
    },
    {
     "name": "stderr",
     "output_type": "stream",
     "text": [
      "INFO:tensorflow:Assets written to: Experiment_results\\VGG16_aug_preprocess_one_train_Nov21_18-53-06\\ckpts\\cp\\assets\n"
     ]
    },
    {
     "name": "stdout",
     "output_type": "stream",
     "text": [
      "23/23 [==============================] - 61s 3s/step - loss: 1.0054 - accuracy: 0.6349 - val_loss: 0.9614 - val_accuracy: 0.6480\n",
      "Epoch 10/200\n",
      "23/23 [==============================] - ETA: 0s - loss: 1.0339 - accuracy: 0.6144"
     ]
    },
    {
     "name": "stderr",
     "output_type": "stream",
     "text": [
      "WARNING:absl:Found untraced functions such as _jit_compiled_convolution_op, _jit_compiled_convolution_op, _jit_compiled_convolution_op, _jit_compiled_convolution_op, _jit_compiled_convolution_op while saving (showing 5 of 13). These functions will not be directly callable after loading.\n"
     ]
    },
    {
     "name": "stdout",
     "output_type": "stream",
     "text": [
      "INFO:tensorflow:Assets written to: Experiment_results\\VGG16_aug_preprocess_one_train_Nov21_18-53-06\\ckpts\\cp\\assets\n"
     ]
    },
    {
     "name": "stderr",
     "output_type": "stream",
     "text": [
      "INFO:tensorflow:Assets written to: Experiment_results\\VGG16_aug_preprocess_one_train_Nov21_18-53-06\\ckpts\\cp\\assets\n"
     ]
    },
    {
     "name": "stdout",
     "output_type": "stream",
     "text": [
      "23/23 [==============================] - 61s 3s/step - loss: 1.0339 - accuracy: 0.6144 - val_loss: 0.9539 - val_accuracy: 0.6578\n",
      "Epoch 11/200\n",
      "23/23 [==============================] - ETA: 0s - loss: 1.0035 - accuracy: 0.6398"
     ]
    },
    {
     "name": "stderr",
     "output_type": "stream",
     "text": [
      "WARNING:absl:Found untraced functions such as _jit_compiled_convolution_op, _jit_compiled_convolution_op, _jit_compiled_convolution_op, _jit_compiled_convolution_op, _jit_compiled_convolution_op while saving (showing 5 of 13). These functions will not be directly callable after loading.\n"
     ]
    },
    {
     "name": "stdout",
     "output_type": "stream",
     "text": [
      "INFO:tensorflow:Assets written to: Experiment_results\\VGG16_aug_preprocess_one_train_Nov21_18-53-06\\ckpts\\cp\\assets\n"
     ]
    },
    {
     "name": "stderr",
     "output_type": "stream",
     "text": [
      "INFO:tensorflow:Assets written to: Experiment_results\\VGG16_aug_preprocess_one_train_Nov21_18-53-06\\ckpts\\cp\\assets\n"
     ]
    },
    {
     "name": "stdout",
     "output_type": "stream",
     "text": [
      "23/23 [==============================] - 59s 3s/step - loss: 1.0035 - accuracy: 0.6398 - val_loss: 0.9609 - val_accuracy: 0.6255\n",
      "Epoch 12/200\n",
      "23/23 [==============================] - ETA: 0s - loss: 0.9857 - accuracy: 0.6557"
     ]
    },
    {
     "name": "stderr",
     "output_type": "stream",
     "text": [
      "WARNING:absl:Found untraced functions such as _jit_compiled_convolution_op, _jit_compiled_convolution_op, _jit_compiled_convolution_op, _jit_compiled_convolution_op, _jit_compiled_convolution_op while saving (showing 5 of 13). These functions will not be directly callable after loading.\n"
     ]
    },
    {
     "name": "stdout",
     "output_type": "stream",
     "text": [
      "INFO:tensorflow:Assets written to: Experiment_results\\VGG16_aug_preprocess_one_train_Nov21_18-53-06\\ckpts\\cp\\assets\n"
     ]
    },
    {
     "name": "stderr",
     "output_type": "stream",
     "text": [
      "INFO:tensorflow:Assets written to: Experiment_results\\VGG16_aug_preprocess_one_train_Nov21_18-53-06\\ckpts\\cp\\assets\n"
     ]
    },
    {
     "name": "stdout",
     "output_type": "stream",
     "text": [
      "23/23 [==============================] - 59s 3s/step - loss: 0.9857 - accuracy: 0.6557 - val_loss: 0.8681 - val_accuracy: 0.6732\n",
      "Epoch 13/200\n",
      "23/23 [==============================] - ETA: 0s - loss: 0.9571 - accuracy: 0.6667"
     ]
    },
    {
     "name": "stderr",
     "output_type": "stream",
     "text": [
      "WARNING:absl:Found untraced functions such as _jit_compiled_convolution_op, _jit_compiled_convolution_op, _jit_compiled_convolution_op, _jit_compiled_convolution_op, _jit_compiled_convolution_op while saving (showing 5 of 13). These functions will not be directly callable after loading.\n"
     ]
    },
    {
     "name": "stdout",
     "output_type": "stream",
     "text": [
      "INFO:tensorflow:Assets written to: Experiment_results\\VGG16_aug_preprocess_one_train_Nov21_18-53-06\\ckpts\\cp\\assets\n"
     ]
    },
    {
     "name": "stderr",
     "output_type": "stream",
     "text": [
      "INFO:tensorflow:Assets written to: Experiment_results\\VGG16_aug_preprocess_one_train_Nov21_18-53-06\\ckpts\\cp\\assets\n"
     ]
    },
    {
     "name": "stdout",
     "output_type": "stream",
     "text": [
      "23/23 [==============================] - 60s 3s/step - loss: 0.9571 - accuracy: 0.6667 - val_loss: 0.8912 - val_accuracy: 0.6830\n",
      "Epoch 14/200\n",
      "23/23 [==============================] - ETA: 0s - loss: 0.9090 - accuracy: 0.6826"
     ]
    },
    {
     "name": "stderr",
     "output_type": "stream",
     "text": [
      "WARNING:absl:Found untraced functions such as _jit_compiled_convolution_op, _jit_compiled_convolution_op, _jit_compiled_convolution_op, _jit_compiled_convolution_op, _jit_compiled_convolution_op while saving (showing 5 of 13). These functions will not be directly callable after loading.\n"
     ]
    },
    {
     "name": "stdout",
     "output_type": "stream",
     "text": [
      "INFO:tensorflow:Assets written to: Experiment_results\\VGG16_aug_preprocess_one_train_Nov21_18-53-06\\ckpts\\cp\\assets\n"
     ]
    },
    {
     "name": "stderr",
     "output_type": "stream",
     "text": [
      "INFO:tensorflow:Assets written to: Experiment_results\\VGG16_aug_preprocess_one_train_Nov21_18-53-06\\ckpts\\cp\\assets\n"
     ]
    },
    {
     "name": "stdout",
     "output_type": "stream",
     "text": [
      "23/23 [==============================] - 59s 3s/step - loss: 0.9090 - accuracy: 0.6826 - val_loss: 0.8356 - val_accuracy: 0.7027\n",
      "Epoch 15/200\n",
      "23/23 [==============================] - ETA: 0s - loss: 0.9149 - accuracy: 0.6776"
     ]
    },
    {
     "name": "stderr",
     "output_type": "stream",
     "text": [
      "WARNING:absl:Found untraced functions such as _jit_compiled_convolution_op, _jit_compiled_convolution_op, _jit_compiled_convolution_op, _jit_compiled_convolution_op, _jit_compiled_convolution_op while saving (showing 5 of 13). These functions will not be directly callable after loading.\n"
     ]
    },
    {
     "name": "stdout",
     "output_type": "stream",
     "text": [
      "INFO:tensorflow:Assets written to: Experiment_results\\VGG16_aug_preprocess_one_train_Nov21_18-53-06\\ckpts\\cp\\assets\n"
     ]
    },
    {
     "name": "stderr",
     "output_type": "stream",
     "text": [
      "INFO:tensorflow:Assets written to: Experiment_results\\VGG16_aug_preprocess_one_train_Nov21_18-53-06\\ckpts\\cp\\assets\n"
     ]
    },
    {
     "name": "stdout",
     "output_type": "stream",
     "text": [
      "23/23 [==============================] - 60s 3s/step - loss: 0.9149 - accuracy: 0.6776 - val_loss: 0.8352 - val_accuracy: 0.6928\n",
      "Epoch 16/200\n",
      "23/23 [==============================] - ETA: 0s - loss: 0.9095 - accuracy: 0.6833"
     ]
    },
    {
     "name": "stderr",
     "output_type": "stream",
     "text": [
      "WARNING:absl:Found untraced functions such as _jit_compiled_convolution_op, _jit_compiled_convolution_op, _jit_compiled_convolution_op, _jit_compiled_convolution_op, _jit_compiled_convolution_op while saving (showing 5 of 13). These functions will not be directly callable after loading.\n"
     ]
    },
    {
     "name": "stdout",
     "output_type": "stream",
     "text": [
      "INFO:tensorflow:Assets written to: Experiment_results\\VGG16_aug_preprocess_one_train_Nov21_18-53-06\\ckpts\\cp\\assets\n"
     ]
    },
    {
     "name": "stderr",
     "output_type": "stream",
     "text": [
      "INFO:tensorflow:Assets written to: Experiment_results\\VGG16_aug_preprocess_one_train_Nov21_18-53-06\\ckpts\\cp\\assets\n"
     ]
    },
    {
     "name": "stdout",
     "output_type": "stream",
     "text": [
      "23/23 [==============================] - 59s 3s/step - loss: 0.9095 - accuracy: 0.6833 - val_loss: 0.8214 - val_accuracy: 0.7111\n",
      "Epoch 17/200\n",
      "23/23 [==============================] - ETA: 0s - loss: 0.8549 - accuracy: 0.6886"
     ]
    },
    {
     "name": "stderr",
     "output_type": "stream",
     "text": [
      "WARNING:absl:Found untraced functions such as _jit_compiled_convolution_op, _jit_compiled_convolution_op, _jit_compiled_convolution_op, _jit_compiled_convolution_op, _jit_compiled_convolution_op while saving (showing 5 of 13). These functions will not be directly callable after loading.\n"
     ]
    },
    {
     "name": "stdout",
     "output_type": "stream",
     "text": [
      "INFO:tensorflow:Assets written to: Experiment_results\\VGG16_aug_preprocess_one_train_Nov21_18-53-06\\ckpts\\cp\\assets\n"
     ]
    },
    {
     "name": "stderr",
     "output_type": "stream",
     "text": [
      "INFO:tensorflow:Assets written to: Experiment_results\\VGG16_aug_preprocess_one_train_Nov21_18-53-06\\ckpts\\cp\\assets\n"
     ]
    },
    {
     "name": "stdout",
     "output_type": "stream",
     "text": [
      "23/23 [==============================] - 57s 2s/step - loss: 0.8549 - accuracy: 0.6886 - val_loss: 0.8184 - val_accuracy: 0.7293\n",
      "Epoch 18/200\n",
      "23/23 [==============================] - ETA: 0s - loss: 0.8009 - accuracy: 0.7232"
     ]
    },
    {
     "name": "stderr",
     "output_type": "stream",
     "text": [
      "WARNING:absl:Found untraced functions such as _jit_compiled_convolution_op, _jit_compiled_convolution_op, _jit_compiled_convolution_op, _jit_compiled_convolution_op, _jit_compiled_convolution_op while saving (showing 5 of 13). These functions will not be directly callable after loading.\n"
     ]
    },
    {
     "name": "stdout",
     "output_type": "stream",
     "text": [
      "INFO:tensorflow:Assets written to: Experiment_results\\VGG16_aug_preprocess_one_train_Nov21_18-53-06\\ckpts\\cp\\assets\n"
     ]
    },
    {
     "name": "stderr",
     "output_type": "stream",
     "text": [
      "INFO:tensorflow:Assets written to: Experiment_results\\VGG16_aug_preprocess_one_train_Nov21_18-53-06\\ckpts\\cp\\assets\n"
     ]
    },
    {
     "name": "stdout",
     "output_type": "stream",
     "text": [
      "23/23 [==============================] - 58s 3s/step - loss: 0.8009 - accuracy: 0.7232 - val_loss: 0.9141 - val_accuracy: 0.6704\n",
      "Epoch 19/200\n",
      "23/23 [==============================] - ETA: 0s - loss: 0.8560 - accuracy: 0.7010"
     ]
    },
    {
     "name": "stderr",
     "output_type": "stream",
     "text": [
      "WARNING:absl:Found untraced functions such as _jit_compiled_convolution_op, _jit_compiled_convolution_op, _jit_compiled_convolution_op, _jit_compiled_convolution_op, _jit_compiled_convolution_op while saving (showing 5 of 13). These functions will not be directly callable after loading.\n"
     ]
    },
    {
     "name": "stdout",
     "output_type": "stream",
     "text": [
      "INFO:tensorflow:Assets written to: Experiment_results\\VGG16_aug_preprocess_one_train_Nov21_18-53-06\\ckpts\\cp\\assets\n"
     ]
    },
    {
     "name": "stderr",
     "output_type": "stream",
     "text": [
      "INFO:tensorflow:Assets written to: Experiment_results\\VGG16_aug_preprocess_one_train_Nov21_18-53-06\\ckpts\\cp\\assets\n"
     ]
    },
    {
     "name": "stdout",
     "output_type": "stream",
     "text": [
      "23/23 [==============================] - 59s 3s/step - loss: 0.8560 - accuracy: 0.7010 - val_loss: 0.7991 - val_accuracy: 0.7265\n",
      "Epoch 20/200\n",
      "23/23 [==============================] - ETA: 0s - loss: 0.7929 - accuracy: 0.7271"
     ]
    },
    {
     "name": "stderr",
     "output_type": "stream",
     "text": [
      "WARNING:absl:Found untraced functions such as _jit_compiled_convolution_op, _jit_compiled_convolution_op, _jit_compiled_convolution_op, _jit_compiled_convolution_op, _jit_compiled_convolution_op while saving (showing 5 of 13). These functions will not be directly callable after loading.\n"
     ]
    },
    {
     "name": "stdout",
     "output_type": "stream",
     "text": [
      "INFO:tensorflow:Assets written to: Experiment_results\\VGG16_aug_preprocess_one_train_Nov21_18-53-06\\ckpts\\cp\\assets\n"
     ]
    },
    {
     "name": "stderr",
     "output_type": "stream",
     "text": [
      "INFO:tensorflow:Assets written to: Experiment_results\\VGG16_aug_preprocess_one_train_Nov21_18-53-06\\ckpts\\cp\\assets\n"
     ]
    },
    {
     "name": "stdout",
     "output_type": "stream",
     "text": [
      "23/23 [==============================] - 59s 3s/step - loss: 0.7929 - accuracy: 0.7271 - val_loss: 0.7434 - val_accuracy: 0.7391\n",
      "Epoch 21/200\n",
      "23/23 [==============================] - ETA: 0s - loss: 0.7906 - accuracy: 0.7222"
     ]
    },
    {
     "name": "stderr",
     "output_type": "stream",
     "text": [
      "WARNING:absl:Found untraced functions such as _jit_compiled_convolution_op, _jit_compiled_convolution_op, _jit_compiled_convolution_op, _jit_compiled_convolution_op, _jit_compiled_convolution_op while saving (showing 5 of 13). These functions will not be directly callable after loading.\n"
     ]
    },
    {
     "name": "stdout",
     "output_type": "stream",
     "text": [
      "INFO:tensorflow:Assets written to: Experiment_results\\VGG16_aug_preprocess_one_train_Nov21_18-53-06\\ckpts\\cp\\assets\n"
     ]
    },
    {
     "name": "stderr",
     "output_type": "stream",
     "text": [
      "INFO:tensorflow:Assets written to: Experiment_results\\VGG16_aug_preprocess_one_train_Nov21_18-53-06\\ckpts\\cp\\assets\n"
     ]
    },
    {
     "name": "stdout",
     "output_type": "stream",
     "text": [
      "23/23 [==============================] - 58s 3s/step - loss: 0.7906 - accuracy: 0.7222 - val_loss: 0.8956 - val_accuracy: 0.6830\n",
      "Epoch 22/200\n",
      "23/23 [==============================] - ETA: 0s - loss: 0.7963 - accuracy: 0.7176"
     ]
    },
    {
     "name": "stderr",
     "output_type": "stream",
     "text": [
      "WARNING:absl:Found untraced functions such as _jit_compiled_convolution_op, _jit_compiled_convolution_op, _jit_compiled_convolution_op, _jit_compiled_convolution_op, _jit_compiled_convolution_op while saving (showing 5 of 13). These functions will not be directly callable after loading.\n"
     ]
    },
    {
     "name": "stdout",
     "output_type": "stream",
     "text": [
      "INFO:tensorflow:Assets written to: Experiment_results\\VGG16_aug_preprocess_one_train_Nov21_18-53-06\\ckpts\\cp\\assets\n"
     ]
    },
    {
     "name": "stderr",
     "output_type": "stream",
     "text": [
      "INFO:tensorflow:Assets written to: Experiment_results\\VGG16_aug_preprocess_one_train_Nov21_18-53-06\\ckpts\\cp\\assets\n"
     ]
    },
    {
     "name": "stdout",
     "output_type": "stream",
     "text": [
      "23/23 [==============================] - 59s 3s/step - loss: 0.7963 - accuracy: 0.7176 - val_loss: 0.7808 - val_accuracy: 0.7167\n",
      "Epoch 23/200\n",
      "23/23 [==============================] - ETA: 0s - loss: 0.7952 - accuracy: 0.7190"
     ]
    },
    {
     "name": "stderr",
     "output_type": "stream",
     "text": [
      "WARNING:absl:Found untraced functions such as _jit_compiled_convolution_op, _jit_compiled_convolution_op, _jit_compiled_convolution_op, _jit_compiled_convolution_op, _jit_compiled_convolution_op while saving (showing 5 of 13). These functions will not be directly callable after loading.\n"
     ]
    },
    {
     "name": "stdout",
     "output_type": "stream",
     "text": [
      "INFO:tensorflow:Assets written to: Experiment_results\\VGG16_aug_preprocess_one_train_Nov21_18-53-06\\ckpts\\cp\\assets\n"
     ]
    },
    {
     "name": "stderr",
     "output_type": "stream",
     "text": [
      "INFO:tensorflow:Assets written to: Experiment_results\\VGG16_aug_preprocess_one_train_Nov21_18-53-06\\ckpts\\cp\\assets\n"
     ]
    },
    {
     "name": "stdout",
     "output_type": "stream",
     "text": [
      "23/23 [==============================] - 59s 3s/step - loss: 0.7952 - accuracy: 0.7190 - val_loss: 0.7896 - val_accuracy: 0.7307\n",
      "Epoch 24/200\n",
      "23/23 [==============================] - ETA: 0s - loss: 0.7933 - accuracy: 0.7218"
     ]
    },
    {
     "name": "stderr",
     "output_type": "stream",
     "text": [
      "WARNING:absl:Found untraced functions such as _jit_compiled_convolution_op, _jit_compiled_convolution_op, _jit_compiled_convolution_op, _jit_compiled_convolution_op, _jit_compiled_convolution_op while saving (showing 5 of 13). These functions will not be directly callable after loading.\n"
     ]
    },
    {
     "name": "stdout",
     "output_type": "stream",
     "text": [
      "INFO:tensorflow:Assets written to: Experiment_results\\VGG16_aug_preprocess_one_train_Nov21_18-53-06\\ckpts\\cp\\assets\n"
     ]
    },
    {
     "name": "stderr",
     "output_type": "stream",
     "text": [
      "INFO:tensorflow:Assets written to: Experiment_results\\VGG16_aug_preprocess_one_train_Nov21_18-53-06\\ckpts\\cp\\assets\n"
     ]
    },
    {
     "name": "stdout",
     "output_type": "stream",
     "text": [
      "23/23 [==============================] - 59s 3s/step - loss: 0.7933 - accuracy: 0.7218 - val_loss: 0.8164 - val_accuracy: 0.7083\n",
      "Epoch 25/200\n",
      "23/23 [==============================] - ETA: 0s - loss: 0.7771 - accuracy: 0.7374"
     ]
    },
    {
     "name": "stderr",
     "output_type": "stream",
     "text": [
      "WARNING:absl:Found untraced functions such as _jit_compiled_convolution_op, _jit_compiled_convolution_op, _jit_compiled_convolution_op, _jit_compiled_convolution_op, _jit_compiled_convolution_op while saving (showing 5 of 13). These functions will not be directly callable after loading.\n"
     ]
    },
    {
     "name": "stdout",
     "output_type": "stream",
     "text": [
      "INFO:tensorflow:Assets written to: Experiment_results\\VGG16_aug_preprocess_one_train_Nov21_18-53-06\\ckpts\\cp\\assets\n"
     ]
    },
    {
     "name": "stderr",
     "output_type": "stream",
     "text": [
      "INFO:tensorflow:Assets written to: Experiment_results\\VGG16_aug_preprocess_one_train_Nov21_18-53-06\\ckpts\\cp\\assets\n"
     ]
    },
    {
     "name": "stdout",
     "output_type": "stream",
     "text": [
      "23/23 [==============================] - 60s 3s/step - loss: 0.7771 - accuracy: 0.7374 - val_loss: 0.7632 - val_accuracy: 0.7307\n",
      "Epoch 26/200\n",
      "23/23 [==============================] - ETA: 0s - loss: 0.7551 - accuracy: 0.7405"
     ]
    },
    {
     "name": "stderr",
     "output_type": "stream",
     "text": [
      "WARNING:absl:Found untraced functions such as _jit_compiled_convolution_op, _jit_compiled_convolution_op, _jit_compiled_convolution_op, _jit_compiled_convolution_op, _jit_compiled_convolution_op while saving (showing 5 of 13). These functions will not be directly callable after loading.\n"
     ]
    },
    {
     "name": "stdout",
     "output_type": "stream",
     "text": [
      "INFO:tensorflow:Assets written to: Experiment_results\\VGG16_aug_preprocess_one_train_Nov21_18-53-06\\ckpts\\cp\\assets\n"
     ]
    },
    {
     "name": "stderr",
     "output_type": "stream",
     "text": [
      "INFO:tensorflow:Assets written to: Experiment_results\\VGG16_aug_preprocess_one_train_Nov21_18-53-06\\ckpts\\cp\\assets\n"
     ]
    },
    {
     "name": "stdout",
     "output_type": "stream",
     "text": [
      "23/23 [==============================] - 59s 3s/step - loss: 0.7551 - accuracy: 0.7405 - val_loss: 0.7859 - val_accuracy: 0.7265\n",
      "Epoch 27/200\n",
      "23/23 [==============================] - ETA: 0s - loss: 0.7731 - accuracy: 0.7229"
     ]
    },
    {
     "name": "stderr",
     "output_type": "stream",
     "text": [
      "WARNING:absl:Found untraced functions such as _jit_compiled_convolution_op, _jit_compiled_convolution_op, _jit_compiled_convolution_op, _jit_compiled_convolution_op, _jit_compiled_convolution_op while saving (showing 5 of 13). These functions will not be directly callable after loading.\n"
     ]
    },
    {
     "name": "stdout",
     "output_type": "stream",
     "text": [
      "INFO:tensorflow:Assets written to: Experiment_results\\VGG16_aug_preprocess_one_train_Nov21_18-53-06\\ckpts\\cp\\assets\n"
     ]
    },
    {
     "name": "stderr",
     "output_type": "stream",
     "text": [
      "INFO:tensorflow:Assets written to: Experiment_results\\VGG16_aug_preprocess_one_train_Nov21_18-53-06\\ckpts\\cp\\assets\n"
     ]
    },
    {
     "name": "stdout",
     "output_type": "stream",
     "text": [
      "23/23 [==============================] - 59s 3s/step - loss: 0.7731 - accuracy: 0.7229 - val_loss: 0.7741 - val_accuracy: 0.7307\n",
      "Epoch 28/200\n",
      "12/23 [==============>...............] - ETA: 25s - loss: 0.7660 - accuracy: 0.7277"
     ]
    },
    {
     "ename": "KeyboardInterrupt",
     "evalue": "",
     "output_type": "error",
     "traceback": [
      "\u001b[1;31m---------------------------------------------------------------------------\u001b[0m",
      "\u001b[1;31mKeyboardInterrupt\u001b[0m                         Traceback (most recent call last)",
      "\u001b[1;32m~\\AppData\\Local\\Temp\\ipykernel_43948\\3785240188.py\u001b[0m in \u001b[0;36m<module>\u001b[1;34m\u001b[0m\n\u001b[0;32m      3\u001b[0m \u001b[1;33m\u001b[0m\u001b[0m\n\u001b[0;32m      4\u001b[0m \u001b[1;31m# Train model with classes weighted to overcame class imbalance problems\u001b[0m\u001b[1;33m\u001b[0m\u001b[1;33m\u001b[0m\u001b[0m\n\u001b[1;32m----> 5\u001b[1;33m history = tl_model.fit(\n\u001b[0m\u001b[0;32m      6\u001b[0m     \u001b[0mx\u001b[0m \u001b[1;33m=\u001b[0m \u001b[0maug_train_gen\u001b[0m\u001b[1;33m,\u001b[0m\u001b[1;33m\u001b[0m\u001b[1;33m\u001b[0m\u001b[0m\n\u001b[0;32m      7\u001b[0m     \u001b[0mepochs\u001b[0m \u001b[1;33m=\u001b[0m \u001b[0mepochs\u001b[0m\u001b[1;33m,\u001b[0m\u001b[1;33m\u001b[0m\u001b[1;33m\u001b[0m\u001b[0m\n",
      "\u001b[1;32m~\\anaconda3\\lib\\site-packages\\keras\\utils\\traceback_utils.py\u001b[0m in \u001b[0;36merror_handler\u001b[1;34m(*args, **kwargs)\u001b[0m\n\u001b[0;32m     63\u001b[0m         \u001b[0mfiltered_tb\u001b[0m \u001b[1;33m=\u001b[0m \u001b[1;32mNone\u001b[0m\u001b[1;33m\u001b[0m\u001b[1;33m\u001b[0m\u001b[0m\n\u001b[0;32m     64\u001b[0m         \u001b[1;32mtry\u001b[0m\u001b[1;33m:\u001b[0m\u001b[1;33m\u001b[0m\u001b[1;33m\u001b[0m\u001b[0m\n\u001b[1;32m---> 65\u001b[1;33m             \u001b[1;32mreturn\u001b[0m \u001b[0mfn\u001b[0m\u001b[1;33m(\u001b[0m\u001b[1;33m*\u001b[0m\u001b[0margs\u001b[0m\u001b[1;33m,\u001b[0m \u001b[1;33m**\u001b[0m\u001b[0mkwargs\u001b[0m\u001b[1;33m)\u001b[0m\u001b[1;33m\u001b[0m\u001b[1;33m\u001b[0m\u001b[0m\n\u001b[0m\u001b[0;32m     66\u001b[0m         \u001b[1;32mexcept\u001b[0m \u001b[0mException\u001b[0m \u001b[1;32mas\u001b[0m \u001b[0me\u001b[0m\u001b[1;33m:\u001b[0m\u001b[1;33m\u001b[0m\u001b[1;33m\u001b[0m\u001b[0m\n\u001b[0;32m     67\u001b[0m             \u001b[0mfiltered_tb\u001b[0m \u001b[1;33m=\u001b[0m \u001b[0m_process_traceback_frames\u001b[0m\u001b[1;33m(\u001b[0m\u001b[0me\u001b[0m\u001b[1;33m.\u001b[0m\u001b[0m__traceback__\u001b[0m\u001b[1;33m)\u001b[0m\u001b[1;33m\u001b[0m\u001b[1;33m\u001b[0m\u001b[0m\n",
      "\u001b[1;32m~\\anaconda3\\lib\\site-packages\\keras\\engine\\training.py\u001b[0m in \u001b[0;36mfit\u001b[1;34m(self, x, y, batch_size, epochs, verbose, callbacks, validation_split, validation_data, shuffle, class_weight, sample_weight, initial_epoch, steps_per_epoch, validation_steps, validation_batch_size, validation_freq, max_queue_size, workers, use_multiprocessing)\u001b[0m\n\u001b[0;32m   1562\u001b[0m                         ):\n\u001b[0;32m   1563\u001b[0m                             \u001b[0mcallbacks\u001b[0m\u001b[1;33m.\u001b[0m\u001b[0mon_train_batch_begin\u001b[0m\u001b[1;33m(\u001b[0m\u001b[0mstep\u001b[0m\u001b[1;33m)\u001b[0m\u001b[1;33m\u001b[0m\u001b[1;33m\u001b[0m\u001b[0m\n\u001b[1;32m-> 1564\u001b[1;33m                             \u001b[0mtmp_logs\u001b[0m \u001b[1;33m=\u001b[0m \u001b[0mself\u001b[0m\u001b[1;33m.\u001b[0m\u001b[0mtrain_function\u001b[0m\u001b[1;33m(\u001b[0m\u001b[0miterator\u001b[0m\u001b[1;33m)\u001b[0m\u001b[1;33m\u001b[0m\u001b[1;33m\u001b[0m\u001b[0m\n\u001b[0m\u001b[0;32m   1565\u001b[0m                             \u001b[1;32mif\u001b[0m \u001b[0mdata_handler\u001b[0m\u001b[1;33m.\u001b[0m\u001b[0mshould_sync\u001b[0m\u001b[1;33m:\u001b[0m\u001b[1;33m\u001b[0m\u001b[1;33m\u001b[0m\u001b[0m\n\u001b[0;32m   1566\u001b[0m                                 \u001b[0mcontext\u001b[0m\u001b[1;33m.\u001b[0m\u001b[0masync_wait\u001b[0m\u001b[1;33m(\u001b[0m\u001b[1;33m)\u001b[0m\u001b[1;33m\u001b[0m\u001b[1;33m\u001b[0m\u001b[0m\n",
      "\u001b[1;32m~\\anaconda3\\lib\\site-packages\\tensorflow\\python\\util\\traceback_utils.py\u001b[0m in \u001b[0;36merror_handler\u001b[1;34m(*args, **kwargs)\u001b[0m\n\u001b[0;32m    148\u001b[0m     \u001b[0mfiltered_tb\u001b[0m \u001b[1;33m=\u001b[0m \u001b[1;32mNone\u001b[0m\u001b[1;33m\u001b[0m\u001b[1;33m\u001b[0m\u001b[0m\n\u001b[0;32m    149\u001b[0m     \u001b[1;32mtry\u001b[0m\u001b[1;33m:\u001b[0m\u001b[1;33m\u001b[0m\u001b[1;33m\u001b[0m\u001b[0m\n\u001b[1;32m--> 150\u001b[1;33m       \u001b[1;32mreturn\u001b[0m \u001b[0mfn\u001b[0m\u001b[1;33m(\u001b[0m\u001b[1;33m*\u001b[0m\u001b[0margs\u001b[0m\u001b[1;33m,\u001b[0m \u001b[1;33m**\u001b[0m\u001b[0mkwargs\u001b[0m\u001b[1;33m)\u001b[0m\u001b[1;33m\u001b[0m\u001b[1;33m\u001b[0m\u001b[0m\n\u001b[0m\u001b[0;32m    151\u001b[0m     \u001b[1;32mexcept\u001b[0m \u001b[0mException\u001b[0m \u001b[1;32mas\u001b[0m \u001b[0me\u001b[0m\u001b[1;33m:\u001b[0m\u001b[1;33m\u001b[0m\u001b[1;33m\u001b[0m\u001b[0m\n\u001b[0;32m    152\u001b[0m       \u001b[0mfiltered_tb\u001b[0m \u001b[1;33m=\u001b[0m \u001b[0m_process_traceback_frames\u001b[0m\u001b[1;33m(\u001b[0m\u001b[0me\u001b[0m\u001b[1;33m.\u001b[0m\u001b[0m__traceback__\u001b[0m\u001b[1;33m)\u001b[0m\u001b[1;33m\u001b[0m\u001b[1;33m\u001b[0m\u001b[0m\n",
      "\u001b[1;32m~\\anaconda3\\lib\\site-packages\\tensorflow\\python\\eager\\def_function.py\u001b[0m in \u001b[0;36m__call__\u001b[1;34m(self, *args, **kwds)\u001b[0m\n\u001b[0;32m    913\u001b[0m \u001b[1;33m\u001b[0m\u001b[0m\n\u001b[0;32m    914\u001b[0m       \u001b[1;32mwith\u001b[0m \u001b[0mOptionalXlaContext\u001b[0m\u001b[1;33m(\u001b[0m\u001b[0mself\u001b[0m\u001b[1;33m.\u001b[0m\u001b[0m_jit_compile\u001b[0m\u001b[1;33m)\u001b[0m\u001b[1;33m:\u001b[0m\u001b[1;33m\u001b[0m\u001b[1;33m\u001b[0m\u001b[0m\n\u001b[1;32m--> 915\u001b[1;33m         \u001b[0mresult\u001b[0m \u001b[1;33m=\u001b[0m \u001b[0mself\u001b[0m\u001b[1;33m.\u001b[0m\u001b[0m_call\u001b[0m\u001b[1;33m(\u001b[0m\u001b[1;33m*\u001b[0m\u001b[0margs\u001b[0m\u001b[1;33m,\u001b[0m \u001b[1;33m**\u001b[0m\u001b[0mkwds\u001b[0m\u001b[1;33m)\u001b[0m\u001b[1;33m\u001b[0m\u001b[1;33m\u001b[0m\u001b[0m\n\u001b[0m\u001b[0;32m    916\u001b[0m \u001b[1;33m\u001b[0m\u001b[0m\n\u001b[0;32m    917\u001b[0m       \u001b[0mnew_tracing_count\u001b[0m \u001b[1;33m=\u001b[0m \u001b[0mself\u001b[0m\u001b[1;33m.\u001b[0m\u001b[0mexperimental_get_tracing_count\u001b[0m\u001b[1;33m(\u001b[0m\u001b[1;33m)\u001b[0m\u001b[1;33m\u001b[0m\u001b[1;33m\u001b[0m\u001b[0m\n",
      "\u001b[1;32m~\\anaconda3\\lib\\site-packages\\tensorflow\\python\\eager\\def_function.py\u001b[0m in \u001b[0;36m_call\u001b[1;34m(self, *args, **kwds)\u001b[0m\n\u001b[0;32m    945\u001b[0m       \u001b[1;31m# In this case we have created variables on the first call, so we run the\u001b[0m\u001b[1;33m\u001b[0m\u001b[1;33m\u001b[0m\u001b[0m\n\u001b[0;32m    946\u001b[0m       \u001b[1;31m# defunned version which is guaranteed to never create variables.\u001b[0m\u001b[1;33m\u001b[0m\u001b[1;33m\u001b[0m\u001b[0m\n\u001b[1;32m--> 947\u001b[1;33m       \u001b[1;32mreturn\u001b[0m \u001b[0mself\u001b[0m\u001b[1;33m.\u001b[0m\u001b[0m_stateless_fn\u001b[0m\u001b[1;33m(\u001b[0m\u001b[1;33m*\u001b[0m\u001b[0margs\u001b[0m\u001b[1;33m,\u001b[0m \u001b[1;33m**\u001b[0m\u001b[0mkwds\u001b[0m\u001b[1;33m)\u001b[0m  \u001b[1;31m# pylint: disable=not-callable\u001b[0m\u001b[1;33m\u001b[0m\u001b[1;33m\u001b[0m\u001b[0m\n\u001b[0m\u001b[0;32m    948\u001b[0m     \u001b[1;32melif\u001b[0m \u001b[0mself\u001b[0m\u001b[1;33m.\u001b[0m\u001b[0m_stateful_fn\u001b[0m \u001b[1;32mis\u001b[0m \u001b[1;32mnot\u001b[0m \u001b[1;32mNone\u001b[0m\u001b[1;33m:\u001b[0m\u001b[1;33m\u001b[0m\u001b[1;33m\u001b[0m\u001b[0m\n\u001b[0;32m    949\u001b[0m       \u001b[1;31m# Release the lock early so that multiple threads can perform the call\u001b[0m\u001b[1;33m\u001b[0m\u001b[1;33m\u001b[0m\u001b[0m\n",
      "\u001b[1;32m~\\anaconda3\\lib\\site-packages\\tensorflow\\python\\eager\\function.py\u001b[0m in \u001b[0;36m__call__\u001b[1;34m(self, *args, **kwargs)\u001b[0m\n\u001b[0;32m   2494\u001b[0m       (graph_function,\n\u001b[0;32m   2495\u001b[0m        filtered_flat_args) = self._maybe_define_function(args, kwargs)\n\u001b[1;32m-> 2496\u001b[1;33m     return graph_function._call_flat(\n\u001b[0m\u001b[0;32m   2497\u001b[0m         filtered_flat_args, captured_inputs=graph_function.captured_inputs)  # pylint: disable=protected-access\n\u001b[0;32m   2498\u001b[0m \u001b[1;33m\u001b[0m\u001b[0m\n",
      "\u001b[1;32m~\\anaconda3\\lib\\site-packages\\tensorflow\\python\\eager\\function.py\u001b[0m in \u001b[0;36m_call_flat\u001b[1;34m(self, args, captured_inputs, cancellation_manager)\u001b[0m\n\u001b[0;32m   1860\u001b[0m         and executing_eagerly):\n\u001b[0;32m   1861\u001b[0m       \u001b[1;31m# No tape is watching; skip to running the function.\u001b[0m\u001b[1;33m\u001b[0m\u001b[1;33m\u001b[0m\u001b[0m\n\u001b[1;32m-> 1862\u001b[1;33m       return self._build_call_outputs(self._inference_function.call(\n\u001b[0m\u001b[0;32m   1863\u001b[0m           ctx, args, cancellation_manager=cancellation_manager))\n\u001b[0;32m   1864\u001b[0m     forward_backward = self._select_forward_and_backward_functions(\n",
      "\u001b[1;32m~\\anaconda3\\lib\\site-packages\\tensorflow\\python\\eager\\function.py\u001b[0m in \u001b[0;36mcall\u001b[1;34m(self, ctx, args, cancellation_manager)\u001b[0m\n\u001b[0;32m    497\u001b[0m       \u001b[1;32mwith\u001b[0m \u001b[0m_InterpolateFunctionError\u001b[0m\u001b[1;33m(\u001b[0m\u001b[0mself\u001b[0m\u001b[1;33m)\u001b[0m\u001b[1;33m:\u001b[0m\u001b[1;33m\u001b[0m\u001b[1;33m\u001b[0m\u001b[0m\n\u001b[0;32m    498\u001b[0m         \u001b[1;32mif\u001b[0m \u001b[0mcancellation_manager\u001b[0m \u001b[1;32mis\u001b[0m \u001b[1;32mNone\u001b[0m\u001b[1;33m:\u001b[0m\u001b[1;33m\u001b[0m\u001b[1;33m\u001b[0m\u001b[0m\n\u001b[1;32m--> 499\u001b[1;33m           outputs = execute.execute(\n\u001b[0m\u001b[0;32m    500\u001b[0m               \u001b[0mstr\u001b[0m\u001b[1;33m(\u001b[0m\u001b[0mself\u001b[0m\u001b[1;33m.\u001b[0m\u001b[0msignature\u001b[0m\u001b[1;33m.\u001b[0m\u001b[0mname\u001b[0m\u001b[1;33m)\u001b[0m\u001b[1;33m,\u001b[0m\u001b[1;33m\u001b[0m\u001b[1;33m\u001b[0m\u001b[0m\n\u001b[0;32m    501\u001b[0m               \u001b[0mnum_outputs\u001b[0m\u001b[1;33m=\u001b[0m\u001b[0mself\u001b[0m\u001b[1;33m.\u001b[0m\u001b[0m_num_outputs\u001b[0m\u001b[1;33m,\u001b[0m\u001b[1;33m\u001b[0m\u001b[1;33m\u001b[0m\u001b[0m\n",
      "\u001b[1;32m~\\anaconda3\\lib\\site-packages\\tensorflow\\python\\eager\\execute.py\u001b[0m in \u001b[0;36mquick_execute\u001b[1;34m(op_name, num_outputs, inputs, attrs, ctx, name)\u001b[0m\n\u001b[0;32m     52\u001b[0m   \u001b[1;32mtry\u001b[0m\u001b[1;33m:\u001b[0m\u001b[1;33m\u001b[0m\u001b[1;33m\u001b[0m\u001b[0m\n\u001b[0;32m     53\u001b[0m     \u001b[0mctx\u001b[0m\u001b[1;33m.\u001b[0m\u001b[0mensure_initialized\u001b[0m\u001b[1;33m(\u001b[0m\u001b[1;33m)\u001b[0m\u001b[1;33m\u001b[0m\u001b[1;33m\u001b[0m\u001b[0m\n\u001b[1;32m---> 54\u001b[1;33m     tensors = pywrap_tfe.TFE_Py_Execute(ctx._handle, device_name, op_name,\n\u001b[0m\u001b[0;32m     55\u001b[0m                                         inputs, attrs, num_outputs)\n\u001b[0;32m     56\u001b[0m   \u001b[1;32mexcept\u001b[0m \u001b[0mcore\u001b[0m\u001b[1;33m.\u001b[0m\u001b[0m_NotOkStatusException\u001b[0m \u001b[1;32mas\u001b[0m \u001b[0me\u001b[0m\u001b[1;33m:\u001b[0m\u001b[1;33m\u001b[0m\u001b[1;33m\u001b[0m\u001b[0m\n",
      "\u001b[1;31mKeyboardInterrupt\u001b[0m: "
     ]
    }
   ],
   "source": [
    "# Create folders and callbacks and fit\n",
    "callbacks = create_folders_and_callbacks(model_name='VGG16_aug_preprocess_one_train')\n",
    "\n",
    "# Train model with classes weighted to overcame class imbalance problems\n",
    "history = tl_model.fit(\n",
    "    x = aug_train_gen,\n",
    "    epochs = epochs,\n",
    "    validation_data = valid_gen,\n",
    "    callbacks = callbacks,\n",
    "    class_weight = class_weights #added class weights here\n",
    ").history"
   ]
  },
  {
   "cell_type": "code",
   "execution_count": null,
   "metadata": {
    "colab": {
     "base_uri": "https://localhost:8080/"
    },
    "id": "__tZVbHoWfhT",
    "outputId": "d35d1979-2635-49d6-aa2f-6f58248ce392"
   },
   "outputs": [],
   "source": [
    "tl_model.save(\"Experiment_results/VGG16_data_aug_preprocess_one_train\")"
   ]
  },
  {
   "cell_type": "code",
   "execution_count": null,
   "metadata": {
    "colab": {
     "base_uri": "https://localhost:8080/",
     "height": 655
    },
    "id": "pOy_xEPW5AHH",
    "outputId": "0627ab81-6d8d-4abb-83ba-8e5cce227312"
   },
   "outputs": [],
   "source": [
    "# Plot the training\n",
    "plt.figure(figsize=(15,5))\n",
    "plt.plot(history['loss'], label='Training', alpha=.8, color='#ff7f0e')\n",
    "plt.plot(history['val_loss'], label='Validation', alpha=.8, color='#4D61E2')\n",
    "plt.legend(loc='upper left')\n",
    "plt.title('Categorical Crossentropy')\n",
    "plt.grid(alpha=.3)\n",
    "\n",
    "plt.figure(figsize=(15,5))\n",
    "plt.plot(history['accuracy'], label='Training', alpha=.8, color='#ff7f0e')\n",
    "plt.plot(history['val_accuracy'], label='Validation', alpha=.8, color='#4D61E2')\n",
    "plt.legend(loc='upper left')\n",
    "plt.title('Accuracy')\n",
    "plt.grid(alpha=.3)\n",
    "\n",
    "plt.show()"
   ]
  },
  {
   "cell_type": "markdown",
   "metadata": {
    "id": "jfiDEdXq_g2W"
   },
   "source": [
    "Notice that this is just one of the models tried, for a detailed description of other attempts we remind once again the report file"
   ]
  },
  {
   "cell_type": "markdown",
   "metadata": {
    "id": "8iWgwn5E8omF"
   },
   "source": [
    "This model performs a score of 0.93 Mean Accuracy on the codalab public test set and it is our best model. A comparison between plots with one of the various models used before is present at the end of the report"
   ]
  }
 ],
 "metadata": {
  "accelerator": "GPU",
  "colab": {
   "collapsed_sections": [],
   "name": "submission_notebook.ipynb",
   "provenance": []
  },
  "kernelspec": {
   "display_name": "Python 3 (ipykernel)",
   "language": "python",
   "name": "python3"
  },
  "language_info": {
   "codemirror_mode": {
    "name": "ipython",
    "version": 3
   },
   "file_extension": ".py",
   "mimetype": "text/x-python",
   "name": "python",
   "nbconvert_exporter": "python",
   "pygments_lexer": "ipython3",
   "version": "3.9.13"
  }
 },
 "nbformat": 4,
 "nbformat_minor": 1
}
