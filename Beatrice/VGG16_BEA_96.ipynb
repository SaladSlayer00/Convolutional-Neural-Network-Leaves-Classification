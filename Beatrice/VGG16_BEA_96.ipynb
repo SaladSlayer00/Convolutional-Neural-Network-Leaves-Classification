{
 "cells": [
  {
   "cell_type": "code",
   "execution_count": 2,
   "id": "6d90153c",
   "metadata": {},
   "outputs": [
    {
     "name": "stdout",
     "output_type": "stream",
     "text": [
      "2.10.0\n"
     ]
    }
   ],
   "source": [
    "import os\n",
    "import math\n",
    "import random\n",
    "\n",
    "import numpy as np\n",
    "import matplotlib as mpl\n",
    "import matplotlib.pyplot as plt\n",
    "\n",
    "import tensorflow as tf\n",
    "from tensorflow.keras.preprocessing.image import ImageDataGenerator\n",
    "from keras.applications.inception_v3 import preprocess_input\n",
    "from keras.regularizers import l2\n",
    "tfk = tf.keras\n",
    "tfkl = tf.keras.layers\n",
    "print(tf.__version__)"
   ]
  },
  {
   "cell_type": "code",
   "execution_count": 3,
   "id": "c99fce6a",
   "metadata": {},
   "outputs": [],
   "source": [
    "seed = 42\n",
    "\n",
    "random.seed(seed)\n",
    "os.environ['PYTHONHASHSEED'] = str(seed)\n",
    "np.random.seed(seed)\n",
    "tf.random.set_seed(seed)\n",
    "tf.compat.v1.set_random_seed(seed)"
   ]
  },
  {
   "cell_type": "code",
   "execution_count": 4,
   "id": "e52e2f78",
   "metadata": {},
   "outputs": [],
   "source": [
    "import warnings\n",
    "import logging\n",
    "\n",
    "os.environ['TF_CPP_MIN_LOG_LEVEL'] = '2'\n",
    "warnings.simplefilter(action='ignore', category=FutureWarning)\n",
    "warnings.simplefilter(action='ignore', category=Warning)\n",
    "tf.get_logger().setLevel('INFO')\n",
    "tf.autograph.set_verbosity(0)\n",
    "\n",
    "tf.get_logger().setLevel(logging.ERROR)\n",
    "tf.get_logger().setLevel('ERROR')\n",
    "tf.compat.v1.logging.set_verbosity(tf.compat.v1.logging.ERROR)"
   ]
  },
  {
   "cell_type": "code",
   "execution_count": 5,
   "id": "c6aafa2b",
   "metadata": {},
   "outputs": [],
   "source": [
    "\n",
    "labels = ['Species1',       # 0\n",
    "          'Species2',       # 1\n",
    "          'Species3',       # 2\n",
    "          'Species4',       # 3\n",
    "          'Species2',       # 4\n",
    "          'Species2',       # 5\n",
    "          'Species7',       # 6\n",
    "          'Species8',       # 7\n",
    "          ]"
   ]
  },
  {
   "cell_type": "code",
   "execution_count": 6,
   "id": "1c3ed73e",
   "metadata": {},
   "outputs": [],
   "source": [
    "# Splitting the main dataset into train and val\n",
    "dataset_dir = 'datasetNoTest'\n",
    "\n",
    "if not(os.path.exists('datasetNoTest')) :\n",
    "    print('splitting')\n",
    "    splitfolders.ratio('dataset', output='datasetNoTest', seed=seed, ratio=(0.8, 0.2))\n",
    "\n",
    "# Setting dataset directories\n",
    "training_dir = os.path.join(dataset_dir, 'train')\n",
    "validation_dir = os.path.join(dataset_dir, 'val')"
   ]
  },
  {
   "cell_type": "code",
   "execution_count": 7,
   "id": "3b7500e1",
   "metadata": {},
   "outputs": [],
   "source": [
    "img_w = 96\n",
    "img_h = 96\n",
    "input_shape = (96, 96, 3)\n",
    "classes = 8\n",
    "\n",
    "patience_epochs = 8\n",
    "batch_size = 24\n",
    "\n",
    "last_nonTrainable_layer = 207"
   ]
  },
  {
   "cell_type": "code",
   "execution_count": 8,
   "id": "b5ee6b63",
   "metadata": {},
   "outputs": [
    {
     "name": "stdout",
     "output_type": "stream",
     "text": [
      "{0: 2.389358108108108, 1: 0.8320588235294117, 2: 0.8583131067961165, 3: 0.8667279411764706, 4: 0.8340212264150944, 5: 1.9978813559322033, 6: 0.8243006993006993, 7: 0.8709975369458128}\n"
     ]
    }
   ],
   "source": [
    "# This calculate the weights for all the classes\n",
    "# by counting the number of images for each class\n",
    "# and dividing by the number of total images\n",
    "category_weight = {}\n",
    "elements_per_class = {}\n",
    "i=0\n",
    "path = \"datasetNoTest/train\"\n",
    "dirs = os.listdir(path)\n",
    "for d in dirs:\n",
    "    category_weight[i] = 0.0\n",
    "    elements_per_class[i] = len(os.listdir(path+\"/\"+d))\n",
    "    i=i+1\n",
    "\n",
    "total_images = sum(elements_per_class.values())\n",
    "\n",
    "for i in category_weight.keys():\n",
    "    category_weight[i] = total_images / (classes * elements_per_class[i])\n",
    "    \n",
    "print(category_weight)"
   ]
  },
  {
   "cell_type": "code",
   "execution_count": 9,
   "id": "7d8c77d5",
   "metadata": {},
   "outputs": [
    {
     "name": "stdout",
     "output_type": "stream",
     "text": [
      "Found 2829 images belonging to 8 classes.\n",
      "Found 713 images belonging to 8 classes.\n"
     ]
    }
   ],
   "source": [
    "# While creating the data generator, split in train and test sets\n",
    "\n",
    "from tensorflow.keras.preprocessing.image import ImageDataGenerator\n",
    "\n",
    "# Create an instance of ImageDataGenerator for training\n",
    "datagen = ImageDataGenerator(#rescale=1./255,\n",
    "    height_shift_range=50,\n",
    "    width_shift_range=50,                                   \n",
    "    shear_range=0.2,\n",
    "    zoom_range=0.3,\n",
    "    horizontal_flip=True,\n",
    "    vertical_flip=True, \n",
    "    fill_mode='reflect',\n",
    "    )\n",
    "\n",
    "train_generator = datagen.flow_from_directory(\n",
    "    training_dir,\n",
    "    target_size=(96, 96),\n",
    "    color_mode='rgb',\n",
    "    batch_size=256,\n",
    "    class_mode='categorical',\n",
    "    shuffle=True,\n",
    "    ) # set as training data\n",
    "\n",
    "validation_generator = datagen.flow_from_directory(\n",
    "    validation_dir, \n",
    "    target_size=(96, 96),\n",
    "    color_mode='rgb',\n",
    "    batch_size=256,\n",
    "    class_mode='categorical',\n",
    "    shuffle=False,\n",
    "    ) "
   ]
  },
  {
   "cell_type": "code",
   "execution_count": 10,
   "id": "958c86dc",
   "metadata": {},
   "outputs": [
    {
     "name": "stdout",
     "output_type": "stream",
     "text": [
      "Assigned labels\n",
      "{'Species1': 0, 'Species2': 1, 'Species3': 2, 'Species4': 3, 'Species5': 4, 'Species6': 5, 'Species7': 6, 'Species8': 7}\n",
      "\n",
      "Target classes\n",
      "[0 0 0 ... 7 7 7]\n"
     ]
    }
   ],
   "source": [
    "# check labels (keep lexicographical order)\n",
    "print(\"Assigned labels\")\n",
    "print(train_generator.class_indices)\n",
    "print()\n",
    "print(\"Target classes\")\n",
    "print(train_generator.classes)"
   ]
  },
  {
   "cell_type": "code",
   "execution_count": 11,
   "id": "c6454f6b",
   "metadata": {},
   "outputs": [],
   "source": [
    "def get_next_batch(generator):\n",
    "  batch = next(generator)\n",
    "\n",
    "  image = batch[0]\n",
    "  target = batch[1]\n",
    "\n",
    "  print(\"(Input) image shape:\", image.shape)\n",
    "  print(\"Target shape:\",target.shape)\n",
    "\n",
    "  # Visualize only the first sample\n",
    "  image = image[0]\n",
    "  target = target[0]\n",
    "  target_idx = np.argmax(target)\n",
    "  print()\n",
    "  print(\"Categorical label:\", target)\n",
    "  print(\"Label:\", target_idx)\n",
    "  print(\"Class name:\", labels[target_idx])\n",
    "  fig = plt.figure(figsize=(6, 4))\n",
    "  plt.imshow(np.uint8(image))\n",
    "\n",
    "  return batch"
   ]
  },
  {
   "cell_type": "code",
   "execution_count": 12,
   "id": "7e7b5343",
   "metadata": {},
   "outputs": [
    {
     "name": "stdout",
     "output_type": "stream",
     "text": [
      "(Input) image shape: (256, 96, 96, 3)\n",
      "Target shape: (256, 8)\n",
      "\n",
      "Categorical label: [0. 0. 0. 1. 0. 0. 0. 0.]\n",
      "Label: 3\n",
      "Class name: Species4\n"
     ]
    },
    {
     "data": {
      "image/png": "[encoded data removed]",
      "text/plain": [
       "<Figure size 600x400 with 1 Axes>"
      ]
     },
     "metadata": {},
     "output_type": "display_data"
    }
   ],
   "source": [
    "# Get a sample from dataset and show info\n",
    "_ = get_next_batch(train_generator)"
   ]
  },
  {
   "cell_type": "code",
   "execution_count": 14,
   "id": "d65e05d8",
   "metadata": {},
   "outputs": [
    {
     "name": "stdout",
     "output_type": "stream",
     "text": [
      "Model: \"vgg19\"\n",
      "_________________________________________________________________\n",
      " Layer (type)                Output Shape              Param #   \n",
      "=================================================================\n",
      " input_1 (InputLayer)        [(None, 256, 256, 3)]     0         \n",
      "                                                                 \n",
      " block1_conv1 (Conv2D)       (None, 256, 256, 64)      1792      \n",
      "                                                                 \n",
      " block1_conv2 (Conv2D)       (None, 256, 256, 64)      36928     \n",
      "                                                                 \n",
      " block1_pool (MaxPooling2D)  (None, 128, 128, 64)      0         \n",
      "                                                                 \n",
      " block2_conv1 (Conv2D)       (None, 128, 128, 128)     73856     \n",
      "                                                                 \n",
      " block2_conv2 (Conv2D)       (None, 128, 128, 128)     147584    \n",
      "                                                                 \n",
      " block2_pool (MaxPooling2D)  (None, 64, 64, 128)       0         \n",
      "                                                                 \n",
      " block3_conv1 (Conv2D)       (None, 64, 64, 256)       295168    \n",
      "                                                                 \n",
      " block3_conv2 (Conv2D)       (None, 64, 64, 256)       590080    \n",
      "                                                                 \n",
      " block3_conv3 (Conv2D)       (None, 64, 64, 256)       590080    \n",
      "                                                                 \n",
      " block3_conv4 (Conv2D)       (None, 64, 64, 256)       590080    \n",
      "                                                                 \n",
      " block3_pool (MaxPooling2D)  (None, 32, 32, 256)       0         \n",
      "                                                                 \n",
      " block4_conv1 (Conv2D)       (None, 32, 32, 512)       1180160   \n",
      "                                                                 \n",
      " block4_conv2 (Conv2D)       (None, 32, 32, 512)       2359808   \n",
      "                                                                 \n",
      " block4_conv3 (Conv2D)       (None, 32, 32, 512)       2359808   \n",
      "                                                                 \n",
      " block4_conv4 (Conv2D)       (None, 32, 32, 512)       2359808   \n",
      "                                                                 \n",
      " block4_pool (MaxPooling2D)  (None, 16, 16, 512)       0         \n",
      "                                                                 \n",
      " block5_conv1 (Conv2D)       (None, 16, 16, 512)       2359808   \n",
      "                                                                 \n",
      " block5_conv2 (Conv2D)       (None, 16, 16, 512)       2359808   \n",
      "                                                                 \n",
      " block5_conv3 (Conv2D)       (None, 16, 16, 512)       2359808   \n",
      "                                                                 \n",
      " block5_conv4 (Conv2D)       (None, 16, 16, 512)       2359808   \n",
      "                                                                 \n",
      " block5_pool (MaxPooling2D)  (None, 8, 8, 512)         0         \n",
      "                                                                 \n",
      "=================================================================\n",
      "Total params: 20,024,384\n",
      "Trainable params: 20,024,384\n",
      "Non-trainable params: 0\n",
      "_________________________________________________________________\n",
      "You must install pydot (`pip install pydot`) and install graphviz (see instructions at https://graphviz.gitlab.io/download/) for plot_model to work.\n"
     ]
    }
   ],
   "source": [
    "# Download and plot the VGG16 model\n",
    "supernet = tfk.applications.VGG19(\n",
    "    include_top=False,    # we remove the classifier and keep only the feature extraction part\n",
    "    weights=\"imagenet\",   \n",
    "    input_shape=(96,96,3)\n",
    ")\n",
    "supernet.summary()\n",
    "tfk.utils.plot_model(supernet)"
   ]
  },
  {
   "cell_type": "code",
   "execution_count": 15,
   "id": "c3e6ae4f",
   "metadata": {},
   "outputs": [
    {
     "name": "stdout",
     "output_type": "stream",
     "text": [
      "Model: \"model\"\n",
      "_________________________________________________________________\n",
      " Layer (type)                Output Shape              Param #   \n",
      "=================================================================\n",
      " input_2 (InputLayer)        [(None, 256, 256, 3)]     0         \n",
      "                                                                 \n",
      " resizing (Resizing)         (None, 256, 256, 3)       0         \n",
      "                                                                 \n",
      " vgg19 (Functional)          (None, 8, 8, 512)         20024384  \n",
      "                                                                 \n",
      " GlobalPooling (GlobalAverag  (None, 512)              0         \n",
      " ePooling2D)                                                     \n",
      "                                                                 \n",
      " dropout (Dropout)           (None, 512)               0         \n",
      "                                                                 \n",
      " dense (Dense)               (None, 64)                32832     \n",
      "                                                                 \n",
      " dropout_1 (Dropout)         (None, 64)                0         \n",
      "                                                                 \n",
      " dense_1 (Dense)             (None, 32)                2080      \n",
      "                                                                 \n",
      " dropout_2 (Dropout)         (None, 32)                0         \n",
      "                                                                 \n",
      " dense_2 (Dense)             (None, 8)                 264       \n",
      "                                                                 \n",
      "=================================================================\n",
      "Total params: 20,059,560\n",
      "Trainable params: 35,176\n",
      "Non-trainable params: 20,024,384\n",
      "_________________________________________________________________\n",
      "You must install pydot (`pip install pydot`) and install graphviz (see instructions at https://graphviz.gitlab.io/download/) for plot_model to work.\n"
     ]
    }
   ],
   "source": [
    "#import regularizers\n",
    "from tensorflow.keras import regularizers\n",
    "# Use the supernet as feature extractor\n",
    "supernet.trainable = False      # the optimizer won't consider the parameters of vgg gduring the optimization\n",
    "\n",
    "inputs = tfk.Input(shape=(96,96,3))\n",
    "x = tfkl.Resizing(96, 96, interpolation=\"bicubic\")(inputs)        # why resize? to what dimension?\n",
    "x = supernet(x)\n",
    "# beginning of the part we are going to train\n",
    "x = tfkl.GlobalAveragePooling2D(name='GlobalPooling')(x)\n",
    "x = tfkl.Dropout(0.3, seed=seed)(x)\n",
    "x = tfkl.Dense(\n",
    "    64, \n",
    "    kernel_regularizer=regularizers.l2(0.01),\n",
    "    activation='relu',\n",
    "    kernel_initializer = tfk.initializers.GlorotUniform(seed))(x)\n",
    "x = tfkl.Dropout(0.3, seed=seed)(x)\n",
    "x = tfkl.Dense(\n",
    "    32,\n",
    "    kernel_regularizer=regularizers.l2(0.01),\n",
    "    activation='relu',\n",
    "    kernel_initializer = tfk.initializers.GlorotUniform(seed))(x)\n",
    "x = tfkl.Dropout(0.3, seed=seed)(x)\n",
    "outputs = tfkl.Dense(\n",
    "    8, \n",
    "    activation='softmax',\n",
    "    kernel_initializer = tfk.initializers.GlorotUniform(seed))(x)\n",
    "# end of the part we are going to train - VGG remains fixed\n",
    "\n",
    "# Connect input and output through the Model class\n",
    "tl_model = tfk.Model(inputs=inputs, outputs=outputs, name='model')\n",
    "\n",
    "# Compile the model\n",
    "tl_model.compile(loss=tfk.losses.CategoricalCrossentropy(), optimizer=tfk.optimizers.Adam(), metrics='accuracy')\n",
    "tl_model.summary()\n",
    "tfk.utils.plot_model(tl_model)"
   ]
  },
  {
   "cell_type": "code",
   "execution_count": 17,
   "id": "a0822c98",
   "metadata": {},
   "outputs": [],
   "source": [
    "d_class_weights = {\n",
    "    0: 2.389358108108108, \n",
    "    1: 0.8320588235294117, \n",
    "    2: 0.8583131067961165, \n",
    "    3: 0.8667279411764706, \n",
    "    4: 0.8340212264150944, \n",
    "    5: 1.9978813559322033, \n",
    "    6: 0.8243006993006993, \n",
    "    7: 0.8709975369458128\n",
    "}\n"
   ]
  },
  {
   "cell_type": "code",
   "execution_count": null,
   "id": "ee04c1cc",
   "metadata": {},
   "outputs": [
    {
     "name": "stdout",
     "output_type": "stream",
     "text": [
      "Epoch 1/90\n",
      " 1/12 [=>............................] - ETA: 1:57 - loss: 12.9524 - accuracy: 0.1538"
     ]
    }
   ],
   "source": [
    "# Train the model\n",
    "tl_history = tl_model.fit(\n",
    "    x = train_generator,\n",
    "    class_weight = d_class_weights,\n",
    "    batch_size = 256,\n",
    "    epochs = 90,\n",
    "    validation_data = validation_generator,\n",
    "    callbacks = [tfk.callbacks.EarlyStopping(monitor='val_accuracy', mode='max', patience=7, restore_best_weights=True)]\n",
    ").history"
   ]
  },
  {
   "cell_type": "code",
   "execution_count": null,
   "id": "99b4e0b2",
   "metadata": {},
   "outputs": [],
   "source": [
    "# Save the best model\n",
    "tl_model.save('TransferLearningModel')"
   ]
  },
  {
   "cell_type": "code",
   "execution_count": 1,
   "id": "26b69b74",
   "metadata": {},
   "outputs": [
    {
     "ename": "NameError",
     "evalue": "name 'tfk' is not defined",
     "output_type": "error",
     "traceback": [
      "\u001b[1;31m---------------------------------------------------------------------------\u001b[0m",
      "\u001b[1;31mNameError\u001b[0m                                 Traceback (most recent call last)",
      "\u001b[1;32m~\\AppData\\Local\\Temp\\ipykernel_23904\\3749351793.py\u001b[0m in \u001b[0;36m<module>\u001b[1;34m\u001b[0m\n\u001b[0;32m      1\u001b[0m \u001b[1;31m# Re-load the model after transfer learning\u001b[0m\u001b[1;33m\u001b[0m\u001b[1;33m\u001b[0m\u001b[0m\n\u001b[1;32m----> 2\u001b[1;33m \u001b[0mft_model\u001b[0m \u001b[1;33m=\u001b[0m \u001b[0mtfk\u001b[0m\u001b[1;33m.\u001b[0m\u001b[0mmodels\u001b[0m\u001b[1;33m.\u001b[0m\u001b[0mload_model\u001b[0m\u001b[1;33m(\u001b[0m\u001b[1;34m'TransferLearningModel'\u001b[0m\u001b[1;33m)\u001b[0m\u001b[1;33m\u001b[0m\u001b[1;33m\u001b[0m\u001b[0m\n\u001b[0m\u001b[0;32m      3\u001b[0m \u001b[0mft_model\u001b[0m\u001b[1;33m.\u001b[0m\u001b[0msummary\u001b[0m\u001b[1;33m(\u001b[0m\u001b[1;33m)\u001b[0m\u001b[1;33m\u001b[0m\u001b[1;33m\u001b[0m\u001b[0m\n",
      "\u001b[1;31mNameError\u001b[0m: name 'tfk' is not defined"
     ]
    }
   ],
   "source": [
    "# Re-load the model after transfer learning\n",
    "ft_model = tfk.models.load_model('TransferLearningModel')\n",
    "ft_model.summary()"
   ]
  },
  {
   "cell_type": "code",
   "execution_count": null,
   "id": "70dd28e8",
   "metadata": {},
   "outputs": [],
   "source": [
    "\n",
    "ft_model.get_layer('vgg19').trainable = True\n",
    "for i, layer in enumerate(ft_model.get_layer('vgg19').layers):\n",
    "   print(i, layer.name, layer.trainable)"
   ]
  },
  {
   "cell_type": "code",
   "execution_count": null,
   "id": "1bc607b3",
   "metadata": {},
   "outputs": [],
   "source": [
    "\n",
    "for i, layer in enumerate(ft_model.get_layer('vgg19').layers[:18]):\n",
    "  layer.trainable=False\n",
    "for i, layer in enumerate(ft_model.get_layer('vgg19').layers):\n",
    "   print(i, layer.name, layer.trainable)\n",
    "ft_model.summary()"
   ]
  },
  {
   "cell_type": "code",
   "execution_count": null,
   "id": "69f1a92a",
   "metadata": {},
   "outputs": [],
   "source": [
    "ft_model.compile(loss=tfk.losses.CategoricalCrossentropy(), optimizer=tfk.optimizers.Adam(1e-4), metrics='accuracy')"
   ]
  },
  {
   "cell_type": "code",
   "execution_count": null,
   "id": "29678f43",
   "metadata": {},
   "outputs": [],
   "source": [
    "# Fine-tune\n",
    "ft_history = ft_model.fit(\n",
    "    x = train_generator,\n",
    "    class_weight = d_class_weights,\n",
    "    batch_size = 256,\n",
    "    epochs = 200,\n",
    "    validation_data = validation_generator,\n",
    "    callbacks = [tfk.callbacks.EarlyStopping(monitor='val_accuracy', mode='max', patience=10, restore_best_weights=True)]\n",
    ").history"
   ]
  },
  {
   "cell_type": "code",
   "execution_count": null,
   "id": "86f7200d",
   "metadata": {},
   "outputs": [],
   "source": [
    "ft_model.save('FineTuningModel')\n",
    "del ft_model"
   ]
  },
  {
   "cell_type": "code",
   "execution_count": null,
   "id": "54df8678",
   "metadata": {},
   "outputs": [],
   "source": []
  },
  {
   "cell_type": "code",
   "execution_count": null,
   "id": "d7432047",
   "metadata": {},
   "outputs": [],
   "source": []
  }
 ],
 "metadata": {
  "kernelspec": {
   "display_name": "Python 3 (ipykernel)",
   "language": "python",
   "name": "python3"
  },
  "language_info": {
   "codemirror_mode": {
    "name": "ipython",
    "version": 3
   },
   "file_extension": ".py",
   "mimetype": "text/x-python",
   "name": "python",
   "nbconvert_exporter": "python",
   "pygments_lexer": "ipython3",
   "version": "3.9.13"
  }
 },
 "nbformat": 4,
 "nbformat_minor": 5
}
